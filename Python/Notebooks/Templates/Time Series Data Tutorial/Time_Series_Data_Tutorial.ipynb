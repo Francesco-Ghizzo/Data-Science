{
  "nbformat": 4,
  "nbformat_minor": 0,
  "metadata": {
    "colab": {
      "provenance": [],
      "collapsed_sections": []
    },
    "kernelspec": {
      "name": "python3",
      "display_name": "Python 3"
    },
    "language_info": {
      "name": "python"
    }
  },
  "cells": [
    {
      "cell_type": "markdown",
      "source": [
        "https://docs.python.org/3/library/datetime.html#datetime.date\n",
        "https://pandas.pydata.org/docs/getting_started/intro_tutorials/09_timeseries.html"
      ],
      "metadata": {
        "id": "mqWZ2ms8CElb"
      }
    },
    {
      "cell_type": "markdown",
      "source": [
        "<h2><a class=\"reference internal\" href=\"#datetime.date\" title=\"datetime.date\"><code class=\"xref py py-class docutils literal notranslate\"><span class=\"pre\">date</span></code></a> Objects<a class=\"headerlink\" href=\"#date-objects\" title=\"Permalink to this headline\">¶</a></h2>"
      ],
      "metadata": {
        "id": "2lV6gHq7__n0"
      }
    },
    {
      "cell_type": "markdown",
      "source": [
        "<p>A <a class=\"reference internal\" href=\"#datetime.date\" title=\"datetime.date\"><code class=\"xref py py-class docutils literal notranslate\"><span class=\"pre\">date</span></code></a> object represents a date (year, month and day) in an idealized\n",
        "calendar, the current Gregorian calendar indefinitely extended in both\n",
        "directions.</p>"
      ],
      "metadata": {
        "id": "sE9LRdnVAOnL"
      }
    },
    {
      "cell_type": "markdown",
      "source": [
        "<p>January 1 of year 1 is called day number 1, January 2 of year 1 is\n",
        "called day number 2, and so on. <a class=\"footnote-reference brackets\" href=\"#id6\" id=\"id2\">2</a></p>"
      ],
      "metadata": {
        "id": "272NqmE2AYc_"
      }
    },
    {
      "cell_type": "markdown",
      "source": [
        "<dl class=\"py class\">\n",
        "<dt id=\"datetime.date\">\n",
        "<em class=\"property\">class </em><code class=\"sig-prename descclassname\">datetime.</code><code class=\"sig-name descname\">date</code><span class=\"sig-paren\">(</span><em class=\"sig-param\"><span class=\"n\">year</span></em>, <em class=\"sig-param\"><span class=\"n\">month</span></em>, <em class=\"sig-param\"><span class=\"n\">day</span></em><span class=\"sig-paren\">)</span><a class=\"headerlink\" href=\"#datetime.date\" title=\"Permalink to this definition\">¶</a></dt>\n",
        "<dd><p>All arguments are required. Arguments must be integers, in the following\n",
        "ranges:</p>\n",
        "<ul class=\"simple\">\n",
        "<li><p><code class=\"docutils literal notranslate\"><span class=\"pre\">MINYEAR</span> <span class=\"pre\">&lt;=</span> <span class=\"pre\">year</span> <span class=\"pre\">&lt;=</span> <span class=\"pre\">MAXYEAR</span></code></p></li>\n",
        "<li><p><code class=\"docutils literal notranslate\"><span class=\"pre\">1</span> <span class=\"pre\">&lt;=</span> <span class=\"pre\">month</span> <span class=\"pre\">&lt;=</span> <span class=\"pre\">12</span></code></p></li>\n",
        "<li><p><code class=\"docutils literal notranslate\"><span class=\"pre\">1</span> <span class=\"pre\">&lt;=</span> <span class=\"pre\">day</span> <span class=\"pre\">&lt;=</span> <span class=\"pre\">number</span> <span class=\"pre\">of</span> <span class=\"pre\">days</span> <span class=\"pre\">in</span> <span class=\"pre\">the</span> <span class=\"pre\">given</span> <span class=\"pre\">month</span> <span class=\"pre\">and</span> <span class=\"pre\">year</span></code></p></li>\n",
        "</ul>\n",
        "<p>If an argument outside those ranges is given, <a class=\"reference internal\" href=\"exceptions.html#ValueError\" title=\"ValueError\"><code class=\"xref py py-exc docutils literal notranslate\"><span class=\"pre\">ValueError</span></code></a> is raised.</p>\n",
        "</dd></dl>"
      ],
      "metadata": {
        "id": "H3R5fg3BAj5o"
      }
    },
    {
      "cell_type": "markdown",
      "source": [
        "<p>Other constructors, all class methods:</p>"
      ],
      "metadata": {
        "id": "acR3EOyOBguS"
      }
    },
    {
      "cell_type": "markdown",
      "source": [
        "<dl class=\"py method\">\n",
        "<dt id=\"datetime.date.today\">\n",
        "<em class=\"property\">classmethod </em><code class=\"sig-prename descclassname\">date.</code><code class=\"sig-name descname\">today</code><span class=\"sig-paren\">(</span><span class=\"sig-paren\">)</span><a class=\"headerlink\" href=\"#datetime.date.today\" title=\"Permalink to this definition\">¶</a></dt>\n",
        "<dd><p>Return the current local date.</p>\n",
        "<p>This is equivalent to <code class=\"docutils literal notranslate\"><span class=\"pre\">date.fromtimestamp(time.time())</span></code>.</p>\n",
        "</dd></dl>"
      ],
      "metadata": {
        "id": "9YPh6XzbBVzM"
      }
    },
    {
      "cell_type": "markdown",
      "source": [
        "<h3>Examples of Usage: <a class=\"reference internal\" href=\"#datetime.date\" title=\"datetime.date\"><code class=\"xref py py-class docutils literal notranslate\"><span class=\"pre\">date</span></code></a><a class=\"headerlink\" href=\"#examples-of-usage-date\" title=\"Permalink to this headline\">¶</a></h3>"
      ],
      "metadata": {
        "id": "go8Ck5BL_M_U"
      }
    },
    {
      "cell_type": "code",
      "source": [
        "from datetime import date\n",
        "today = date.today()\n",
        "today"
      ],
      "metadata": {
        "id": "o4Rr9SgV_Jhf",
        "colab": {
          "base_uri": "https://localhost:8080/"
        },
        "outputId": "41f7a565-983f-4178-c883-22ca77893d54"
      },
      "execution_count": 10,
      "outputs": [
        {
          "output_type": "execute_result",
          "data": {
            "text/plain": [
              "datetime.date(2022, 10, 17)"
            ]
          },
          "metadata": {},
          "execution_count": 10
        }
      ]
    },
    {
      "cell_type": "markdown",
      "source": [
        "<p>Instance attributes (read-only):</p>"
      ],
      "metadata": {
        "id": "Ykf3bmJhOaxW"
      }
    },
    {
      "cell_type": "markdown",
      "source": [
        "<dl class=\"py attribute\">\n",
        "<dt id=\"datetime.date.year\">\n",
        "<code class=\"sig-prename descclassname\">date.</code><code class=\"sig-name descname\">year</code><a class=\"headerlink\" href=\"#datetime.date.year\" title=\"Permalink to this definition\">¶</a></dt>\n",
        "<dd><p>Between <a class=\"reference internal\" href=\"#datetime.MINYEAR\" title=\"datetime.MINYEAR\"><code class=\"xref py py-const docutils literal notranslate\"><span class=\"pre\">MINYEAR</span></code></a> and <a class=\"reference internal\" href=\"#datetime.MAXYEAR\" title=\"datetime.MAXYEAR\"><code class=\"xref py py-const docutils literal notranslate\"><span class=\"pre\">MAXYEAR</span></code></a> inclusive.</p>\n",
        "</dd></dl>"
      ],
      "metadata": {
        "id": "JyL1c40IOfMK"
      }
    },
    {
      "cell_type": "markdown",
      "source": [
        "<dl class=\"py attribute\">\n",
        "<dt id=\"datetime.date.month\">\n",
        "<code class=\"sig-prename descclassname\">date.</code><code class=\"sig-name descname\">month</code><a class=\"headerlink\" href=\"#datetime.date.month\" title=\"Permalink to this definition\">¶</a></dt>\n",
        "<dd><p>Between 1 and 12 inclusive.</p>\n",
        "</dd></dl>"
      ],
      "metadata": {
        "id": "2s96rjDsOiJn"
      }
    },
    {
      "cell_type": "markdown",
      "source": [
        "<dl class=\"py attribute\">\n",
        "<dt id=\"datetime.date.day\">\n",
        "<code class=\"sig-prename descclassname\">date.</code><code class=\"sig-name descname\">day</code><a class=\"headerlink\" href=\"#datetime.date.day\" title=\"Permalink to this definition\">¶</a></dt>\n",
        "<dd><p>Between 1 and the number of days in the given month of the given year.</p>\n",
        "</dd></dl>"
      ],
      "metadata": {
        "id": "sqWGB1wIOkww"
      }
    },
    {
      "cell_type": "code",
      "source": [
        "today.year"
      ],
      "metadata": {
        "colab": {
          "base_uri": "https://localhost:8080/"
        },
        "id": "L_yzmESEOxOi",
        "outputId": "cb5ecf4e-4ecd-455d-8149-584a2a886d13"
      },
      "execution_count": 6,
      "outputs": [
        {
          "output_type": "execute_result",
          "data": {
            "text/plain": [
              "2022"
            ]
          },
          "metadata": {},
          "execution_count": 6
        }
      ]
    },
    {
      "cell_type": "code",
      "source": [
        "today.month"
      ],
      "metadata": {
        "colab": {
          "base_uri": "https://localhost:8080/"
        },
        "id": "DKn5t_VdO5JC",
        "outputId": "d4630fca-a3f5-495b-981d-fec873705f74"
      },
      "execution_count": 7,
      "outputs": [
        {
          "output_type": "execute_result",
          "data": {
            "text/plain": [
              "10"
            ]
          },
          "metadata": {},
          "execution_count": 7
        }
      ]
    },
    {
      "cell_type": "code",
      "source": [
        "today.day"
      ],
      "metadata": {
        "colab": {
          "base_uri": "https://localhost:8080/"
        },
        "id": "5PlLFxyLO7Pt",
        "outputId": "e0da8983-bbe0-4ef2-98ba-90681bbdf89f"
      },
      "execution_count": 8,
      "outputs": [
        {
          "output_type": "execute_result",
          "data": {
            "text/plain": [
              "17"
            ]
          },
          "metadata": {},
          "execution_count": 8
        }
      ]
    },
    {
      "cell_type": "markdown",
      "source": [
        "<p>Instance methods:</p>"
      ],
      "metadata": {
        "id": "C3HrlBLzPFRh"
      }
    },
    {
      "cell_type": "markdown",
      "source": [
        "<dl class=\"py method\">\n",
        "<dt id=\"datetime.date.replace\">\n",
        "<code class=\"sig-prename descclassname\">date.</code><code class=\"sig-name descname\">replace</code><span class=\"sig-paren\">(</span><em class=\"sig-param\"><span class=\"n\">year</span><span class=\"o\">=</span><span class=\"default_value\">self.year</span></em>, <em class=\"sig-param\"><span class=\"n\">month</span><span class=\"o\">=</span><span class=\"default_value\">self.month</span></em>, <em class=\"sig-param\"><span class=\"n\">day</span><span class=\"o\">=</span><span class=\"default_value\">self.day</span></em><span class=\"sig-paren\">)</span><a class=\"headerlink\" href=\"#datetime.date.replace\" title=\"Permalink to this definition\">¶</a></dt>\n",
        "<dd><p>Return a date with the same value, except for those parameters given new\n",
        "values by whichever keyword arguments are specified.</p>\n",
        "</dd></dl>"
      ],
      "metadata": {
        "id": "1kVYnVaDPMn2"
      }
    },
    {
      "cell_type": "code",
      "source": [
        "d = date(2012, 12, 31)\n",
        "d.replace(day=26)"
      ],
      "metadata": {
        "colab": {
          "base_uri": "https://localhost:8080/"
        },
        "id": "Wq4c4D0fPV3u",
        "outputId": "5b90d2e5-09cf-4e08-81f3-751ede0c4ce4"
      },
      "execution_count": 9,
      "outputs": [
        {
          "output_type": "execute_result",
          "data": {
            "text/plain": [
              "datetime.date(2012, 12, 26)"
            ]
          },
          "metadata": {},
          "execution_count": 9
        }
      ]
    },
    {
      "cell_type": "markdown",
      "source": [
        "<span id=\"datetime-datetime\"></span><h2><a class=\"reference internal\" href=\"#datetime.datetime\" title=\"datetime.datetime\"><code class=\"xref py py-class docutils literal notranslate\"><span class=\"pre\">datetime</span></code></a> Objects<a class=\"headerlink\" href=\"#datetime-objects\" title=\"Permalink to this headline\">¶</a></h2>\n",
        "<p>A <a class=\"reference internal\" href=\"#datetime.datetime\" title=\"datetime.datetime\"><code class=\"xref py py-class docutils literal notranslate\"><span class=\"pre\">datetime</span></code></a> object is a single object containing all the information\n",
        "from a <a class=\"reference internal\" href=\"#datetime.date\" title=\"datetime.date\"><code class=\"xref py py-class docutils literal notranslate\"><span class=\"pre\">date</span></code></a> object and a <a class=\"reference internal\" href=\"#datetime.time\" title=\"datetime.time\"><code class=\"xref py py-class docutils literal notranslate\"><span class=\"pre\">time</span></code></a> object.</p>\n",
        "<p>Like a <a class=\"reference internal\" href=\"#datetime.date\" title=\"datetime.date\"><code class=\"xref py py-class docutils literal notranslate\"><span class=\"pre\">date</span></code></a> object, <a class=\"reference internal\" href=\"#datetime.datetime\" title=\"datetime.datetime\"><code class=\"xref py py-class docutils literal notranslate\"><span class=\"pre\">datetime</span></code></a> assumes the current Gregorian\n",
        "calendar extended in both directions; like a <a class=\"reference internal\" href=\"#datetime.time\" title=\"datetime.time\"><code class=\"xref py py-class docutils literal notranslate\"><span class=\"pre\">time</span></code></a> object,\n",
        "<a class=\"reference internal\" href=\"#datetime.datetime\" title=\"datetime.datetime\"><code class=\"xref py py-class docutils literal notranslate\"><span class=\"pre\">datetime</span></code></a> assumes there are exactly 3600*24 seconds in every day.</p>\n",
        "<p>Constructor:</p>\n",
        "<dl class=\"py class\">\n",
        "<dt id=\"datetime.datetime\">\n",
        "<em class=\"property\">class </em><code class=\"sig-prename descclassname\">datetime.</code><code class=\"sig-name descname\">datetime</code><span class=\"sig-paren\">(</span><em class=\"sig-param\"><span class=\"n\">year</span></em>, <em class=\"sig-param\"><span class=\"n\">month</span></em>, <em class=\"sig-param\"><span class=\"n\">day</span></em>, <em class=\"sig-param\"><span class=\"n\">hour</span><span class=\"o\">=</span><span class=\"default_value\">0</span></em>, <em class=\"sig-param\"><span class=\"n\">minute</span><span class=\"o\">=</span><span class=\"default_value\">0</span></em>, <em class=\"sig-param\"><span class=\"n\">second</span><span class=\"o\">=</span><span class=\"default_value\">0</span></em>, <em class=\"sig-param\"><span class=\"n\">microsecond</span><span class=\"o\">=</span><span class=\"default_value\">0</span></em>, <em class=\"sig-param\"><span class=\"n\">tzinfo</span><span class=\"o\">=</span><span class=\"default_value\">None</span></em>, <em class=\"sig-param\"><span class=\"o\">*</span></em>, <em class=\"sig-param\"><span class=\"n\">fold</span><span class=\"o\">=</span><span class=\"default_value\">0</span></em><span class=\"sig-paren\">)</span><a class=\"headerlink\" href=\"#datetime.datetime\" title=\"Permalink to this definition\">¶</a></dt>\n",
        "<dd><p>The <em>year</em>, <em>month</em> and <em>day</em> arguments are required. <em>tzinfo</em> may be <code class=\"docutils literal notranslate\"><span class=\"pre\">None</span></code>, or an\n",
        "instance of a <a class=\"reference internal\" href=\"#datetime.tzinfo\" title=\"datetime.tzinfo\"><code class=\"xref py py-class docutils literal notranslate\"><span class=\"pre\">tzinfo</span></code></a> subclass. The remaining arguments must be integers\n",
        "in the following ranges:</p>\n",
        "<ul class=\"simple\">\n",
        "<li><p><code class=\"docutils literal notranslate\"><span class=\"pre\">MINYEAR</span> <span class=\"pre\">&lt;=</span> <span class=\"pre\">year</span> <span class=\"pre\">&lt;=</span> <span class=\"pre\">MAXYEAR</span></code>,</p></li>\n",
        "<li><p><code class=\"docutils literal notranslate\"><span class=\"pre\">1</span> <span class=\"pre\">&lt;=</span> <span class=\"pre\">month</span> <span class=\"pre\">&lt;=</span> <span class=\"pre\">12</span></code>,</p></li>\n",
        "<li><p><code class=\"docutils literal notranslate\"><span class=\"pre\">1</span> <span class=\"pre\">&lt;=</span> <span class=\"pre\">day</span> <span class=\"pre\">&lt;=</span> <span class=\"pre\">number</span> <span class=\"pre\">of</span> <span class=\"pre\">days</span> <span class=\"pre\">in</span> <span class=\"pre\">the</span> <span class=\"pre\">given</span> <span class=\"pre\">month</span> <span class=\"pre\">and</span> <span class=\"pre\">year</span></code>,</p></li>\n",
        "<li><p><code class=\"docutils literal notranslate\"><span class=\"pre\">0</span> <span class=\"pre\">&lt;=</span> <span class=\"pre\">hour</span> <span class=\"pre\">&lt;</span> <span class=\"pre\">24</span></code>,</p></li>\n",
        "<li><p><code class=\"docutils literal notranslate\"><span class=\"pre\">0</span> <span class=\"pre\">&lt;=</span> <span class=\"pre\">minute</span> <span class=\"pre\">&lt;</span> <span class=\"pre\">60</span></code>,</p></li>\n",
        "<li><p><code class=\"docutils literal notranslate\"><span class=\"pre\">0</span> <span class=\"pre\">&lt;=</span> <span class=\"pre\">second</span> <span class=\"pre\">&lt;</span> <span class=\"pre\">60</span></code>,</p></li>\n",
        "<li><p><code class=\"docutils literal notranslate\"><span class=\"pre\">0</span> <span class=\"pre\">&lt;=</span> <span class=\"pre\">microsecond</span> <span class=\"pre\">&lt;</span> <span class=\"pre\">1000000</span></code>,</p></li>\n",
        "<li><p><code class=\"docutils literal notranslate\"><span class=\"pre\">fold</span> <span class=\"pre\">in</span> <span class=\"pre\">[0,</span> <span class=\"pre\">1]</span></code>.</p></li>\n",
        "</ul>\n",
        "<p>If an argument outside those ranges is given, <a class=\"reference internal\" href=\"exceptions.html#ValueError\" title=\"ValueError\"><code class=\"xref py py-exc docutils literal notranslate\"><span class=\"pre\">ValueError</span></code></a> is raised.</p>\n",
        "<div class=\"versionadded\">\n",
        "<p><span class=\"versionmodified added\">New in version 3.6: </span>Added the <code class=\"docutils literal notranslate\"><span class=\"pre\">fold</span></code> argument.</p>\n",
        "</div>\n",
        "</dd></dl>"
      ],
      "metadata": {
        "id": "T0rRfMmMSqvr"
      }
    },
    {
      "cell_type": "markdown",
      "source": [
        "\n",
        "<h1>How to handle time series data with ease</h1>"
      ],
      "metadata": {
        "id": "m_08pLWxHB2j"
      }
    },
    {
      "cell_type": "code",
      "source": [
        "import pandas as pd\n",
        "import matplotlib.pyplot as plt"
      ],
      "metadata": {
        "id": "3R4T2BqAHNWo"
      },
      "execution_count": null,
      "outputs": []
    },
    {
      "cell_type": "code",
      "source": [
        "air_quality = pd.read_csv(\"https://raw.githubusercontent.com/pandas-dev/pandas/main/doc/data/air_quality_no2_long.csv\")"
      ],
      "metadata": {
        "id": "TvpcaQJKHztP"
      },
      "execution_count": null,
      "outputs": []
    },
    {
      "cell_type": "code",
      "source": [
        "air_quality.head()"
      ],
      "metadata": {
        "colab": {
          "base_uri": "https://localhost:8080/",
          "height": 204
        },
        "id": "Z_qBZohiH5I0",
        "outputId": "aaaa874e-d99c-478e-84b1-14c2660cf9a5"
      },
      "execution_count": null,
      "outputs": [
        {
          "output_type": "execute_result",
          "data": {
            "text/plain": [
              "    city country                   date.utc location parameter  value   unit\n",
              "0  Paris      FR  2019-06-21 00:00:00+00:00  FR04014       no2   20.0  µg/m³\n",
              "1  Paris      FR  2019-06-20 23:00:00+00:00  FR04014       no2   21.8  µg/m³\n",
              "2  Paris      FR  2019-06-20 22:00:00+00:00  FR04014       no2   26.5  µg/m³\n",
              "3  Paris      FR  2019-06-20 21:00:00+00:00  FR04014       no2   24.9  µg/m³\n",
              "4  Paris      FR  2019-06-20 20:00:00+00:00  FR04014       no2   21.4  µg/m³"
            ],
            "text/html": [
              "\n",
              "  <div id=\"df-3b5ae793-e6dc-4bda-8bde-305fdd92ec41\">\n",
              "    <div class=\"colab-df-container\">\n",
              "      <div>\n",
              "<style scoped>\n",
              "    .dataframe tbody tr th:only-of-type {\n",
              "        vertical-align: middle;\n",
              "    }\n",
              "\n",
              "    .dataframe tbody tr th {\n",
              "        vertical-align: top;\n",
              "    }\n",
              "\n",
              "    .dataframe thead th {\n",
              "        text-align: right;\n",
              "    }\n",
              "</style>\n",
              "<table border=\"1\" class=\"dataframe\">\n",
              "  <thead>\n",
              "    <tr style=\"text-align: right;\">\n",
              "      <th></th>\n",
              "      <th>city</th>\n",
              "      <th>country</th>\n",
              "      <th>date.utc</th>\n",
              "      <th>location</th>\n",
              "      <th>parameter</th>\n",
              "      <th>value</th>\n",
              "      <th>unit</th>\n",
              "    </tr>\n",
              "  </thead>\n",
              "  <tbody>\n",
              "    <tr>\n",
              "      <th>0</th>\n",
              "      <td>Paris</td>\n",
              "      <td>FR</td>\n",
              "      <td>2019-06-21 00:00:00+00:00</td>\n",
              "      <td>FR04014</td>\n",
              "      <td>no2</td>\n",
              "      <td>20.0</td>\n",
              "      <td>µg/m³</td>\n",
              "    </tr>\n",
              "    <tr>\n",
              "      <th>1</th>\n",
              "      <td>Paris</td>\n",
              "      <td>FR</td>\n",
              "      <td>2019-06-20 23:00:00+00:00</td>\n",
              "      <td>FR04014</td>\n",
              "      <td>no2</td>\n",
              "      <td>21.8</td>\n",
              "      <td>µg/m³</td>\n",
              "    </tr>\n",
              "    <tr>\n",
              "      <th>2</th>\n",
              "      <td>Paris</td>\n",
              "      <td>FR</td>\n",
              "      <td>2019-06-20 22:00:00+00:00</td>\n",
              "      <td>FR04014</td>\n",
              "      <td>no2</td>\n",
              "      <td>26.5</td>\n",
              "      <td>µg/m³</td>\n",
              "    </tr>\n",
              "    <tr>\n",
              "      <th>3</th>\n",
              "      <td>Paris</td>\n",
              "      <td>FR</td>\n",
              "      <td>2019-06-20 21:00:00+00:00</td>\n",
              "      <td>FR04014</td>\n",
              "      <td>no2</td>\n",
              "      <td>24.9</td>\n",
              "      <td>µg/m³</td>\n",
              "    </tr>\n",
              "    <tr>\n",
              "      <th>4</th>\n",
              "      <td>Paris</td>\n",
              "      <td>FR</td>\n",
              "      <td>2019-06-20 20:00:00+00:00</td>\n",
              "      <td>FR04014</td>\n",
              "      <td>no2</td>\n",
              "      <td>21.4</td>\n",
              "      <td>µg/m³</td>\n",
              "    </tr>\n",
              "  </tbody>\n",
              "</table>\n",
              "</div>\n",
              "      <button class=\"colab-df-convert\" onclick=\"convertToInteractive('df-3b5ae793-e6dc-4bda-8bde-305fdd92ec41')\"\n",
              "              title=\"Convert this dataframe to an interactive table.\"\n",
              "              style=\"display:none;\">\n",
              "        \n",
              "  <svg xmlns=\"http://www.w3.org/2000/svg\" height=\"24px\"viewBox=\"0 0 24 24\"\n",
              "       width=\"24px\">\n",
              "    <path d=\"M0 0h24v24H0V0z\" fill=\"none\"/>\n",
              "    <path d=\"M18.56 5.44l.94 2.06.94-2.06 2.06-.94-2.06-.94-.94-2.06-.94 2.06-2.06.94zm-11 1L8.5 8.5l.94-2.06 2.06-.94-2.06-.94L8.5 2.5l-.94 2.06-2.06.94zm10 10l.94 2.06.94-2.06 2.06-.94-2.06-.94-.94-2.06-.94 2.06-2.06.94z\"/><path d=\"M17.41 7.96l-1.37-1.37c-.4-.4-.92-.59-1.43-.59-.52 0-1.04.2-1.43.59L10.3 9.45l-7.72 7.72c-.78.78-.78 2.05 0 2.83L4 21.41c.39.39.9.59 1.41.59.51 0 1.02-.2 1.41-.59l7.78-7.78 2.81-2.81c.8-.78.8-2.07 0-2.86zM5.41 20L4 18.59l7.72-7.72 1.47 1.35L5.41 20z\"/>\n",
              "  </svg>\n",
              "      </button>\n",
              "      \n",
              "  <style>\n",
              "    .colab-df-container {\n",
              "      display:flex;\n",
              "      flex-wrap:wrap;\n",
              "      gap: 12px;\n",
              "    }\n",
              "\n",
              "    .colab-df-convert {\n",
              "      background-color: #E8F0FE;\n",
              "      border: none;\n",
              "      border-radius: 50%;\n",
              "      cursor: pointer;\n",
              "      display: none;\n",
              "      fill: #1967D2;\n",
              "      height: 32px;\n",
              "      padding: 0 0 0 0;\n",
              "      width: 32px;\n",
              "    }\n",
              "\n",
              "    .colab-df-convert:hover {\n",
              "      background-color: #E2EBFA;\n",
              "      box-shadow: 0px 1px 2px rgba(60, 64, 67, 0.3), 0px 1px 3px 1px rgba(60, 64, 67, 0.15);\n",
              "      fill: #174EA6;\n",
              "    }\n",
              "\n",
              "    [theme=dark] .colab-df-convert {\n",
              "      background-color: #3B4455;\n",
              "      fill: #D2E3FC;\n",
              "    }\n",
              "\n",
              "    [theme=dark] .colab-df-convert:hover {\n",
              "      background-color: #434B5C;\n",
              "      box-shadow: 0px 1px 3px 1px rgba(0, 0, 0, 0.15);\n",
              "      filter: drop-shadow(0px 1px 2px rgba(0, 0, 0, 0.3));\n",
              "      fill: #FFFFFF;\n",
              "    }\n",
              "  </style>\n",
              "\n",
              "      <script>\n",
              "        const buttonEl =\n",
              "          document.querySelector('#df-3b5ae793-e6dc-4bda-8bde-305fdd92ec41 button.colab-df-convert');\n",
              "        buttonEl.style.display =\n",
              "          google.colab.kernel.accessAllowed ? 'block' : 'none';\n",
              "\n",
              "        async function convertToInteractive(key) {\n",
              "          const element = document.querySelector('#df-3b5ae793-e6dc-4bda-8bde-305fdd92ec41');\n",
              "          const dataTable =\n",
              "            await google.colab.kernel.invokeFunction('convertToInteractive',\n",
              "                                                     [key], {});\n",
              "          if (!dataTable) return;\n",
              "\n",
              "          const docLinkHtml = 'Like what you see? Visit the ' +\n",
              "            '<a target=\"_blank\" href=https://colab.research.google.com/notebooks/data_table.ipynb>data table notebook</a>'\n",
              "            + ' to learn more about interactive tables.';\n",
              "          element.innerHTML = '';\n",
              "          dataTable['output_type'] = 'display_data';\n",
              "          await google.colab.output.renderOutput(dataTable, element);\n",
              "          const docLink = document.createElement('div');\n",
              "          docLink.innerHTML = docLinkHtml;\n",
              "          element.appendChild(docLink);\n",
              "        }\n",
              "      </script>\n",
              "    </div>\n",
              "  </div>\n",
              "  "
            ]
          },
          "metadata": {},
          "execution_count": 4
        }
      ]
    },
    {
      "cell_type": "code",
      "source": [
        "air_quality['date.utc'].head()"
      ],
      "metadata": {
        "colab": {
          "base_uri": "https://localhost:8080/"
        },
        "id": "u13w7L0MILaK",
        "outputId": "86c87761-0f03-4728-d7df-cc9132e63b52"
      },
      "execution_count": null,
      "outputs": [
        {
          "output_type": "execute_result",
          "data": {
            "text/plain": [
              "0    2019-06-21 00:00:00+00:00\n",
              "1    2019-06-20 23:00:00+00:00\n",
              "2    2019-06-20 22:00:00+00:00\n",
              "3    2019-06-20 21:00:00+00:00\n",
              "4    2019-06-20 20:00:00+00:00\n",
              "Name: date.utc, dtype: object"
            ]
          },
          "metadata": {},
          "execution_count": 7
        }
      ]
    },
    {
      "cell_type": "markdown",
      "source": [
        "We want to work with the dates in the column **date.utc** as datetime instead of object type"
      ],
      "metadata": {
        "id": "ktSjkRq1IgAV"
      }
    },
    {
      "cell_type": "code",
      "source": [
        "air_quality['date.utc'] = pd.to_datetime(air_quality['date.utc'])"
      ],
      "metadata": {
        "id": "h8q0gd9xIxp7"
      },
      "execution_count": null,
      "outputs": []
    },
    {
      "cell_type": "code",
      "source": [
        "air_quality['date.utc'].head()"
      ],
      "metadata": {
        "colab": {
          "base_uri": "https://localhost:8080/"
        },
        "id": "LomaBVSEI_AJ",
        "outputId": "009692c4-0bc8-45ff-af35-99e9025ab5dc"
      },
      "execution_count": null,
      "outputs": [
        {
          "output_type": "execute_result",
          "data": {
            "text/plain": [
              "0   2019-06-21 00:00:00+00:00\n",
              "1   2019-06-20 23:00:00+00:00\n",
              "2   2019-06-20 22:00:00+00:00\n",
              "3   2019-06-20 21:00:00+00:00\n",
              "4   2019-06-20 20:00:00+00:00\n",
              "Name: date.utc, dtype: datetime64[ns, UTC]"
            ]
          },
          "metadata": {},
          "execution_count": 9
        }
      ]
    },
    {
      "cell_type": "markdown",
      "source": [
        "Initially, the values in **date.utc** are character strings and do not provide any datetime operations (e.g. extract the year, day of the week,…). By applying the **to_datetime** function, pandas interprets the strings and convert these to datetime (i.e. **datetime64[ns, UTC]**) objects. In pandas we call these datetime objects similar to **datetime.datetime** from the standard library as **pandas.Timestamp**."
      ],
      "metadata": {
        "id": "lyFfWCe8Jx5w"
      }
    },
    {
      "cell_type": "markdown",
      "source": [
        "As many data sets do contain datetime information in one of the columns, pandas input function like **pandas.read_csv()** and **pandas.read_json()** can do the transformation to dates when reading the data using the **parse_dates** parameter with a list of the columns to read as Timestamp:"
      ],
      "metadata": {
        "id": "5_cK9mB5Kvcc"
      }
    },
    {
      "cell_type": "code",
      "source": [
        "air_quality = pd.read_csv(\"https://raw.githubusercontent.com/pandas-dev/pandas/main/doc/data/air_quality_no2_long.csv\", parse_dates=[\"date.utc\"])"
      ],
      "metadata": {
        "id": "07Ef9SgvLBFe"
      },
      "execution_count": null,
      "outputs": []
    },
    {
      "cell_type": "code",
      "source": [
        "air_quality['date.utc'].head()"
      ],
      "metadata": {
        "colab": {
          "base_uri": "https://localhost:8080/"
        },
        "id": "x9PVQsaZLURK",
        "outputId": "339ae529-7293-4914-f806-5136dc8d12a7"
      },
      "execution_count": null,
      "outputs": [
        {
          "output_type": "execute_result",
          "data": {
            "text/plain": [
              "0   2019-06-21 00:00:00+00:00\n",
              "1   2019-06-20 23:00:00+00:00\n",
              "2   2019-06-20 22:00:00+00:00\n",
              "3   2019-06-20 21:00:00+00:00\n",
              "4   2019-06-20 20:00:00+00:00\n",
              "Name: date.utc, dtype: datetime64[ns, UTC]"
            ]
          },
          "metadata": {},
          "execution_count": 14
        }
      ]
    }
  ]
}