{
  "cells": [
    {
      "cell_type": "code",
      "source": [
        "import pandas as pd\n",
        "import numpy as np"
      ],
      "outputs": [],
      "execution_count": 98,
      "metadata": {
        "id": "s4nmNi1KXkC_",
        "tags": [],
        "gather": {
          "logged": 1649866366547
        }
      }
    },
    {
      "cell_type": "code",
      "source": [
        "try:\n",
        "    df = pd.read_csv('Financial_Statement.csv', sep=';')\n",
        "except Exception as e:\n",
        "    print(f\"Error: {e}\")"
      ],
      "outputs": [],
      "execution_count": 99,
      "metadata": {
        "id": "ttOF90IDxZGP",
        "gather": {
          "logged": 1649866366852
        }
      }
    },
    {
      "cell_type": "code",
      "source": [
        "df"
      ],
      "outputs": [
        {
          "output_type": "execute_result",
          "execution_count": 100,
          "data": {
            "text/plain": "   Código da Conta                    Descrição da Conta Trimestre Atual  \\\n0                1                           Ativo Total       2.775.558   \n1             1.01                      Ativo Circulante       1.875.214   \n2          1.01.01         Caixa e Equivalentes de Caixa         815.476   \n3          1.01.03                      Contas a Receber         258.104   \n4       1.01.03.01                              Clientes         258.104   \n5          1.01.04                              Estoques         629.601   \n6          1.01.06                  Tributos a Recuperar          92.690   \n7          1.01.08             Outros Ativos Circulantes          79.343   \n8       1.01.08.03                                Outros          79.343   \n9    1.01.08.03.01                    Ativos financeiros          12.153   \n10   1.01.08.03.03                         Outras contas          53.490   \n11   1.01.08.03.04  Instrumentos financeiros derivativos          13.700   \n12            1.02                  Ativo Não Circulante         900.344   \n13         1.02.01        Ativo Realizável a Longo Prazo         104.944   \n14      1.02.01.09      Créditos com Partes Relacionadas          12.773   \n15   1.02.01.09.02              Créditos com Controladas          12.773   \n16      1.02.01.10         Outros Ativos Não Circulantes          92.171   \n17   1.02.01.10.03                  Tributos a recuperar          90.374   \n18   1.02.01.10.04  Instrumentos financeiros derivativos             893   \n19   1.02.01.10.05               Outras contas a receber             904   \n20         1.02.02                         Investimentos           6.505   \n21         1.02.03                           Imobilizado         786.627   \n22         1.02.04                            Intangível           2.268   \n\n   Exercício Anterior  \n0           2.369.285  \n1           1.651.950  \n2             683.412  \n3             206.005  \n4             206.005  \n5             617.289  \n6              80.862  \n7              64.382  \n8              64.382  \n9              16.059  \n10             39.511  \n11              8.812  \n12            717.335  \n13             90.941  \n14              9.730  \n15              9.730  \n16             81.211  \n17             80.006  \n18                  0  \n19              1.205  \n20              5.934  \n21            619.172  \n22              1.288  ",
            "text/html": "<div>\n<style scoped>\n    .dataframe tbody tr th:only-of-type {\n        vertical-align: middle;\n    }\n\n    .dataframe tbody tr th {\n        vertical-align: top;\n    }\n\n    .dataframe thead th {\n        text-align: right;\n    }\n</style>\n<table border=\"1\" class=\"dataframe\">\n  <thead>\n    <tr style=\"text-align: right;\">\n      <th></th>\n      <th>Código da Conta</th>\n      <th>Descrição da Conta</th>\n      <th>Trimestre Atual</th>\n      <th>Exercício Anterior</th>\n    </tr>\n  </thead>\n  <tbody>\n    <tr>\n      <th>0</th>\n      <td>1</td>\n      <td>Ativo Total</td>\n      <td>2.775.558</td>\n      <td>2.369.285</td>\n    </tr>\n    <tr>\n      <th>1</th>\n      <td>1.01</td>\n      <td>Ativo Circulante</td>\n      <td>1.875.214</td>\n      <td>1.651.950</td>\n    </tr>\n    <tr>\n      <th>2</th>\n      <td>1.01.01</td>\n      <td>Caixa e Equivalentes de Caixa</td>\n      <td>815.476</td>\n      <td>683.412</td>\n    </tr>\n    <tr>\n      <th>3</th>\n      <td>1.01.03</td>\n      <td>Contas a Receber</td>\n      <td>258.104</td>\n      <td>206.005</td>\n    </tr>\n    <tr>\n      <th>4</th>\n      <td>1.01.03.01</td>\n      <td>Clientes</td>\n      <td>258.104</td>\n      <td>206.005</td>\n    </tr>\n    <tr>\n      <th>5</th>\n      <td>1.01.04</td>\n      <td>Estoques</td>\n      <td>629.601</td>\n      <td>617.289</td>\n    </tr>\n    <tr>\n      <th>6</th>\n      <td>1.01.06</td>\n      <td>Tributos a Recuperar</td>\n      <td>92.690</td>\n      <td>80.862</td>\n    </tr>\n    <tr>\n      <th>7</th>\n      <td>1.01.08</td>\n      <td>Outros Ativos Circulantes</td>\n      <td>79.343</td>\n      <td>64.382</td>\n    </tr>\n    <tr>\n      <th>8</th>\n      <td>1.01.08.03</td>\n      <td>Outros</td>\n      <td>79.343</td>\n      <td>64.382</td>\n    </tr>\n    <tr>\n      <th>9</th>\n      <td>1.01.08.03.01</td>\n      <td>Ativos financeiros</td>\n      <td>12.153</td>\n      <td>16.059</td>\n    </tr>\n    <tr>\n      <th>10</th>\n      <td>1.01.08.03.03</td>\n      <td>Outras contas</td>\n      <td>53.490</td>\n      <td>39.511</td>\n    </tr>\n    <tr>\n      <th>11</th>\n      <td>1.01.08.03.04</td>\n      <td>Instrumentos financeiros derivativos</td>\n      <td>13.700</td>\n      <td>8.812</td>\n    </tr>\n    <tr>\n      <th>12</th>\n      <td>1.02</td>\n      <td>Ativo Não Circulante</td>\n      <td>900.344</td>\n      <td>717.335</td>\n    </tr>\n    <tr>\n      <th>13</th>\n      <td>1.02.01</td>\n      <td>Ativo Realizável a Longo Prazo</td>\n      <td>104.944</td>\n      <td>90.941</td>\n    </tr>\n    <tr>\n      <th>14</th>\n      <td>1.02.01.09</td>\n      <td>Créditos com Partes Relacionadas</td>\n      <td>12.773</td>\n      <td>9.730</td>\n    </tr>\n    <tr>\n      <th>15</th>\n      <td>1.02.01.09.02</td>\n      <td>Créditos com Controladas</td>\n      <td>12.773</td>\n      <td>9.730</td>\n    </tr>\n    <tr>\n      <th>16</th>\n      <td>1.02.01.10</td>\n      <td>Outros Ativos Não Circulantes</td>\n      <td>92.171</td>\n      <td>81.211</td>\n    </tr>\n    <tr>\n      <th>17</th>\n      <td>1.02.01.10.03</td>\n      <td>Tributos a recuperar</td>\n      <td>90.374</td>\n      <td>80.006</td>\n    </tr>\n    <tr>\n      <th>18</th>\n      <td>1.02.01.10.04</td>\n      <td>Instrumentos financeiros derivativos</td>\n      <td>893</td>\n      <td>0</td>\n    </tr>\n    <tr>\n      <th>19</th>\n      <td>1.02.01.10.05</td>\n      <td>Outras contas a receber</td>\n      <td>904</td>\n      <td>1.205</td>\n    </tr>\n    <tr>\n      <th>20</th>\n      <td>1.02.02</td>\n      <td>Investimentos</td>\n      <td>6.505</td>\n      <td>5.934</td>\n    </tr>\n    <tr>\n      <th>21</th>\n      <td>1.02.03</td>\n      <td>Imobilizado</td>\n      <td>786.627</td>\n      <td>619.172</td>\n    </tr>\n    <tr>\n      <th>22</th>\n      <td>1.02.04</td>\n      <td>Intangível</td>\n      <td>2.268</td>\n      <td>1.288</td>\n    </tr>\n  </tbody>\n</table>\n</div>"
          },
          "metadata": {}
        }
      ],
      "execution_count": 100,
      "metadata": {
        "colab": {
          "base_uri": "https://localhost:8080/",
          "height": 762
        },
        "executionInfo": {
          "elapsed": 249,
          "status": "ok",
          "timestamp": 1638788249849,
          "user": {
            "displayName": "Francesco Ghizzo",
            "photoUrl": "https://lh3.googleusercontent.com/a/default-user=s64",
            "userId": "12232356605573294838"
          },
          "user_tz": -60
        },
        "id": "mF0-Qhdmy5tT",
        "outputId": "21478b13-6310-4e91-ff00-c6471bf6aad8",
        "gather": {
          "logged": 1649866367190
        }
      }
    },
    {
      "cell_type": "code",
      "source": [
        "df.insert(1, 'Descrição da Conta 1', None)"
      ],
      "outputs": [],
      "execution_count": 101,
      "metadata": {
        "id": "xnqx9Disa0XB",
        "gather": {
          "logged": 1649866367601
        }
      }
    },
    {
      "cell_type": "code",
      "source": [
        "df"
      ],
      "outputs": [
        {
          "output_type": "execute_result",
          "execution_count": 102,
          "data": {
            "text/plain": "   Código da Conta Descrição da Conta 1                    Descrição da Conta  \\\n0                1                 None                           Ativo Total   \n1             1.01                 None                      Ativo Circulante   \n2          1.01.01                 None         Caixa e Equivalentes de Caixa   \n3          1.01.03                 None                      Contas a Receber   \n4       1.01.03.01                 None                              Clientes   \n5          1.01.04                 None                              Estoques   \n6          1.01.06                 None                  Tributos a Recuperar   \n7          1.01.08                 None             Outros Ativos Circulantes   \n8       1.01.08.03                 None                                Outros   \n9    1.01.08.03.01                 None                    Ativos financeiros   \n10   1.01.08.03.03                 None                         Outras contas   \n11   1.01.08.03.04                 None  Instrumentos financeiros derivativos   \n12            1.02                 None                  Ativo Não Circulante   \n13         1.02.01                 None        Ativo Realizável a Longo Prazo   \n14      1.02.01.09                 None      Créditos com Partes Relacionadas   \n15   1.02.01.09.02                 None              Créditos com Controladas   \n16      1.02.01.10                 None         Outros Ativos Não Circulantes   \n17   1.02.01.10.03                 None                  Tributos a recuperar   \n18   1.02.01.10.04                 None  Instrumentos financeiros derivativos   \n19   1.02.01.10.05                 None               Outras contas a receber   \n20         1.02.02                 None                         Investimentos   \n21         1.02.03                 None                           Imobilizado   \n22         1.02.04                 None                            Intangível   \n\n   Trimestre Atual Exercício Anterior  \n0        2.775.558          2.369.285  \n1        1.875.214          1.651.950  \n2          815.476            683.412  \n3          258.104            206.005  \n4          258.104            206.005  \n5          629.601            617.289  \n6           92.690             80.862  \n7           79.343             64.382  \n8           79.343             64.382  \n9           12.153             16.059  \n10          53.490             39.511  \n11          13.700              8.812  \n12         900.344            717.335  \n13         104.944             90.941  \n14          12.773              9.730  \n15          12.773              9.730  \n16          92.171             81.211  \n17          90.374             80.006  \n18             893                  0  \n19             904              1.205  \n20           6.505              5.934  \n21         786.627            619.172  \n22           2.268              1.288  ",
            "text/html": "<div>\n<style scoped>\n    .dataframe tbody tr th:only-of-type {\n        vertical-align: middle;\n    }\n\n    .dataframe tbody tr th {\n        vertical-align: top;\n    }\n\n    .dataframe thead th {\n        text-align: right;\n    }\n</style>\n<table border=\"1\" class=\"dataframe\">\n  <thead>\n    <tr style=\"text-align: right;\">\n      <th></th>\n      <th>Código da Conta</th>\n      <th>Descrição da Conta 1</th>\n      <th>Descrição da Conta</th>\n      <th>Trimestre Atual</th>\n      <th>Exercício Anterior</th>\n    </tr>\n  </thead>\n  <tbody>\n    <tr>\n      <th>0</th>\n      <td>1</td>\n      <td>None</td>\n      <td>Ativo Total</td>\n      <td>2.775.558</td>\n      <td>2.369.285</td>\n    </tr>\n    <tr>\n      <th>1</th>\n      <td>1.01</td>\n      <td>None</td>\n      <td>Ativo Circulante</td>\n      <td>1.875.214</td>\n      <td>1.651.950</td>\n    </tr>\n    <tr>\n      <th>2</th>\n      <td>1.01.01</td>\n      <td>None</td>\n      <td>Caixa e Equivalentes de Caixa</td>\n      <td>815.476</td>\n      <td>683.412</td>\n    </tr>\n    <tr>\n      <th>3</th>\n      <td>1.01.03</td>\n      <td>None</td>\n      <td>Contas a Receber</td>\n      <td>258.104</td>\n      <td>206.005</td>\n    </tr>\n    <tr>\n      <th>4</th>\n      <td>1.01.03.01</td>\n      <td>None</td>\n      <td>Clientes</td>\n      <td>258.104</td>\n      <td>206.005</td>\n    </tr>\n    <tr>\n      <th>5</th>\n      <td>1.01.04</td>\n      <td>None</td>\n      <td>Estoques</td>\n      <td>629.601</td>\n      <td>617.289</td>\n    </tr>\n    <tr>\n      <th>6</th>\n      <td>1.01.06</td>\n      <td>None</td>\n      <td>Tributos a Recuperar</td>\n      <td>92.690</td>\n      <td>80.862</td>\n    </tr>\n    <tr>\n      <th>7</th>\n      <td>1.01.08</td>\n      <td>None</td>\n      <td>Outros Ativos Circulantes</td>\n      <td>79.343</td>\n      <td>64.382</td>\n    </tr>\n    <tr>\n      <th>8</th>\n      <td>1.01.08.03</td>\n      <td>None</td>\n      <td>Outros</td>\n      <td>79.343</td>\n      <td>64.382</td>\n    </tr>\n    <tr>\n      <th>9</th>\n      <td>1.01.08.03.01</td>\n      <td>None</td>\n      <td>Ativos financeiros</td>\n      <td>12.153</td>\n      <td>16.059</td>\n    </tr>\n    <tr>\n      <th>10</th>\n      <td>1.01.08.03.03</td>\n      <td>None</td>\n      <td>Outras contas</td>\n      <td>53.490</td>\n      <td>39.511</td>\n    </tr>\n    <tr>\n      <th>11</th>\n      <td>1.01.08.03.04</td>\n      <td>None</td>\n      <td>Instrumentos financeiros derivativos</td>\n      <td>13.700</td>\n      <td>8.812</td>\n    </tr>\n    <tr>\n      <th>12</th>\n      <td>1.02</td>\n      <td>None</td>\n      <td>Ativo Não Circulante</td>\n      <td>900.344</td>\n      <td>717.335</td>\n    </tr>\n    <tr>\n      <th>13</th>\n      <td>1.02.01</td>\n      <td>None</td>\n      <td>Ativo Realizável a Longo Prazo</td>\n      <td>104.944</td>\n      <td>90.941</td>\n    </tr>\n    <tr>\n      <th>14</th>\n      <td>1.02.01.09</td>\n      <td>None</td>\n      <td>Créditos com Partes Relacionadas</td>\n      <td>12.773</td>\n      <td>9.730</td>\n    </tr>\n    <tr>\n      <th>15</th>\n      <td>1.02.01.09.02</td>\n      <td>None</td>\n      <td>Créditos com Controladas</td>\n      <td>12.773</td>\n      <td>9.730</td>\n    </tr>\n    <tr>\n      <th>16</th>\n      <td>1.02.01.10</td>\n      <td>None</td>\n      <td>Outros Ativos Não Circulantes</td>\n      <td>92.171</td>\n      <td>81.211</td>\n    </tr>\n    <tr>\n      <th>17</th>\n      <td>1.02.01.10.03</td>\n      <td>None</td>\n      <td>Tributos a recuperar</td>\n      <td>90.374</td>\n      <td>80.006</td>\n    </tr>\n    <tr>\n      <th>18</th>\n      <td>1.02.01.10.04</td>\n      <td>None</td>\n      <td>Instrumentos financeiros derivativos</td>\n      <td>893</td>\n      <td>0</td>\n    </tr>\n    <tr>\n      <th>19</th>\n      <td>1.02.01.10.05</td>\n      <td>None</td>\n      <td>Outras contas a receber</td>\n      <td>904</td>\n      <td>1.205</td>\n    </tr>\n    <tr>\n      <th>20</th>\n      <td>1.02.02</td>\n      <td>None</td>\n      <td>Investimentos</td>\n      <td>6.505</td>\n      <td>5.934</td>\n    </tr>\n    <tr>\n      <th>21</th>\n      <td>1.02.03</td>\n      <td>None</td>\n      <td>Imobilizado</td>\n      <td>786.627</td>\n      <td>619.172</td>\n    </tr>\n    <tr>\n      <th>22</th>\n      <td>1.02.04</td>\n      <td>None</td>\n      <td>Intangível</td>\n      <td>2.268</td>\n      <td>1.288</td>\n    </tr>\n  </tbody>\n</table>\n</div>"
          },
          "metadata": {}
        }
      ],
      "execution_count": 102,
      "metadata": {
        "colab": {
          "base_uri": "https://localhost:8080/",
          "height": 762
        },
        "executionInfo": {
          "elapsed": 229,
          "status": "ok",
          "timestamp": 1638788255763,
          "user": {
            "displayName": "Francesco Ghizzo",
            "photoUrl": "https://lh3.googleusercontent.com/a/default-user=s64",
            "userId": "12232356605573294838"
          },
          "user_tz": -60
        },
        "id": "jY-1XEFFqyyo",
        "outputId": "58340a0d-4538-48e4-ef35-3cceb9039c13",
        "gather": {
          "logged": 1649866367805
        }
      }
    },
    {
      "cell_type": "code",
      "source": [
        "df['Código da Conta']"
      ],
      "outputs": [
        {
          "output_type": "execute_result",
          "execution_count": 103,
          "data": {
            "text/plain": "0                 1\n1              1.01\n2           1.01.01\n3           1.01.03\n4        1.01.03.01\n5           1.01.04\n6           1.01.06\n7           1.01.08\n8        1.01.08.03\n9     1.01.08.03.01\n10    1.01.08.03.03\n11    1.01.08.03.04\n12             1.02\n13          1.02.01\n14       1.02.01.09\n15    1.02.01.09.02\n16       1.02.01.10\n17    1.02.01.10.03\n18    1.02.01.10.04\n19    1.02.01.10.05\n20          1.02.02\n21          1.02.03\n22          1.02.04\nName: Código da Conta, dtype: object"
          },
          "metadata": {}
        }
      ],
      "execution_count": 103,
      "metadata": {
        "colab": {
          "base_uri": "https://localhost:8080/"
        },
        "executionInfo": {
          "elapsed": 295,
          "status": "ok",
          "timestamp": 1638788273095,
          "user": {
            "displayName": "Francesco Ghizzo",
            "photoUrl": "https://lh3.googleusercontent.com/a/default-user=s64",
            "userId": "12232356605573294838"
          },
          "user_tz": -60
        },
        "id": "r6iAIUUP9Foc",
        "outputId": "1747e8a6-0156-4386-f58c-138d898f2a2e",
        "gather": {
          "logged": 1649866368447
        }
      }
    },
    {
      "cell_type": "code",
      "source": [
        "#df['Código da Conta'].apply(lambda string: string.startswith('1'))"
      ],
      "outputs": [],
      "execution_count": 104,
      "metadata": {
        "id": "YqXud_FuFJMm",
        "gather": {
          "logged": 1649866368603
        }
      }
    },
    {
      "cell_type": "code",
      "source": [
        "CD_CONTA_1 = df['Código da Conta'].apply(lambda string: string[:1])\n",
        "CD_CONTA_1"
      ],
      "outputs": [
        {
          "output_type": "execute_result",
          "execution_count": 105,
          "data": {
            "text/plain": "0     1\n1     1\n2     1\n3     1\n4     1\n5     1\n6     1\n7     1\n8     1\n9     1\n10    1\n11    1\n12    1\n13    1\n14    1\n15    1\n16    1\n17    1\n18    1\n19    1\n20    1\n21    1\n22    1\nName: Código da Conta, dtype: object"
          },
          "metadata": {}
        }
      ],
      "execution_count": 105,
      "metadata": {
        "colab": {
          "base_uri": "https://localhost:8080/"
        },
        "executionInfo": {
          "elapsed": 235,
          "status": "ok",
          "timestamp": 1638788339613,
          "user": {
            "displayName": "Francesco Ghizzo",
            "photoUrl": "https://lh3.googleusercontent.com/a/default-user=s64",
            "userId": "12232356605573294838"
          },
          "user_tz": -60
        },
        "id": "bGS2kHXTc0sA",
        "outputId": "67a17941-180e-40d0-cbf6-2f4988178cfa",
        "gather": {
          "logged": 1649866368968
        }
      }
    },
    {
      "cell_type": "code",
      "source": [
        "DS_CONTA_1 = pd.merge(CD_CONTA_1, df[['Código da Conta', 'Descrição da Conta']], how='left')\n",
        "DS_CONTA_1"
      ],
      "outputs": [
        {
          "output_type": "execute_result",
          "execution_count": 106,
          "data": {
            "text/plain": "   Código da Conta Descrição da Conta\n0                1        Ativo Total\n1                1        Ativo Total\n2                1        Ativo Total\n3                1        Ativo Total\n4                1        Ativo Total\n5                1        Ativo Total\n6                1        Ativo Total\n7                1        Ativo Total\n8                1        Ativo Total\n9                1        Ativo Total\n10               1        Ativo Total\n11               1        Ativo Total\n12               1        Ativo Total\n13               1        Ativo Total\n14               1        Ativo Total\n15               1        Ativo Total\n16               1        Ativo Total\n17               1        Ativo Total\n18               1        Ativo Total\n19               1        Ativo Total\n20               1        Ativo Total\n21               1        Ativo Total\n22               1        Ativo Total",
            "text/html": "<div>\n<style scoped>\n    .dataframe tbody tr th:only-of-type {\n        vertical-align: middle;\n    }\n\n    .dataframe tbody tr th {\n        vertical-align: top;\n    }\n\n    .dataframe thead th {\n        text-align: right;\n    }\n</style>\n<table border=\"1\" class=\"dataframe\">\n  <thead>\n    <tr style=\"text-align: right;\">\n      <th></th>\n      <th>Código da Conta</th>\n      <th>Descrição da Conta</th>\n    </tr>\n  </thead>\n  <tbody>\n    <tr>\n      <th>0</th>\n      <td>1</td>\n      <td>Ativo Total</td>\n    </tr>\n    <tr>\n      <th>1</th>\n      <td>1</td>\n      <td>Ativo Total</td>\n    </tr>\n    <tr>\n      <th>2</th>\n      <td>1</td>\n      <td>Ativo Total</td>\n    </tr>\n    <tr>\n      <th>3</th>\n      <td>1</td>\n      <td>Ativo Total</td>\n    </tr>\n    <tr>\n      <th>4</th>\n      <td>1</td>\n      <td>Ativo Total</td>\n    </tr>\n    <tr>\n      <th>5</th>\n      <td>1</td>\n      <td>Ativo Total</td>\n    </tr>\n    <tr>\n      <th>6</th>\n      <td>1</td>\n      <td>Ativo Total</td>\n    </tr>\n    <tr>\n      <th>7</th>\n      <td>1</td>\n      <td>Ativo Total</td>\n    </tr>\n    <tr>\n      <th>8</th>\n      <td>1</td>\n      <td>Ativo Total</td>\n    </tr>\n    <tr>\n      <th>9</th>\n      <td>1</td>\n      <td>Ativo Total</td>\n    </tr>\n    <tr>\n      <th>10</th>\n      <td>1</td>\n      <td>Ativo Total</td>\n    </tr>\n    <tr>\n      <th>11</th>\n      <td>1</td>\n      <td>Ativo Total</td>\n    </tr>\n    <tr>\n      <th>12</th>\n      <td>1</td>\n      <td>Ativo Total</td>\n    </tr>\n    <tr>\n      <th>13</th>\n      <td>1</td>\n      <td>Ativo Total</td>\n    </tr>\n    <tr>\n      <th>14</th>\n      <td>1</td>\n      <td>Ativo Total</td>\n    </tr>\n    <tr>\n      <th>15</th>\n      <td>1</td>\n      <td>Ativo Total</td>\n    </tr>\n    <tr>\n      <th>16</th>\n      <td>1</td>\n      <td>Ativo Total</td>\n    </tr>\n    <tr>\n      <th>17</th>\n      <td>1</td>\n      <td>Ativo Total</td>\n    </tr>\n    <tr>\n      <th>18</th>\n      <td>1</td>\n      <td>Ativo Total</td>\n    </tr>\n    <tr>\n      <th>19</th>\n      <td>1</td>\n      <td>Ativo Total</td>\n    </tr>\n    <tr>\n      <th>20</th>\n      <td>1</td>\n      <td>Ativo Total</td>\n    </tr>\n    <tr>\n      <th>21</th>\n      <td>1</td>\n      <td>Ativo Total</td>\n    </tr>\n    <tr>\n      <th>22</th>\n      <td>1</td>\n      <td>Ativo Total</td>\n    </tr>\n  </tbody>\n</table>\n</div>"
          },
          "metadata": {}
        }
      ],
      "execution_count": 106,
      "metadata": {
        "colab": {
          "base_uri": "https://localhost:8080/",
          "height": 762
        },
        "executionInfo": {
          "elapsed": 241,
          "status": "ok",
          "timestamp": 1638788343127,
          "user": {
            "displayName": "Francesco Ghizzo",
            "photoUrl": "https://lh3.googleusercontent.com/a/default-user=s64",
            "userId": "12232356605573294838"
          },
          "user_tz": -60
        },
        "id": "iebEG8tDsNJu",
        "outputId": "222cd093-7d22-435f-cb3e-9a3f3e640ae1",
        "gather": {
          "logged": 1649866369409
        }
      }
    },
    {
      "cell_type": "code",
      "source": [
        "df['Descrição da Conta 1'] = DS_CONTA_1['Descrição da Conta']"
      ],
      "outputs": [],
      "execution_count": 107,
      "metadata": {
        "id": "XzB3ydP-t_vR",
        "gather": {
          "logged": 1649866369572
        }
      }
    },
    {
      "cell_type": "code",
      "source": [
        "df"
      ],
      "outputs": [
        {
          "output_type": "execute_result",
          "execution_count": 108,
          "data": {
            "text/plain": "   Código da Conta Descrição da Conta 1                    Descrição da Conta  \\\n0                1          Ativo Total                           Ativo Total   \n1             1.01          Ativo Total                      Ativo Circulante   \n2          1.01.01          Ativo Total         Caixa e Equivalentes de Caixa   \n3          1.01.03          Ativo Total                      Contas a Receber   \n4       1.01.03.01          Ativo Total                              Clientes   \n5          1.01.04          Ativo Total                              Estoques   \n6          1.01.06          Ativo Total                  Tributos a Recuperar   \n7          1.01.08          Ativo Total             Outros Ativos Circulantes   \n8       1.01.08.03          Ativo Total                                Outros   \n9    1.01.08.03.01          Ativo Total                    Ativos financeiros   \n10   1.01.08.03.03          Ativo Total                         Outras contas   \n11   1.01.08.03.04          Ativo Total  Instrumentos financeiros derivativos   \n12            1.02          Ativo Total                  Ativo Não Circulante   \n13         1.02.01          Ativo Total        Ativo Realizável a Longo Prazo   \n14      1.02.01.09          Ativo Total      Créditos com Partes Relacionadas   \n15   1.02.01.09.02          Ativo Total              Créditos com Controladas   \n16      1.02.01.10          Ativo Total         Outros Ativos Não Circulantes   \n17   1.02.01.10.03          Ativo Total                  Tributos a recuperar   \n18   1.02.01.10.04          Ativo Total  Instrumentos financeiros derivativos   \n19   1.02.01.10.05          Ativo Total               Outras contas a receber   \n20         1.02.02          Ativo Total                         Investimentos   \n21         1.02.03          Ativo Total                           Imobilizado   \n22         1.02.04          Ativo Total                            Intangível   \n\n   Trimestre Atual Exercício Anterior  \n0        2.775.558          2.369.285  \n1        1.875.214          1.651.950  \n2          815.476            683.412  \n3          258.104            206.005  \n4          258.104            206.005  \n5          629.601            617.289  \n6           92.690             80.862  \n7           79.343             64.382  \n8           79.343             64.382  \n9           12.153             16.059  \n10          53.490             39.511  \n11          13.700              8.812  \n12         900.344            717.335  \n13         104.944             90.941  \n14          12.773              9.730  \n15          12.773              9.730  \n16          92.171             81.211  \n17          90.374             80.006  \n18             893                  0  \n19             904              1.205  \n20           6.505              5.934  \n21         786.627            619.172  \n22           2.268              1.288  ",
            "text/html": "<div>\n<style scoped>\n    .dataframe tbody tr th:only-of-type {\n        vertical-align: middle;\n    }\n\n    .dataframe tbody tr th {\n        vertical-align: top;\n    }\n\n    .dataframe thead th {\n        text-align: right;\n    }\n</style>\n<table border=\"1\" class=\"dataframe\">\n  <thead>\n    <tr style=\"text-align: right;\">\n      <th></th>\n      <th>Código da Conta</th>\n      <th>Descrição da Conta 1</th>\n      <th>Descrição da Conta</th>\n      <th>Trimestre Atual</th>\n      <th>Exercício Anterior</th>\n    </tr>\n  </thead>\n  <tbody>\n    <tr>\n      <th>0</th>\n      <td>1</td>\n      <td>Ativo Total</td>\n      <td>Ativo Total</td>\n      <td>2.775.558</td>\n      <td>2.369.285</td>\n    </tr>\n    <tr>\n      <th>1</th>\n      <td>1.01</td>\n      <td>Ativo Total</td>\n      <td>Ativo Circulante</td>\n      <td>1.875.214</td>\n      <td>1.651.950</td>\n    </tr>\n    <tr>\n      <th>2</th>\n      <td>1.01.01</td>\n      <td>Ativo Total</td>\n      <td>Caixa e Equivalentes de Caixa</td>\n      <td>815.476</td>\n      <td>683.412</td>\n    </tr>\n    <tr>\n      <th>3</th>\n      <td>1.01.03</td>\n      <td>Ativo Total</td>\n      <td>Contas a Receber</td>\n      <td>258.104</td>\n      <td>206.005</td>\n    </tr>\n    <tr>\n      <th>4</th>\n      <td>1.01.03.01</td>\n      <td>Ativo Total</td>\n      <td>Clientes</td>\n      <td>258.104</td>\n      <td>206.005</td>\n    </tr>\n    <tr>\n      <th>5</th>\n      <td>1.01.04</td>\n      <td>Ativo Total</td>\n      <td>Estoques</td>\n      <td>629.601</td>\n      <td>617.289</td>\n    </tr>\n    <tr>\n      <th>6</th>\n      <td>1.01.06</td>\n      <td>Ativo Total</td>\n      <td>Tributos a Recuperar</td>\n      <td>92.690</td>\n      <td>80.862</td>\n    </tr>\n    <tr>\n      <th>7</th>\n      <td>1.01.08</td>\n      <td>Ativo Total</td>\n      <td>Outros Ativos Circulantes</td>\n      <td>79.343</td>\n      <td>64.382</td>\n    </tr>\n    <tr>\n      <th>8</th>\n      <td>1.01.08.03</td>\n      <td>Ativo Total</td>\n      <td>Outros</td>\n      <td>79.343</td>\n      <td>64.382</td>\n    </tr>\n    <tr>\n      <th>9</th>\n      <td>1.01.08.03.01</td>\n      <td>Ativo Total</td>\n      <td>Ativos financeiros</td>\n      <td>12.153</td>\n      <td>16.059</td>\n    </tr>\n    <tr>\n      <th>10</th>\n      <td>1.01.08.03.03</td>\n      <td>Ativo Total</td>\n      <td>Outras contas</td>\n      <td>53.490</td>\n      <td>39.511</td>\n    </tr>\n    <tr>\n      <th>11</th>\n      <td>1.01.08.03.04</td>\n      <td>Ativo Total</td>\n      <td>Instrumentos financeiros derivativos</td>\n      <td>13.700</td>\n      <td>8.812</td>\n    </tr>\n    <tr>\n      <th>12</th>\n      <td>1.02</td>\n      <td>Ativo Total</td>\n      <td>Ativo Não Circulante</td>\n      <td>900.344</td>\n      <td>717.335</td>\n    </tr>\n    <tr>\n      <th>13</th>\n      <td>1.02.01</td>\n      <td>Ativo Total</td>\n      <td>Ativo Realizável a Longo Prazo</td>\n      <td>104.944</td>\n      <td>90.941</td>\n    </tr>\n    <tr>\n      <th>14</th>\n      <td>1.02.01.09</td>\n      <td>Ativo Total</td>\n      <td>Créditos com Partes Relacionadas</td>\n      <td>12.773</td>\n      <td>9.730</td>\n    </tr>\n    <tr>\n      <th>15</th>\n      <td>1.02.01.09.02</td>\n      <td>Ativo Total</td>\n      <td>Créditos com Controladas</td>\n      <td>12.773</td>\n      <td>9.730</td>\n    </tr>\n    <tr>\n      <th>16</th>\n      <td>1.02.01.10</td>\n      <td>Ativo Total</td>\n      <td>Outros Ativos Não Circulantes</td>\n      <td>92.171</td>\n      <td>81.211</td>\n    </tr>\n    <tr>\n      <th>17</th>\n      <td>1.02.01.10.03</td>\n      <td>Ativo Total</td>\n      <td>Tributos a recuperar</td>\n      <td>90.374</td>\n      <td>80.006</td>\n    </tr>\n    <tr>\n      <th>18</th>\n      <td>1.02.01.10.04</td>\n      <td>Ativo Total</td>\n      <td>Instrumentos financeiros derivativos</td>\n      <td>893</td>\n      <td>0</td>\n    </tr>\n    <tr>\n      <th>19</th>\n      <td>1.02.01.10.05</td>\n      <td>Ativo Total</td>\n      <td>Outras contas a receber</td>\n      <td>904</td>\n      <td>1.205</td>\n    </tr>\n    <tr>\n      <th>20</th>\n      <td>1.02.02</td>\n      <td>Ativo Total</td>\n      <td>Investimentos</td>\n      <td>6.505</td>\n      <td>5.934</td>\n    </tr>\n    <tr>\n      <th>21</th>\n      <td>1.02.03</td>\n      <td>Ativo Total</td>\n      <td>Imobilizado</td>\n      <td>786.627</td>\n      <td>619.172</td>\n    </tr>\n    <tr>\n      <th>22</th>\n      <td>1.02.04</td>\n      <td>Ativo Total</td>\n      <td>Intangível</td>\n      <td>2.268</td>\n      <td>1.288</td>\n    </tr>\n  </tbody>\n</table>\n</div>"
          },
          "metadata": {}
        }
      ],
      "execution_count": 108,
      "metadata": {
        "colab": {
          "base_uri": "https://localhost:8080/",
          "height": 762
        },
        "executionInfo": {
          "elapsed": 290,
          "status": "ok",
          "timestamp": 1638788350967,
          "user": {
            "displayName": "Francesco Ghizzo",
            "photoUrl": "https://lh3.googleusercontent.com/a/default-user=s64",
            "userId": "12232356605573294838"
          },
          "user_tz": -60
        },
        "id": "uvI1XdGfvr4M",
        "outputId": "494ebcc7-9b2b-4a6a-d3dc-eec7a75c65a2",
        "gather": {
          "logged": 1649866370284
        }
      }
    },
    {
      "cell_type": "code",
      "source": [
        "len_key = [len(key) for key in df['Código da Conta']]   # len_key = length of key"
      ],
      "outputs": [],
      "execution_count": 109,
      "metadata": {
        "gather": {
          "logged": 1649866370687
        }
      }
    },
    {
      "cell_type": "code",
      "source": [
        "min_len = np.array(len_key).min()  # min_len = minimum length"
      ],
      "outputs": [],
      "execution_count": 110,
      "metadata": {
        "gather": {
          "logged": 1649866371129
        }
      }
    },
    {
      "cell_type": "code",
      "source": [
        "ind_min_len = np.where(len_key==min_len)  # ind_min_len = index of key 'Código da Conta' with minimum length"
      ],
      "outputs": [],
      "execution_count": 111,
      "metadata": {
        "gather": {
          "logged": 1649866371713
        }
      }
    },
    {
      "cell_type": "code",
      "source": [
        "df.iloc[ind_min_len]"
      ],
      "outputs": [
        {
          "output_type": "execute_result",
          "execution_count": 112,
          "data": {
            "text/plain": "  Código da Conta Descrição da Conta 1 Descrição da Conta Trimestre Atual  \\\n0               1          Ativo Total        Ativo Total       2.775.558   \n\n  Exercício Anterior  \n0          2.369.285  ",
            "text/html": "<div>\n<style scoped>\n    .dataframe tbody tr th:only-of-type {\n        vertical-align: middle;\n    }\n\n    .dataframe tbody tr th {\n        vertical-align: top;\n    }\n\n    .dataframe thead th {\n        text-align: right;\n    }\n</style>\n<table border=\"1\" class=\"dataframe\">\n  <thead>\n    <tr style=\"text-align: right;\">\n      <th></th>\n      <th>Código da Conta</th>\n      <th>Descrição da Conta 1</th>\n      <th>Descrição da Conta</th>\n      <th>Trimestre Atual</th>\n      <th>Exercício Anterior</th>\n    </tr>\n  </thead>\n  <tbody>\n    <tr>\n      <th>0</th>\n      <td>1</td>\n      <td>Ativo Total</td>\n      <td>Ativo Total</td>\n      <td>2.775.558</td>\n      <td>2.369.285</td>\n    </tr>\n  </tbody>\n</table>\n</div>"
          },
          "metadata": {}
        }
      ],
      "execution_count": 112,
      "metadata": {
        "gather": {
          "logged": 1649866372460
        }
      }
    },
    {
      "cell_type": "code",
      "source": [
        "df = df.drop(df.index[ind_min_len])"
      ],
      "outputs": [],
      "execution_count": 113,
      "metadata": {
        "colab": {
          "base_uri": "https://localhost:8080/",
          "height": 731
        },
        "executionInfo": {
          "elapsed": 222,
          "status": "ok",
          "timestamp": 1638788364988,
          "user": {
            "displayName": "Francesco Ghizzo",
            "photoUrl": "https://lh3.googleusercontent.com/a/default-user=s64",
            "userId": "12232356605573294838"
          },
          "user_tz": -60
        },
        "id": "uXebznNDZerw",
        "outputId": "cd1f7595-601d-4448-87db-ebfdfa8b5d39",
        "gather": {
          "logged": 1649866372723
        }
      }
    },
    {
      "cell_type": "code",
      "source": [
        "df.insert(2, 'Descrição da Conta 2', None)"
      ],
      "outputs": [],
      "execution_count": 114,
      "metadata": {
        "id": "tKWeKOojaY3F",
        "gather": {
          "logged": 1649866374194
        }
      }
    },
    {
      "cell_type": "code",
      "source": [
        "df"
      ],
      "outputs": [
        {
          "output_type": "execute_result",
          "execution_count": 115,
          "data": {
            "text/plain": "   Código da Conta Descrição da Conta 1 Descrição da Conta 2  \\\n1             1.01          Ativo Total                 None   \n2          1.01.01          Ativo Total                 None   \n3          1.01.03          Ativo Total                 None   \n4       1.01.03.01          Ativo Total                 None   \n5          1.01.04          Ativo Total                 None   \n6          1.01.06          Ativo Total                 None   \n7          1.01.08          Ativo Total                 None   \n8       1.01.08.03          Ativo Total                 None   \n9    1.01.08.03.01          Ativo Total                 None   \n10   1.01.08.03.03          Ativo Total                 None   \n11   1.01.08.03.04          Ativo Total                 None   \n12            1.02          Ativo Total                 None   \n13         1.02.01          Ativo Total                 None   \n14      1.02.01.09          Ativo Total                 None   \n15   1.02.01.09.02          Ativo Total                 None   \n16      1.02.01.10          Ativo Total                 None   \n17   1.02.01.10.03          Ativo Total                 None   \n18   1.02.01.10.04          Ativo Total                 None   \n19   1.02.01.10.05          Ativo Total                 None   \n20         1.02.02          Ativo Total                 None   \n21         1.02.03          Ativo Total                 None   \n22         1.02.04          Ativo Total                 None   \n\n                      Descrição da Conta Trimestre Atual Exercício Anterior  \n1                       Ativo Circulante       1.875.214          1.651.950  \n2          Caixa e Equivalentes de Caixa         815.476            683.412  \n3                       Contas a Receber         258.104            206.005  \n4                               Clientes         258.104            206.005  \n5                               Estoques         629.601            617.289  \n6                   Tributos a Recuperar          92.690             80.862  \n7              Outros Ativos Circulantes          79.343             64.382  \n8                                 Outros          79.343             64.382  \n9                     Ativos financeiros          12.153             16.059  \n10                         Outras contas          53.490             39.511  \n11  Instrumentos financeiros derivativos          13.700              8.812  \n12                  Ativo Não Circulante         900.344            717.335  \n13        Ativo Realizável a Longo Prazo         104.944             90.941  \n14      Créditos com Partes Relacionadas          12.773              9.730  \n15              Créditos com Controladas          12.773              9.730  \n16         Outros Ativos Não Circulantes          92.171             81.211  \n17                  Tributos a recuperar          90.374             80.006  \n18  Instrumentos financeiros derivativos             893                  0  \n19               Outras contas a receber             904              1.205  \n20                         Investimentos           6.505              5.934  \n21                           Imobilizado         786.627            619.172  \n22                            Intangível           2.268              1.288  ",
            "text/html": "<div>\n<style scoped>\n    .dataframe tbody tr th:only-of-type {\n        vertical-align: middle;\n    }\n\n    .dataframe tbody tr th {\n        vertical-align: top;\n    }\n\n    .dataframe thead th {\n        text-align: right;\n    }\n</style>\n<table border=\"1\" class=\"dataframe\">\n  <thead>\n    <tr style=\"text-align: right;\">\n      <th></th>\n      <th>Código da Conta</th>\n      <th>Descrição da Conta 1</th>\n      <th>Descrição da Conta 2</th>\n      <th>Descrição da Conta</th>\n      <th>Trimestre Atual</th>\n      <th>Exercício Anterior</th>\n    </tr>\n  </thead>\n  <tbody>\n    <tr>\n      <th>1</th>\n      <td>1.01</td>\n      <td>Ativo Total</td>\n      <td>None</td>\n      <td>Ativo Circulante</td>\n      <td>1.875.214</td>\n      <td>1.651.950</td>\n    </tr>\n    <tr>\n      <th>2</th>\n      <td>1.01.01</td>\n      <td>Ativo Total</td>\n      <td>None</td>\n      <td>Caixa e Equivalentes de Caixa</td>\n      <td>815.476</td>\n      <td>683.412</td>\n    </tr>\n    <tr>\n      <th>3</th>\n      <td>1.01.03</td>\n      <td>Ativo Total</td>\n      <td>None</td>\n      <td>Contas a Receber</td>\n      <td>258.104</td>\n      <td>206.005</td>\n    </tr>\n    <tr>\n      <th>4</th>\n      <td>1.01.03.01</td>\n      <td>Ativo Total</td>\n      <td>None</td>\n      <td>Clientes</td>\n      <td>258.104</td>\n      <td>206.005</td>\n    </tr>\n    <tr>\n      <th>5</th>\n      <td>1.01.04</td>\n      <td>Ativo Total</td>\n      <td>None</td>\n      <td>Estoques</td>\n      <td>629.601</td>\n      <td>617.289</td>\n    </tr>\n    <tr>\n      <th>6</th>\n      <td>1.01.06</td>\n      <td>Ativo Total</td>\n      <td>None</td>\n      <td>Tributos a Recuperar</td>\n      <td>92.690</td>\n      <td>80.862</td>\n    </tr>\n    <tr>\n      <th>7</th>\n      <td>1.01.08</td>\n      <td>Ativo Total</td>\n      <td>None</td>\n      <td>Outros Ativos Circulantes</td>\n      <td>79.343</td>\n      <td>64.382</td>\n    </tr>\n    <tr>\n      <th>8</th>\n      <td>1.01.08.03</td>\n      <td>Ativo Total</td>\n      <td>None</td>\n      <td>Outros</td>\n      <td>79.343</td>\n      <td>64.382</td>\n    </tr>\n    <tr>\n      <th>9</th>\n      <td>1.01.08.03.01</td>\n      <td>Ativo Total</td>\n      <td>None</td>\n      <td>Ativos financeiros</td>\n      <td>12.153</td>\n      <td>16.059</td>\n    </tr>\n    <tr>\n      <th>10</th>\n      <td>1.01.08.03.03</td>\n      <td>Ativo Total</td>\n      <td>None</td>\n      <td>Outras contas</td>\n      <td>53.490</td>\n      <td>39.511</td>\n    </tr>\n    <tr>\n      <th>11</th>\n      <td>1.01.08.03.04</td>\n      <td>Ativo Total</td>\n      <td>None</td>\n      <td>Instrumentos financeiros derivativos</td>\n      <td>13.700</td>\n      <td>8.812</td>\n    </tr>\n    <tr>\n      <th>12</th>\n      <td>1.02</td>\n      <td>Ativo Total</td>\n      <td>None</td>\n      <td>Ativo Não Circulante</td>\n      <td>900.344</td>\n      <td>717.335</td>\n    </tr>\n    <tr>\n      <th>13</th>\n      <td>1.02.01</td>\n      <td>Ativo Total</td>\n      <td>None</td>\n      <td>Ativo Realizável a Longo Prazo</td>\n      <td>104.944</td>\n      <td>90.941</td>\n    </tr>\n    <tr>\n      <th>14</th>\n      <td>1.02.01.09</td>\n      <td>Ativo Total</td>\n      <td>None</td>\n      <td>Créditos com Partes Relacionadas</td>\n      <td>12.773</td>\n      <td>9.730</td>\n    </tr>\n    <tr>\n      <th>15</th>\n      <td>1.02.01.09.02</td>\n      <td>Ativo Total</td>\n      <td>None</td>\n      <td>Créditos com Controladas</td>\n      <td>12.773</td>\n      <td>9.730</td>\n    </tr>\n    <tr>\n      <th>16</th>\n      <td>1.02.01.10</td>\n      <td>Ativo Total</td>\n      <td>None</td>\n      <td>Outros Ativos Não Circulantes</td>\n      <td>92.171</td>\n      <td>81.211</td>\n    </tr>\n    <tr>\n      <th>17</th>\n      <td>1.02.01.10.03</td>\n      <td>Ativo Total</td>\n      <td>None</td>\n      <td>Tributos a recuperar</td>\n      <td>90.374</td>\n      <td>80.006</td>\n    </tr>\n    <tr>\n      <th>18</th>\n      <td>1.02.01.10.04</td>\n      <td>Ativo Total</td>\n      <td>None</td>\n      <td>Instrumentos financeiros derivativos</td>\n      <td>893</td>\n      <td>0</td>\n    </tr>\n    <tr>\n      <th>19</th>\n      <td>1.02.01.10.05</td>\n      <td>Ativo Total</td>\n      <td>None</td>\n      <td>Outras contas a receber</td>\n      <td>904</td>\n      <td>1.205</td>\n    </tr>\n    <tr>\n      <th>20</th>\n      <td>1.02.02</td>\n      <td>Ativo Total</td>\n      <td>None</td>\n      <td>Investimentos</td>\n      <td>6.505</td>\n      <td>5.934</td>\n    </tr>\n    <tr>\n      <th>21</th>\n      <td>1.02.03</td>\n      <td>Ativo Total</td>\n      <td>None</td>\n      <td>Imobilizado</td>\n      <td>786.627</td>\n      <td>619.172</td>\n    </tr>\n    <tr>\n      <th>22</th>\n      <td>1.02.04</td>\n      <td>Ativo Total</td>\n      <td>None</td>\n      <td>Intangível</td>\n      <td>2.268</td>\n      <td>1.288</td>\n    </tr>\n  </tbody>\n</table>\n</div>"
          },
          "metadata": {}
        }
      ],
      "execution_count": 115,
      "metadata": {
        "colab": {
          "base_uri": "https://localhost:8080/",
          "height": 731
        },
        "executionInfo": {
          "elapsed": 223,
          "status": "ok",
          "timestamp": 1638788877233,
          "user": {
            "displayName": "Francesco Ghizzo",
            "photoUrl": "https://lh3.googleusercontent.com/a/default-user=s64",
            "userId": "12232356605573294838"
          },
          "user_tz": -60
        },
        "id": "KPJnbgc3adAs",
        "outputId": "4ee94aef-7e5a-45e6-bf8d-502bbe5ea9e6",
        "gather": {
          "logged": 1649866375521
        }
      }
    },
    {
      "cell_type": "code",
      "source": [
        "CD_CONTA_2 = df['Código da Conta'].apply(lambda string: string[:4])\n",
        "CD_CONTA_2"
      ],
      "outputs": [
        {
          "output_type": "execute_result",
          "execution_count": 116,
          "data": {
            "text/plain": "1     1.01\n2     1.01\n3     1.01\n4     1.01\n5     1.01\n6     1.01\n7     1.01\n8     1.01\n9     1.01\n10    1.01\n11    1.01\n12    1.02\n13    1.02\n14    1.02\n15    1.02\n16    1.02\n17    1.02\n18    1.02\n19    1.02\n20    1.02\n21    1.02\n22    1.02\nName: Código da Conta, dtype: object"
          },
          "metadata": {}
        }
      ],
      "execution_count": 116,
      "metadata": {
        "colab": {
          "base_uri": "https://localhost:8080/"
        },
        "executionInfo": {
          "elapsed": 253,
          "status": "ok",
          "timestamp": 1638788869110,
          "user": {
            "displayName": "Francesco Ghizzo",
            "photoUrl": "https://lh3.googleusercontent.com/a/default-user=s64",
            "userId": "12232356605573294838"
          },
          "user_tz": -60
        },
        "id": "8HJTFGKYZ99k",
        "outputId": "0cf73b5d-df47-46b3-e0a4-69a62200dc5b",
        "gather": {
          "logged": 1649866376186
        }
      }
    },
    {
      "cell_type": "code",
      "source": [
        "DS_CONTA_2 = pd.merge(CD_CONTA_2, df[['Código da Conta', 'Descrição da Conta']], how='left')\n",
        "DS_CONTA_2"
      ],
      "outputs": [
        {
          "output_type": "execute_result",
          "execution_count": 117,
          "data": {
            "text/plain": "   Código da Conta    Descrição da Conta\n0             1.01      Ativo Circulante\n1             1.01      Ativo Circulante\n2             1.01      Ativo Circulante\n3             1.01      Ativo Circulante\n4             1.01      Ativo Circulante\n5             1.01      Ativo Circulante\n6             1.01      Ativo Circulante\n7             1.01      Ativo Circulante\n8             1.01      Ativo Circulante\n9             1.01      Ativo Circulante\n10            1.01      Ativo Circulante\n11            1.02  Ativo Não Circulante\n12            1.02  Ativo Não Circulante\n13            1.02  Ativo Não Circulante\n14            1.02  Ativo Não Circulante\n15            1.02  Ativo Não Circulante\n16            1.02  Ativo Não Circulante\n17            1.02  Ativo Não Circulante\n18            1.02  Ativo Não Circulante\n19            1.02  Ativo Não Circulante\n20            1.02  Ativo Não Circulante\n21            1.02  Ativo Não Circulante",
            "text/html": "<div>\n<style scoped>\n    .dataframe tbody tr th:only-of-type {\n        vertical-align: middle;\n    }\n\n    .dataframe tbody tr th {\n        vertical-align: top;\n    }\n\n    .dataframe thead th {\n        text-align: right;\n    }\n</style>\n<table border=\"1\" class=\"dataframe\">\n  <thead>\n    <tr style=\"text-align: right;\">\n      <th></th>\n      <th>Código da Conta</th>\n      <th>Descrição da Conta</th>\n    </tr>\n  </thead>\n  <tbody>\n    <tr>\n      <th>0</th>\n      <td>1.01</td>\n      <td>Ativo Circulante</td>\n    </tr>\n    <tr>\n      <th>1</th>\n      <td>1.01</td>\n      <td>Ativo Circulante</td>\n    </tr>\n    <tr>\n      <th>2</th>\n      <td>1.01</td>\n      <td>Ativo Circulante</td>\n    </tr>\n    <tr>\n      <th>3</th>\n      <td>1.01</td>\n      <td>Ativo Circulante</td>\n    </tr>\n    <tr>\n      <th>4</th>\n      <td>1.01</td>\n      <td>Ativo Circulante</td>\n    </tr>\n    <tr>\n      <th>5</th>\n      <td>1.01</td>\n      <td>Ativo Circulante</td>\n    </tr>\n    <tr>\n      <th>6</th>\n      <td>1.01</td>\n      <td>Ativo Circulante</td>\n    </tr>\n    <tr>\n      <th>7</th>\n      <td>1.01</td>\n      <td>Ativo Circulante</td>\n    </tr>\n    <tr>\n      <th>8</th>\n      <td>1.01</td>\n      <td>Ativo Circulante</td>\n    </tr>\n    <tr>\n      <th>9</th>\n      <td>1.01</td>\n      <td>Ativo Circulante</td>\n    </tr>\n    <tr>\n      <th>10</th>\n      <td>1.01</td>\n      <td>Ativo Circulante</td>\n    </tr>\n    <tr>\n      <th>11</th>\n      <td>1.02</td>\n      <td>Ativo Não Circulante</td>\n    </tr>\n    <tr>\n      <th>12</th>\n      <td>1.02</td>\n      <td>Ativo Não Circulante</td>\n    </tr>\n    <tr>\n      <th>13</th>\n      <td>1.02</td>\n      <td>Ativo Não Circulante</td>\n    </tr>\n    <tr>\n      <th>14</th>\n      <td>1.02</td>\n      <td>Ativo Não Circulante</td>\n    </tr>\n    <tr>\n      <th>15</th>\n      <td>1.02</td>\n      <td>Ativo Não Circulante</td>\n    </tr>\n    <tr>\n      <th>16</th>\n      <td>1.02</td>\n      <td>Ativo Não Circulante</td>\n    </tr>\n    <tr>\n      <th>17</th>\n      <td>1.02</td>\n      <td>Ativo Não Circulante</td>\n    </tr>\n    <tr>\n      <th>18</th>\n      <td>1.02</td>\n      <td>Ativo Não Circulante</td>\n    </tr>\n    <tr>\n      <th>19</th>\n      <td>1.02</td>\n      <td>Ativo Não Circulante</td>\n    </tr>\n    <tr>\n      <th>20</th>\n      <td>1.02</td>\n      <td>Ativo Não Circulante</td>\n    </tr>\n    <tr>\n      <th>21</th>\n      <td>1.02</td>\n      <td>Ativo Não Circulante</td>\n    </tr>\n  </tbody>\n</table>\n</div>"
          },
          "metadata": {}
        }
      ],
      "execution_count": 117,
      "metadata": {
        "colab": {
          "base_uri": "https://localhost:8080/",
          "height": 731
        },
        "executionInfo": {
          "elapsed": 550,
          "status": "ok",
          "timestamp": 1638788860947,
          "user": {
            "displayName": "Francesco Ghizzo",
            "photoUrl": "https://lh3.googleusercontent.com/a/default-user=s64",
            "userId": "12232356605573294838"
          },
          "user_tz": -60
        },
        "id": "OTkezBsEaiXx",
        "outputId": "2dbd6b9d-4c11-4bee-d282-f51cb2ec4c98",
        "gather": {
          "logged": 1649866376852
        }
      }
    },
    {
      "cell_type": "code",
      "source": [
        "df['Descrição da Conta 2'] = DS_CONTA_2['Descrição da Conta']\n",
        "df"
      ],
      "outputs": [
        {
          "output_type": "execute_result",
          "execution_count": 118,
          "data": {
            "text/plain": "   Código da Conta Descrição da Conta 1  Descrição da Conta 2  \\\n1             1.01          Ativo Total      Ativo Circulante   \n2          1.01.01          Ativo Total      Ativo Circulante   \n3          1.01.03          Ativo Total      Ativo Circulante   \n4       1.01.03.01          Ativo Total      Ativo Circulante   \n5          1.01.04          Ativo Total      Ativo Circulante   \n6          1.01.06          Ativo Total      Ativo Circulante   \n7          1.01.08          Ativo Total      Ativo Circulante   \n8       1.01.08.03          Ativo Total      Ativo Circulante   \n9    1.01.08.03.01          Ativo Total      Ativo Circulante   \n10   1.01.08.03.03          Ativo Total      Ativo Circulante   \n11   1.01.08.03.04          Ativo Total  Ativo Não Circulante   \n12            1.02          Ativo Total  Ativo Não Circulante   \n13         1.02.01          Ativo Total  Ativo Não Circulante   \n14      1.02.01.09          Ativo Total  Ativo Não Circulante   \n15   1.02.01.09.02          Ativo Total  Ativo Não Circulante   \n16      1.02.01.10          Ativo Total  Ativo Não Circulante   \n17   1.02.01.10.03          Ativo Total  Ativo Não Circulante   \n18   1.02.01.10.04          Ativo Total  Ativo Não Circulante   \n19   1.02.01.10.05          Ativo Total  Ativo Não Circulante   \n20         1.02.02          Ativo Total  Ativo Não Circulante   \n21         1.02.03          Ativo Total  Ativo Não Circulante   \n22         1.02.04          Ativo Total                   NaN   \n\n                      Descrição da Conta Trimestre Atual Exercício Anterior  \n1                       Ativo Circulante       1.875.214          1.651.950  \n2          Caixa e Equivalentes de Caixa         815.476            683.412  \n3                       Contas a Receber         258.104            206.005  \n4                               Clientes         258.104            206.005  \n5                               Estoques         629.601            617.289  \n6                   Tributos a Recuperar          92.690             80.862  \n7              Outros Ativos Circulantes          79.343             64.382  \n8                                 Outros          79.343             64.382  \n9                     Ativos financeiros          12.153             16.059  \n10                         Outras contas          53.490             39.511  \n11  Instrumentos financeiros derivativos          13.700              8.812  \n12                  Ativo Não Circulante         900.344            717.335  \n13        Ativo Realizável a Longo Prazo         104.944             90.941  \n14      Créditos com Partes Relacionadas          12.773              9.730  \n15              Créditos com Controladas          12.773              9.730  \n16         Outros Ativos Não Circulantes          92.171             81.211  \n17                  Tributos a recuperar          90.374             80.006  \n18  Instrumentos financeiros derivativos             893                  0  \n19               Outras contas a receber             904              1.205  \n20                         Investimentos           6.505              5.934  \n21                           Imobilizado         786.627            619.172  \n22                            Intangível           2.268              1.288  ",
            "text/html": "<div>\n<style scoped>\n    .dataframe tbody tr th:only-of-type {\n        vertical-align: middle;\n    }\n\n    .dataframe tbody tr th {\n        vertical-align: top;\n    }\n\n    .dataframe thead th {\n        text-align: right;\n    }\n</style>\n<table border=\"1\" class=\"dataframe\">\n  <thead>\n    <tr style=\"text-align: right;\">\n      <th></th>\n      <th>Código da Conta</th>\n      <th>Descrição da Conta 1</th>\n      <th>Descrição da Conta 2</th>\n      <th>Descrição da Conta</th>\n      <th>Trimestre Atual</th>\n      <th>Exercício Anterior</th>\n    </tr>\n  </thead>\n  <tbody>\n    <tr>\n      <th>1</th>\n      <td>1.01</td>\n      <td>Ativo Total</td>\n      <td>Ativo Circulante</td>\n      <td>Ativo Circulante</td>\n      <td>1.875.214</td>\n      <td>1.651.950</td>\n    </tr>\n    <tr>\n      <th>2</th>\n      <td>1.01.01</td>\n      <td>Ativo Total</td>\n      <td>Ativo Circulante</td>\n      <td>Caixa e Equivalentes de Caixa</td>\n      <td>815.476</td>\n      <td>683.412</td>\n    </tr>\n    <tr>\n      <th>3</th>\n      <td>1.01.03</td>\n      <td>Ativo Total</td>\n      <td>Ativo Circulante</td>\n      <td>Contas a Receber</td>\n      <td>258.104</td>\n      <td>206.005</td>\n    </tr>\n    <tr>\n      <th>4</th>\n      <td>1.01.03.01</td>\n      <td>Ativo Total</td>\n      <td>Ativo Circulante</td>\n      <td>Clientes</td>\n      <td>258.104</td>\n      <td>206.005</td>\n    </tr>\n    <tr>\n      <th>5</th>\n      <td>1.01.04</td>\n      <td>Ativo Total</td>\n      <td>Ativo Circulante</td>\n      <td>Estoques</td>\n      <td>629.601</td>\n      <td>617.289</td>\n    </tr>\n    <tr>\n      <th>6</th>\n      <td>1.01.06</td>\n      <td>Ativo Total</td>\n      <td>Ativo Circulante</td>\n      <td>Tributos a Recuperar</td>\n      <td>92.690</td>\n      <td>80.862</td>\n    </tr>\n    <tr>\n      <th>7</th>\n      <td>1.01.08</td>\n      <td>Ativo Total</td>\n      <td>Ativo Circulante</td>\n      <td>Outros Ativos Circulantes</td>\n      <td>79.343</td>\n      <td>64.382</td>\n    </tr>\n    <tr>\n      <th>8</th>\n      <td>1.01.08.03</td>\n      <td>Ativo Total</td>\n      <td>Ativo Circulante</td>\n      <td>Outros</td>\n      <td>79.343</td>\n      <td>64.382</td>\n    </tr>\n    <tr>\n      <th>9</th>\n      <td>1.01.08.03.01</td>\n      <td>Ativo Total</td>\n      <td>Ativo Circulante</td>\n      <td>Ativos financeiros</td>\n      <td>12.153</td>\n      <td>16.059</td>\n    </tr>\n    <tr>\n      <th>10</th>\n      <td>1.01.08.03.03</td>\n      <td>Ativo Total</td>\n      <td>Ativo Circulante</td>\n      <td>Outras contas</td>\n      <td>53.490</td>\n      <td>39.511</td>\n    </tr>\n    <tr>\n      <th>11</th>\n      <td>1.01.08.03.04</td>\n      <td>Ativo Total</td>\n      <td>Ativo Não Circulante</td>\n      <td>Instrumentos financeiros derivativos</td>\n      <td>13.700</td>\n      <td>8.812</td>\n    </tr>\n    <tr>\n      <th>12</th>\n      <td>1.02</td>\n      <td>Ativo Total</td>\n      <td>Ativo Não Circulante</td>\n      <td>Ativo Não Circulante</td>\n      <td>900.344</td>\n      <td>717.335</td>\n    </tr>\n    <tr>\n      <th>13</th>\n      <td>1.02.01</td>\n      <td>Ativo Total</td>\n      <td>Ativo Não Circulante</td>\n      <td>Ativo Realizável a Longo Prazo</td>\n      <td>104.944</td>\n      <td>90.941</td>\n    </tr>\n    <tr>\n      <th>14</th>\n      <td>1.02.01.09</td>\n      <td>Ativo Total</td>\n      <td>Ativo Não Circulante</td>\n      <td>Créditos com Partes Relacionadas</td>\n      <td>12.773</td>\n      <td>9.730</td>\n    </tr>\n    <tr>\n      <th>15</th>\n      <td>1.02.01.09.02</td>\n      <td>Ativo Total</td>\n      <td>Ativo Não Circulante</td>\n      <td>Créditos com Controladas</td>\n      <td>12.773</td>\n      <td>9.730</td>\n    </tr>\n    <tr>\n      <th>16</th>\n      <td>1.02.01.10</td>\n      <td>Ativo Total</td>\n      <td>Ativo Não Circulante</td>\n      <td>Outros Ativos Não Circulantes</td>\n      <td>92.171</td>\n      <td>81.211</td>\n    </tr>\n    <tr>\n      <th>17</th>\n      <td>1.02.01.10.03</td>\n      <td>Ativo Total</td>\n      <td>Ativo Não Circulante</td>\n      <td>Tributos a recuperar</td>\n      <td>90.374</td>\n      <td>80.006</td>\n    </tr>\n    <tr>\n      <th>18</th>\n      <td>1.02.01.10.04</td>\n      <td>Ativo Total</td>\n      <td>Ativo Não Circulante</td>\n      <td>Instrumentos financeiros derivativos</td>\n      <td>893</td>\n      <td>0</td>\n    </tr>\n    <tr>\n      <th>19</th>\n      <td>1.02.01.10.05</td>\n      <td>Ativo Total</td>\n      <td>Ativo Não Circulante</td>\n      <td>Outras contas a receber</td>\n      <td>904</td>\n      <td>1.205</td>\n    </tr>\n    <tr>\n      <th>20</th>\n      <td>1.02.02</td>\n      <td>Ativo Total</td>\n      <td>Ativo Não Circulante</td>\n      <td>Investimentos</td>\n      <td>6.505</td>\n      <td>5.934</td>\n    </tr>\n    <tr>\n      <th>21</th>\n      <td>1.02.03</td>\n      <td>Ativo Total</td>\n      <td>Ativo Não Circulante</td>\n      <td>Imobilizado</td>\n      <td>786.627</td>\n      <td>619.172</td>\n    </tr>\n    <tr>\n      <th>22</th>\n      <td>1.02.04</td>\n      <td>Ativo Total</td>\n      <td>NaN</td>\n      <td>Intangível</td>\n      <td>2.268</td>\n      <td>1.288</td>\n    </tr>\n  </tbody>\n</table>\n</div>"
          },
          "metadata": {}
        }
      ],
      "execution_count": 118,
      "metadata": {
        "colab": {
          "base_uri": "https://localhost:8080/",
          "height": 731
        },
        "executionInfo": {
          "elapsed": 268,
          "status": "ok",
          "timestamp": 1638788851671,
          "user": {
            "displayName": "Francesco Ghizzo",
            "photoUrl": "https://lh3.googleusercontent.com/a/default-user=s64",
            "userId": "12232356605573294838"
          },
          "user_tz": -60
        },
        "id": "KnN39BdIa5Cf",
        "outputId": "c050ab55-2a51-4a25-cf9d-ecd71cf14f77",
        "gather": {
          "logged": 1649866377866
        }
      }
    },
    {
      "cell_type": "code",
      "source": [
        "len_key = [len(key) for key in df['Código da Conta']]   # len_key = length of key"
      ],
      "outputs": [],
      "execution_count": 119,
      "metadata": {
        "gather": {
          "logged": 1649866378041
        }
      }
    },
    {
      "cell_type": "code",
      "source": [
        "min_len = np.array(len_key).min()  # min_len = minimum length"
      ],
      "outputs": [],
      "execution_count": 120,
      "metadata": {
        "gather": {
          "logged": 1649866378533
        }
      }
    },
    {
      "cell_type": "code",
      "source": [
        "ind_min_len = np.where(len_key==min_len)  # ind_min_len = index of key 'Código da Conta' with minimum length"
      ],
      "outputs": [],
      "execution_count": 121,
      "metadata": {
        "gather": {
          "logged": 1649866379370
        }
      }
    },
    {
      "cell_type": "code",
      "source": [
        "df.iloc[ind_min_len]"
      ],
      "outputs": [
        {
          "output_type": "execute_result",
          "execution_count": 122,
          "data": {
            "text/plain": "   Código da Conta Descrição da Conta 1  Descrição da Conta 2  \\\n1             1.01          Ativo Total      Ativo Circulante   \n12            1.02          Ativo Total  Ativo Não Circulante   \n\n      Descrição da Conta Trimestre Atual Exercício Anterior  \n1       Ativo Circulante       1.875.214          1.651.950  \n12  Ativo Não Circulante         900.344            717.335  ",
            "text/html": "<div>\n<style scoped>\n    .dataframe tbody tr th:only-of-type {\n        vertical-align: middle;\n    }\n\n    .dataframe tbody tr th {\n        vertical-align: top;\n    }\n\n    .dataframe thead th {\n        text-align: right;\n    }\n</style>\n<table border=\"1\" class=\"dataframe\">\n  <thead>\n    <tr style=\"text-align: right;\">\n      <th></th>\n      <th>Código da Conta</th>\n      <th>Descrição da Conta 1</th>\n      <th>Descrição da Conta 2</th>\n      <th>Descrição da Conta</th>\n      <th>Trimestre Atual</th>\n      <th>Exercício Anterior</th>\n    </tr>\n  </thead>\n  <tbody>\n    <tr>\n      <th>1</th>\n      <td>1.01</td>\n      <td>Ativo Total</td>\n      <td>Ativo Circulante</td>\n      <td>Ativo Circulante</td>\n      <td>1.875.214</td>\n      <td>1.651.950</td>\n    </tr>\n    <tr>\n      <th>12</th>\n      <td>1.02</td>\n      <td>Ativo Total</td>\n      <td>Ativo Não Circulante</td>\n      <td>Ativo Não Circulante</td>\n      <td>900.344</td>\n      <td>717.335</td>\n    </tr>\n  </tbody>\n</table>\n</div>"
          },
          "metadata": {}
        }
      ],
      "execution_count": 122,
      "metadata": {
        "gather": {
          "logged": 1649866380040
        }
      }
    },
    {
      "cell_type": "code",
      "source": [
        "df = df.drop(df.index[ind_min_len])"
      ],
      "outputs": [],
      "execution_count": 123,
      "metadata": {
        "colab": {
          "base_uri": "https://localhost:8080/",
          "height": 731
        },
        "executionInfo": {
          "elapsed": 222,
          "status": "ok",
          "timestamp": 1638788364988,
          "user": {
            "displayName": "Francesco Ghizzo",
            "photoUrl": "https://lh3.googleusercontent.com/a/default-user=s64",
            "userId": "12232356605573294838"
          },
          "user_tz": -60
        },
        "id": "uXebznNDZerw",
        "outputId": "cd1f7595-601d-4448-87db-ebfdfa8b5d39",
        "gather": {
          "logged": 1649866380207
        }
      }
    },
    {
      "cell_type": "code",
      "source": [
        "df.insert(3, 'Descrição da Conta 3', None)\n",
        "df"
      ],
      "outputs": [
        {
          "output_type": "execute_result",
          "execution_count": 124,
          "data": {
            "text/plain": "   Código da Conta Descrição da Conta 1  Descrição da Conta 2  \\\n2          1.01.01          Ativo Total      Ativo Circulante   \n3          1.01.03          Ativo Total      Ativo Circulante   \n4       1.01.03.01          Ativo Total      Ativo Circulante   \n5          1.01.04          Ativo Total      Ativo Circulante   \n6          1.01.06          Ativo Total      Ativo Circulante   \n7          1.01.08          Ativo Total      Ativo Circulante   \n8       1.01.08.03          Ativo Total      Ativo Circulante   \n9    1.01.08.03.01          Ativo Total      Ativo Circulante   \n10   1.01.08.03.03          Ativo Total      Ativo Circulante   \n11   1.01.08.03.04          Ativo Total  Ativo Não Circulante   \n13         1.02.01          Ativo Total  Ativo Não Circulante   \n14      1.02.01.09          Ativo Total  Ativo Não Circulante   \n15   1.02.01.09.02          Ativo Total  Ativo Não Circulante   \n16      1.02.01.10          Ativo Total  Ativo Não Circulante   \n17   1.02.01.10.03          Ativo Total  Ativo Não Circulante   \n18   1.02.01.10.04          Ativo Total  Ativo Não Circulante   \n19   1.02.01.10.05          Ativo Total  Ativo Não Circulante   \n20         1.02.02          Ativo Total  Ativo Não Circulante   \n21         1.02.03          Ativo Total  Ativo Não Circulante   \n22         1.02.04          Ativo Total                   NaN   \n\n   Descrição da Conta 3                    Descrição da Conta Trimestre Atual  \\\n2                  None         Caixa e Equivalentes de Caixa         815.476   \n3                  None                      Contas a Receber         258.104   \n4                  None                              Clientes         258.104   \n5                  None                              Estoques         629.601   \n6                  None                  Tributos a Recuperar          92.690   \n7                  None             Outros Ativos Circulantes          79.343   \n8                  None                                Outros          79.343   \n9                  None                    Ativos financeiros          12.153   \n10                 None                         Outras contas          53.490   \n11                 None  Instrumentos financeiros derivativos          13.700   \n13                 None        Ativo Realizável a Longo Prazo         104.944   \n14                 None      Créditos com Partes Relacionadas          12.773   \n15                 None              Créditos com Controladas          12.773   \n16                 None         Outros Ativos Não Circulantes          92.171   \n17                 None                  Tributos a recuperar          90.374   \n18                 None  Instrumentos financeiros derivativos             893   \n19                 None               Outras contas a receber             904   \n20                 None                         Investimentos           6.505   \n21                 None                           Imobilizado         786.627   \n22                 None                            Intangível           2.268   \n\n   Exercício Anterior  \n2             683.412  \n3             206.005  \n4             206.005  \n5             617.289  \n6              80.862  \n7              64.382  \n8              64.382  \n9              16.059  \n10             39.511  \n11              8.812  \n13             90.941  \n14              9.730  \n15              9.730  \n16             81.211  \n17             80.006  \n18                  0  \n19              1.205  \n20              5.934  \n21            619.172  \n22              1.288  ",
            "text/html": "<div>\n<style scoped>\n    .dataframe tbody tr th:only-of-type {\n        vertical-align: middle;\n    }\n\n    .dataframe tbody tr th {\n        vertical-align: top;\n    }\n\n    .dataframe thead th {\n        text-align: right;\n    }\n</style>\n<table border=\"1\" class=\"dataframe\">\n  <thead>\n    <tr style=\"text-align: right;\">\n      <th></th>\n      <th>Código da Conta</th>\n      <th>Descrição da Conta 1</th>\n      <th>Descrição da Conta 2</th>\n      <th>Descrição da Conta 3</th>\n      <th>Descrição da Conta</th>\n      <th>Trimestre Atual</th>\n      <th>Exercício Anterior</th>\n    </tr>\n  </thead>\n  <tbody>\n    <tr>\n      <th>2</th>\n      <td>1.01.01</td>\n      <td>Ativo Total</td>\n      <td>Ativo Circulante</td>\n      <td>None</td>\n      <td>Caixa e Equivalentes de Caixa</td>\n      <td>815.476</td>\n      <td>683.412</td>\n    </tr>\n    <tr>\n      <th>3</th>\n      <td>1.01.03</td>\n      <td>Ativo Total</td>\n      <td>Ativo Circulante</td>\n      <td>None</td>\n      <td>Contas a Receber</td>\n      <td>258.104</td>\n      <td>206.005</td>\n    </tr>\n    <tr>\n      <th>4</th>\n      <td>1.01.03.01</td>\n      <td>Ativo Total</td>\n      <td>Ativo Circulante</td>\n      <td>None</td>\n      <td>Clientes</td>\n      <td>258.104</td>\n      <td>206.005</td>\n    </tr>\n    <tr>\n      <th>5</th>\n      <td>1.01.04</td>\n      <td>Ativo Total</td>\n      <td>Ativo Circulante</td>\n      <td>None</td>\n      <td>Estoques</td>\n      <td>629.601</td>\n      <td>617.289</td>\n    </tr>\n    <tr>\n      <th>6</th>\n      <td>1.01.06</td>\n      <td>Ativo Total</td>\n      <td>Ativo Circulante</td>\n      <td>None</td>\n      <td>Tributos a Recuperar</td>\n      <td>92.690</td>\n      <td>80.862</td>\n    </tr>\n    <tr>\n      <th>7</th>\n      <td>1.01.08</td>\n      <td>Ativo Total</td>\n      <td>Ativo Circulante</td>\n      <td>None</td>\n      <td>Outros Ativos Circulantes</td>\n      <td>79.343</td>\n      <td>64.382</td>\n    </tr>\n    <tr>\n      <th>8</th>\n      <td>1.01.08.03</td>\n      <td>Ativo Total</td>\n      <td>Ativo Circulante</td>\n      <td>None</td>\n      <td>Outros</td>\n      <td>79.343</td>\n      <td>64.382</td>\n    </tr>\n    <tr>\n      <th>9</th>\n      <td>1.01.08.03.01</td>\n      <td>Ativo Total</td>\n      <td>Ativo Circulante</td>\n      <td>None</td>\n      <td>Ativos financeiros</td>\n      <td>12.153</td>\n      <td>16.059</td>\n    </tr>\n    <tr>\n      <th>10</th>\n      <td>1.01.08.03.03</td>\n      <td>Ativo Total</td>\n      <td>Ativo Circulante</td>\n      <td>None</td>\n      <td>Outras contas</td>\n      <td>53.490</td>\n      <td>39.511</td>\n    </tr>\n    <tr>\n      <th>11</th>\n      <td>1.01.08.03.04</td>\n      <td>Ativo Total</td>\n      <td>Ativo Não Circulante</td>\n      <td>None</td>\n      <td>Instrumentos financeiros derivativos</td>\n      <td>13.700</td>\n      <td>8.812</td>\n    </tr>\n    <tr>\n      <th>13</th>\n      <td>1.02.01</td>\n      <td>Ativo Total</td>\n      <td>Ativo Não Circulante</td>\n      <td>None</td>\n      <td>Ativo Realizável a Longo Prazo</td>\n      <td>104.944</td>\n      <td>90.941</td>\n    </tr>\n    <tr>\n      <th>14</th>\n      <td>1.02.01.09</td>\n      <td>Ativo Total</td>\n      <td>Ativo Não Circulante</td>\n      <td>None</td>\n      <td>Créditos com Partes Relacionadas</td>\n      <td>12.773</td>\n      <td>9.730</td>\n    </tr>\n    <tr>\n      <th>15</th>\n      <td>1.02.01.09.02</td>\n      <td>Ativo Total</td>\n      <td>Ativo Não Circulante</td>\n      <td>None</td>\n      <td>Créditos com Controladas</td>\n      <td>12.773</td>\n      <td>9.730</td>\n    </tr>\n    <tr>\n      <th>16</th>\n      <td>1.02.01.10</td>\n      <td>Ativo Total</td>\n      <td>Ativo Não Circulante</td>\n      <td>None</td>\n      <td>Outros Ativos Não Circulantes</td>\n      <td>92.171</td>\n      <td>81.211</td>\n    </tr>\n    <tr>\n      <th>17</th>\n      <td>1.02.01.10.03</td>\n      <td>Ativo Total</td>\n      <td>Ativo Não Circulante</td>\n      <td>None</td>\n      <td>Tributos a recuperar</td>\n      <td>90.374</td>\n      <td>80.006</td>\n    </tr>\n    <tr>\n      <th>18</th>\n      <td>1.02.01.10.04</td>\n      <td>Ativo Total</td>\n      <td>Ativo Não Circulante</td>\n      <td>None</td>\n      <td>Instrumentos financeiros derivativos</td>\n      <td>893</td>\n      <td>0</td>\n    </tr>\n    <tr>\n      <th>19</th>\n      <td>1.02.01.10.05</td>\n      <td>Ativo Total</td>\n      <td>Ativo Não Circulante</td>\n      <td>None</td>\n      <td>Outras contas a receber</td>\n      <td>904</td>\n      <td>1.205</td>\n    </tr>\n    <tr>\n      <th>20</th>\n      <td>1.02.02</td>\n      <td>Ativo Total</td>\n      <td>Ativo Não Circulante</td>\n      <td>None</td>\n      <td>Investimentos</td>\n      <td>6.505</td>\n      <td>5.934</td>\n    </tr>\n    <tr>\n      <th>21</th>\n      <td>1.02.03</td>\n      <td>Ativo Total</td>\n      <td>Ativo Não Circulante</td>\n      <td>None</td>\n      <td>Imobilizado</td>\n      <td>786.627</td>\n      <td>619.172</td>\n    </tr>\n    <tr>\n      <th>22</th>\n      <td>1.02.04</td>\n      <td>Ativo Total</td>\n      <td>NaN</td>\n      <td>None</td>\n      <td>Intangível</td>\n      <td>2.268</td>\n      <td>1.288</td>\n    </tr>\n  </tbody>\n</table>\n</div>"
          },
          "metadata": {}
        }
      ],
      "execution_count": 124,
      "metadata": {
        "colab": {
          "base_uri": "https://localhost:8080/",
          "height": 669
        },
        "executionInfo": {
          "elapsed": 247,
          "status": "ok",
          "timestamp": 1638789036579,
          "user": {
            "displayName": "Francesco Ghizzo",
            "photoUrl": "https://lh3.googleusercontent.com/a/default-user=s64",
            "userId": "12232356605573294838"
          },
          "user_tz": -60
        },
        "id": "8fQZkEFncAR2",
        "outputId": "c20e54d2-36be-420a-efed-b3cd6681213b",
        "gather": {
          "logged": 1649866381061
        }
      }
    },
    {
      "cell_type": "code",
      "source": [
        "CD_CONTA_3 = df['Código da Conta'].apply(lambda string: string[:7])\n",
        "CD_CONTA_3"
      ],
      "outputs": [
        {
          "output_type": "execute_result",
          "execution_count": 125,
          "data": {
            "text/plain": "2     1.01.01\n3     1.01.03\n4     1.01.03\n5     1.01.04\n6     1.01.06\n7     1.01.08\n8     1.01.08\n9     1.01.08\n10    1.01.08\n11    1.01.08\n13    1.02.01\n14    1.02.01\n15    1.02.01\n16    1.02.01\n17    1.02.01\n18    1.02.01\n19    1.02.01\n20    1.02.02\n21    1.02.03\n22    1.02.04\nName: Código da Conta, dtype: object"
          },
          "metadata": {}
        }
      ],
      "execution_count": 125,
      "metadata": {
        "colab": {
          "base_uri": "https://localhost:8080/"
        },
        "executionInfo": {
          "elapsed": 240,
          "status": "ok",
          "timestamp": 1638789158940,
          "user": {
            "displayName": "Francesco Ghizzo",
            "photoUrl": "https://lh3.googleusercontent.com/a/default-user=s64",
            "userId": "12232356605573294838"
          },
          "user_tz": -60
        },
        "id": "hoiRYnM5cd7n",
        "outputId": "986c3256-d6e1-40bc-fbec-2b2bb9578e5f",
        "gather": {
          "logged": 1649866381617
        }
      }
    },
    {
      "cell_type": "code",
      "source": [
        "DS_CONTA_3 = pd.merge(CD_CONTA_3, df[['Código da Conta', 'Descrição da Conta']], how='left')\n",
        "DS_CONTA_3"
      ],
      "outputs": [
        {
          "output_type": "execute_result",
          "execution_count": 126,
          "data": {
            "text/plain": "   Código da Conta              Descrição da Conta\n0          1.01.01   Caixa e Equivalentes de Caixa\n1          1.01.03                Contas a Receber\n2          1.01.03                Contas a Receber\n3          1.01.04                        Estoques\n4          1.01.06            Tributos a Recuperar\n5          1.01.08       Outros Ativos Circulantes\n6          1.01.08       Outros Ativos Circulantes\n7          1.01.08       Outros Ativos Circulantes\n8          1.01.08       Outros Ativos Circulantes\n9          1.01.08       Outros Ativos Circulantes\n10         1.02.01  Ativo Realizável a Longo Prazo\n11         1.02.01  Ativo Realizável a Longo Prazo\n12         1.02.01  Ativo Realizável a Longo Prazo\n13         1.02.01  Ativo Realizável a Longo Prazo\n14         1.02.01  Ativo Realizável a Longo Prazo\n15         1.02.01  Ativo Realizável a Longo Prazo\n16         1.02.01  Ativo Realizável a Longo Prazo\n17         1.02.02                   Investimentos\n18         1.02.03                     Imobilizado\n19         1.02.04                      Intangível",
            "text/html": "<div>\n<style scoped>\n    .dataframe tbody tr th:only-of-type {\n        vertical-align: middle;\n    }\n\n    .dataframe tbody tr th {\n        vertical-align: top;\n    }\n\n    .dataframe thead th {\n        text-align: right;\n    }\n</style>\n<table border=\"1\" class=\"dataframe\">\n  <thead>\n    <tr style=\"text-align: right;\">\n      <th></th>\n      <th>Código da Conta</th>\n      <th>Descrição da Conta</th>\n    </tr>\n  </thead>\n  <tbody>\n    <tr>\n      <th>0</th>\n      <td>1.01.01</td>\n      <td>Caixa e Equivalentes de Caixa</td>\n    </tr>\n    <tr>\n      <th>1</th>\n      <td>1.01.03</td>\n      <td>Contas a Receber</td>\n    </tr>\n    <tr>\n      <th>2</th>\n      <td>1.01.03</td>\n      <td>Contas a Receber</td>\n    </tr>\n    <tr>\n      <th>3</th>\n      <td>1.01.04</td>\n      <td>Estoques</td>\n    </tr>\n    <tr>\n      <th>4</th>\n      <td>1.01.06</td>\n      <td>Tributos a Recuperar</td>\n    </tr>\n    <tr>\n      <th>5</th>\n      <td>1.01.08</td>\n      <td>Outros Ativos Circulantes</td>\n    </tr>\n    <tr>\n      <th>6</th>\n      <td>1.01.08</td>\n      <td>Outros Ativos Circulantes</td>\n    </tr>\n    <tr>\n      <th>7</th>\n      <td>1.01.08</td>\n      <td>Outros Ativos Circulantes</td>\n    </tr>\n    <tr>\n      <th>8</th>\n      <td>1.01.08</td>\n      <td>Outros Ativos Circulantes</td>\n    </tr>\n    <tr>\n      <th>9</th>\n      <td>1.01.08</td>\n      <td>Outros Ativos Circulantes</td>\n    </tr>\n    <tr>\n      <th>10</th>\n      <td>1.02.01</td>\n      <td>Ativo Realizável a Longo Prazo</td>\n    </tr>\n    <tr>\n      <th>11</th>\n      <td>1.02.01</td>\n      <td>Ativo Realizável a Longo Prazo</td>\n    </tr>\n    <tr>\n      <th>12</th>\n      <td>1.02.01</td>\n      <td>Ativo Realizável a Longo Prazo</td>\n    </tr>\n    <tr>\n      <th>13</th>\n      <td>1.02.01</td>\n      <td>Ativo Realizável a Longo Prazo</td>\n    </tr>\n    <tr>\n      <th>14</th>\n      <td>1.02.01</td>\n      <td>Ativo Realizável a Longo Prazo</td>\n    </tr>\n    <tr>\n      <th>15</th>\n      <td>1.02.01</td>\n      <td>Ativo Realizável a Longo Prazo</td>\n    </tr>\n    <tr>\n      <th>16</th>\n      <td>1.02.01</td>\n      <td>Ativo Realizável a Longo Prazo</td>\n    </tr>\n    <tr>\n      <th>17</th>\n      <td>1.02.02</td>\n      <td>Investimentos</td>\n    </tr>\n    <tr>\n      <th>18</th>\n      <td>1.02.03</td>\n      <td>Imobilizado</td>\n    </tr>\n    <tr>\n      <th>19</th>\n      <td>1.02.04</td>\n      <td>Intangível</td>\n    </tr>\n  </tbody>\n</table>\n</div>"
          },
          "metadata": {}
        }
      ],
      "execution_count": 126,
      "metadata": {
        "colab": {
          "base_uri": "https://localhost:8080/",
          "height": 669
        },
        "executionInfo": {
          "elapsed": 326,
          "status": "ok",
          "timestamp": 1638789207295,
          "user": {
            "displayName": "Francesco Ghizzo",
            "photoUrl": "https://lh3.googleusercontent.com/a/default-user=s64",
            "userId": "12232356605573294838"
          },
          "user_tz": -60
        },
        "id": "dMpNYU_DcpwJ",
        "outputId": "26203b0e-08f5-478e-8277-be8c86defa86",
        "gather": {
          "logged": 1649866382095
        }
      }
    },
    {
      "cell_type": "code",
      "source": [
        "df['Descrição da Conta 3'] = DS_CONTA_3['Descrição da Conta']\n",
        "df"
      ],
      "outputs": [
        {
          "output_type": "execute_result",
          "execution_count": 127,
          "data": {
            "text/plain": "   Código da Conta Descrição da Conta 1  Descrição da Conta 2  \\\n2          1.01.01          Ativo Total      Ativo Circulante   \n3          1.01.03          Ativo Total      Ativo Circulante   \n4       1.01.03.01          Ativo Total      Ativo Circulante   \n5          1.01.04          Ativo Total      Ativo Circulante   \n6          1.01.06          Ativo Total      Ativo Circulante   \n7          1.01.08          Ativo Total      Ativo Circulante   \n8       1.01.08.03          Ativo Total      Ativo Circulante   \n9    1.01.08.03.01          Ativo Total      Ativo Circulante   \n10   1.01.08.03.03          Ativo Total      Ativo Circulante   \n11   1.01.08.03.04          Ativo Total  Ativo Não Circulante   \n13         1.02.01          Ativo Total  Ativo Não Circulante   \n14      1.02.01.09          Ativo Total  Ativo Não Circulante   \n15   1.02.01.09.02          Ativo Total  Ativo Não Circulante   \n16      1.02.01.10          Ativo Total  Ativo Não Circulante   \n17   1.02.01.10.03          Ativo Total  Ativo Não Circulante   \n18   1.02.01.10.04          Ativo Total  Ativo Não Circulante   \n19   1.02.01.10.05          Ativo Total  Ativo Não Circulante   \n20         1.02.02          Ativo Total  Ativo Não Circulante   \n21         1.02.03          Ativo Total  Ativo Não Circulante   \n22         1.02.04          Ativo Total                   NaN   \n\n              Descrição da Conta 3                    Descrição da Conta  \\\n2                 Contas a Receber         Caixa e Equivalentes de Caixa   \n3                         Estoques                      Contas a Receber   \n4             Tributos a Recuperar                              Clientes   \n5        Outros Ativos Circulantes                              Estoques   \n6        Outros Ativos Circulantes                  Tributos a Recuperar   \n7        Outros Ativos Circulantes             Outros Ativos Circulantes   \n8        Outros Ativos Circulantes                                Outros   \n9        Outros Ativos Circulantes                    Ativos financeiros   \n10  Ativo Realizável a Longo Prazo                         Outras contas   \n11  Ativo Realizável a Longo Prazo  Instrumentos financeiros derivativos   \n13  Ativo Realizável a Longo Prazo        Ativo Realizável a Longo Prazo   \n14  Ativo Realizável a Longo Prazo      Créditos com Partes Relacionadas   \n15  Ativo Realizável a Longo Prazo              Créditos com Controladas   \n16  Ativo Realizável a Longo Prazo         Outros Ativos Não Circulantes   \n17                   Investimentos                  Tributos a recuperar   \n18                     Imobilizado  Instrumentos financeiros derivativos   \n19                      Intangível               Outras contas a receber   \n20                             NaN                         Investimentos   \n21                             NaN                           Imobilizado   \n22                             NaN                            Intangível   \n\n   Trimestre Atual Exercício Anterior  \n2          815.476            683.412  \n3          258.104            206.005  \n4          258.104            206.005  \n5          629.601            617.289  \n6           92.690             80.862  \n7           79.343             64.382  \n8           79.343             64.382  \n9           12.153             16.059  \n10          53.490             39.511  \n11          13.700              8.812  \n13         104.944             90.941  \n14          12.773              9.730  \n15          12.773              9.730  \n16          92.171             81.211  \n17          90.374             80.006  \n18             893                  0  \n19             904              1.205  \n20           6.505              5.934  \n21         786.627            619.172  \n22           2.268              1.288  ",
            "text/html": "<div>\n<style scoped>\n    .dataframe tbody tr th:only-of-type {\n        vertical-align: middle;\n    }\n\n    .dataframe tbody tr th {\n        vertical-align: top;\n    }\n\n    .dataframe thead th {\n        text-align: right;\n    }\n</style>\n<table border=\"1\" class=\"dataframe\">\n  <thead>\n    <tr style=\"text-align: right;\">\n      <th></th>\n      <th>Código da Conta</th>\n      <th>Descrição da Conta 1</th>\n      <th>Descrição da Conta 2</th>\n      <th>Descrição da Conta 3</th>\n      <th>Descrição da Conta</th>\n      <th>Trimestre Atual</th>\n      <th>Exercício Anterior</th>\n    </tr>\n  </thead>\n  <tbody>\n    <tr>\n      <th>2</th>\n      <td>1.01.01</td>\n      <td>Ativo Total</td>\n      <td>Ativo Circulante</td>\n      <td>Contas a Receber</td>\n      <td>Caixa e Equivalentes de Caixa</td>\n      <td>815.476</td>\n      <td>683.412</td>\n    </tr>\n    <tr>\n      <th>3</th>\n      <td>1.01.03</td>\n      <td>Ativo Total</td>\n      <td>Ativo Circulante</td>\n      <td>Estoques</td>\n      <td>Contas a Receber</td>\n      <td>258.104</td>\n      <td>206.005</td>\n    </tr>\n    <tr>\n      <th>4</th>\n      <td>1.01.03.01</td>\n      <td>Ativo Total</td>\n      <td>Ativo Circulante</td>\n      <td>Tributos a Recuperar</td>\n      <td>Clientes</td>\n      <td>258.104</td>\n      <td>206.005</td>\n    </tr>\n    <tr>\n      <th>5</th>\n      <td>1.01.04</td>\n      <td>Ativo Total</td>\n      <td>Ativo Circulante</td>\n      <td>Outros Ativos Circulantes</td>\n      <td>Estoques</td>\n      <td>629.601</td>\n      <td>617.289</td>\n    </tr>\n    <tr>\n      <th>6</th>\n      <td>1.01.06</td>\n      <td>Ativo Total</td>\n      <td>Ativo Circulante</td>\n      <td>Outros Ativos Circulantes</td>\n      <td>Tributos a Recuperar</td>\n      <td>92.690</td>\n      <td>80.862</td>\n    </tr>\n    <tr>\n      <th>7</th>\n      <td>1.01.08</td>\n      <td>Ativo Total</td>\n      <td>Ativo Circulante</td>\n      <td>Outros Ativos Circulantes</td>\n      <td>Outros Ativos Circulantes</td>\n      <td>79.343</td>\n      <td>64.382</td>\n    </tr>\n    <tr>\n      <th>8</th>\n      <td>1.01.08.03</td>\n      <td>Ativo Total</td>\n      <td>Ativo Circulante</td>\n      <td>Outros Ativos Circulantes</td>\n      <td>Outros</td>\n      <td>79.343</td>\n      <td>64.382</td>\n    </tr>\n    <tr>\n      <th>9</th>\n      <td>1.01.08.03.01</td>\n      <td>Ativo Total</td>\n      <td>Ativo Circulante</td>\n      <td>Outros Ativos Circulantes</td>\n      <td>Ativos financeiros</td>\n      <td>12.153</td>\n      <td>16.059</td>\n    </tr>\n    <tr>\n      <th>10</th>\n      <td>1.01.08.03.03</td>\n      <td>Ativo Total</td>\n      <td>Ativo Circulante</td>\n      <td>Ativo Realizável a Longo Prazo</td>\n      <td>Outras contas</td>\n      <td>53.490</td>\n      <td>39.511</td>\n    </tr>\n    <tr>\n      <th>11</th>\n      <td>1.01.08.03.04</td>\n      <td>Ativo Total</td>\n      <td>Ativo Não Circulante</td>\n      <td>Ativo Realizável a Longo Prazo</td>\n      <td>Instrumentos financeiros derivativos</td>\n      <td>13.700</td>\n      <td>8.812</td>\n    </tr>\n    <tr>\n      <th>13</th>\n      <td>1.02.01</td>\n      <td>Ativo Total</td>\n      <td>Ativo Não Circulante</td>\n      <td>Ativo Realizável a Longo Prazo</td>\n      <td>Ativo Realizável a Longo Prazo</td>\n      <td>104.944</td>\n      <td>90.941</td>\n    </tr>\n    <tr>\n      <th>14</th>\n      <td>1.02.01.09</td>\n      <td>Ativo Total</td>\n      <td>Ativo Não Circulante</td>\n      <td>Ativo Realizável a Longo Prazo</td>\n      <td>Créditos com Partes Relacionadas</td>\n      <td>12.773</td>\n      <td>9.730</td>\n    </tr>\n    <tr>\n      <th>15</th>\n      <td>1.02.01.09.02</td>\n      <td>Ativo Total</td>\n      <td>Ativo Não Circulante</td>\n      <td>Ativo Realizável a Longo Prazo</td>\n      <td>Créditos com Controladas</td>\n      <td>12.773</td>\n      <td>9.730</td>\n    </tr>\n    <tr>\n      <th>16</th>\n      <td>1.02.01.10</td>\n      <td>Ativo Total</td>\n      <td>Ativo Não Circulante</td>\n      <td>Ativo Realizável a Longo Prazo</td>\n      <td>Outros Ativos Não Circulantes</td>\n      <td>92.171</td>\n      <td>81.211</td>\n    </tr>\n    <tr>\n      <th>17</th>\n      <td>1.02.01.10.03</td>\n      <td>Ativo Total</td>\n      <td>Ativo Não Circulante</td>\n      <td>Investimentos</td>\n      <td>Tributos a recuperar</td>\n      <td>90.374</td>\n      <td>80.006</td>\n    </tr>\n    <tr>\n      <th>18</th>\n      <td>1.02.01.10.04</td>\n      <td>Ativo Total</td>\n      <td>Ativo Não Circulante</td>\n      <td>Imobilizado</td>\n      <td>Instrumentos financeiros derivativos</td>\n      <td>893</td>\n      <td>0</td>\n    </tr>\n    <tr>\n      <th>19</th>\n      <td>1.02.01.10.05</td>\n      <td>Ativo Total</td>\n      <td>Ativo Não Circulante</td>\n      <td>Intangível</td>\n      <td>Outras contas a receber</td>\n      <td>904</td>\n      <td>1.205</td>\n    </tr>\n    <tr>\n      <th>20</th>\n      <td>1.02.02</td>\n      <td>Ativo Total</td>\n      <td>Ativo Não Circulante</td>\n      <td>NaN</td>\n      <td>Investimentos</td>\n      <td>6.505</td>\n      <td>5.934</td>\n    </tr>\n    <tr>\n      <th>21</th>\n      <td>1.02.03</td>\n      <td>Ativo Total</td>\n      <td>Ativo Não Circulante</td>\n      <td>NaN</td>\n      <td>Imobilizado</td>\n      <td>786.627</td>\n      <td>619.172</td>\n    </tr>\n    <tr>\n      <th>22</th>\n      <td>1.02.04</td>\n      <td>Ativo Total</td>\n      <td>NaN</td>\n      <td>NaN</td>\n      <td>Intangível</td>\n      <td>2.268</td>\n      <td>1.288</td>\n    </tr>\n  </tbody>\n</table>\n</div>"
          },
          "metadata": {}
        }
      ],
      "execution_count": 127,
      "metadata": {
        "colab": {
          "base_uri": "https://localhost:8080/",
          "height": 669
        },
        "executionInfo": {
          "elapsed": 227,
          "status": "ok",
          "timestamp": 1638789299833,
          "user": {
            "displayName": "Francesco Ghizzo",
            "photoUrl": "https://lh3.googleusercontent.com/a/default-user=s64",
            "userId": "12232356605573294838"
          },
          "user_tz": -60
        },
        "id": "RWkL4JmYc4SR",
        "outputId": "be5cfcfb-1c1b-41f5-fc0c-3b73453a0a2f",
        "gather": {
          "logged": 1649866382549
        }
      }
    },
    {
      "cell_type": "code",
      "source": [
        "len_key = [len(key) for key in df['Código da Conta']]   # len_key = length of key 'Código da Conta'"
      ],
      "outputs": [],
      "execution_count": 128,
      "metadata": {
        "gather": {
          "logged": 1649866382984
        }
      }
    },
    {
      "cell_type": "code",
      "source": [
        "min_len = np.array(len_key).min()  # min_len = minimum length"
      ],
      "outputs": [],
      "execution_count": 129,
      "metadata": {
        "gather": {
          "logged": 1649866383167
        }
      }
    },
    {
      "cell_type": "code",
      "source": [
        "ind_min_len = np.where(len_key==min_len)  # ind_min_len = index of key 'Código da Conta' with minimum length"
      ],
      "outputs": [],
      "execution_count": 130,
      "metadata": {
        "gather": {
          "logged": 1649866384648
        }
      }
    },
    {
      "cell_type": "code",
      "source": [
        "df.iloc[ind_min_len]"
      ],
      "outputs": [
        {
          "output_type": "execute_result",
          "execution_count": 131,
          "data": {
            "text/plain": "   Código da Conta Descrição da Conta 1  Descrição da Conta 2  \\\n2          1.01.01          Ativo Total      Ativo Circulante   \n3          1.01.03          Ativo Total      Ativo Circulante   \n5          1.01.04          Ativo Total      Ativo Circulante   \n6          1.01.06          Ativo Total      Ativo Circulante   \n7          1.01.08          Ativo Total      Ativo Circulante   \n13         1.02.01          Ativo Total  Ativo Não Circulante   \n20         1.02.02          Ativo Total  Ativo Não Circulante   \n21         1.02.03          Ativo Total  Ativo Não Circulante   \n22         1.02.04          Ativo Total                   NaN   \n\n              Descrição da Conta 3              Descrição da Conta  \\\n2                 Contas a Receber   Caixa e Equivalentes de Caixa   \n3                         Estoques                Contas a Receber   \n5        Outros Ativos Circulantes                        Estoques   \n6        Outros Ativos Circulantes            Tributos a Recuperar   \n7        Outros Ativos Circulantes       Outros Ativos Circulantes   \n13  Ativo Realizável a Longo Prazo  Ativo Realizável a Longo Prazo   \n20                             NaN                   Investimentos   \n21                             NaN                     Imobilizado   \n22                             NaN                      Intangível   \n\n   Trimestre Atual Exercício Anterior  \n2          815.476            683.412  \n3          258.104            206.005  \n5          629.601            617.289  \n6           92.690             80.862  \n7           79.343             64.382  \n13         104.944             90.941  \n20           6.505              5.934  \n21         786.627            619.172  \n22           2.268              1.288  ",
            "text/html": "<div>\n<style scoped>\n    .dataframe tbody tr th:only-of-type {\n        vertical-align: middle;\n    }\n\n    .dataframe tbody tr th {\n        vertical-align: top;\n    }\n\n    .dataframe thead th {\n        text-align: right;\n    }\n</style>\n<table border=\"1\" class=\"dataframe\">\n  <thead>\n    <tr style=\"text-align: right;\">\n      <th></th>\n      <th>Código da Conta</th>\n      <th>Descrição da Conta 1</th>\n      <th>Descrição da Conta 2</th>\n      <th>Descrição da Conta 3</th>\n      <th>Descrição da Conta</th>\n      <th>Trimestre Atual</th>\n      <th>Exercício Anterior</th>\n    </tr>\n  </thead>\n  <tbody>\n    <tr>\n      <th>2</th>\n      <td>1.01.01</td>\n      <td>Ativo Total</td>\n      <td>Ativo Circulante</td>\n      <td>Contas a Receber</td>\n      <td>Caixa e Equivalentes de Caixa</td>\n      <td>815.476</td>\n      <td>683.412</td>\n    </tr>\n    <tr>\n      <th>3</th>\n      <td>1.01.03</td>\n      <td>Ativo Total</td>\n      <td>Ativo Circulante</td>\n      <td>Estoques</td>\n      <td>Contas a Receber</td>\n      <td>258.104</td>\n      <td>206.005</td>\n    </tr>\n    <tr>\n      <th>5</th>\n      <td>1.01.04</td>\n      <td>Ativo Total</td>\n      <td>Ativo Circulante</td>\n      <td>Outros Ativos Circulantes</td>\n      <td>Estoques</td>\n      <td>629.601</td>\n      <td>617.289</td>\n    </tr>\n    <tr>\n      <th>6</th>\n      <td>1.01.06</td>\n      <td>Ativo Total</td>\n      <td>Ativo Circulante</td>\n      <td>Outros Ativos Circulantes</td>\n      <td>Tributos a Recuperar</td>\n      <td>92.690</td>\n      <td>80.862</td>\n    </tr>\n    <tr>\n      <th>7</th>\n      <td>1.01.08</td>\n      <td>Ativo Total</td>\n      <td>Ativo Circulante</td>\n      <td>Outros Ativos Circulantes</td>\n      <td>Outros Ativos Circulantes</td>\n      <td>79.343</td>\n      <td>64.382</td>\n    </tr>\n    <tr>\n      <th>13</th>\n      <td>1.02.01</td>\n      <td>Ativo Total</td>\n      <td>Ativo Não Circulante</td>\n      <td>Ativo Realizável a Longo Prazo</td>\n      <td>Ativo Realizável a Longo Prazo</td>\n      <td>104.944</td>\n      <td>90.941</td>\n    </tr>\n    <tr>\n      <th>20</th>\n      <td>1.02.02</td>\n      <td>Ativo Total</td>\n      <td>Ativo Não Circulante</td>\n      <td>NaN</td>\n      <td>Investimentos</td>\n      <td>6.505</td>\n      <td>5.934</td>\n    </tr>\n    <tr>\n      <th>21</th>\n      <td>1.02.03</td>\n      <td>Ativo Total</td>\n      <td>Ativo Não Circulante</td>\n      <td>NaN</td>\n      <td>Imobilizado</td>\n      <td>786.627</td>\n      <td>619.172</td>\n    </tr>\n    <tr>\n      <th>22</th>\n      <td>1.02.04</td>\n      <td>Ativo Total</td>\n      <td>NaN</td>\n      <td>NaN</td>\n      <td>Intangível</td>\n      <td>2.268</td>\n      <td>1.288</td>\n    </tr>\n  </tbody>\n</table>\n</div>"
          },
          "metadata": {}
        }
      ],
      "execution_count": 131,
      "metadata": {
        "gather": {
          "logged": 1649866385111
        }
      }
    },
    {
      "cell_type": "code",
      "source": [
        "# Agora preciso \"dropar\" os Códigos de comprimento 7, porém somente se eles são uma categoria superior de alguma subcategoria.\n",
        "# Se não, não precisa cortar. Por exemplo: 1.01.01 não tem nenhuma outra subcategoria, então eu não vou cortar fora.\n",
        "# 1.01.03, ao contrário, tem um elemento: 1.01.03.01. Logo, a linha correspondente pode ser cortada fora.\n",
        "# Como fazer isso?\n",
        "# Além disso: como resolver o problema dos NaN?\n"
      ],
      "outputs": [],
      "execution_count": 132,
      "metadata": {
        "id": "E9bhRtUZmIAS",
        "gather": {
          "logged": 1649866385730
        }
      }
    },
    {
      "cell_type": "code",
      "source": [
        "DS_CONTA_3.loc[DS_CONTA_3['Código da Conta'][:-1].index, ['Código da Conta']]"
      ],
      "outputs": [
        {
          "output_type": "execute_result",
          "execution_count": 133,
          "data": {
            "text/plain": "   Código da Conta\n0          1.01.01\n1          1.01.03\n2          1.01.03\n3          1.01.04\n4          1.01.06\n5          1.01.08\n6          1.01.08\n7          1.01.08\n8          1.01.08\n9          1.01.08\n10         1.02.01\n11         1.02.01\n12         1.02.01\n13         1.02.01\n14         1.02.01\n15         1.02.01\n16         1.02.01\n17         1.02.02\n18         1.02.03",
            "text/html": "<div>\n<style scoped>\n    .dataframe tbody tr th:only-of-type {\n        vertical-align: middle;\n    }\n\n    .dataframe tbody tr th {\n        vertical-align: top;\n    }\n\n    .dataframe thead th {\n        text-align: right;\n    }\n</style>\n<table border=\"1\" class=\"dataframe\">\n  <thead>\n    <tr style=\"text-align: right;\">\n      <th></th>\n      <th>Código da Conta</th>\n    </tr>\n  </thead>\n  <tbody>\n    <tr>\n      <th>0</th>\n      <td>1.01.01</td>\n    </tr>\n    <tr>\n      <th>1</th>\n      <td>1.01.03</td>\n    </tr>\n    <tr>\n      <th>2</th>\n      <td>1.01.03</td>\n    </tr>\n    <tr>\n      <th>3</th>\n      <td>1.01.04</td>\n    </tr>\n    <tr>\n      <th>4</th>\n      <td>1.01.06</td>\n    </tr>\n    <tr>\n      <th>5</th>\n      <td>1.01.08</td>\n    </tr>\n    <tr>\n      <th>6</th>\n      <td>1.01.08</td>\n    </tr>\n    <tr>\n      <th>7</th>\n      <td>1.01.08</td>\n    </tr>\n    <tr>\n      <th>8</th>\n      <td>1.01.08</td>\n    </tr>\n    <tr>\n      <th>9</th>\n      <td>1.01.08</td>\n    </tr>\n    <tr>\n      <th>10</th>\n      <td>1.02.01</td>\n    </tr>\n    <tr>\n      <th>11</th>\n      <td>1.02.01</td>\n    </tr>\n    <tr>\n      <th>12</th>\n      <td>1.02.01</td>\n    </tr>\n    <tr>\n      <th>13</th>\n      <td>1.02.01</td>\n    </tr>\n    <tr>\n      <th>14</th>\n      <td>1.02.01</td>\n    </tr>\n    <tr>\n      <th>15</th>\n      <td>1.02.01</td>\n    </tr>\n    <tr>\n      <th>16</th>\n      <td>1.02.01</td>\n    </tr>\n    <tr>\n      <th>17</th>\n      <td>1.02.02</td>\n    </tr>\n    <tr>\n      <th>18</th>\n      <td>1.02.03</td>\n    </tr>\n  </tbody>\n</table>\n</div>"
          },
          "metadata": {}
        }
      ],
      "execution_count": 133,
      "metadata": {
        "gather": {
          "logged": 1649866386199
        }
      }
    },
    {
      "cell_type": "code",
      "source": [
        "DS_CONTA_3.loc[DS_CONTA_3['Código da Conta'][:-1].index+1, ['Código da Conta']]"
      ],
      "outputs": [
        {
          "output_type": "execute_result",
          "execution_count": 134,
          "data": {
            "text/plain": "   Código da Conta\n1          1.01.03\n2          1.01.03\n3          1.01.04\n4          1.01.06\n5          1.01.08\n6          1.01.08\n7          1.01.08\n8          1.01.08\n9          1.01.08\n10         1.02.01\n11         1.02.01\n12         1.02.01\n13         1.02.01\n14         1.02.01\n15         1.02.01\n16         1.02.01\n17         1.02.02\n18         1.02.03\n19         1.02.04",
            "text/html": "<div>\n<style scoped>\n    .dataframe tbody tr th:only-of-type {\n        vertical-align: middle;\n    }\n\n    .dataframe tbody tr th {\n        vertical-align: top;\n    }\n\n    .dataframe thead th {\n        text-align: right;\n    }\n</style>\n<table border=\"1\" class=\"dataframe\">\n  <thead>\n    <tr style=\"text-align: right;\">\n      <th></th>\n      <th>Código da Conta</th>\n    </tr>\n  </thead>\n  <tbody>\n    <tr>\n      <th>1</th>\n      <td>1.01.03</td>\n    </tr>\n    <tr>\n      <th>2</th>\n      <td>1.01.03</td>\n    </tr>\n    <tr>\n      <th>3</th>\n      <td>1.01.04</td>\n    </tr>\n    <tr>\n      <th>4</th>\n      <td>1.01.06</td>\n    </tr>\n    <tr>\n      <th>5</th>\n      <td>1.01.08</td>\n    </tr>\n    <tr>\n      <th>6</th>\n      <td>1.01.08</td>\n    </tr>\n    <tr>\n      <th>7</th>\n      <td>1.01.08</td>\n    </tr>\n    <tr>\n      <th>8</th>\n      <td>1.01.08</td>\n    </tr>\n    <tr>\n      <th>9</th>\n      <td>1.01.08</td>\n    </tr>\n    <tr>\n      <th>10</th>\n      <td>1.02.01</td>\n    </tr>\n    <tr>\n      <th>11</th>\n      <td>1.02.01</td>\n    </tr>\n    <tr>\n      <th>12</th>\n      <td>1.02.01</td>\n    </tr>\n    <tr>\n      <th>13</th>\n      <td>1.02.01</td>\n    </tr>\n    <tr>\n      <th>14</th>\n      <td>1.02.01</td>\n    </tr>\n    <tr>\n      <th>15</th>\n      <td>1.02.01</td>\n    </tr>\n    <tr>\n      <th>16</th>\n      <td>1.02.01</td>\n    </tr>\n    <tr>\n      <th>17</th>\n      <td>1.02.02</td>\n    </tr>\n    <tr>\n      <th>18</th>\n      <td>1.02.03</td>\n    </tr>\n    <tr>\n      <th>19</th>\n      <td>1.02.04</td>\n    </tr>\n  </tbody>\n</table>\n</div>"
          },
          "metadata": {}
        }
      ],
      "execution_count": 134,
      "metadata": {
        "gather": {
          "logged": 1649866386698
        }
      }
    },
    {
      "cell_type": "code",
      "source": [
        "mask = [DS_CONTA_3.loc[DS_CONTA_3['Código da Conta'][:-1].index, ['Código da Conta']]==DS_CONTA_3.loc[DS_CONTA_3['Código da Conta'][:-1].index+1, ['Código da Conta']]]"
      ],
      "outputs": [
        {
          "output_type": "error",
          "ename": "ValueError",
          "evalue": "Can only compare identically-labeled DataFrame objects",
          "traceback": [
            "\u001b[0;31m---------------------------------------------------------------------------\u001b[0m",
            "\u001b[0;31mValueError\u001b[0m                                Traceback (most recent call last)",
            "Input \u001b[0;32mIn [135]\u001b[0m, in \u001b[0;36m<module>\u001b[0;34m\u001b[0m\n\u001b[0;32m----> 1\u001b[0m mask \u001b[38;5;241m=\u001b[39m [\u001b[43mDS_CONTA_3\u001b[49m\u001b[38;5;241;43m.\u001b[39;49m\u001b[43mloc\u001b[49m\u001b[43m[\u001b[49m\u001b[43mDS_CONTA_3\u001b[49m\u001b[43m[\u001b[49m\u001b[38;5;124;43m'\u001b[39;49m\u001b[38;5;124;43mCódigo da Conta\u001b[39;49m\u001b[38;5;124;43m'\u001b[39;49m\u001b[43m]\u001b[49m\u001b[43m[\u001b[49m\u001b[43m:\u001b[49m\u001b[38;5;241;43m-\u001b[39;49m\u001b[38;5;241;43m1\u001b[39;49m\u001b[43m]\u001b[49m\u001b[38;5;241;43m.\u001b[39;49m\u001b[43mindex\u001b[49m\u001b[43m,\u001b[49m\u001b[43m \u001b[49m\u001b[43m[\u001b[49m\u001b[38;5;124;43m'\u001b[39;49m\u001b[38;5;124;43mCódigo da Conta\u001b[39;49m\u001b[38;5;124;43m'\u001b[39;49m\u001b[43m]\u001b[49m\u001b[43m]\u001b[49m\u001b[38;5;241;43m==\u001b[39;49m\u001b[43mDS_CONTA_3\u001b[49m\u001b[38;5;241;43m.\u001b[39;49m\u001b[43mloc\u001b[49m\u001b[43m[\u001b[49m\u001b[43mDS_CONTA_3\u001b[49m\u001b[43m[\u001b[49m\u001b[38;5;124;43m'\u001b[39;49m\u001b[38;5;124;43mCódigo da Conta\u001b[39;49m\u001b[38;5;124;43m'\u001b[39;49m\u001b[43m]\u001b[49m\u001b[43m[\u001b[49m\u001b[43m:\u001b[49m\u001b[38;5;241;43m-\u001b[39;49m\u001b[38;5;241;43m1\u001b[39;49m\u001b[43m]\u001b[49m\u001b[38;5;241;43m.\u001b[39;49m\u001b[43mindex\u001b[49m\u001b[38;5;241;43m+\u001b[39;49m\u001b[38;5;241;43m1\u001b[39;49m\u001b[43m,\u001b[49m\u001b[43m \u001b[49m\u001b[43m[\u001b[49m\u001b[38;5;124;43m'\u001b[39;49m\u001b[38;5;124;43mCódigo da Conta\u001b[39;49m\u001b[38;5;124;43m'\u001b[39;49m\u001b[43m]\u001b[49m\u001b[43m]\u001b[49m]\n",
            "File \u001b[0;32m/anaconda/envs/azureml_py38/lib/python3.8/site-packages/pandas/core/ops/__init__.py:1566\u001b[0m, in \u001b[0;36m_comp_method_FRAME.<locals>.f\u001b[0;34m(self, other)\u001b[0m\n\u001b[1;32m   1563\u001b[0m \u001b[38;5;28;01mif\u001b[39;00m \u001b[38;5;28misinstance\u001b[39m(other, ABCDataFrame):\n\u001b[1;32m   1564\u001b[0m     \u001b[38;5;66;03m# Another DataFrame\u001b[39;00m\n\u001b[1;32m   1565\u001b[0m     \u001b[38;5;28;01mif\u001b[39;00m \u001b[38;5;129;01mnot\u001b[39;00m \u001b[38;5;28mself\u001b[39m\u001b[38;5;241m.\u001b[39m_indexed_same(other):\n\u001b[0;32m-> 1566\u001b[0m         \u001b[38;5;28;01mraise\u001b[39;00m \u001b[38;5;167;01mValueError\u001b[39;00m(\n\u001b[1;32m   1567\u001b[0m             \u001b[38;5;124m\"\u001b[39m\u001b[38;5;124mCan only compare identically-labeled \u001b[39m\u001b[38;5;124m\"\u001b[39m \u001b[38;5;124m\"\u001b[39m\u001b[38;5;124mDataFrame objects\u001b[39m\u001b[38;5;124m\"\u001b[39m\n\u001b[1;32m   1568\u001b[0m         )\n\u001b[1;32m   1569\u001b[0m     \u001b[38;5;28;01mreturn\u001b[39;00m dispatch_to_series(\u001b[38;5;28mself\u001b[39m, other, func, str_rep)\n\u001b[1;32m   1571\u001b[0m \u001b[38;5;28;01melif\u001b[39;00m \u001b[38;5;28misinstance\u001b[39m(other, ABCSeries):\n",
            "\u001b[0;31mValueError\u001b[0m: Can only compare identically-labeled DataFrame objects"
          ]
        }
      ],
      "execution_count": 135,
      "metadata": {
        "gather": {
          "logged": 1649866387363
        }
      }
    },
    {
      "cell_type": "code",
      "source": [
        "def mask(dataframe):\n",
        "    droplines = []\n",
        "    for row in dataframe['Código da Conta'][:-1].index:\n",
        "        if DS_CONTA_3.loc[row, ['Código da Conta']]==DS_CONTA_3.loc[row+1, ['Código da Conta']]:\n",
        "            droplines.append('TRUE')\n",
        "        else:\n",
        "            droplines.append('FALSE')\n",
        "    return droplines        "
      ],
      "outputs": [],
      "execution_count": null,
      "metadata": {
        "gather": {
          "logged": 1649866387460
        }
      }
    },
    {
      "cell_type": "code",
      "source": [
        "mask(DS_CONTA_3)"
      ],
      "outputs": [
        {
          "output_type": "error",
          "ename": "ValueError",
          "evalue": "The truth value of a Series is ambiguous. Use a.empty, a.bool(), a.item(), a.any() or a.all().",
          "traceback": [
            "\u001b[0;31m---------------------------------------------------------------------------\u001b[0m",
            "\u001b[0;31mValueError\u001b[0m                                Traceback (most recent call last)",
            "\u001b[0;32m/var/folders/rt/k30tjkvx04vdq1qxvtwsb47m0000gn/T/ipykernel_3857/1983685437.py\u001b[0m in \u001b[0;36m<module>\u001b[0;34m\u001b[0m\n\u001b[0;32m----> 1\u001b[0;31m \u001b[0mmask\u001b[0m\u001b[0;34m(\u001b[0m\u001b[0mDS_CONTA_3\u001b[0m\u001b[0;34m)\u001b[0m\u001b[0;34m\u001b[0m\u001b[0;34m\u001b[0m\u001b[0m\n\u001b[0m",
            "\u001b[0;32m/var/folders/rt/k30tjkvx04vdq1qxvtwsb47m0000gn/T/ipykernel_3857/3908808768.py\u001b[0m in \u001b[0;36mmask\u001b[0;34m(dataframe)\u001b[0m\n\u001b[1;32m      2\u001b[0m     \u001b[0mdroplines\u001b[0m \u001b[0;34m=\u001b[0m \u001b[0;34m[\u001b[0m\u001b[0;34m]\u001b[0m\u001b[0;34m\u001b[0m\u001b[0;34m\u001b[0m\u001b[0m\n\u001b[1;32m      3\u001b[0m     \u001b[0;32mfor\u001b[0m \u001b[0mrow\u001b[0m \u001b[0;32min\u001b[0m \u001b[0mdataframe\u001b[0m\u001b[0;34m[\u001b[0m\u001b[0;34m'Código da Conta'\u001b[0m\u001b[0;34m]\u001b[0m\u001b[0;34m[\u001b[0m\u001b[0;34m:\u001b[0m\u001b[0;34m-\u001b[0m\u001b[0;36m1\u001b[0m\u001b[0;34m]\u001b[0m\u001b[0;34m.\u001b[0m\u001b[0mindex\u001b[0m\u001b[0;34m:\u001b[0m\u001b[0;34m\u001b[0m\u001b[0;34m\u001b[0m\u001b[0m\n\u001b[0;32m----> 4\u001b[0;31m         \u001b[0;32mif\u001b[0m \u001b[0mDS_CONTA_3\u001b[0m\u001b[0;34m.\u001b[0m\u001b[0mloc\u001b[0m\u001b[0;34m[\u001b[0m\u001b[0mrow\u001b[0m\u001b[0;34m,\u001b[0m \u001b[0;34m[\u001b[0m\u001b[0;34m'Código da Conta'\u001b[0m\u001b[0;34m]\u001b[0m\u001b[0;34m]\u001b[0m\u001b[0;34m==\u001b[0m\u001b[0mDS_CONTA_3\u001b[0m\u001b[0;34m.\u001b[0m\u001b[0mloc\u001b[0m\u001b[0;34m[\u001b[0m\u001b[0mrow\u001b[0m\u001b[0;34m+\u001b[0m\u001b[0;36m1\u001b[0m\u001b[0;34m,\u001b[0m \u001b[0;34m[\u001b[0m\u001b[0;34m'Código da Conta'\u001b[0m\u001b[0;34m]\u001b[0m\u001b[0;34m]\u001b[0m\u001b[0;34m:\u001b[0m\u001b[0;34m\u001b[0m\u001b[0;34m\u001b[0m\u001b[0m\n\u001b[0m\u001b[1;32m      5\u001b[0m             \u001b[0mdroplines\u001b[0m\u001b[0;34m.\u001b[0m\u001b[0mappend\u001b[0m\u001b[0;34m(\u001b[0m\u001b[0;34m'TRUE'\u001b[0m\u001b[0;34m)\u001b[0m\u001b[0;34m\u001b[0m\u001b[0;34m\u001b[0m\u001b[0m\n\u001b[1;32m      6\u001b[0m         \u001b[0;32melse\u001b[0m\u001b[0;34m:\u001b[0m\u001b[0;34m\u001b[0m\u001b[0;34m\u001b[0m\u001b[0m\n",
            "\u001b[0;32m/usr/local/Caskroom/miniconda/base/lib/python3.9/site-packages/pandas/core/generic.py\u001b[0m in \u001b[0;36m__nonzero__\u001b[0;34m(self)\u001b[0m\n\u001b[1;32m   1535\u001b[0m     \u001b[0;34m@\u001b[0m\u001b[0mfinal\u001b[0m\u001b[0;34m\u001b[0m\u001b[0;34m\u001b[0m\u001b[0m\n\u001b[1;32m   1536\u001b[0m     \u001b[0;32mdef\u001b[0m \u001b[0m__nonzero__\u001b[0m\u001b[0;34m(\u001b[0m\u001b[0mself\u001b[0m\u001b[0;34m)\u001b[0m\u001b[0;34m:\u001b[0m\u001b[0;34m\u001b[0m\u001b[0;34m\u001b[0m\u001b[0m\n\u001b[0;32m-> 1537\u001b[0;31m         raise ValueError(\n\u001b[0m\u001b[1;32m   1538\u001b[0m             \u001b[0;34mf\"The truth value of a {type(self).__name__} is ambiguous. \"\u001b[0m\u001b[0;34m\u001b[0m\u001b[0;34m\u001b[0m\u001b[0m\n\u001b[1;32m   1539\u001b[0m             \u001b[0;34m\"Use a.empty, a.bool(), a.item(), a.any() or a.all().\"\u001b[0m\u001b[0;34m\u001b[0m\u001b[0;34m\u001b[0m\u001b[0m\n",
            "\u001b[0;31mValueError\u001b[0m: The truth value of a Series is ambiguous. Use a.empty, a.bool(), a.item(), a.any() or a.all()."
          ]
        }
      ],
      "execution_count": 164,
      "metadata": {
        "gather": {
          "logged": 1649856514300
        }
      }
    },
    {
      "cell_type": "markdown",
      "source": [],
      "metadata": {}
    },
    {
      "cell_type": "code",
      "source": [
        "row = 1\n",
        "dataframe.loc[row, ['Código da Conta']] == dataframe.loc[row+1, ['Código da Conta']]"
      ],
      "outputs": [
        {
          "output_type": "execute_result",
          "execution_count": 105,
          "data": {
            "text/plain": "Código da Conta    True\ndtype: bool"
          },
          "metadata": {}
        }
      ],
      "execution_count": 105,
      "metadata": {}
    }
  ],
  "metadata": {
    "colab": {
      "authorship_tag": "ABX9TyOE7CmpwRYoF+dcI+2xnL8N",
      "collapsed_sections": [],
      "name": "CVM.ipynb",
      "provenance": []
    },
    "kernelspec": {
      "display_name": "Python 3 (ipykernel)",
      "language": "python",
      "name": "python3"
    },
    "language_info": {
      "name": "python",
      "version": "3.8.1",
      "mimetype": "text/x-python",
      "codemirror_mode": {
        "name": "ipython",
        "version": 3
      },
      "pygments_lexer": "ipython3",
      "nbconvert_exporter": "python",
      "file_extension": ".py"
    },
    "nteract": {
      "version": "nteract-front-end@1.0.0"
    }
  },
  "nbformat": 4,
  "nbformat_minor": 4
}