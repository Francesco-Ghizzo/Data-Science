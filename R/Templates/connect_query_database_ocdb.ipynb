{
 "cells": [
  {
   "cell_type": "markdown",
   "id": "9524af98-bffa-46b3-bdd4-53f9f5c8662f",
   "metadata": {},
   "source": [
    "<h1>Connect to and query PostgreSQL database using odbc</h1>"
   ]
  },
  {
   "cell_type": "markdown",
   "id": "f4ceda0d-a4ab-460d-bb08-b74b4a525619",
   "metadata": {},
   "source": [
    "vedi: https://db.rstudio.com/databases/postgresql, https://www.tidyverse.org/blog/2019/12/odbc-1-2-0/"
   ]
  },
  {
   "cell_type": "markdown",
   "id": "1f861f1f-ac6d-4a6b-9a97-ea2754c8ea45",
   "metadata": {
    "tags": []
   },
   "source": [
    "<h3>Load packages (<code>odbc</code>)</h3>"
   ]
  },
  {
   "cell_type": "code",
   "execution_count": 62,
   "id": "816ab257-d563-47a2-8112-e9aae1ae3250",
   "metadata": {},
   "outputs": [],
   "source": [
    "library(odbc)"
   ]
  },
  {
   "cell_type": "markdown",
   "id": "2f097d73-6f86-4441-a5bb-cc1bb8059359",
   "metadata": {},
   "source": [
    "<h3>Define constants</h3>"
   ]
  },
  {
   "cell_type": "code",
   "execution_count": 63,
   "id": "8c8ddef9-65d3-487b-a31e-333d8524c0e6",
   "metadata": {},
   "outputs": [],
   "source": [
    "your_driver_path <- \"/usr/local/Caskroom/miniconda/base/envs/data-science/lib/psqlodbca.so\"\n",
    "your_server_path   <- \"/tmp\"\n",
    "your_database_name <- \"sqlda\"\n",
    "# database_user <- rstudioapi::askForPassword(\"Database user\")\n",
    "# database_password <- rstudioapi::askForPassword(\"Database password\")\n",
    "database_user <- \"francescoghizzo\"\n",
    "database_password <- NULL"
   ]
  },
  {
   "cell_type": "markdown",
   "id": "e15746ee-6f64-4e70-8c8f-c82a9811ea18",
   "metadata": {},
   "source": [
    "<h3>Connect</h3>"
   ]
  },
  {
   "cell_type": "code",
   "execution_count": 64,
   "id": "68d0f353-2ec6-4b92-b97a-9697ca55f02d",
   "metadata": {},
   "outputs": [],
   "source": [
    "con <- DBI::dbConnect(odbc::odbc(),\n",
    "                      Driver   = your_driver_path,\n",
    "                      Server   = your_server_path,\n",
    "                      Database = your_database_name,\n",
    "                      UID      = database_user,\n",
    "                      PWD      = database_password,\n",
    "                      Port     = 5432)"
   ]
  },
  {
   "cell_type": "code",
   "execution_count": 65,
   "id": "b272bc67-fa0b-4e68-a1fb-288617cf079f",
   "metadata": {},
   "outputs": [
    {
     "data": {
      "text/plain": [
       "<OdbcConnection> francescoghizzo@/tmp\n",
       "  Database: sqlda\n",
       "  PostgreSQL Version: 14.0.2"
      ]
     },
     "metadata": {},
     "output_type": "display_data"
    }
   ],
   "source": [
    "con"
   ]
  },
  {
   "cell_type": "markdown",
   "id": "b16281a4-5b75-4598-9ed9-03140e8ea616",
   "metadata": {},
   "source": [
    "<h3>Load packages (<code>DBI</code>)</h3>"
   ]
  },
  {
   "cell_type": "code",
   "execution_count": 66,
   "id": "6d5446f2-8378-4c54-8b57-a304a1a2fcce",
   "metadata": {},
   "outputs": [],
   "source": [
    "library(DBI)"
   ]
  },
  {
   "cell_type": "markdown",
   "id": "0dedcf1d-4c0c-444b-9d75-4da47198fad5",
   "metadata": {},
   "source": [
    "<h3>Define constants</h3>"
   ]
  },
  {
   "cell_type": "code",
   "execution_count": 67,
   "id": "ead94e5d-92a8-40b6-b9b5-2ea75d82ee24",
   "metadata": {},
   "outputs": [],
   "source": [
    "your_driver_path <- \"/usr/local/Caskroom/miniconda/base/envs/data-science/lib/psqlodbca.so\"\n",
    "your_server_path   <- \"/tmp\"\n",
    "your_database_name <- \"sqlda\"\n",
    "# database_user <- rstudioapi::askForPassword(\"Database user\")\n",
    "# database_password <- rstudioapi::askForPassword(\"Database password\")\n",
    "database_user <- \"francescoghizzo\"\n",
    "database_password <- NULL"
   ]
  },
  {
   "cell_type": "markdown",
   "id": "7fcd2e79-35ac-481f-94c1-1b1e9c43a372",
   "metadata": {},
   "source": [
    "<h3>Connect</h3>"
   ]
  },
  {
   "cell_type": "code",
   "execution_count": 68,
   "id": "fdb789b0-4b43-483d-b39e-27c8a8017f7e",
   "metadata": {},
   "outputs": [],
   "source": [
    "con <- dbConnect(odbc::odbc(),\n",
    "                      Driver   = your_driver_path,\n",
    "                      Server   = your_server_path,\n",
    "                      Database = your_database_name,\n",
    "                      UID      = database_user,\n",
    "                      PWD      = database_password,\n",
    "                      Port     = 5432)"
   ]
  },
  {
   "cell_type": "code",
   "execution_count": 69,
   "id": "9fad272a-be6f-47db-8b1c-7476e0e0d4e9",
   "metadata": {},
   "outputs": [
    {
     "data": {
      "text/plain": [
       "<OdbcConnection> francescoghizzo@/tmp\n",
       "  Database: sqlda\n",
       "  PostgreSQL Version: 14.0.2"
      ]
     },
     "metadata": {},
     "output_type": "display_data"
    }
   ],
   "source": [
    "con"
   ]
  },
  {
   "cell_type": "markdown",
   "id": "5a8215a9-0cae-4485-bb19-b3ef174c5f01",
   "metadata": {
    "tags": []
   },
   "source": [
    "<h3>Query</h3>"
   ]
  },
  {
   "cell_type": "markdown",
   "id": "b9f1e669-2027-4bb9-97d6-092bc9e0156a",
   "metadata": {
    "tags": []
   },
   "source": [
    "<h4>List of relations</h4>"
   ]
  },
  {
   "cell_type": "code",
   "execution_count": 70,
   "id": "a5eac458-54b5-43ee-b7cb-737b22daaee2",
   "metadata": {},
   "outputs": [],
   "source": [
    "query <- \" SELECT table_schema, table_name, table_type  FROM information_schema.tables WHERE table_schema='public' \""
   ]
  },
  {
   "cell_type": "code",
   "execution_count": 71,
   "id": "b1fc5c94-ffd1-4699-a4bc-02c062d59346",
   "metadata": {},
   "outputs": [
    {
     "data": {
      "text/html": [
       "<table class=\"dataframe\">\n",
       "<caption>A data.frame: 14 × 3</caption>\n",
       "<thead>\n",
       "\t<tr><th scope=col>table_schema</th><th scope=col>table_name</th><th scope=col>table_type</th></tr>\n",
       "\t<tr><th scope=col>&lt;chr&gt;</th><th scope=col>&lt;chr&gt;</th><th scope=col>&lt;chr&gt;</th></tr>\n",
       "</thead>\n",
       "<tbody>\n",
       "\t<tr><td>public</td><td>closest_dealerships         </td><td>BASE TABLE</td></tr>\n",
       "\t<tr><td>public</td><td>countries                   </td><td>BASE TABLE</td></tr>\n",
       "\t<tr><td>public</td><td>customer_sales              </td><td>BASE TABLE</td></tr>\n",
       "\t<tr><td>public</td><td>customer_survey             </td><td>BASE TABLE</td></tr>\n",
       "\t<tr><td>public</td><td>customers                   </td><td>BASE TABLE</td></tr>\n",
       "\t<tr><td>public</td><td>dealerships                 </td><td>BASE TABLE</td></tr>\n",
       "\t<tr><td>public</td><td>emails                      </td><td>BASE TABLE</td></tr>\n",
       "\t<tr><td>public</td><td>products                    </td><td>BASE TABLE</td></tr>\n",
       "\t<tr><td>public</td><td>public_transportation_by_zip</td><td>BASE TABLE</td></tr>\n",
       "\t<tr><td>public</td><td>sales                       </td><td>BASE TABLE</td></tr>\n",
       "\t<tr><td>public</td><td>salespeople                 </td><td>BASE TABLE</td></tr>\n",
       "\t<tr><td>public</td><td>top_cities_data             </td><td>BASE TABLE</td></tr>\n",
       "\t<tr><td>public</td><td>internet                    </td><td>BASE TABLE</td></tr>\n",
       "\t<tr><td>public</td><td>managers                    </td><td>BASE TABLE</td></tr>\n",
       "</tbody>\n",
       "</table>\n"
      ],
      "text/latex": [
       "A data.frame: 14 × 3\n",
       "\\begin{tabular}{lll}\n",
       " table\\_schema & table\\_name & table\\_type\\\\\n",
       " <chr> & <chr> & <chr>\\\\\n",
       "\\hline\n",
       "\t public & closest\\_dealerships          & BASE TABLE\\\\\n",
       "\t public & countries                    & BASE TABLE\\\\\n",
       "\t public & customer\\_sales               & BASE TABLE\\\\\n",
       "\t public & customer\\_survey              & BASE TABLE\\\\\n",
       "\t public & customers                    & BASE TABLE\\\\\n",
       "\t public & dealerships                  & BASE TABLE\\\\\n",
       "\t public & emails                       & BASE TABLE\\\\\n",
       "\t public & products                     & BASE TABLE\\\\\n",
       "\t public & public\\_transportation\\_by\\_zip & BASE TABLE\\\\\n",
       "\t public & sales                        & BASE TABLE\\\\\n",
       "\t public & salespeople                  & BASE TABLE\\\\\n",
       "\t public & top\\_cities\\_data              & BASE TABLE\\\\\n",
       "\t public & internet                     & BASE TABLE\\\\\n",
       "\t public & managers                     & BASE TABLE\\\\\n",
       "\\end{tabular}\n"
      ],
      "text/markdown": [
       "\n",
       "A data.frame: 14 × 3\n",
       "\n",
       "| table_schema &lt;chr&gt; | table_name &lt;chr&gt; | table_type &lt;chr&gt; |\n",
       "|---|---|---|\n",
       "| public | closest_dealerships          | BASE TABLE |\n",
       "| public | countries                    | BASE TABLE |\n",
       "| public | customer_sales               | BASE TABLE |\n",
       "| public | customer_survey              | BASE TABLE |\n",
       "| public | customers                    | BASE TABLE |\n",
       "| public | dealerships                  | BASE TABLE |\n",
       "| public | emails                       | BASE TABLE |\n",
       "| public | products                     | BASE TABLE |\n",
       "| public | public_transportation_by_zip | BASE TABLE |\n",
       "| public | sales                        | BASE TABLE |\n",
       "| public | salespeople                  | BASE TABLE |\n",
       "| public | top_cities_data              | BASE TABLE |\n",
       "| public | internet                     | BASE TABLE |\n",
       "| public | managers                     | BASE TABLE |\n",
       "\n"
      ],
      "text/plain": [
       "   table_schema table_name                   table_type\n",
       "1  public       closest_dealerships          BASE TABLE\n",
       "2  public       countries                    BASE TABLE\n",
       "3  public       customer_sales               BASE TABLE\n",
       "4  public       customer_survey              BASE TABLE\n",
       "5  public       customers                    BASE TABLE\n",
       "6  public       dealerships                  BASE TABLE\n",
       "7  public       emails                       BASE TABLE\n",
       "8  public       products                     BASE TABLE\n",
       "9  public       public_transportation_by_zip BASE TABLE\n",
       "10 public       sales                        BASE TABLE\n",
       "11 public       salespeople                  BASE TABLE\n",
       "12 public       top_cities_data              BASE TABLE\n",
       "13 public       internet                     BASE TABLE\n",
       "14 public       managers                     BASE TABLE"
      ]
     },
     "metadata": {},
     "output_type": "display_data"
    }
   ],
   "source": [
    "dbGetQuery(con, query)"
   ]
  },
  {
   "cell_type": "markdown",
   "id": "2936b097-251d-47a3-8007-e97632121918",
   "metadata": {
    "tags": []
   },
   "source": [
    "<h4>Print Table</h4>"
   ]
  },
  {
   "cell_type": "code",
   "execution_count": 72,
   "id": "eff61172-99c4-4f8b-8ed6-a2d957a31183",
   "metadata": {},
   "outputs": [],
   "source": [
    "query <- \"SELECT * FROM products\""
   ]
  },
  {
   "cell_type": "code",
   "execution_count": 73,
   "id": "42100a62-6b6a-4e3e-b71b-74ea24da0c79",
   "metadata": {},
   "outputs": [
    {
     "data": {
      "text/html": [
       "<table class=\"dataframe\">\n",
       "<caption>A data.frame: 12 × 7</caption>\n",
       "<thead>\n",
       "\t<tr><th scope=col>product_id</th><th scope=col>model</th><th scope=col>year</th><th scope=col>product_type</th><th scope=col>base_msrp</th><th scope=col>production_start_date</th><th scope=col>production_end_date</th></tr>\n",
       "\t<tr><th scope=col>&lt;int64&gt;</th><th scope=col>&lt;chr&gt;</th><th scope=col>&lt;int64&gt;</th><th scope=col>&lt;chr&gt;</th><th scope=col>&lt;dbl&gt;</th><th scope=col>&lt;dttm&gt;</th><th scope=col>&lt;dttm&gt;</th></tr>\n",
       "</thead>\n",
       "<tbody>\n",
       "\t<tr><td> 1</td><td>Lemon                </td><td>2010</td><td>scooter   </td><td>   399.99</td><td>2010-03-03</td><td>2012-06-08</td></tr>\n",
       "\t<tr><td> 2</td><td>Lemon Limited Edition</td><td>2011</td><td>scooter   </td><td>   799.99</td><td>2011-01-03</td><td>2011-03-30</td></tr>\n",
       "\t<tr><td> 3</td><td>Lemon                </td><td>2013</td><td>scooter   </td><td>   499.99</td><td>2013-05-01</td><td>2018-12-28</td></tr>\n",
       "\t<tr><td> 5</td><td>Blade                </td><td>2014</td><td>scooter   </td><td>   699.99</td><td>2014-06-23</td><td>2015-01-27</td></tr>\n",
       "\t<tr><td> 7</td><td>Bat                  </td><td>2016</td><td>scooter   </td><td>   599.99</td><td>2016-10-10</td><td>NA</td></tr>\n",
       "\t<tr><td> 8</td><td>Bat Limited Edition  </td><td>2017</td><td>scooter   </td><td>   699.99</td><td>2017-02-15</td><td>NA</td></tr>\n",
       "\t<tr><td>12</td><td>Lemon Zester         </td><td>2019</td><td>scooter   </td><td>   349.99</td><td>2019-02-04</td><td>NA</td></tr>\n",
       "\t<tr><td> 4</td><td>Model Chi            </td><td>2014</td><td>automobile</td><td>115000.00</td><td>2014-06-23</td><td>2018-12-28</td></tr>\n",
       "\t<tr><td> 6</td><td>Model Sigma          </td><td>2015</td><td>automobile</td><td> 65500.00</td><td>2015-04-15</td><td>2018-10-01</td></tr>\n",
       "\t<tr><td> 9</td><td>Model Epsilon        </td><td>2017</td><td>automobile</td><td> 35000.00</td><td>2017-02-15</td><td>NA</td></tr>\n",
       "\t<tr><td>10</td><td>Model Gamma          </td><td>2017</td><td>automobile</td><td> 85750.00</td><td>2017-02-15</td><td>NA</td></tr>\n",
       "\t<tr><td>11</td><td>Model Chi            </td><td>2019</td><td>automobile</td><td> 95000.00</td><td>2019-02-04</td><td>NA</td></tr>\n",
       "</tbody>\n",
       "</table>\n"
      ],
      "text/latex": [
       "A data.frame: 12 × 7\n",
       "\\begin{tabular}{lllllll}\n",
       " product\\_id & model & year & product\\_type & base\\_msrp & production\\_start\\_date & production\\_end\\_date\\\\\n",
       " <int64> & <chr> & <int64> & <chr> & <dbl> & <dttm> & <dttm>\\\\\n",
       "\\hline\n",
       "\t  1 & Lemon                 & 2010 & scooter    &    399.99 & 2010-03-03 & 2012-06-08\\\\\n",
       "\t  2 & Lemon Limited Edition & 2011 & scooter    &    799.99 & 2011-01-03 & 2011-03-30\\\\\n",
       "\t  3 & Lemon                 & 2013 & scooter    &    499.99 & 2013-05-01 & 2018-12-28\\\\\n",
       "\t  5 & Blade                 & 2014 & scooter    &    699.99 & 2014-06-23 & 2015-01-27\\\\\n",
       "\t  7 & Bat                   & 2016 & scooter    &    599.99 & 2016-10-10 & NA\\\\\n",
       "\t  8 & Bat Limited Edition   & 2017 & scooter    &    699.99 & 2017-02-15 & NA\\\\\n",
       "\t 12 & Lemon Zester          & 2019 & scooter    &    349.99 & 2019-02-04 & NA\\\\\n",
       "\t  4 & Model Chi             & 2014 & automobile & 115000.00 & 2014-06-23 & 2018-12-28\\\\\n",
       "\t  6 & Model Sigma           & 2015 & automobile &  65500.00 & 2015-04-15 & 2018-10-01\\\\\n",
       "\t  9 & Model Epsilon         & 2017 & automobile &  35000.00 & 2017-02-15 & NA\\\\\n",
       "\t 10 & Model Gamma           & 2017 & automobile &  85750.00 & 2017-02-15 & NA\\\\\n",
       "\t 11 & Model Chi             & 2019 & automobile &  95000.00 & 2019-02-04 & NA\\\\\n",
       "\\end{tabular}\n"
      ],
      "text/markdown": [
       "\n",
       "A data.frame: 12 × 7\n",
       "\n",
       "| product_id &lt;int64&gt; | model &lt;chr&gt; | year &lt;int64&gt; | product_type &lt;chr&gt; | base_msrp &lt;dbl&gt; | production_start_date &lt;dttm&gt; | production_end_date &lt;dttm&gt; |\n",
       "|---|---|---|---|---|---|---|\n",
       "|  1 | Lemon                 | 2010 | scooter    |    399.99 | 2010-03-03 | 2012-06-08 |\n",
       "|  2 | Lemon Limited Edition | 2011 | scooter    |    799.99 | 2011-01-03 | 2011-03-30 |\n",
       "|  3 | Lemon                 | 2013 | scooter    |    499.99 | 2013-05-01 | 2018-12-28 |\n",
       "|  5 | Blade                 | 2014 | scooter    |    699.99 | 2014-06-23 | 2015-01-27 |\n",
       "|  7 | Bat                   | 2016 | scooter    |    599.99 | 2016-10-10 | NA |\n",
       "|  8 | Bat Limited Edition   | 2017 | scooter    |    699.99 | 2017-02-15 | NA |\n",
       "| 12 | Lemon Zester          | 2019 | scooter    |    349.99 | 2019-02-04 | NA |\n",
       "|  4 | Model Chi             | 2014 | automobile | 115000.00 | 2014-06-23 | 2018-12-28 |\n",
       "|  6 | Model Sigma           | 2015 | automobile |  65500.00 | 2015-04-15 | 2018-10-01 |\n",
       "|  9 | Model Epsilon         | 2017 | automobile |  35000.00 | 2017-02-15 | NA |\n",
       "| 10 | Model Gamma           | 2017 | automobile |  85750.00 | 2017-02-15 | NA |\n",
       "| 11 | Model Chi             | 2019 | automobile |  95000.00 | 2019-02-04 | NA |\n",
       "\n"
      ],
      "text/plain": [
       "   product_id model                 year product_type base_msrp\n",
       "1   1         Lemon                 2010 scooter         399.99\n",
       "2   2         Lemon Limited Edition 2011 scooter         799.99\n",
       "3   3         Lemon                 2013 scooter         499.99\n",
       "4   5         Blade                 2014 scooter         699.99\n",
       "5   7         Bat                   2016 scooter         599.99\n",
       "6   8         Bat Limited Edition   2017 scooter         699.99\n",
       "7  12         Lemon Zester          2019 scooter         349.99\n",
       "8   4         Model Chi             2014 automobile   115000.00\n",
       "9   6         Model Sigma           2015 automobile    65500.00\n",
       "10  9         Model Epsilon         2017 automobile    35000.00\n",
       "11 10         Model Gamma           2017 automobile    85750.00\n",
       "12 11         Model Chi             2019 automobile    95000.00\n",
       "   production_start_date production_end_date\n",
       "1  2010-03-03            2012-06-08         \n",
       "2  2011-01-03            2011-03-30         \n",
       "3  2013-05-01            2018-12-28         \n",
       "4  2014-06-23            2015-01-27         \n",
       "5  2016-10-10            <NA>               \n",
       "6  2017-02-15            <NA>               \n",
       "7  2019-02-04            <NA>               \n",
       "8  2014-06-23            2018-12-28         \n",
       "9  2015-04-15            2018-10-01         \n",
       "10 2017-02-15            <NA>               \n",
       "11 2017-02-15            <NA>               \n",
       "12 2019-02-04            <NA>               "
      ]
     },
     "metadata": {},
     "output_type": "display_data"
    }
   ],
   "source": [
    "dbGetQuery(con, query)"
   ]
  },
  {
   "cell_type": "code",
   "execution_count": 74,
   "id": "42f8e60c-984a-46d2-9a61-c2ef5246ca3f",
   "metadata": {},
   "outputs": [],
   "source": [
    "query <- \"SELECT * FROM dealerships\""
   ]
  },
  {
   "cell_type": "code",
   "execution_count": 75,
   "id": "9ba0b03e-e4a0-424d-9012-0619ea956854",
   "metadata": {},
   "outputs": [
    {
     "data": {
      "text/html": [
       "<table class=\"dataframe\">\n",
       "<caption>A data.frame: 20 × 9</caption>\n",
       "<thead>\n",
       "\t<tr><th scope=col>dealership_id</th><th scope=col>street_address</th><th scope=col>city</th><th scope=col>state</th><th scope=col>postal_code</th><th scope=col>latitude</th><th scope=col>longitude</th><th scope=col>date_opened</th><th scope=col>date_closed</th></tr>\n",
       "\t<tr><th scope=col>&lt;int64&gt;</th><th scope=col>&lt;chr&gt;</th><th scope=col>&lt;chr&gt;</th><th scope=col>&lt;chr&gt;</th><th scope=col>&lt;chr&gt;</th><th scope=col>&lt;dbl&gt;</th><th scope=col>&lt;dbl&gt;</th><th scope=col>&lt;dttm&gt;</th><th scope=col>&lt;dttm&gt;</th></tr>\n",
       "</thead>\n",
       "<tbody>\n",
       "\t<tr><td> 1</td><td>52 Hillside Terrace       </td><td>Millburn    </td><td>NJ</td><td>07039</td><td>40.79285</td><td> -74.32329</td><td>2014-06-01</td><td>NA</td></tr>\n",
       "\t<tr><td> 2</td><td>808 South Hobart Boulevard</td><td>Los Angeles </td><td>CA</td><td>90005</td><td>34.05775</td><td>-118.30542</td><td>2014-06-01</td><td>NA</td></tr>\n",
       "\t<tr><td> 3</td><td>16801 Lee Road            </td><td>Houston     </td><td>TX</td><td>77032</td><td>29.96350</td><td> -95.30702</td><td>2014-06-01</td><td>NA</td></tr>\n",
       "\t<tr><td> 4</td><td>2437 NW 28th Street       </td><td>Miami       </td><td>FL</td><td>33242</td><td>25.80175</td><td> -80.23645</td><td>2014-06-01</td><td>NA</td></tr>\n",
       "\t<tr><td> 5</td><td>2210 Bunker Hill Drive    </td><td>San Mateo   </td><td>CA</td><td>94402</td><td>37.52449</td><td>-122.34361</td><td>2014-06-01</td><td>NA</td></tr>\n",
       "\t<tr><td> 6</td><td>7315 California Avenue    </td><td>Seattle     </td><td>WA</td><td>98136</td><td>47.53796</td><td>-122.38729</td><td>2014-06-01</td><td>NA</td></tr>\n",
       "\t<tr><td> 7</td><td>3650 Gunston Road         </td><td>Arlington   </td><td>VA</td><td>22202</td><td>38.83918</td><td> -77.07974</td><td>2014-06-01</td><td>NA</td></tr>\n",
       "\t<tr><td> 8</td><td>5938 Cornfoot Road        </td><td>Portland    </td><td>OR</td><td>97218</td><td>45.57570</td><td>-122.60298</td><td>2014-06-01</td><td>NA</td></tr>\n",
       "\t<tr><td> 9</td><td>2340 NV-648               </td><td>Reno        </td><td>NV</td><td>89595</td><td>39.52768</td><td>-119.77571</td><td>2014-06-01</td><td>NA</td></tr>\n",
       "\t<tr><td>10</td><td>7425 Wilson Avenue        </td><td>Chicago     </td><td>IL</td><td>60706</td><td>41.96347</td><td> -87.81360</td><td>2014-06-01</td><td>NA</td></tr>\n",
       "\t<tr><td>11</td><td>1520 Perry Boulevard      </td><td>Atlanta     </td><td>GA</td><td>30318</td><td>33.78965</td><td> -84.43930</td><td>2014-06-01</td><td>NA</td></tr>\n",
       "\t<tr><td>12</td><td>1900 Delaney Avenue       </td><td>Orlando     </td><td>FL</td><td>32856</td><td>28.52072</td><td> -81.37223</td><td>2014-06-01</td><td>NA</td></tr>\n",
       "\t<tr><td>13</td><td>1225 Florida Boulevard    </td><td>Jacksonville</td><td>FL</td><td>32266</td><td>30.31603</td><td> -81.41016</td><td>2014-06-01</td><td>NA</td></tr>\n",
       "\t<tr><td>14</td><td>800 North Mays Street     </td><td>Round Rock  </td><td>TX</td><td>78664</td><td>30.51548</td><td> -97.68191</td><td>2014-06-01</td><td>NA</td></tr>\n",
       "\t<tr><td>15</td><td>14301 Caribbean Lane      </td><td>Phoenix     </td><td>AZ</td><td>85383</td><td>33.62380</td><td>-112.36994</td><td>2014-06-01</td><td>NA</td></tr>\n",
       "\t<tr><td>16</td><td>900 Rocky River Road      </td><td>Charlotte   </td><td>NC</td><td>28126</td><td>35.28334</td><td> -80.74763</td><td>2014-06-01</td><td>NA</td></tr>\n",
       "\t<tr><td>17</td><td>2120 Walnut Street        </td><td>Philadelphia</td><td>PA</td><td>19092</td><td>39.95095</td><td> -75.17705</td><td>2014-06-01</td><td>NA</td></tr>\n",
       "\t<tr><td>18</td><td>1447 Hardesty Avenue      </td><td>Kansas City </td><td>MO</td><td>64195</td><td>39.09567</td><td> -94.51928</td><td>2014-06-01</td><td>NA</td></tr>\n",
       "\t<tr><td>19</td><td>4311 San Jacinto Street   </td><td>Dallas      </td><td>TX</td><td>75201</td><td>32.80121</td><td> -96.78200</td><td>2014-06-01</td><td>NA</td></tr>\n",
       "\t<tr><td>20</td><td>50 Worthington Road       </td><td>Boston      </td><td>MA</td><td>02123</td><td>42.34905</td><td> -71.11338</td><td>2014-06-01</td><td>NA</td></tr>\n",
       "</tbody>\n",
       "</table>\n"
      ],
      "text/latex": [
       "A data.frame: 20 × 9\n",
       "\\begin{tabular}{lllllllll}\n",
       " dealership\\_id & street\\_address & city & state & postal\\_code & latitude & longitude & date\\_opened & date\\_closed\\\\\n",
       " <int64> & <chr> & <chr> & <chr> & <chr> & <dbl> & <dbl> & <dttm> & <dttm>\\\\\n",
       "\\hline\n",
       "\t  1 & 52 Hillside Terrace        & Millburn     & NJ & 07039 & 40.79285 &  -74.32329 & 2014-06-01 & NA\\\\\n",
       "\t  2 & 808 South Hobart Boulevard & Los Angeles  & CA & 90005 & 34.05775 & -118.30542 & 2014-06-01 & NA\\\\\n",
       "\t  3 & 16801 Lee Road             & Houston      & TX & 77032 & 29.96350 &  -95.30702 & 2014-06-01 & NA\\\\\n",
       "\t  4 & 2437 NW 28th Street        & Miami        & FL & 33242 & 25.80175 &  -80.23645 & 2014-06-01 & NA\\\\\n",
       "\t  5 & 2210 Bunker Hill Drive     & San Mateo    & CA & 94402 & 37.52449 & -122.34361 & 2014-06-01 & NA\\\\\n",
       "\t  6 & 7315 California Avenue     & Seattle      & WA & 98136 & 47.53796 & -122.38729 & 2014-06-01 & NA\\\\\n",
       "\t  7 & 3650 Gunston Road          & Arlington    & VA & 22202 & 38.83918 &  -77.07974 & 2014-06-01 & NA\\\\\n",
       "\t  8 & 5938 Cornfoot Road         & Portland     & OR & 97218 & 45.57570 & -122.60298 & 2014-06-01 & NA\\\\\n",
       "\t  9 & 2340 NV-648                & Reno         & NV & 89595 & 39.52768 & -119.77571 & 2014-06-01 & NA\\\\\n",
       "\t 10 & 7425 Wilson Avenue         & Chicago      & IL & 60706 & 41.96347 &  -87.81360 & 2014-06-01 & NA\\\\\n",
       "\t 11 & 1520 Perry Boulevard       & Atlanta      & GA & 30318 & 33.78965 &  -84.43930 & 2014-06-01 & NA\\\\\n",
       "\t 12 & 1900 Delaney Avenue        & Orlando      & FL & 32856 & 28.52072 &  -81.37223 & 2014-06-01 & NA\\\\\n",
       "\t 13 & 1225 Florida Boulevard     & Jacksonville & FL & 32266 & 30.31603 &  -81.41016 & 2014-06-01 & NA\\\\\n",
       "\t 14 & 800 North Mays Street      & Round Rock   & TX & 78664 & 30.51548 &  -97.68191 & 2014-06-01 & NA\\\\\n",
       "\t 15 & 14301 Caribbean Lane       & Phoenix      & AZ & 85383 & 33.62380 & -112.36994 & 2014-06-01 & NA\\\\\n",
       "\t 16 & 900 Rocky River Road       & Charlotte    & NC & 28126 & 35.28334 &  -80.74763 & 2014-06-01 & NA\\\\\n",
       "\t 17 & 2120 Walnut Street         & Philadelphia & PA & 19092 & 39.95095 &  -75.17705 & 2014-06-01 & NA\\\\\n",
       "\t 18 & 1447 Hardesty Avenue       & Kansas City  & MO & 64195 & 39.09567 &  -94.51928 & 2014-06-01 & NA\\\\\n",
       "\t 19 & 4311 San Jacinto Street    & Dallas       & TX & 75201 & 32.80121 &  -96.78200 & 2014-06-01 & NA\\\\\n",
       "\t 20 & 50 Worthington Road        & Boston       & MA & 02123 & 42.34905 &  -71.11338 & 2014-06-01 & NA\\\\\n",
       "\\end{tabular}\n"
      ],
      "text/markdown": [
       "\n",
       "A data.frame: 20 × 9\n",
       "\n",
       "| dealership_id &lt;int64&gt; | street_address &lt;chr&gt; | city &lt;chr&gt; | state &lt;chr&gt; | postal_code &lt;chr&gt; | latitude &lt;dbl&gt; | longitude &lt;dbl&gt; | date_opened &lt;dttm&gt; | date_closed &lt;dttm&gt; |\n",
       "|---|---|---|---|---|---|---|---|---|\n",
       "|  1 | 52 Hillside Terrace        | Millburn     | NJ | 07039 | 40.79285 |  -74.32329 | 2014-06-01 | NA |\n",
       "|  2 | 808 South Hobart Boulevard | Los Angeles  | CA | 90005 | 34.05775 | -118.30542 | 2014-06-01 | NA |\n",
       "|  3 | 16801 Lee Road             | Houston      | TX | 77032 | 29.96350 |  -95.30702 | 2014-06-01 | NA |\n",
       "|  4 | 2437 NW 28th Street        | Miami        | FL | 33242 | 25.80175 |  -80.23645 | 2014-06-01 | NA |\n",
       "|  5 | 2210 Bunker Hill Drive     | San Mateo    | CA | 94402 | 37.52449 | -122.34361 | 2014-06-01 | NA |\n",
       "|  6 | 7315 California Avenue     | Seattle      | WA | 98136 | 47.53796 | -122.38729 | 2014-06-01 | NA |\n",
       "|  7 | 3650 Gunston Road          | Arlington    | VA | 22202 | 38.83918 |  -77.07974 | 2014-06-01 | NA |\n",
       "|  8 | 5938 Cornfoot Road         | Portland     | OR | 97218 | 45.57570 | -122.60298 | 2014-06-01 | NA |\n",
       "|  9 | 2340 NV-648                | Reno         | NV | 89595 | 39.52768 | -119.77571 | 2014-06-01 | NA |\n",
       "| 10 | 7425 Wilson Avenue         | Chicago      | IL | 60706 | 41.96347 |  -87.81360 | 2014-06-01 | NA |\n",
       "| 11 | 1520 Perry Boulevard       | Atlanta      | GA | 30318 | 33.78965 |  -84.43930 | 2014-06-01 | NA |\n",
       "| 12 | 1900 Delaney Avenue        | Orlando      | FL | 32856 | 28.52072 |  -81.37223 | 2014-06-01 | NA |\n",
       "| 13 | 1225 Florida Boulevard     | Jacksonville | FL | 32266 | 30.31603 |  -81.41016 | 2014-06-01 | NA |\n",
       "| 14 | 800 North Mays Street      | Round Rock   | TX | 78664 | 30.51548 |  -97.68191 | 2014-06-01 | NA |\n",
       "| 15 | 14301 Caribbean Lane       | Phoenix      | AZ | 85383 | 33.62380 | -112.36994 | 2014-06-01 | NA |\n",
       "| 16 | 900 Rocky River Road       | Charlotte    | NC | 28126 | 35.28334 |  -80.74763 | 2014-06-01 | NA |\n",
       "| 17 | 2120 Walnut Street         | Philadelphia | PA | 19092 | 39.95095 |  -75.17705 | 2014-06-01 | NA |\n",
       "| 18 | 1447 Hardesty Avenue       | Kansas City  | MO | 64195 | 39.09567 |  -94.51928 | 2014-06-01 | NA |\n",
       "| 19 | 4311 San Jacinto Street    | Dallas       | TX | 75201 | 32.80121 |  -96.78200 | 2014-06-01 | NA |\n",
       "| 20 | 50 Worthington Road        | Boston       | MA | 02123 | 42.34905 |  -71.11338 | 2014-06-01 | NA |\n",
       "\n"
      ],
      "text/plain": [
       "   dealership_id street_address             city         state postal_code\n",
       "1   1            52 Hillside Terrace        Millburn     NJ    07039      \n",
       "2   2            808 South Hobart Boulevard Los Angeles  CA    90005      \n",
       "3   3            16801 Lee Road             Houston      TX    77032      \n",
       "4   4            2437 NW 28th Street        Miami        FL    33242      \n",
       "5   5            2210 Bunker Hill Drive     San Mateo    CA    94402      \n",
       "6   6            7315 California Avenue     Seattle      WA    98136      \n",
       "7   7            3650 Gunston Road          Arlington    VA    22202      \n",
       "8   8            5938 Cornfoot Road         Portland     OR    97218      \n",
       "9   9            2340 NV-648                Reno         NV    89595      \n",
       "10 10            7425 Wilson Avenue         Chicago      IL    60706      \n",
       "11 11            1520 Perry Boulevard       Atlanta      GA    30318      \n",
       "12 12            1900 Delaney Avenue        Orlando      FL    32856      \n",
       "13 13            1225 Florida Boulevard     Jacksonville FL    32266      \n",
       "14 14            800 North Mays Street      Round Rock   TX    78664      \n",
       "15 15            14301 Caribbean Lane       Phoenix      AZ    85383      \n",
       "16 16            900 Rocky River Road       Charlotte    NC    28126      \n",
       "17 17            2120 Walnut Street         Philadelphia PA    19092      \n",
       "18 18            1447 Hardesty Avenue       Kansas City  MO    64195      \n",
       "19 19            4311 San Jacinto Street    Dallas       TX    75201      \n",
       "20 20            50 Worthington Road        Boston       MA    02123      \n",
       "   latitude longitude  date_opened date_closed\n",
       "1  40.79285  -74.32329 2014-06-01  <NA>       \n",
       "2  34.05775 -118.30542 2014-06-01  <NA>       \n",
       "3  29.96350  -95.30702 2014-06-01  <NA>       \n",
       "4  25.80175  -80.23645 2014-06-01  <NA>       \n",
       "5  37.52449 -122.34361 2014-06-01  <NA>       \n",
       "6  47.53796 -122.38729 2014-06-01  <NA>       \n",
       "7  38.83918  -77.07974 2014-06-01  <NA>       \n",
       "8  45.57570 -122.60298 2014-06-01  <NA>       \n",
       "9  39.52768 -119.77571 2014-06-01  <NA>       \n",
       "10 41.96347  -87.81360 2014-06-01  <NA>       \n",
       "11 33.78965  -84.43930 2014-06-01  <NA>       \n",
       "12 28.52072  -81.37223 2014-06-01  <NA>       \n",
       "13 30.31603  -81.41016 2014-06-01  <NA>       \n",
       "14 30.51548  -97.68191 2014-06-01  <NA>       \n",
       "15 33.62380 -112.36994 2014-06-01  <NA>       \n",
       "16 35.28334  -80.74763 2014-06-01  <NA>       \n",
       "17 39.95095  -75.17705 2014-06-01  <NA>       \n",
       "18 39.09567  -94.51928 2014-06-01  <NA>       \n",
       "19 32.80121  -96.78200 2014-06-01  <NA>       \n",
       "20 42.34905  -71.11338 2014-06-01  <NA>       "
      ]
     },
     "metadata": {},
     "output_type": "display_data"
    }
   ],
   "source": [
    "dbGetQuery(con, query)"
   ]
  },
  {
   "cell_type": "code",
   "execution_count": 78,
   "id": "fc23c5b8-d313-405f-be96-2b8cdda4e62f",
   "metadata": {},
   "outputs": [],
   "source": [
    "query <- \"SELECT * FROM sales WHERE channel='dealership' ORDER BY sales_transaction_date DESC LIMIT 20\""
   ]
  },
  {
   "cell_type": "code",
   "execution_count": 79,
   "id": "d0e83eea-617f-4550-b9a4-08134f5e54af",
   "metadata": {},
   "outputs": [
    {
     "data": {
      "text/html": [
       "<table class=\"dataframe\">\n",
       "<caption>A data.frame: 20 × 6</caption>\n",
       "<thead>\n",
       "\t<tr><th scope=col>customer_id</th><th scope=col>product_id</th><th scope=col>sales_transaction_date</th><th scope=col>sales_amount</th><th scope=col>channel</th><th scope=col>dealership_id</th></tr>\n",
       "\t<tr><th scope=col>&lt;int64&gt;</th><th scope=col>&lt;int64&gt;</th><th scope=col>&lt;dttm&gt;</th><th scope=col>&lt;dbl&gt;</th><th scope=col>&lt;chr&gt;</th><th scope=col>&lt;dbl&gt;</th></tr>\n",
       "</thead>\n",
       "<tbody>\n",
       "\t<tr><td>40546</td><td> 7</td><td>2019-05-31 22:15:30</td><td>  599.990</td><td>dealership</td><td>11</td></tr>\n",
       "\t<tr><td>23659</td><td> 7</td><td>2019-05-31 18:21:21</td><td>  479.992</td><td>dealership</td><td> 4</td></tr>\n",
       "\t<tr><td>  536</td><td>10</td><td>2019-05-31 17:30:04</td><td>68600.000</td><td>dealership</td><td> 4</td></tr>\n",
       "\t<tr><td>14824</td><td>12</td><td>2019-05-31 17:01:04</td><td>  349.990</td><td>dealership</td><td>17</td></tr>\n",
       "\t<tr><td>44921</td><td> 8</td><td>2019-05-31 15:08:03</td><td>  559.992</td><td>dealership</td><td> 3</td></tr>\n",
       "\t<tr><td>14925</td><td> 7</td><td>2019-05-31 08:55:52</td><td>  599.990</td><td>dealership</td><td> 5</td></tr>\n",
       "\t<tr><td> 4279</td><td>12</td><td>2019-05-31 08:26:07</td><td>  349.990</td><td>dealership</td><td>17</td></tr>\n",
       "\t<tr><td>29384</td><td>10</td><td>2019-05-31 08:24:31</td><td>85750.000</td><td>dealership</td><td> 7</td></tr>\n",
       "\t<tr><td>47303</td><td>12</td><td>2019-05-31 07:37:10</td><td>  349.990</td><td>dealership</td><td>18</td></tr>\n",
       "\t<tr><td>48830</td><td>12</td><td>2019-05-31 03:40:05</td><td>  314.991</td><td>dealership</td><td>19</td></tr>\n",
       "\t<tr><td> 9826</td><td> 8</td><td>2019-05-31 00:48:24</td><td>  629.991</td><td>dealership</td><td> 8</td></tr>\n",
       "\t<tr><td>20527</td><td>12</td><td>2019-05-30 23:25:58</td><td>  349.990</td><td>dealership</td><td>19</td></tr>\n",
       "\t<tr><td>15093</td><td> 7</td><td>2019-05-30 22:46:58</td><td>  599.990</td><td>dealership</td><td>14</td></tr>\n",
       "\t<tr><td>30644</td><td>12</td><td>2019-05-30 21:49:26</td><td>  349.990</td><td>dealership</td><td>12</td></tr>\n",
       "\t<tr><td>44241</td><td> 8</td><td>2019-05-30 21:37:17</td><td>  559.992</td><td>dealership</td><td>11</td></tr>\n",
       "\t<tr><td> 7041</td><td> 9</td><td>2019-05-30 21:25:48</td><td>35000.000</td><td>dealership</td><td>18</td></tr>\n",
       "\t<tr><td>48572</td><td> 8</td><td>2019-05-30 18:36:58</td><td>  699.990</td><td>dealership</td><td>17</td></tr>\n",
       "\t<tr><td>49453</td><td> 8</td><td>2019-05-30 14:12:09</td><td>  629.991</td><td>dealership</td><td>18</td></tr>\n",
       "\t<tr><td>47145</td><td> 8</td><td>2019-05-30 12:01:43</td><td>  699.990</td><td>dealership</td><td> 1</td></tr>\n",
       "\t<tr><td>12634</td><td>12</td><td>2019-05-30 10:36:42</td><td>  349.990</td><td>dealership</td><td>17</td></tr>\n",
       "</tbody>\n",
       "</table>\n"
      ],
      "text/latex": [
       "A data.frame: 20 × 6\n",
       "\\begin{tabular}{llllll}\n",
       " customer\\_id & product\\_id & sales\\_transaction\\_date & sales\\_amount & channel & dealership\\_id\\\\\n",
       " <int64> & <int64> & <dttm> & <dbl> & <chr> & <dbl>\\\\\n",
       "\\hline\n",
       "\t 40546 &  7 & 2019-05-31 22:15:30 &   599.990 & dealership & 11\\\\\n",
       "\t 23659 &  7 & 2019-05-31 18:21:21 &   479.992 & dealership &  4\\\\\n",
       "\t   536 & 10 & 2019-05-31 17:30:04 & 68600.000 & dealership &  4\\\\\n",
       "\t 14824 & 12 & 2019-05-31 17:01:04 &   349.990 & dealership & 17\\\\\n",
       "\t 44921 &  8 & 2019-05-31 15:08:03 &   559.992 & dealership &  3\\\\\n",
       "\t 14925 &  7 & 2019-05-31 08:55:52 &   599.990 & dealership &  5\\\\\n",
       "\t  4279 & 12 & 2019-05-31 08:26:07 &   349.990 & dealership & 17\\\\\n",
       "\t 29384 & 10 & 2019-05-31 08:24:31 & 85750.000 & dealership &  7\\\\\n",
       "\t 47303 & 12 & 2019-05-31 07:37:10 &   349.990 & dealership & 18\\\\\n",
       "\t 48830 & 12 & 2019-05-31 03:40:05 &   314.991 & dealership & 19\\\\\n",
       "\t  9826 &  8 & 2019-05-31 00:48:24 &   629.991 & dealership &  8\\\\\n",
       "\t 20527 & 12 & 2019-05-30 23:25:58 &   349.990 & dealership & 19\\\\\n",
       "\t 15093 &  7 & 2019-05-30 22:46:58 &   599.990 & dealership & 14\\\\\n",
       "\t 30644 & 12 & 2019-05-30 21:49:26 &   349.990 & dealership & 12\\\\\n",
       "\t 44241 &  8 & 2019-05-30 21:37:17 &   559.992 & dealership & 11\\\\\n",
       "\t  7041 &  9 & 2019-05-30 21:25:48 & 35000.000 & dealership & 18\\\\\n",
       "\t 48572 &  8 & 2019-05-30 18:36:58 &   699.990 & dealership & 17\\\\\n",
       "\t 49453 &  8 & 2019-05-30 14:12:09 &   629.991 & dealership & 18\\\\\n",
       "\t 47145 &  8 & 2019-05-30 12:01:43 &   699.990 & dealership &  1\\\\\n",
       "\t 12634 & 12 & 2019-05-30 10:36:42 &   349.990 & dealership & 17\\\\\n",
       "\\end{tabular}\n"
      ],
      "text/markdown": [
       "\n",
       "A data.frame: 20 × 6\n",
       "\n",
       "| customer_id &lt;int64&gt; | product_id &lt;int64&gt; | sales_transaction_date &lt;dttm&gt; | sales_amount &lt;dbl&gt; | channel &lt;chr&gt; | dealership_id &lt;dbl&gt; |\n",
       "|---|---|---|---|---|---|\n",
       "| 40546 |  7 | 2019-05-31 22:15:30 |   599.990 | dealership | 11 |\n",
       "| 23659 |  7 | 2019-05-31 18:21:21 |   479.992 | dealership |  4 |\n",
       "|   536 | 10 | 2019-05-31 17:30:04 | 68600.000 | dealership |  4 |\n",
       "| 14824 | 12 | 2019-05-31 17:01:04 |   349.990 | dealership | 17 |\n",
       "| 44921 |  8 | 2019-05-31 15:08:03 |   559.992 | dealership |  3 |\n",
       "| 14925 |  7 | 2019-05-31 08:55:52 |   599.990 | dealership |  5 |\n",
       "|  4279 | 12 | 2019-05-31 08:26:07 |   349.990 | dealership | 17 |\n",
       "| 29384 | 10 | 2019-05-31 08:24:31 | 85750.000 | dealership |  7 |\n",
       "| 47303 | 12 | 2019-05-31 07:37:10 |   349.990 | dealership | 18 |\n",
       "| 48830 | 12 | 2019-05-31 03:40:05 |   314.991 | dealership | 19 |\n",
       "|  9826 |  8 | 2019-05-31 00:48:24 |   629.991 | dealership |  8 |\n",
       "| 20527 | 12 | 2019-05-30 23:25:58 |   349.990 | dealership | 19 |\n",
       "| 15093 |  7 | 2019-05-30 22:46:58 |   599.990 | dealership | 14 |\n",
       "| 30644 | 12 | 2019-05-30 21:49:26 |   349.990 | dealership | 12 |\n",
       "| 44241 |  8 | 2019-05-30 21:37:17 |   559.992 | dealership | 11 |\n",
       "|  7041 |  9 | 2019-05-30 21:25:48 | 35000.000 | dealership | 18 |\n",
       "| 48572 |  8 | 2019-05-30 18:36:58 |   699.990 | dealership | 17 |\n",
       "| 49453 |  8 | 2019-05-30 14:12:09 |   629.991 | dealership | 18 |\n",
       "| 47145 |  8 | 2019-05-30 12:01:43 |   699.990 | dealership |  1 |\n",
       "| 12634 | 12 | 2019-05-30 10:36:42 |   349.990 | dealership | 17 |\n",
       "\n"
      ],
      "text/plain": [
       "   customer_id product_id sales_transaction_date sales_amount channel   \n",
       "1  40546        7         2019-05-31 22:15:30      599.990    dealership\n",
       "2  23659        7         2019-05-31 18:21:21      479.992    dealership\n",
       "3    536       10         2019-05-31 17:30:04    68600.000    dealership\n",
       "4  14824       12         2019-05-31 17:01:04      349.990    dealership\n",
       "5  44921        8         2019-05-31 15:08:03      559.992    dealership\n",
       "6  14925        7         2019-05-31 08:55:52      599.990    dealership\n",
       "7   4279       12         2019-05-31 08:26:07      349.990    dealership\n",
       "8  29384       10         2019-05-31 08:24:31    85750.000    dealership\n",
       "9  47303       12         2019-05-31 07:37:10      349.990    dealership\n",
       "10 48830       12         2019-05-31 03:40:05      314.991    dealership\n",
       "11  9826        8         2019-05-31 00:48:24      629.991    dealership\n",
       "12 20527       12         2019-05-30 23:25:58      349.990    dealership\n",
       "13 15093        7         2019-05-30 22:46:58      599.990    dealership\n",
       "14 30644       12         2019-05-30 21:49:26      349.990    dealership\n",
       "15 44241        8         2019-05-30 21:37:17      559.992    dealership\n",
       "16  7041        9         2019-05-30 21:25:48    35000.000    dealership\n",
       "17 48572        8         2019-05-30 18:36:58      699.990    dealership\n",
       "18 49453        8         2019-05-30 14:12:09      629.991    dealership\n",
       "19 47145        8         2019-05-30 12:01:43      699.990    dealership\n",
       "20 12634       12         2019-05-30 10:36:42      349.990    dealership\n",
       "   dealership_id\n",
       "1  11           \n",
       "2   4           \n",
       "3   4           \n",
       "4  17           \n",
       "5   3           \n",
       "6   5           \n",
       "7  17           \n",
       "8   7           \n",
       "9  18           \n",
       "10 19           \n",
       "11  8           \n",
       "12 19           \n",
       "13 14           \n",
       "14 12           \n",
       "15 11           \n",
       "16 18           \n",
       "17 17           \n",
       "18 18           \n",
       "19  1           \n",
       "20 17           "
      ]
     },
     "metadata": {},
     "output_type": "display_data"
    }
   ],
   "source": [
    "dbGetQuery(con, query)"
   ]
  }
 ],
 "metadata": {
  "kernelspec": {
   "display_name": "R",
   "language": "R",
   "name": "ir"
  },
  "language_info": {
   "codemirror_mode": "r",
   "file_extension": ".r",
   "mimetype": "text/x-r-source",
   "name": "R",
   "pygments_lexer": "r",
   "version": "4.1.2"
  }
 },
 "nbformat": 4,
 "nbformat_minor": 5
}
