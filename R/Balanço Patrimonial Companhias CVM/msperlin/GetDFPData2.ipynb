{
 "cells": [
  {
   "cell_type": "markdown",
   "metadata": {
    "tags": []
   },
   "source": [
    "GetDFPData2 is the second and backwards incompatible version of GetDPFData, a R package for downloading annual financial reports from B3, the Brazilian financial exchange. Unlike its first iteration, GetDFPData2 imports data using a database of csv files from CVM, which makes it execute much faster than its predecessor. However, the output is slightly different.\n",
    "\n",
    "A shiny app -- web interface -- is also available at https://www.msperlin.com/shiny/GetDFPData2/.\n",
    "\n",
    "<h1>Installation</h1>"
   ]
  },
  {
   "cell_type": "code",
   "execution_count": 1,
   "metadata": {
    "colab": {
     "base_uri": "https://localhost:8080/"
    },
    "executionInfo": {
     "elapsed": 322389,
     "status": "ok",
     "timestamp": 1636461652883,
     "user": {
      "displayName": "Francesco Ghizzo",
      "photoUrl": "https://lh3.googleusercontent.com/a/default-user=s64",
      "userId": "12232356605573294838"
     },
     "user_tz": -60
    },
    "id": "K6q5IexhsTdz",
    "outputId": "e9056bcb-c2fb-4c60-f4ff-856425ec2fbb"
   },
   "outputs": [
    {
     "name": "stderr",
     "output_type": "stream",
     "text": [
      "Installing package into ‘/srv/rlibs’\n",
      "(as ‘lib’ is unspecified)\n",
      "\n"
     ]
    }
   ],
   "source": [
    "# available in cran (stable)\n",
    "install.packages('GetDFPData2')"
   ]
  },
  {
   "cell_type": "code",
   "execution_count": null,
   "metadata": {},
   "outputs": [],
   "source": [
    "# github (dev version)\n",
    "devtools::install_github('msperlin/GetDFPData2')"
   ]
  },
  {
   "cell_type": "markdown",
   "metadata": {},
   "source": [
    "<h1>Example of Usage</h1>\n",
    "<h2>Information about available companies<h2>"
   ]
  },
  {
   "cell_type": "code",
   "execution_count": 1,
   "metadata": {
    "executionInfo": {
     "elapsed": 315,
     "status": "ok",
     "timestamp": 1636461766523,
     "user": {
      "displayName": "Francesco Ghizzo",
      "photoUrl": "https://lh3.googleusercontent.com/a/default-user=s64",
      "userId": "12232356605573294838"
     },
     "user_tz": -60
    },
    "id": "8ZZfbds5uNYi"
   },
   "outputs": [],
   "source": [
    "library(GetDFPData2)"
   ]
  },
  {
   "cell_type": "code",
   "execution_count": 2,
   "metadata": {
    "colab": {
     "base_uri": "https://localhost:8080/"
    },
    "executionInfo": {
     "elapsed": 4181,
     "status": "ok",
     "timestamp": 1636461793772,
     "user": {
      "displayName": "Francesco Ghizzo",
      "photoUrl": "https://lh3.googleusercontent.com/a/default-user=s64",
      "userId": "12232356605573294838"
     },
     "user_tz": -60
    },
    "id": "5fHp8_myuTUO",
    "outputId": "c5345403-97e3-4ccd-f3f3-873162ed8273"
   },
   "outputs": [
    {
     "name": "stderr",
     "output_type": "stream",
     "text": [
      "Fetching info on B3 companies\n",
      "\n",
      "\tDowloading file from CVM\n",
      "\n",
      "\tFile not found, downloading it..\n",
      "\n",
      "\tSuccess\n",
      "\n",
      "\tReading file from CVM\n",
      "\n",
      "\tSaving cache data\n",
      "\n",
      "\tGot 2517 lines for 2385 companies [Actives = 725 Inactives = 1672]\n",
      "\n"
     ]
    }
   ],
   "source": [
    "df_info <- get_info_companies(tempdir())"
   ]
  },
  {
   "cell_type": "code",
   "execution_count": 3,
   "metadata": {
    "colab": {
     "base_uri": "https://localhost:8080/"
    },
    "executionInfo": {
     "elapsed": 377,
     "status": "ok",
     "timestamp": 1636462252324,
     "user": {
      "displayName": "Francesco Ghizzo",
      "photoUrl": "https://lh3.googleusercontent.com/a/default-user=s64",
      "userId": "12232356605573294838"
     },
     "user_tz": -60
    },
    "id": "pdVRA3bKwC5D",
    "outputId": "152ded8e-fc76-4a7b-b35e-fec457ac2528"
   },
   "outputs": [
    {
     "name": "stdout",
     "output_type": "stream",
     "text": [
      "\u001b[90m# A tibble: 2,517 × 47\u001b[39m\n",
      "   CNPJ               DENOM_SOCIAL DENOM_COMERC DT_REG     DT_CONST   DT_CANCEL \n",
      "   \u001b[3m\u001b[90m<chr>\u001b[39m\u001b[23m              \u001b[3m\u001b[90m<chr>\u001b[39m\u001b[23m        \u001b[3m\u001b[90m<chr>\u001b[39m\u001b[23m        \u001b[3m\u001b[90m<date>\u001b[39m\u001b[23m     \u001b[3m\u001b[90m<date>\u001b[39m\u001b[23m     \u001b[3m\u001b[90m<date>\u001b[39m\u001b[23m    \n",
      "\u001b[90m 1\u001b[39m 08.773.135/0001-00 2W ENERGIA … \u001b[31mNA\u001b[39m           2020-10-29 2007-03-23 \u001b[31mNA\u001b[39m        \n",
      "\u001b[90m 2\u001b[39m 11.396.633/0001-87 3A COMPANHI… TRIPLO A  C… 2010-03-08 2009-11-03 2015-12-18\n",
      "\u001b[90m 3\u001b[39m 12.091.809/0001-55 3R PETROLEU… \u001b[31mNA\u001b[39m           2020-11-09 2010-06-08 \u001b[31mNA\u001b[39m        \n",
      "\u001b[90m 4\u001b[39m 01.547.749/0001-16 521 PARTICI… 521 PARTICI… 1997-07-11 1996-07-30 \u001b[31mNA\u001b[39m        \n",
      "\u001b[90m 5\u001b[39m 01.851.771/0001-55 524 PARTICI… 524 PARTICI… 1997-05-30 1997-04-02 \u001b[31mNA\u001b[39m        \n",
      "\u001b[90m 6\u001b[39m 01.919.008/0001-19 525 PARTICI… 525 PARTICI… 1997-07-16 1997-04-02 2006-05-30\n",
      "\u001b[90m 7\u001b[39m 92.659.614/0001-06 A J RENNER … A J RENNER   1969-06-24 \u001b[31mNA\u001b[39m         1998-06-17\n",
      "\u001b[90m 8\u001b[39m 02.288.752/0001-25 A.P. PARTIC… A.P. PARTIC… 1998-01-21 1997-12-14 2004-12-23\n",
      "\u001b[90m 9\u001b[39m 21.649.280/0001-33 ABC DADOS E… ABC COMPUTA… 1988-06-03 \u001b[31mNA\u001b[39m         1993-03-05\n",
      "\u001b[90m10\u001b[39m 02.258.274/0001-00 ABC SUPERME… ABC SUPERME… 1998-02-27 1997-09-30 2001-12-17\n",
      "\u001b[90m# … with 2,507 more rows, and 41 more variables: MOTIVO_CANCEL <chr>,\u001b[39m\n",
      "\u001b[90m#   SIT_REG <chr>, DT_INI_SIT <date>, CD_CVM <dbl>, SETOR_ATIV <chr>,\u001b[39m\n",
      "\u001b[90m#   TP_MERC <chr>, CATEG_REG <chr>, DT_INI_CATEG <date>, SIT_EMISSOR <chr>,\u001b[39m\n",
      "\u001b[90m#   DT_INI_SIT_EMISSOR <date>, CONTROLE_ACIONARIO <chr>, TP_ENDER <chr>,\u001b[39m\n",
      "\u001b[90m#   LOGRADOURO <chr>, COMPL <chr>, BAIRRO <chr>, MUN <chr>, UF <chr>,\u001b[39m\n",
      "\u001b[90m#   PAIS <chr>, CEP <dbl>, DDD_TEL <chr>, TEL <dbl>, DDD_FAX <chr>, FAX <dbl>,\u001b[39m\n",
      "\u001b[90m#   EMAIL <chr>, TP_RESP <chr>, RESP <chr>, DT_INI_RESP <date>, …\u001b[39m\n"
     ]
    }
   ],
   "source": [
    "print(df_info )"
   ]
  },
  {
   "cell_type": "markdown",
   "metadata": {},
   "source": [
    "<h2>Searching for companies</h2>"
   ]
  },
  {
   "cell_type": "code",
   "execution_count": 4,
   "metadata": {
    "colab": {
     "base_uri": "https://localhost:8080/"
    },
    "executionInfo": {
     "elapsed": 305,
     "status": "ok",
     "timestamp": 1636462304646,
     "user": {
      "displayName": "Francesco Ghizzo",
      "photoUrl": "https://lh3.googleusercontent.com/a/default-user=s64",
      "userId": "12232356605573294838"
     },
     "user_tz": -60
    },
    "id": "likObEuXwQln",
    "outputId": "e22b8a32-a064-40fe-e8bb-530801899743"
   },
   "outputs": [
    {
     "name": "stderr",
     "output_type": "stream",
     "text": [
      "Fetching info on B3 companies\n",
      "\n",
      "\tFound cache file. Loading data..\n",
      "\n",
      "\tGot 2517 lines for 2385 companies [Actives = 725 Inactives = 1672]\n",
      "\n",
      "Found 1 companies:\n",
      "\n",
      "GRENDENE SA | situation = ATIVO | sector = Têxtil e Vestuário | CD_CVM = 19615\n",
      "\n"
     ]
    }
   ],
   "source": [
    "search_company('grendene', cache_folder = tempdir())"
   ]
  },
  {
   "cell_type": "markdown",
   "metadata": {},
   "source": [
    "<h2>Downloading Financial Reports</h2>"
   ]
  },
  {
   "cell_type": "code",
   "execution_count": 5,
   "metadata": {},
   "outputs": [
    {
     "name": "stderr",
     "output_type": "stream",
     "text": [
      "\tDowloading dfp_cia_aberta_2019.zip\n",
      "\n",
      "\tFile not found, downloading it..\n",
      "\n",
      "\tSuccess\n",
      "\n",
      "\t\tUnzipping\n",
      "\n",
      "\t\tReading dfp_cia_aberta_DRE_con_2019.csv\n",
      " | Cleaning table\n",
      "\n",
      "\t\tGot 30 rows | 1 companies\n",
      "\n",
      "\tDowloading dfp_cia_aberta_2020.zip\n",
      "\n",
      "\tFile not found, downloading it..\n",
      "\n",
      "\tSuccess\n",
      "\n",
      "\t\tUnzipping\n",
      "\n",
      "\t\tReading dfp_cia_aberta_DRE_con_2020.csv\n",
      " | Cleaning table\n",
      "\n",
      "\t\tGot 32 rows | 1 companies\n",
      "\n"
     ]
    },
    {
     "name": "stdout",
     "output_type": "stream",
     "text": [
      "List of 1\n",
      " $ DF Consolidado - Demonstração do Resultado: tibble [62 × 16] (S3: tbl_df/tbl/data.frame)\n",
      "  ..$ CNPJ_CIA    : chr [1:62] \"89.850.341/0001-60\" \"89.850.341/0001-60\" \"89.850.341/0001-60\" \"89.850.341/0001-60\" ...\n",
      "  ..$ CD_CVM      : num [1:62] 19615 19615 19615 19615 19615 ...\n",
      "  ..$ DT_REFER    : Date[1:62], format: \"2019-12-31\" \"2019-12-31\" ...\n",
      "  ..$ DT_INI_EXERC: Date[1:62], format: \"2019-01-01\" \"2019-01-01\" ...\n",
      "  ..$ DT_FIM_EXERC: Date[1:62], format: \"2019-12-31\" \"2019-12-31\" ...\n",
      "  ..$ DENOM_CIA   : chr [1:62] \"GRENDENE S.A.\" \"GRENDENE S.A.\" \"GRENDENE S.A.\" \"GRENDENE S.A.\" ...\n",
      "  ..$ VERSAO      : num [1:62] 2 2 2 2 2 2 2 2 2 2 ...\n",
      "  ..$ GRUPO_DFP   : chr [1:62] \"DF Consolidado - Demonstração do Resultado\" \"DF Consolidado - Demonstração do Resultado\" \"DF Consolidado - Demonstração do Resultado\" \"DF Consolidado - Demonstração do Resultado\" ...\n",
      "  ..$ MOEDA       : chr [1:62] \"REAL\" \"REAL\" \"REAL\" \"REAL\" ...\n",
      "  ..$ ESCALA_MOEDA: chr [1:62] \"MIL\" \"MIL\" \"MIL\" \"MIL\" ...\n",
      "  ..$ ORDEM_EXERC : chr [1:62] \"ÚLTIMO\" \"ÚLTIMO\" \"ÚLTIMO\" \"ÚLTIMO\" ...\n",
      "  ..$ CD_CONTA    : chr [1:62] \"3.01\" \"3.02\" \"3.03\" \"3.04\" ...\n",
      "  ..$ DS_CONTA    : chr [1:62] \"Receita de Venda de Bens e/ou Serviços\" \"Custo dos Bens e/ou Serviços Vendidos\" \"Resultado Bruto\" \"Despesas/Receitas Operacionais\" ...\n",
      "  ..$ VL_CONTA    : num [1:62] 2071034 -1126511 944523 -590995 -530825 ...\n",
      "  ..$ COLUNA_DF   : logi [1:62] NA NA NA NA NA NA ...\n",
      "  ..$ source_file : chr [1:62] \"dfp_cia_aberta_DRE_con_2019.csv\" \"dfp_cia_aberta_DRE_con_2019.csv\" \"dfp_cia_aberta_DRE_con_2019.csv\" \"dfp_cia_aberta_DRE_con_2019.csv\" ...\n"
     ]
    }
   ],
   "source": [
    "l_dfp <- get_dfp_data(companies_cvm_codes = 19615, \n",
    "                      use_memoise = FALSE,\n",
    "                      clean_data = TRUE,\n",
    "                      cache_folder = tempdir(), # use local folder in live code\n",
    "                      type_docs = c('DRE'), \n",
    "                      type_format = 'con',\n",
    "                      first_year = 2019, \n",
    "                      last_year = 2020)\n",
    "\n",
    "str(l_dfp)"
   ]
  }
 ],
 "metadata": {
  "colab": {
   "authorship_tag": "ABX9TyPyxynbD/bfOLZXbmTBiBwo",
   "name": "CVM_R.ipynb",
   "provenance": []
  },
  "kernelspec": {
   "display_name": "R",
   "language": "R",
   "name": "ir"
  },
  "language_info": {
   "codemirror_mode": "r",
   "file_extension": ".r",
   "mimetype": "text/x-r-source",
   "name": "R",
   "pygments_lexer": "r",
   "version": "4.1.2"
  }
 },
 "nbformat": 4,
 "nbformat_minor": 4
}
