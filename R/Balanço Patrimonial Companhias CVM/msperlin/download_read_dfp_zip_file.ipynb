{
  "nbformat": 4,
  "nbformat_minor": 0,
  "metadata": {
    "colab": {
      "name": "download_read_dfp_zip_file.ipynb",
      "provenance": [],
      "collapsed_sections": []
    },
    "kernelspec": {
      "name": "ir",
      "display_name": "R"
    },
    "language_info": {
      "name": "R"
    }
  },
  "cells": [
    {
      "cell_type": "markdown",
      "source": [
        "GitHub:\n",
        "\n",
        "https://github.com/msperlin/GetDFPData2/blob/master/R/fct_download_read_dfp_zip_file.R\n",
        "https://github.com/msperlin/GetDFPData2/blob/master/R/fct_download_file.R"
      ],
      "metadata": {
        "id": "uRsuRjH275Lf"
      }
    },
    {
      "cell_type": "code",
      "source": [
        "install.packages('RCurl')"
      ],
      "metadata": {
        "colab": {
          "base_uri": "https://localhost:8080/"
        },
        "id": "Dkoi6nIP754J",
        "outputId": "9feaea22-73d9-4760-d8b3-e13436b6fb85"
      },
      "execution_count": 1,
      "outputs": [
        {
          "output_type": "stream",
          "name": "stderr",
          "text": [
            "Installing package into ‘/usr/local/lib/R/site-library’\n",
            "(as ‘lib’ is unspecified)\n",
            "\n",
            "also installing the dependency ‘bitops’\n",
            "\n",
            "\n"
          ]
        }
      ]
    },
    {
      "cell_type": "code",
      "source": [
        "link_cvm <- \"http://dados.cvm.gov.br/dados/CIA_ABERTA/DOC/DFP/DADOS/dfp_cia_aberta_2021.zip\"\n",
        "dest_file = \"dfp_cia_aberta_2021.zip\"\n",
        "unzip_dir <- \"dfp_cia_aberta_2021\""
      ],
      "metadata": {
        "id": "LUeUgUjD8SLc"
      },
      "execution_count": 2,
      "outputs": []
    },
    {
      "cell_type": "code",
      "source": [
        "utils::download.file(url = link_cvm, destfile = dest_file, method = 'wget', extra = '--no-check-certificate', quiet = TRUE, mode = 'wb')"
      ],
      "metadata": {
        "id": "oMYGiBbf8XmD"
      },
      "execution_count": 3,
      "outputs": []
    },
    {
      "cell_type": "code",
      "source": [
        "utils::download.file(url = link_cvm, destfile = dest_file, method = 'curl')"
      ],
      "metadata": {
        "id": "E0LSscdY80YP"
      },
      "execution_count": 4,
      "outputs": []
    },
    {
      "cell_type": "code",
      "source": [
        "list.files()"
      ],
      "metadata": {
        "colab": {
          "base_uri": "https://localhost:8080/",
          "height": 34
        },
        "id": "EYCRjcvF8xiV",
        "outputId": "44eb7863-6cdb-464d-c455-d52bfd599c12"
      },
      "execution_count": 5,
      "outputs": [
        {
          "output_type": "display_data",
          "data": {
            "text/html": [
              "<style>\n",
              ".list-inline {list-style: none; margin:0; padding: 0}\n",
              ".list-inline>li {display: inline-block}\n",
              ".list-inline>li:not(:last-child)::after {content: \"\\00b7\"; padding: 0 .5ex}\n",
              "</style>\n",
              "<ol class=list-inline><li>'dfp_cia_aberta_2021.zip'</li><li>'sample_data'</li></ol>\n"
            ],
            "text/markdown": "1. 'dfp_cia_aberta_2021.zip'\n2. 'sample_data'\n\n\n",
            "text/latex": "\\begin{enumerate*}\n\\item 'dfp\\_cia\\_aberta\\_2021.zip'\n\\item 'sample\\_data'\n\\end{enumerate*}\n",
            "text/plain": [
              "[1] \"dfp_cia_aberta_2021.zip\" \"sample_data\"            "
            ]
          },
          "metadata": {}
        }
      ]
    },
    {
      "cell_type": "code",
      "source": [
        "utils::unzip(zipfile = dest_file, exdir = unzip_dir, junkpaths = TRUE)"
      ],
      "metadata": {
        "id": "AL3EYVWR9toO"
      },
      "execution_count": 6,
      "outputs": []
    },
    {
      "cell_type": "code",
      "source": [
        "list.files()"
      ],
      "metadata": {
        "colab": {
          "base_uri": "https://localhost:8080/",
          "height": 34
        },
        "id": "uXgvirWS93Vj",
        "outputId": "32c0fd13-2108-49c4-c996-eb5af5c19923"
      },
      "execution_count": 7,
      "outputs": [
        {
          "output_type": "display_data",
          "data": {
            "text/html": [
              "<style>\n",
              ".list-inline {list-style: none; margin:0; padding: 0}\n",
              ".list-inline>li {display: inline-block}\n",
              ".list-inline>li:not(:last-child)::after {content: \"\\00b7\"; padding: 0 .5ex}\n",
              "</style>\n",
              "<ol class=list-inline><li>'dfp_cia_aberta_2021'</li><li>'dfp_cia_aberta_2021.zip'</li><li>'sample_data'</li></ol>\n"
            ],
            "text/markdown": "1. 'dfp_cia_aberta_2021'\n2. 'dfp_cia_aberta_2021.zip'\n3. 'sample_data'\n\n\n",
            "text/latex": "\\begin{enumerate*}\n\\item 'dfp\\_cia\\_aberta\\_2021'\n\\item 'dfp\\_cia\\_aberta\\_2021.zip'\n\\item 'sample\\_data'\n\\end{enumerate*}\n",
            "text/plain": [
              "[1] \"dfp_cia_aberta_2021\"     \"dfp_cia_aberta_2021.zip\"\n",
              "[3] \"sample_data\"            "
            ]
          },
          "metadata": {}
        }
      ]
    },
    {
      "cell_type": "code",
      "source": [
        "setwd(unzip_dir)\n",
        "list.files()"
      ],
      "metadata": {
        "colab": {
          "base_uri": "https://localhost:8080/",
          "height": 68
        },
        "id": "pc5UaU2T96si",
        "outputId": "9c060e88-e2c7-4d22-8941-10a20b2f6f61"
      },
      "execution_count": 8,
      "outputs": [
        {
          "output_type": "display_data",
          "data": {
            "text/html": [
              "<style>\n",
              ".list-inline {list-style: none; margin:0; padding: 0}\n",
              ".list-inline>li {display: inline-block}\n",
              ".list-inline>li:not(:last-child)::after {content: \"\\00b7\"; padding: 0 .5ex}\n",
              "</style>\n",
              "<ol class=list-inline><li>'dfp_cia_aberta_2021.csv'</li><li>'dfp_cia_aberta_BPA_con_2021.csv'</li><li>'dfp_cia_aberta_BPA_ind_2021.csv'</li><li>'dfp_cia_aberta_BPP_con_2021.csv'</li><li>'dfp_cia_aberta_BPP_ind_2021.csv'</li><li>'dfp_cia_aberta_DFC_MD_con_2021.csv'</li><li>'dfp_cia_aberta_DFC_MD_ind_2021.csv'</li><li>'dfp_cia_aberta_DFC_MI_con_2021.csv'</li><li>'dfp_cia_aberta_DFC_MI_ind_2021.csv'</li><li>'dfp_cia_aberta_DMPL_con_2021.csv'</li><li>'dfp_cia_aberta_DMPL_ind_2021.csv'</li><li>'dfp_cia_aberta_DRA_con_2021.csv'</li><li>'dfp_cia_aberta_DRA_ind_2021.csv'</li><li>'dfp_cia_aberta_DRE_con_2021.csv'</li><li>'dfp_cia_aberta_DRE_ind_2021.csv'</li><li>'dfp_cia_aberta_DVA_con_2021.csv'</li><li>'dfp_cia_aberta_DVA_ind_2021.csv'</li></ol>\n"
            ],
            "text/markdown": "1. 'dfp_cia_aberta_2021.csv'\n2. 'dfp_cia_aberta_BPA_con_2021.csv'\n3. 'dfp_cia_aberta_BPA_ind_2021.csv'\n4. 'dfp_cia_aberta_BPP_con_2021.csv'\n5. 'dfp_cia_aberta_BPP_ind_2021.csv'\n6. 'dfp_cia_aberta_DFC_MD_con_2021.csv'\n7. 'dfp_cia_aberta_DFC_MD_ind_2021.csv'\n8. 'dfp_cia_aberta_DFC_MI_con_2021.csv'\n9. 'dfp_cia_aberta_DFC_MI_ind_2021.csv'\n10. 'dfp_cia_aberta_DMPL_con_2021.csv'\n11. 'dfp_cia_aberta_DMPL_ind_2021.csv'\n12. 'dfp_cia_aberta_DRA_con_2021.csv'\n13. 'dfp_cia_aberta_DRA_ind_2021.csv'\n14. 'dfp_cia_aberta_DRE_con_2021.csv'\n15. 'dfp_cia_aberta_DRE_ind_2021.csv'\n16. 'dfp_cia_aberta_DVA_con_2021.csv'\n17. 'dfp_cia_aberta_DVA_ind_2021.csv'\n\n\n",
            "text/latex": "\\begin{enumerate*}\n\\item 'dfp\\_cia\\_aberta\\_2021.csv'\n\\item 'dfp\\_cia\\_aberta\\_BPA\\_con\\_2021.csv'\n\\item 'dfp\\_cia\\_aberta\\_BPA\\_ind\\_2021.csv'\n\\item 'dfp\\_cia\\_aberta\\_BPP\\_con\\_2021.csv'\n\\item 'dfp\\_cia\\_aberta\\_BPP\\_ind\\_2021.csv'\n\\item 'dfp\\_cia\\_aberta\\_DFC\\_MD\\_con\\_2021.csv'\n\\item 'dfp\\_cia\\_aberta\\_DFC\\_MD\\_ind\\_2021.csv'\n\\item 'dfp\\_cia\\_aberta\\_DFC\\_MI\\_con\\_2021.csv'\n\\item 'dfp\\_cia\\_aberta\\_DFC\\_MI\\_ind\\_2021.csv'\n\\item 'dfp\\_cia\\_aberta\\_DMPL\\_con\\_2021.csv'\n\\item 'dfp\\_cia\\_aberta\\_DMPL\\_ind\\_2021.csv'\n\\item 'dfp\\_cia\\_aberta\\_DRA\\_con\\_2021.csv'\n\\item 'dfp\\_cia\\_aberta\\_DRA\\_ind\\_2021.csv'\n\\item 'dfp\\_cia\\_aberta\\_DRE\\_con\\_2021.csv'\n\\item 'dfp\\_cia\\_aberta\\_DRE\\_ind\\_2021.csv'\n\\item 'dfp\\_cia\\_aberta\\_DVA\\_con\\_2021.csv'\n\\item 'dfp\\_cia\\_aberta\\_DVA\\_ind\\_2021.csv'\n\\end{enumerate*}\n",
            "text/plain": [
              " [1] \"dfp_cia_aberta_2021.csv\"            \"dfp_cia_aberta_BPA_con_2021.csv\"   \n",
              " [3] \"dfp_cia_aberta_BPA_ind_2021.csv\"    \"dfp_cia_aberta_BPP_con_2021.csv\"   \n",
              " [5] \"dfp_cia_aberta_BPP_ind_2021.csv\"    \"dfp_cia_aberta_DFC_MD_con_2021.csv\"\n",
              " [7] \"dfp_cia_aberta_DFC_MD_ind_2021.csv\" \"dfp_cia_aberta_DFC_MI_con_2021.csv\"\n",
              " [9] \"dfp_cia_aberta_DFC_MI_ind_2021.csv\" \"dfp_cia_aberta_DMPL_con_2021.csv\"  \n",
              "[11] \"dfp_cia_aberta_DMPL_ind_2021.csv\"   \"dfp_cia_aberta_DRA_con_2021.csv\"   \n",
              "[13] \"dfp_cia_aberta_DRA_ind_2021.csv\"    \"dfp_cia_aberta_DRE_con_2021.csv\"   \n",
              "[15] \"dfp_cia_aberta_DRE_ind_2021.csv\"    \"dfp_cia_aberta_DVA_con_2021.csv\"   \n",
              "[17] \"dfp_cia_aberta_DVA_ind_2021.csv\"   "
            ]
          },
          "metadata": {}
        }
      ]
    }
  ]
}