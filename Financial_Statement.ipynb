{
  "cells": [
    {
      "cell_type": "markdown",
      "source": [
        "# <center><h1>Financial Statement</h1></center>"
      ],
      "metadata": {
        "nteract": {
          "transient": {
            "deleting": false
          }
        }
      }
    },
    {
      "cell_type": "markdown",
      "source": [
        "# <h2>Install Packages</h2>"
      ],
      "metadata": {
        "nteract": {
          "transient": {
            "deleting": false
          }
        }
      }
    },
    {
      "cell_type": "code",
      "source": [
        "## install ##\n",
        "\n",
        "# install.packages(\"tidyverse\")"
      ],
      "outputs": [],
      "execution_count": 62,
      "metadata": {
        "gather": {
          "logged": 1649610661567
        }
      }
    },
    {
      "cell_type": "markdown",
      "source": [
        "# <h2>Load Libraries</h2>"
      ],
      "metadata": {
        "nteract": {
          "transient": {
            "deleting": false
          }
        }
      }
    },
    {
      "cell_type": "code",
      "source": [
        "## library ##\n",
        "\n",
        "library(tidyverse)"
      ],
      "outputs": [],
      "execution_count": 63,
      "metadata": {
        "jupyter": {
          "source_hidden": false,
          "outputs_hidden": false
        },
        "nteract": {
          "transient": {
            "deleting": false
          }
        },
        "gather": {
          "logged": 1649610661789
        }
      }
    },
    {
      "cell_type": "markdown",
      "source": [
        "<h2>Wrangling</h2>"
      ],
      "metadata": {
        "nteract": {
          "transient": {
            "deleting": false
          }
        }
      }
    },
    {
      "cell_type": "markdown",
      "source": [
        "<h3>Load .csv</h3>"
      ],
      "metadata": {
        "nteract": {
          "transient": {
            "deleting": false
          }
        }
      }
    },
    {
      "cell_type": "markdown",
      "source": [
        "<h4>base</h4>"
      ],
      "metadata": {
        "nteract": {
          "transient": {
            "deleting": false
          }
        }
      }
    },
    {
      "cell_type": "code",
      "source": [
        "data_frame = read.csv2(\"Financial_Statement.csv\")\t\t\t\t\t#\tuse \"read.csv2\" if sep = \";\". If sep = \",\" use \"read.csv\" instead \n",
        "data_frame"
      ],
      "outputs": [
        {
          "output_type": "display_data",
          "data": {
            "text/html": "<table class=\"dataframe\">\n<caption>A data.frame: 23 × 4</caption>\n<thead>\n\t<tr><th scope=col>Código.da.Conta</th><th scope=col>Descrição.da.Conta</th><th scope=col>Trimestre.Atual</th><th scope=col>Exercício.Anterior</th></tr>\n\t<tr><th scope=col>&lt;chr&gt;</th><th scope=col>&lt;chr&gt;</th><th scope=col>&lt;chr&gt;</th><th scope=col>&lt;chr&gt;</th></tr>\n</thead>\n<tbody>\n\t<tr><td>1            </td><td>Ativo Total                         </td><td>2.775.558</td><td>2.369.285</td></tr>\n\t<tr><td>1.01         </td><td>Ativo Circulante                    </td><td>1.875.214</td><td>1.651.950</td></tr>\n\t<tr><td>1.01.01      </td><td>Caixa e Equivalentes de Caixa       </td><td>815.476  </td><td>683.412  </td></tr>\n\t<tr><td>1.01.03      </td><td>Contas a Receber                    </td><td>258.104  </td><td>206.005  </td></tr>\n\t<tr><td>1.01.03.01   </td><td>Clientes                            </td><td>258.104  </td><td>206.005  </td></tr>\n\t<tr><td>1.01.04      </td><td>Estoques                            </td><td>629.601  </td><td>617.289  </td></tr>\n\t<tr><td>1.01.06      </td><td>Tributos a Recuperar                </td><td>92.690   </td><td>80.862   </td></tr>\n\t<tr><td>1.01.08      </td><td>Outros Ativos Circulantes           </td><td>79.343   </td><td>64.382   </td></tr>\n\t<tr><td>1.01.08.03   </td><td>Outros                              </td><td>79.343   </td><td>64.382   </td></tr>\n\t<tr><td>1.01.08.03.01</td><td>Ativos financeiros                  </td><td>12.153   </td><td>16.059   </td></tr>\n\t<tr><td>1.01.08.03.03</td><td>Outras contas                       </td><td>53.490   </td><td>39.511   </td></tr>\n\t<tr><td>1.01.08.03.04</td><td>Instrumentos financeiros derivativos</td><td>13.700   </td><td>8.812    </td></tr>\n\t<tr><td>1.02         </td><td>Ativo Não Circulante                </td><td>900.344  </td><td>717.335  </td></tr>\n\t<tr><td>1.02.01      </td><td>Ativo Realizável a Longo Prazo      </td><td>104.944  </td><td>90.941   </td></tr>\n\t<tr><td>1.02.01.09   </td><td>Créditos com Partes Relacionadas    </td><td>12.773   </td><td>9.730    </td></tr>\n\t<tr><td>1.02.01.09.02</td><td>Créditos com Controladas            </td><td>12.773   </td><td>9.730    </td></tr>\n\t<tr><td>1.02.01.10   </td><td>Outros Ativos Não Circulantes       </td><td>92.171   </td><td>81.211   </td></tr>\n\t<tr><td>1.02.01.10.03</td><td>Tributos a recuperar                </td><td>90.374   </td><td>80.006   </td></tr>\n\t<tr><td>1.02.01.10.04</td><td>Instrumentos financeiros derivativos</td><td>893      </td><td>0        </td></tr>\n\t<tr><td>1.02.01.10.05</td><td>Outras contas a receber             </td><td>904      </td><td>1.205    </td></tr>\n\t<tr><td>1.02.02      </td><td>Investimentos                       </td><td>6.505    </td><td>5.934    </td></tr>\n\t<tr><td>1.02.03      </td><td>Imobilizado                         </td><td>786.627  </td><td>619.172  </td></tr>\n\t<tr><td>1.02.04      </td><td>Intangível                          </td><td>2.268    </td><td>1.288    </td></tr>\n</tbody>\n</table>\n",
            "text/markdown": "\nA data.frame: 23 × 4\n\n| Código.da.Conta &lt;chr&gt; | Descrição.da.Conta &lt;chr&gt; | Trimestre.Atual &lt;chr&gt; | Exercício.Anterior &lt;chr&gt; |\n|---|---|---|---|\n| 1             | Ativo Total                          | 2.775.558 | 2.369.285 |\n| 1.01          | Ativo Circulante                     | 1.875.214 | 1.651.950 |\n| 1.01.01       | Caixa e Equivalentes de Caixa        | 815.476   | 683.412   |\n| 1.01.03       | Contas a Receber                     | 258.104   | 206.005   |\n| 1.01.03.01    | Clientes                             | 258.104   | 206.005   |\n| 1.01.04       | Estoques                             | 629.601   | 617.289   |\n| 1.01.06       | Tributos a Recuperar                 | 92.690    | 80.862    |\n| 1.01.08       | Outros Ativos Circulantes            | 79.343    | 64.382    |\n| 1.01.08.03    | Outros                               | 79.343    | 64.382    |\n| 1.01.08.03.01 | Ativos financeiros                   | 12.153    | 16.059    |\n| 1.01.08.03.03 | Outras contas                        | 53.490    | 39.511    |\n| 1.01.08.03.04 | Instrumentos financeiros derivativos | 13.700    | 8.812     |\n| 1.02          | Ativo Não Circulante                 | 900.344   | 717.335   |\n| 1.02.01       | Ativo Realizável a Longo Prazo       | 104.944   | 90.941    |\n| 1.02.01.09    | Créditos com Partes Relacionadas     | 12.773    | 9.730     |\n| 1.02.01.09.02 | Créditos com Controladas             | 12.773    | 9.730     |\n| 1.02.01.10    | Outros Ativos Não Circulantes        | 92.171    | 81.211    |\n| 1.02.01.10.03 | Tributos a recuperar                 | 90.374    | 80.006    |\n| 1.02.01.10.04 | Instrumentos financeiros derivativos | 893       | 0         |\n| 1.02.01.10.05 | Outras contas a receber              | 904       | 1.205     |\n| 1.02.02       | Investimentos                        | 6.505     | 5.934     |\n| 1.02.03       | Imobilizado                          | 786.627   | 619.172   |\n| 1.02.04       | Intangível                           | 2.268     | 1.288     |\n\n",
            "text/latex": "A data.frame: 23 × 4\n\\begin{tabular}{llll}\n Código.da.Conta & Descrição.da.Conta & Trimestre.Atual & Exercício.Anterior\\\\\n <chr> & <chr> & <chr> & <chr>\\\\\n\\hline\n\t 1             & Ativo Total                          & 2.775.558 & 2.369.285\\\\\n\t 1.01          & Ativo Circulante                     & 1.875.214 & 1.651.950\\\\\n\t 1.01.01       & Caixa e Equivalentes de Caixa        & 815.476   & 683.412  \\\\\n\t 1.01.03       & Contas a Receber                     & 258.104   & 206.005  \\\\\n\t 1.01.03.01    & Clientes                             & 258.104   & 206.005  \\\\\n\t 1.01.04       & Estoques                             & 629.601   & 617.289  \\\\\n\t 1.01.06       & Tributos a Recuperar                 & 92.690    & 80.862   \\\\\n\t 1.01.08       & Outros Ativos Circulantes            & 79.343    & 64.382   \\\\\n\t 1.01.08.03    & Outros                               & 79.343    & 64.382   \\\\\n\t 1.01.08.03.01 & Ativos financeiros                   & 12.153    & 16.059   \\\\\n\t 1.01.08.03.03 & Outras contas                        & 53.490    & 39.511   \\\\\n\t 1.01.08.03.04 & Instrumentos financeiros derivativos & 13.700    & 8.812    \\\\\n\t 1.02          & Ativo Não Circulante                 & 900.344   & 717.335  \\\\\n\t 1.02.01       & Ativo Realizável a Longo Prazo       & 104.944   & 90.941   \\\\\n\t 1.02.01.09    & Créditos com Partes Relacionadas     & 12.773    & 9.730    \\\\\n\t 1.02.01.09.02 & Créditos com Controladas             & 12.773    & 9.730    \\\\\n\t 1.02.01.10    & Outros Ativos Não Circulantes        & 92.171    & 81.211   \\\\\n\t 1.02.01.10.03 & Tributos a recuperar                 & 90.374    & 80.006   \\\\\n\t 1.02.01.10.04 & Instrumentos financeiros derivativos & 893       & 0        \\\\\n\t 1.02.01.10.05 & Outras contas a receber              & 904       & 1.205    \\\\\n\t 1.02.02       & Investimentos                        & 6.505     & 5.934    \\\\\n\t 1.02.03       & Imobilizado                          & 786.627   & 619.172  \\\\\n\t 1.02.04       & Intangível                           & 2.268     & 1.288    \\\\\n\\end{tabular}\n",
            "text/plain": "   Código.da.Conta Descrição.da.Conta                   Trimestre.Atual\n1  1               Ativo Total                          2.775.558      \n2  1.01            Ativo Circulante                     1.875.214      \n3  1.01.01         Caixa e Equivalentes de Caixa        815.476        \n4  1.01.03         Contas a Receber                     258.104        \n5  1.01.03.01      Clientes                             258.104        \n6  1.01.04         Estoques                             629.601        \n7  1.01.06         Tributos a Recuperar                 92.690         \n8  1.01.08         Outros Ativos Circulantes            79.343         \n9  1.01.08.03      Outros                               79.343         \n10 1.01.08.03.01   Ativos financeiros                   12.153         \n11 1.01.08.03.03   Outras contas                        53.490         \n12 1.01.08.03.04   Instrumentos financeiros derivativos 13.700         \n13 1.02            Ativo Não Circulante                 900.344        \n14 1.02.01         Ativo Realizável a Longo Prazo       104.944        \n15 1.02.01.09      Créditos com Partes Relacionadas     12.773         \n16 1.02.01.09.02   Créditos com Controladas             12.773         \n17 1.02.01.10      Outros Ativos Não Circulantes        92.171         \n18 1.02.01.10.03   Tributos a recuperar                 90.374         \n19 1.02.01.10.04   Instrumentos financeiros derivativos 893            \n20 1.02.01.10.05   Outras contas a receber              904            \n21 1.02.02         Investimentos                        6.505          \n22 1.02.03         Imobilizado                          786.627        \n23 1.02.04         Intangível                           2.268          \n   Exercício.Anterior\n1  2.369.285         \n2  1.651.950         \n3  683.412           \n4  206.005           \n5  206.005           \n6  617.289           \n7  80.862            \n8  64.382            \n9  64.382            \n10 16.059            \n11 39.511            \n12 8.812             \n13 717.335           \n14 90.941            \n15 9.730             \n16 9.730             \n17 81.211            \n18 80.006            \n19 0                 \n20 1.205             \n21 5.934             \n22 619.172           \n23 1.288             "
          },
          "metadata": {}
        }
      ],
      "execution_count": 64,
      "metadata": {
        "jupyter": {
          "source_hidden": false,
          "outputs_hidden": false
        },
        "nteract": {
          "transient": {
            "deleting": false
          }
        },
        "gather": {
          "logged": 1649610662737
        }
      }
    },
    {
      "cell_type": "markdown",
      "source": [
        "<h3>Load .csv</h3>"
      ],
      "metadata": {
        "nteract": {
          "transient": {
            "deleting": false
          }
        }
      }
    },
    {
      "cell_type": "markdown",
      "source": [
        "<h4>using <code>readr</code></h4>"
      ],
      "metadata": {
        "nteract": {
          "transient": {
            "deleting": false
          }
        }
      }
    },
    {
      "cell_type": "code",
      "source": [
        "data_frame <- read_delim(\"Financial_Statement.csv\", delim=\";\")\n",
        "data_frame"
      ],
      "outputs": [
        {
          "output_type": "stream",
          "name": "stderr",
          "text": "\u001b[1mRows: \u001b[22m\u001b[34m23\u001b[39m \u001b[1mColumns: \u001b[22m\u001b[34m4\u001b[39m\n\u001b[36m──\u001b[39m \u001b[1mColumn specification\u001b[22m \u001b[36m────────────────────────────────────────────────────────\u001b[39m\n\u001b[1mDelimiter:\u001b[22m \";\"\n\u001b[31mchr\u001b[39m (4): Código da Conta, Descrição da Conta, Trimestre Atual, Exercício Ant...\n\n\u001b[36mℹ\u001b[39m Use \u001b[30m\u001b[47m\u001b[30m\u001b[47m`spec()`\u001b[47m\u001b[30m\u001b[49m\u001b[39m to retrieve the full column specification for this data.\n\u001b[36mℹ\u001b[39m Specify the column types or set \u001b[30m\u001b[47m\u001b[30m\u001b[47m`show_col_types = FALSE`\u001b[47m\u001b[30m\u001b[49m\u001b[39m to quiet this message.\n"
        },
        {
          "output_type": "display_data",
          "data": {
            "text/html": "<table class=\"dataframe\">\n<caption>A spec_tbl_df: 23 × 4</caption>\n<thead>\n\t<tr><th scope=col>Código da Conta</th><th scope=col>Descrição da Conta</th><th scope=col>Trimestre Atual</th><th scope=col>Exercício Anterior</th></tr>\n\t<tr><th scope=col>&lt;chr&gt;</th><th scope=col>&lt;chr&gt;</th><th scope=col>&lt;chr&gt;</th><th scope=col>&lt;chr&gt;</th></tr>\n</thead>\n<tbody>\n\t<tr><td>1            </td><td>Ativo Total                         </td><td>2.775.558</td><td>2.369.285</td></tr>\n\t<tr><td>1.01         </td><td>Ativo Circulante                    </td><td>1.875.214</td><td>1.651.950</td></tr>\n\t<tr><td>1.01.01      </td><td>Caixa e Equivalentes de Caixa       </td><td>815.476  </td><td>683.412  </td></tr>\n\t<tr><td>1.01.03      </td><td>Contas a Receber                    </td><td>258.104  </td><td>206.005  </td></tr>\n\t<tr><td>1.01.03.01   </td><td>Clientes                            </td><td>258.104  </td><td>206.005  </td></tr>\n\t<tr><td>1.01.04      </td><td>Estoques                            </td><td>629.601  </td><td>617.289  </td></tr>\n\t<tr><td>1.01.06      </td><td>Tributos a Recuperar                </td><td>92.690   </td><td>80.862   </td></tr>\n\t<tr><td>1.01.08      </td><td>Outros Ativos Circulantes           </td><td>79.343   </td><td>64.382   </td></tr>\n\t<tr><td>1.01.08.03   </td><td>Outros                              </td><td>79.343   </td><td>64.382   </td></tr>\n\t<tr><td>1.01.08.03.01</td><td>Ativos financeiros                  </td><td>12.153   </td><td>16.059   </td></tr>\n\t<tr><td>1.01.08.03.03</td><td>Outras contas                       </td><td>53.490   </td><td>39.511   </td></tr>\n\t<tr><td>1.01.08.03.04</td><td>Instrumentos financeiros derivativos</td><td>13.700   </td><td>8.812    </td></tr>\n\t<tr><td>1.02         </td><td>Ativo Não Circulante                </td><td>900.344  </td><td>717.335  </td></tr>\n\t<tr><td>1.02.01      </td><td>Ativo Realizável a Longo Prazo      </td><td>104.944  </td><td>90.941   </td></tr>\n\t<tr><td>1.02.01.09   </td><td>Créditos com Partes Relacionadas    </td><td>12.773   </td><td>9.730    </td></tr>\n\t<tr><td>1.02.01.09.02</td><td>Créditos com Controladas            </td><td>12.773   </td><td>9.730    </td></tr>\n\t<tr><td>1.02.01.10   </td><td>Outros Ativos Não Circulantes       </td><td>92.171   </td><td>81.211   </td></tr>\n\t<tr><td>1.02.01.10.03</td><td>Tributos a recuperar                </td><td>90.374   </td><td>80.006   </td></tr>\n\t<tr><td>1.02.01.10.04</td><td>Instrumentos financeiros derivativos</td><td>893      </td><td>0        </td></tr>\n\t<tr><td>1.02.01.10.05</td><td>Outras contas a receber             </td><td>904      </td><td>1.205    </td></tr>\n\t<tr><td>1.02.02      </td><td>Investimentos                       </td><td>6.505    </td><td>5.934    </td></tr>\n\t<tr><td>1.02.03      </td><td>Imobilizado                         </td><td>786.627  </td><td>619.172  </td></tr>\n\t<tr><td>1.02.04      </td><td>Intangível                          </td><td>2.268    </td><td>1.288    </td></tr>\n</tbody>\n</table>\n",
            "text/markdown": "\nA spec_tbl_df: 23 × 4\n\n| Código da Conta &lt;chr&gt; | Descrição da Conta &lt;chr&gt; | Trimestre Atual &lt;chr&gt; | Exercício Anterior &lt;chr&gt; |\n|---|---|---|---|\n| 1             | Ativo Total                          | 2.775.558 | 2.369.285 |\n| 1.01          | Ativo Circulante                     | 1.875.214 | 1.651.950 |\n| 1.01.01       | Caixa e Equivalentes de Caixa        | 815.476   | 683.412   |\n| 1.01.03       | Contas a Receber                     | 258.104   | 206.005   |\n| 1.01.03.01    | Clientes                             | 258.104   | 206.005   |\n| 1.01.04       | Estoques                             | 629.601   | 617.289   |\n| 1.01.06       | Tributos a Recuperar                 | 92.690    | 80.862    |\n| 1.01.08       | Outros Ativos Circulantes            | 79.343    | 64.382    |\n| 1.01.08.03    | Outros                               | 79.343    | 64.382    |\n| 1.01.08.03.01 | Ativos financeiros                   | 12.153    | 16.059    |\n| 1.01.08.03.03 | Outras contas                        | 53.490    | 39.511    |\n| 1.01.08.03.04 | Instrumentos financeiros derivativos | 13.700    | 8.812     |\n| 1.02          | Ativo Não Circulante                 | 900.344   | 717.335   |\n| 1.02.01       | Ativo Realizável a Longo Prazo       | 104.944   | 90.941    |\n| 1.02.01.09    | Créditos com Partes Relacionadas     | 12.773    | 9.730     |\n| 1.02.01.09.02 | Créditos com Controladas             | 12.773    | 9.730     |\n| 1.02.01.10    | Outros Ativos Não Circulantes        | 92.171    | 81.211    |\n| 1.02.01.10.03 | Tributos a recuperar                 | 90.374    | 80.006    |\n| 1.02.01.10.04 | Instrumentos financeiros derivativos | 893       | 0         |\n| 1.02.01.10.05 | Outras contas a receber              | 904       | 1.205     |\n| 1.02.02       | Investimentos                        | 6.505     | 5.934     |\n| 1.02.03       | Imobilizado                          | 786.627   | 619.172   |\n| 1.02.04       | Intangível                           | 2.268     | 1.288     |\n\n",
            "text/latex": "A spec\\_tbl\\_df: 23 × 4\n\\begin{tabular}{llll}\n Código da Conta & Descrição da Conta & Trimestre Atual & Exercício Anterior\\\\\n <chr> & <chr> & <chr> & <chr>\\\\\n\\hline\n\t 1             & Ativo Total                          & 2.775.558 & 2.369.285\\\\\n\t 1.01          & Ativo Circulante                     & 1.875.214 & 1.651.950\\\\\n\t 1.01.01       & Caixa e Equivalentes de Caixa        & 815.476   & 683.412  \\\\\n\t 1.01.03       & Contas a Receber                     & 258.104   & 206.005  \\\\\n\t 1.01.03.01    & Clientes                             & 258.104   & 206.005  \\\\\n\t 1.01.04       & Estoques                             & 629.601   & 617.289  \\\\\n\t 1.01.06       & Tributos a Recuperar                 & 92.690    & 80.862   \\\\\n\t 1.01.08       & Outros Ativos Circulantes            & 79.343    & 64.382   \\\\\n\t 1.01.08.03    & Outros                               & 79.343    & 64.382   \\\\\n\t 1.01.08.03.01 & Ativos financeiros                   & 12.153    & 16.059   \\\\\n\t 1.01.08.03.03 & Outras contas                        & 53.490    & 39.511   \\\\\n\t 1.01.08.03.04 & Instrumentos financeiros derivativos & 13.700    & 8.812    \\\\\n\t 1.02          & Ativo Não Circulante                 & 900.344   & 717.335  \\\\\n\t 1.02.01       & Ativo Realizável a Longo Prazo       & 104.944   & 90.941   \\\\\n\t 1.02.01.09    & Créditos com Partes Relacionadas     & 12.773    & 9.730    \\\\\n\t 1.02.01.09.02 & Créditos com Controladas             & 12.773    & 9.730    \\\\\n\t 1.02.01.10    & Outros Ativos Não Circulantes        & 92.171    & 81.211   \\\\\n\t 1.02.01.10.03 & Tributos a recuperar                 & 90.374    & 80.006   \\\\\n\t 1.02.01.10.04 & Instrumentos financeiros derivativos & 893       & 0        \\\\\n\t 1.02.01.10.05 & Outras contas a receber              & 904       & 1.205    \\\\\n\t 1.02.02       & Investimentos                        & 6.505     & 5.934    \\\\\n\t 1.02.03       & Imobilizado                          & 786.627   & 619.172  \\\\\n\t 1.02.04       & Intangível                           & 2.268     & 1.288    \\\\\n\\end{tabular}\n",
            "text/plain": "   Código da Conta Descrição da Conta                   Trimestre Atual\n1  1               Ativo Total                          2.775.558      \n2  1.01            Ativo Circulante                     1.875.214      \n3  1.01.01         Caixa e Equivalentes de Caixa        815.476        \n4  1.01.03         Contas a Receber                     258.104        \n5  1.01.03.01      Clientes                             258.104        \n6  1.01.04         Estoques                             629.601        \n7  1.01.06         Tributos a Recuperar                 92.690         \n8  1.01.08         Outros Ativos Circulantes            79.343         \n9  1.01.08.03      Outros                               79.343         \n10 1.01.08.03.01   Ativos financeiros                   12.153         \n11 1.01.08.03.03   Outras contas                        53.490         \n12 1.01.08.03.04   Instrumentos financeiros derivativos 13.700         \n13 1.02            Ativo Não Circulante                 900.344        \n14 1.02.01         Ativo Realizável a Longo Prazo       104.944        \n15 1.02.01.09      Créditos com Partes Relacionadas     12.773         \n16 1.02.01.09.02   Créditos com Controladas             12.773         \n17 1.02.01.10      Outros Ativos Não Circulantes        92.171         \n18 1.02.01.10.03   Tributos a recuperar                 90.374         \n19 1.02.01.10.04   Instrumentos financeiros derivativos 893            \n20 1.02.01.10.05   Outras contas a receber              904            \n21 1.02.02         Investimentos                        6.505          \n22 1.02.03         Imobilizado                          786.627        \n23 1.02.04         Intangível                           2.268          \n   Exercício Anterior\n1  2.369.285         \n2  1.651.950         \n3  683.412           \n4  206.005           \n5  206.005           \n6  617.289           \n7  80.862            \n8  64.382            \n9  64.382            \n10 16.059            \n11 39.511            \n12 8.812             \n13 717.335           \n14 90.941            \n15 9.730             \n16 9.730             \n17 81.211            \n18 80.006            \n19 0                 \n20 1.205             \n21 5.934             \n22 619.172           \n23 1.288             "
          },
          "metadata": {}
        }
      ],
      "execution_count": 65,
      "metadata": {
        "jupyter": {
          "source_hidden": false,
          "outputs_hidden": false
        },
        "nteract": {
          "transient": {
            "deleting": false
          }
        },
        "gather": {
          "logged": 1649610663138
        }
      }
    },
    {
      "cell_type": "markdown",
      "source": [
        "# <h3>Separate</h3>"
      ],
      "metadata": {
        "nteract": {
          "transient": {
            "deleting": false
          }
        }
      }
    },
    {
      "cell_type": "code",
      "source": [
        "Tiers = c(\"Tier1\", \"Tier2\", \"Tier3\", \"Tier4\", \"Tier5\")"
      ],
      "outputs": [],
      "execution_count": 66,
      "metadata": {
        "jupyter": {
          "source_hidden": false,
          "outputs_hidden": false
        },
        "nteract": {
          "transient": {
            "deleting": false
          }
        },
        "gather": {
          "logged": 1649610664086
        }
      }
    },
    {
      "cell_type": "code",
      "source": [
        "data_frame_sep <- separate(data_frame, \"Código da Conta\", into=Tiers)\n",
        "data_frame_sep"
      ],
      "outputs": [
        {
          "output_type": "stream",
          "name": "stderr",
          "text": "Warning message:\n“Expected 5 pieces. Missing pieces filled with `NA` in 16 rows [1, 2, 3, 4, 5, 6, 7, 8, 9, 13, 14, 15, 17, 21, 22, 23].”\n"
        },
        {
          "output_type": "display_data",
          "data": {
            "text/html": "<table class=\"dataframe\">\n<caption>A tibble: 23 × 8</caption>\n<thead>\n\t<tr><th scope=col>Tier1</th><th scope=col>Tier2</th><th scope=col>Tier3</th><th scope=col>Tier4</th><th scope=col>Tier5</th><th scope=col>Descrição da Conta</th><th scope=col>Trimestre Atual</th><th scope=col>Exercício Anterior</th></tr>\n\t<tr><th scope=col>&lt;chr&gt;</th><th scope=col>&lt;chr&gt;</th><th scope=col>&lt;chr&gt;</th><th scope=col>&lt;chr&gt;</th><th scope=col>&lt;chr&gt;</th><th scope=col>&lt;chr&gt;</th><th scope=col>&lt;chr&gt;</th><th scope=col>&lt;chr&gt;</th></tr>\n</thead>\n<tbody>\n\t<tr><td>1</td><td>NA</td><td>NA</td><td>NA</td><td>NA</td><td>Ativo Total                         </td><td>2.775.558</td><td>2.369.285</td></tr>\n\t<tr><td>1</td><td>01</td><td>NA</td><td>NA</td><td>NA</td><td>Ativo Circulante                    </td><td>1.875.214</td><td>1.651.950</td></tr>\n\t<tr><td>1</td><td>01</td><td>01</td><td>NA</td><td>NA</td><td>Caixa e Equivalentes de Caixa       </td><td>815.476  </td><td>683.412  </td></tr>\n\t<tr><td>1</td><td>01</td><td>03</td><td>NA</td><td>NA</td><td>Contas a Receber                    </td><td>258.104  </td><td>206.005  </td></tr>\n\t<tr><td>1</td><td>01</td><td>03</td><td>01</td><td>NA</td><td>Clientes                            </td><td>258.104  </td><td>206.005  </td></tr>\n\t<tr><td>1</td><td>01</td><td>04</td><td>NA</td><td>NA</td><td>Estoques                            </td><td>629.601  </td><td>617.289  </td></tr>\n\t<tr><td>1</td><td>01</td><td>06</td><td>NA</td><td>NA</td><td>Tributos a Recuperar                </td><td>92.690   </td><td>80.862   </td></tr>\n\t<tr><td>1</td><td>01</td><td>08</td><td>NA</td><td>NA</td><td>Outros Ativos Circulantes           </td><td>79.343   </td><td>64.382   </td></tr>\n\t<tr><td>1</td><td>01</td><td>08</td><td>03</td><td>NA</td><td>Outros                              </td><td>79.343   </td><td>64.382   </td></tr>\n\t<tr><td>1</td><td>01</td><td>08</td><td>03</td><td>01</td><td>Ativos financeiros                  </td><td>12.153   </td><td>16.059   </td></tr>\n\t<tr><td>1</td><td>01</td><td>08</td><td>03</td><td>03</td><td>Outras contas                       </td><td>53.490   </td><td>39.511   </td></tr>\n\t<tr><td>1</td><td>01</td><td>08</td><td>03</td><td>04</td><td>Instrumentos financeiros derivativos</td><td>13.700   </td><td>8.812    </td></tr>\n\t<tr><td>1</td><td>02</td><td>NA</td><td>NA</td><td>NA</td><td>Ativo Não Circulante                </td><td>900.344  </td><td>717.335  </td></tr>\n\t<tr><td>1</td><td>02</td><td>01</td><td>NA</td><td>NA</td><td>Ativo Realizável a Longo Prazo      </td><td>104.944  </td><td>90.941   </td></tr>\n\t<tr><td>1</td><td>02</td><td>01</td><td>09</td><td>NA</td><td>Créditos com Partes Relacionadas    </td><td>12.773   </td><td>9.730    </td></tr>\n\t<tr><td>1</td><td>02</td><td>01</td><td>09</td><td>02</td><td>Créditos com Controladas            </td><td>12.773   </td><td>9.730    </td></tr>\n\t<tr><td>1</td><td>02</td><td>01</td><td>10</td><td>NA</td><td>Outros Ativos Não Circulantes       </td><td>92.171   </td><td>81.211   </td></tr>\n\t<tr><td>1</td><td>02</td><td>01</td><td>10</td><td>03</td><td>Tributos a recuperar                </td><td>90.374   </td><td>80.006   </td></tr>\n\t<tr><td>1</td><td>02</td><td>01</td><td>10</td><td>04</td><td>Instrumentos financeiros derivativos</td><td>893      </td><td>0        </td></tr>\n\t<tr><td>1</td><td>02</td><td>01</td><td>10</td><td>05</td><td>Outras contas a receber             </td><td>904      </td><td>1.205    </td></tr>\n\t<tr><td>1</td><td>02</td><td>02</td><td>NA</td><td>NA</td><td>Investimentos                       </td><td>6.505    </td><td>5.934    </td></tr>\n\t<tr><td>1</td><td>02</td><td>03</td><td>NA</td><td>NA</td><td>Imobilizado                         </td><td>786.627  </td><td>619.172  </td></tr>\n\t<tr><td>1</td><td>02</td><td>04</td><td>NA</td><td>NA</td><td>Intangível                          </td><td>2.268    </td><td>1.288    </td></tr>\n</tbody>\n</table>\n",
            "text/markdown": "\nA tibble: 23 × 8\n\n| Tier1 &lt;chr&gt; | Tier2 &lt;chr&gt; | Tier3 &lt;chr&gt; | Tier4 &lt;chr&gt; | Tier5 &lt;chr&gt; | Descrição da Conta &lt;chr&gt; | Trimestre Atual &lt;chr&gt; | Exercício Anterior &lt;chr&gt; |\n|---|---|---|---|---|---|---|---|\n| 1 | NA | NA | NA | NA | Ativo Total                          | 2.775.558 | 2.369.285 |\n| 1 | 01 | NA | NA | NA | Ativo Circulante                     | 1.875.214 | 1.651.950 |\n| 1 | 01 | 01 | NA | NA | Caixa e Equivalentes de Caixa        | 815.476   | 683.412   |\n| 1 | 01 | 03 | NA | NA | Contas a Receber                     | 258.104   | 206.005   |\n| 1 | 01 | 03 | 01 | NA | Clientes                             | 258.104   | 206.005   |\n| 1 | 01 | 04 | NA | NA | Estoques                             | 629.601   | 617.289   |\n| 1 | 01 | 06 | NA | NA | Tributos a Recuperar                 | 92.690    | 80.862    |\n| 1 | 01 | 08 | NA | NA | Outros Ativos Circulantes            | 79.343    | 64.382    |\n| 1 | 01 | 08 | 03 | NA | Outros                               | 79.343    | 64.382    |\n| 1 | 01 | 08 | 03 | 01 | Ativos financeiros                   | 12.153    | 16.059    |\n| 1 | 01 | 08 | 03 | 03 | Outras contas                        | 53.490    | 39.511    |\n| 1 | 01 | 08 | 03 | 04 | Instrumentos financeiros derivativos | 13.700    | 8.812     |\n| 1 | 02 | NA | NA | NA | Ativo Não Circulante                 | 900.344   | 717.335   |\n| 1 | 02 | 01 | NA | NA | Ativo Realizável a Longo Prazo       | 104.944   | 90.941    |\n| 1 | 02 | 01 | 09 | NA | Créditos com Partes Relacionadas     | 12.773    | 9.730     |\n| 1 | 02 | 01 | 09 | 02 | Créditos com Controladas             | 12.773    | 9.730     |\n| 1 | 02 | 01 | 10 | NA | Outros Ativos Não Circulantes        | 92.171    | 81.211    |\n| 1 | 02 | 01 | 10 | 03 | Tributos a recuperar                 | 90.374    | 80.006    |\n| 1 | 02 | 01 | 10 | 04 | Instrumentos financeiros derivativos | 893       | 0         |\n| 1 | 02 | 01 | 10 | 05 | Outras contas a receber              | 904       | 1.205     |\n| 1 | 02 | 02 | NA | NA | Investimentos                        | 6.505     | 5.934     |\n| 1 | 02 | 03 | NA | NA | Imobilizado                          | 786.627   | 619.172   |\n| 1 | 02 | 04 | NA | NA | Intangível                           | 2.268     | 1.288     |\n\n",
            "text/latex": "A tibble: 23 × 8\n\\begin{tabular}{llllllll}\n Tier1 & Tier2 & Tier3 & Tier4 & Tier5 & Descrição da Conta & Trimestre Atual & Exercício Anterior\\\\\n <chr> & <chr> & <chr> & <chr> & <chr> & <chr> & <chr> & <chr>\\\\\n\\hline\n\t 1 & NA & NA & NA & NA & Ativo Total                          & 2.775.558 & 2.369.285\\\\\n\t 1 & 01 & NA & NA & NA & Ativo Circulante                     & 1.875.214 & 1.651.950\\\\\n\t 1 & 01 & 01 & NA & NA & Caixa e Equivalentes de Caixa        & 815.476   & 683.412  \\\\\n\t 1 & 01 & 03 & NA & NA & Contas a Receber                     & 258.104   & 206.005  \\\\\n\t 1 & 01 & 03 & 01 & NA & Clientes                             & 258.104   & 206.005  \\\\\n\t 1 & 01 & 04 & NA & NA & Estoques                             & 629.601   & 617.289  \\\\\n\t 1 & 01 & 06 & NA & NA & Tributos a Recuperar                 & 92.690    & 80.862   \\\\\n\t 1 & 01 & 08 & NA & NA & Outros Ativos Circulantes            & 79.343    & 64.382   \\\\\n\t 1 & 01 & 08 & 03 & NA & Outros                               & 79.343    & 64.382   \\\\\n\t 1 & 01 & 08 & 03 & 01 & Ativos financeiros                   & 12.153    & 16.059   \\\\\n\t 1 & 01 & 08 & 03 & 03 & Outras contas                        & 53.490    & 39.511   \\\\\n\t 1 & 01 & 08 & 03 & 04 & Instrumentos financeiros derivativos & 13.700    & 8.812    \\\\\n\t 1 & 02 & NA & NA & NA & Ativo Não Circulante                 & 900.344   & 717.335  \\\\\n\t 1 & 02 & 01 & NA & NA & Ativo Realizável a Longo Prazo       & 104.944   & 90.941   \\\\\n\t 1 & 02 & 01 & 09 & NA & Créditos com Partes Relacionadas     & 12.773    & 9.730    \\\\\n\t 1 & 02 & 01 & 09 & 02 & Créditos com Controladas             & 12.773    & 9.730    \\\\\n\t 1 & 02 & 01 & 10 & NA & Outros Ativos Não Circulantes        & 92.171    & 81.211   \\\\\n\t 1 & 02 & 01 & 10 & 03 & Tributos a recuperar                 & 90.374    & 80.006   \\\\\n\t 1 & 02 & 01 & 10 & 04 & Instrumentos financeiros derivativos & 893       & 0        \\\\\n\t 1 & 02 & 01 & 10 & 05 & Outras contas a receber              & 904       & 1.205    \\\\\n\t 1 & 02 & 02 & NA & NA & Investimentos                        & 6.505     & 5.934    \\\\\n\t 1 & 02 & 03 & NA & NA & Imobilizado                          & 786.627   & 619.172  \\\\\n\t 1 & 02 & 04 & NA & NA & Intangível                           & 2.268     & 1.288    \\\\\n\\end{tabular}\n",
            "text/plain": "   Tier1 Tier2 Tier3 Tier4 Tier5 Descrição da Conta                  \n1  1     NA    NA    NA    NA    Ativo Total                         \n2  1     01    NA    NA    NA    Ativo Circulante                    \n3  1     01    01    NA    NA    Caixa e Equivalentes de Caixa       \n4  1     01    03    NA    NA    Contas a Receber                    \n5  1     01    03    01    NA    Clientes                            \n6  1     01    04    NA    NA    Estoques                            \n7  1     01    06    NA    NA    Tributos a Recuperar                \n8  1     01    08    NA    NA    Outros Ativos Circulantes           \n9  1     01    08    03    NA    Outros                              \n10 1     01    08    03    01    Ativos financeiros                  \n11 1     01    08    03    03    Outras contas                       \n12 1     01    08    03    04    Instrumentos financeiros derivativos\n13 1     02    NA    NA    NA    Ativo Não Circulante                \n14 1     02    01    NA    NA    Ativo Realizável a Longo Prazo      \n15 1     02    01    09    NA    Créditos com Partes Relacionadas    \n16 1     02    01    09    02    Créditos com Controladas            \n17 1     02    01    10    NA    Outros Ativos Não Circulantes       \n18 1     02    01    10    03    Tributos a recuperar                \n19 1     02    01    10    04    Instrumentos financeiros derivativos\n20 1     02    01    10    05    Outras contas a receber             \n21 1     02    02    NA    NA    Investimentos                       \n22 1     02    03    NA    NA    Imobilizado                         \n23 1     02    04    NA    NA    Intangível                          \n   Trimestre Atual Exercício Anterior\n1  2.775.558       2.369.285         \n2  1.875.214       1.651.950         \n3  815.476         683.412           \n4  258.104         206.005           \n5  258.104         206.005           \n6  629.601         617.289           \n7  92.690          80.862            \n8  79.343          64.382            \n9  79.343          64.382            \n10 12.153          16.059            \n11 53.490          39.511            \n12 13.700          8.812             \n13 900.344         717.335           \n14 104.944         90.941            \n15 12.773          9.730             \n16 12.773          9.730             \n17 92.171          81.211            \n18 90.374          80.006            \n19 893             0                 \n20 904             1.205             \n21 6.505           5.934             \n22 786.627         619.172           \n23 2.268           1.288             "
          },
          "metadata": {}
        }
      ],
      "execution_count": 67,
      "metadata": {
        "jupyter": {
          "source_hidden": false,
          "outputs_hidden": false
        },
        "nteract": {
          "transient": {
            "deleting": false
          }
        },
        "gather": {
          "logged": 1649610664880
        }
      }
    },
    {
      "cell_type": "markdown",
      "source": [
        "<h3>First Round</h3> "
      ],
      "metadata": {
        "nteract": {
          "transient": {
            "deleting": false
          }
        }
      }
    },
    {
      "cell_type": "code",
      "source": [
        "round <- 1"
      ],
      "outputs": [],
      "execution_count": 68,
      "metadata": {
        "jupyter": {
          "source_hidden": false,
          "outputs_hidden": false
        },
        "nteract": {
          "transient": {
            "deleting": false
          }
        },
        "gather": {
          "logged": 1649610666136
        }
      }
    },
    {
      "cell_type": "markdown",
      "source": [
        "<h4>Create Row Mask</h4> "
      ],
      "metadata": {
        "nteract": {
          "transient": {
            "deleting": false
          }
        }
      }
    },
    {
      "cell_type": "code",
      "source": [
        "row_mask <- filter(data_frame_sep, is.na(data_frame_sep[Tiers[round+1]]))\n",
        "row_mask"
      ],
      "outputs": [
        {
          "output_type": "display_data",
          "data": {
            "text/html": "<table class=\"dataframe\">\n<caption>A tibble: 1 × 8</caption>\n<thead>\n\t<tr><th scope=col>Tier1</th><th scope=col>Tier2</th><th scope=col>Tier3</th><th scope=col>Tier4</th><th scope=col>Tier5</th><th scope=col>Descrição da Conta</th><th scope=col>Trimestre Atual</th><th scope=col>Exercício Anterior</th></tr>\n\t<tr><th scope=col>&lt;chr&gt;</th><th scope=col>&lt;chr&gt;</th><th scope=col>&lt;chr&gt;</th><th scope=col>&lt;chr&gt;</th><th scope=col>&lt;chr&gt;</th><th scope=col>&lt;chr&gt;</th><th scope=col>&lt;chr&gt;</th><th scope=col>&lt;chr&gt;</th></tr>\n</thead>\n<tbody>\n\t<tr><td>1</td><td>NA</td><td>NA</td><td>NA</td><td>NA</td><td>Ativo Total</td><td>2.775.558</td><td>2.369.285</td></tr>\n</tbody>\n</table>\n",
            "text/markdown": "\nA tibble: 1 × 8\n\n| Tier1 &lt;chr&gt; | Tier2 &lt;chr&gt; | Tier3 &lt;chr&gt; | Tier4 &lt;chr&gt; | Tier5 &lt;chr&gt; | Descrição da Conta &lt;chr&gt; | Trimestre Atual &lt;chr&gt; | Exercício Anterior &lt;chr&gt; |\n|---|---|---|---|---|---|---|---|\n| 1 | NA | NA | NA | NA | Ativo Total | 2.775.558 | 2.369.285 |\n\n",
            "text/latex": "A tibble: 1 × 8\n\\begin{tabular}{llllllll}\n Tier1 & Tier2 & Tier3 & Tier4 & Tier5 & Descrição da Conta & Trimestre Atual & Exercício Anterior\\\\\n <chr> & <chr> & <chr> & <chr> & <chr> & <chr> & <chr> & <chr>\\\\\n\\hline\n\t 1 & NA & NA & NA & NA & Ativo Total & 2.775.558 & 2.369.285\\\\\n\\end{tabular}\n",
            "text/plain": "  Tier1 Tier2 Tier3 Tier4 Tier5 Descrição da Conta Trimestre Atual\n1 1     NA    NA    NA    NA    Ativo Total        2.775.558      \n  Exercício Anterior\n1 2.369.285         "
          },
          "metadata": {}
        }
      ],
      "execution_count": 69,
      "metadata": {
        "jupyter": {
          "source_hidden": false,
          "outputs_hidden": false
        },
        "nteract": {
          "transient": {
            "deleting": false
          }
        },
        "gather": {
          "logged": 1649610667215
        }
      }
    },
    {
      "cell_type": "code",
      "source": [
        "row_mask <- row_mask[c(Tiers[round], \"Descrição da Conta\")]\n",
        "row_mask"
      ],
      "outputs": [
        {
          "output_type": "display_data",
          "data": {
            "text/html": "<table class=\"dataframe\">\n<caption>A tibble: 1 × 2</caption>\n<thead>\n\t<tr><th scope=col>Tier1</th><th scope=col>Descrição da Conta</th></tr>\n\t<tr><th scope=col>&lt;chr&gt;</th><th scope=col>&lt;chr&gt;</th></tr>\n</thead>\n<tbody>\n\t<tr><td>1</td><td>Ativo Total</td></tr>\n</tbody>\n</table>\n",
            "text/markdown": "\nA tibble: 1 × 2\n\n| Tier1 &lt;chr&gt; | Descrição da Conta &lt;chr&gt; |\n|---|---|\n| 1 | Ativo Total |\n\n",
            "text/latex": "A tibble: 1 × 2\n\\begin{tabular}{ll}\n Tier1 & Descrição da Conta\\\\\n <chr> & <chr>\\\\\n\\hline\n\t 1 & Ativo Total\\\\\n\\end{tabular}\n",
            "text/plain": "  Tier1 Descrição da Conta\n1 1     Ativo Total       "
          },
          "metadata": {}
        }
      ],
      "execution_count": 70,
      "metadata": {
        "jupyter": {
          "source_hidden": false,
          "outputs_hidden": false
        },
        "nteract": {
          "transient": {
            "deleting": false
          }
        },
        "gather": {
          "logged": 1649610668616
        }
      }
    },
    {
      "cell_type": "markdown",
      "source": [
        "<h4>Create Row Mask using a Function</h4> "
      ],
      "metadata": {
        "nteract": {
          "transient": {
            "deleting": false
          }
        }
      }
    },
    {
      "cell_type": "code",
      "source": [
        "create_row_mask <- function(df, round) {\n",
        "    mask <- filter(df, is.na(df[Tiers[round+1]]))\n",
        "    mask[c(Tiers[round], \"Descrição da Conta\")]\n",
        "}"
      ],
      "outputs": [],
      "execution_count": 71,
      "metadata": {
        "jupyter": {
          "source_hidden": false,
          "outputs_hidden": false
        },
        "nteract": {
          "transient": {
            "deleting": false
          }
        },
        "gather": {
          "logged": 1649610669522
        }
      }
    },
    {
      "cell_type": "code",
      "source": [
        "row_mask <- create_row_mask(data_frame_sep, round)\n",
        "row_mask"
      ],
      "outputs": [
        {
          "output_type": "display_data",
          "data": {
            "text/html": "<table class=\"dataframe\">\n<caption>A tibble: 1 × 2</caption>\n<thead>\n\t<tr><th scope=col>Tier1</th><th scope=col>Descrição da Conta</th></tr>\n\t<tr><th scope=col>&lt;chr&gt;</th><th scope=col>&lt;chr&gt;</th></tr>\n</thead>\n<tbody>\n\t<tr><td>1</td><td>Ativo Total</td></tr>\n</tbody>\n</table>\n",
            "text/markdown": "\nA tibble: 1 × 2\n\n| Tier1 &lt;chr&gt; | Descrição da Conta &lt;chr&gt; |\n|---|---|\n| 1 | Ativo Total |\n\n",
            "text/latex": "A tibble: 1 × 2\n\\begin{tabular}{ll}\n Tier1 & Descrição da Conta\\\\\n <chr> & <chr>\\\\\n\\hline\n\t 1 & Ativo Total\\\\\n\\end{tabular}\n",
            "text/plain": "  Tier1 Descrição da Conta\n1 1     Ativo Total       "
          },
          "metadata": {}
        }
      ],
      "execution_count": 72,
      "metadata": {
        "jupyter": {
          "source_hidden": false,
          "outputs_hidden": false
        },
        "nteract": {
          "transient": {
            "deleting": false
          }
        },
        "gather": {
          "logged": 1649610671044
        }
      }
    },
    {
      "cell_type": "markdown",
      "source": [
        "<h4>Left Join</h4> "
      ],
      "metadata": {
        "nteract": {
          "transient": {
            "deleting": false
          }
        }
      }
    },
    {
      "cell_type": "code",
      "source": [
        "data_frame_1 <- data_frame_sep\n",
        "data_frame_1[Tiers[round]] <- left_join(data_frame_1[Tiers[round]], row_mask, by=Tiers[round])[\"Descrição da Conta\"]\n",
        "data_frame_1"
      ],
      "outputs": [
        {
          "output_type": "display_data",
          "data": {
            "text/html": "<table class=\"dataframe\">\n<caption>A tibble: 23 × 8</caption>\n<thead>\n\t<tr><th scope=col>Tier1</th><th scope=col>Tier2</th><th scope=col>Tier3</th><th scope=col>Tier4</th><th scope=col>Tier5</th><th scope=col>Descrição da Conta</th><th scope=col>Trimestre Atual</th><th scope=col>Exercício Anterior</th></tr>\n\t<tr><th scope=col>&lt;chr&gt;</th><th scope=col>&lt;chr&gt;</th><th scope=col>&lt;chr&gt;</th><th scope=col>&lt;chr&gt;</th><th scope=col>&lt;chr&gt;</th><th scope=col>&lt;chr&gt;</th><th scope=col>&lt;chr&gt;</th><th scope=col>&lt;chr&gt;</th></tr>\n</thead>\n<tbody>\n\t<tr><td>Ativo Total</td><td>NA</td><td>NA</td><td>NA</td><td>NA</td><td>Ativo Total                         </td><td>2.775.558</td><td>2.369.285</td></tr>\n\t<tr><td>Ativo Total</td><td>01</td><td>NA</td><td>NA</td><td>NA</td><td>Ativo Circulante                    </td><td>1.875.214</td><td>1.651.950</td></tr>\n\t<tr><td>Ativo Total</td><td>01</td><td>01</td><td>NA</td><td>NA</td><td>Caixa e Equivalentes de Caixa       </td><td>815.476  </td><td>683.412  </td></tr>\n\t<tr><td>Ativo Total</td><td>01</td><td>03</td><td>NA</td><td>NA</td><td>Contas a Receber                    </td><td>258.104  </td><td>206.005  </td></tr>\n\t<tr><td>Ativo Total</td><td>01</td><td>03</td><td>01</td><td>NA</td><td>Clientes                            </td><td>258.104  </td><td>206.005  </td></tr>\n\t<tr><td>Ativo Total</td><td>01</td><td>04</td><td>NA</td><td>NA</td><td>Estoques                            </td><td>629.601  </td><td>617.289  </td></tr>\n\t<tr><td>Ativo Total</td><td>01</td><td>06</td><td>NA</td><td>NA</td><td>Tributos a Recuperar                </td><td>92.690   </td><td>80.862   </td></tr>\n\t<tr><td>Ativo Total</td><td>01</td><td>08</td><td>NA</td><td>NA</td><td>Outros Ativos Circulantes           </td><td>79.343   </td><td>64.382   </td></tr>\n\t<tr><td>Ativo Total</td><td>01</td><td>08</td><td>03</td><td>NA</td><td>Outros                              </td><td>79.343   </td><td>64.382   </td></tr>\n\t<tr><td>Ativo Total</td><td>01</td><td>08</td><td>03</td><td>01</td><td>Ativos financeiros                  </td><td>12.153   </td><td>16.059   </td></tr>\n\t<tr><td>Ativo Total</td><td>01</td><td>08</td><td>03</td><td>03</td><td>Outras contas                       </td><td>53.490   </td><td>39.511   </td></tr>\n\t<tr><td>Ativo Total</td><td>01</td><td>08</td><td>03</td><td>04</td><td>Instrumentos financeiros derivativos</td><td>13.700   </td><td>8.812    </td></tr>\n\t<tr><td>Ativo Total</td><td>02</td><td>NA</td><td>NA</td><td>NA</td><td>Ativo Não Circulante                </td><td>900.344  </td><td>717.335  </td></tr>\n\t<tr><td>Ativo Total</td><td>02</td><td>01</td><td>NA</td><td>NA</td><td>Ativo Realizável a Longo Prazo      </td><td>104.944  </td><td>90.941   </td></tr>\n\t<tr><td>Ativo Total</td><td>02</td><td>01</td><td>09</td><td>NA</td><td>Créditos com Partes Relacionadas    </td><td>12.773   </td><td>9.730    </td></tr>\n\t<tr><td>Ativo Total</td><td>02</td><td>01</td><td>09</td><td>02</td><td>Créditos com Controladas            </td><td>12.773   </td><td>9.730    </td></tr>\n\t<tr><td>Ativo Total</td><td>02</td><td>01</td><td>10</td><td>NA</td><td>Outros Ativos Não Circulantes       </td><td>92.171   </td><td>81.211   </td></tr>\n\t<tr><td>Ativo Total</td><td>02</td><td>01</td><td>10</td><td>03</td><td>Tributos a recuperar                </td><td>90.374   </td><td>80.006   </td></tr>\n\t<tr><td>Ativo Total</td><td>02</td><td>01</td><td>10</td><td>04</td><td>Instrumentos financeiros derivativos</td><td>893      </td><td>0        </td></tr>\n\t<tr><td>Ativo Total</td><td>02</td><td>01</td><td>10</td><td>05</td><td>Outras contas a receber             </td><td>904      </td><td>1.205    </td></tr>\n\t<tr><td>Ativo Total</td><td>02</td><td>02</td><td>NA</td><td>NA</td><td>Investimentos                       </td><td>6.505    </td><td>5.934    </td></tr>\n\t<tr><td>Ativo Total</td><td>02</td><td>03</td><td>NA</td><td>NA</td><td>Imobilizado                         </td><td>786.627  </td><td>619.172  </td></tr>\n\t<tr><td>Ativo Total</td><td>02</td><td>04</td><td>NA</td><td>NA</td><td>Intangível                          </td><td>2.268    </td><td>1.288    </td></tr>\n</tbody>\n</table>\n",
            "text/markdown": "\nA tibble: 23 × 8\n\n| Tier1 &lt;chr&gt; | Tier2 &lt;chr&gt; | Tier3 &lt;chr&gt; | Tier4 &lt;chr&gt; | Tier5 &lt;chr&gt; | Descrição da Conta &lt;chr&gt; | Trimestre Atual &lt;chr&gt; | Exercício Anterior &lt;chr&gt; |\n|---|---|---|---|---|---|---|---|\n| Ativo Total | NA | NA | NA | NA | Ativo Total                          | 2.775.558 | 2.369.285 |\n| Ativo Total | 01 | NA | NA | NA | Ativo Circulante                     | 1.875.214 | 1.651.950 |\n| Ativo Total | 01 | 01 | NA | NA | Caixa e Equivalentes de Caixa        | 815.476   | 683.412   |\n| Ativo Total | 01 | 03 | NA | NA | Contas a Receber                     | 258.104   | 206.005   |\n| Ativo Total | 01 | 03 | 01 | NA | Clientes                             | 258.104   | 206.005   |\n| Ativo Total | 01 | 04 | NA | NA | Estoques                             | 629.601   | 617.289   |\n| Ativo Total | 01 | 06 | NA | NA | Tributos a Recuperar                 | 92.690    | 80.862    |\n| Ativo Total | 01 | 08 | NA | NA | Outros Ativos Circulantes            | 79.343    | 64.382    |\n| Ativo Total | 01 | 08 | 03 | NA | Outros                               | 79.343    | 64.382    |\n| Ativo Total | 01 | 08 | 03 | 01 | Ativos financeiros                   | 12.153    | 16.059    |\n| Ativo Total | 01 | 08 | 03 | 03 | Outras contas                        | 53.490    | 39.511    |\n| Ativo Total | 01 | 08 | 03 | 04 | Instrumentos financeiros derivativos | 13.700    | 8.812     |\n| Ativo Total | 02 | NA | NA | NA | Ativo Não Circulante                 | 900.344   | 717.335   |\n| Ativo Total | 02 | 01 | NA | NA | Ativo Realizável a Longo Prazo       | 104.944   | 90.941    |\n| Ativo Total | 02 | 01 | 09 | NA | Créditos com Partes Relacionadas     | 12.773    | 9.730     |\n| Ativo Total | 02 | 01 | 09 | 02 | Créditos com Controladas             | 12.773    | 9.730     |\n| Ativo Total | 02 | 01 | 10 | NA | Outros Ativos Não Circulantes        | 92.171    | 81.211    |\n| Ativo Total | 02 | 01 | 10 | 03 | Tributos a recuperar                 | 90.374    | 80.006    |\n| Ativo Total | 02 | 01 | 10 | 04 | Instrumentos financeiros derivativos | 893       | 0         |\n| Ativo Total | 02 | 01 | 10 | 05 | Outras contas a receber              | 904       | 1.205     |\n| Ativo Total | 02 | 02 | NA | NA | Investimentos                        | 6.505     | 5.934     |\n| Ativo Total | 02 | 03 | NA | NA | Imobilizado                          | 786.627   | 619.172   |\n| Ativo Total | 02 | 04 | NA | NA | Intangível                           | 2.268     | 1.288     |\n\n",
            "text/latex": "A tibble: 23 × 8\n\\begin{tabular}{llllllll}\n Tier1 & Tier2 & Tier3 & Tier4 & Tier5 & Descrição da Conta & Trimestre Atual & Exercício Anterior\\\\\n <chr> & <chr> & <chr> & <chr> & <chr> & <chr> & <chr> & <chr>\\\\\n\\hline\n\t Ativo Total & NA & NA & NA & NA & Ativo Total                          & 2.775.558 & 2.369.285\\\\\n\t Ativo Total & 01 & NA & NA & NA & Ativo Circulante                     & 1.875.214 & 1.651.950\\\\\n\t Ativo Total & 01 & 01 & NA & NA & Caixa e Equivalentes de Caixa        & 815.476   & 683.412  \\\\\n\t Ativo Total & 01 & 03 & NA & NA & Contas a Receber                     & 258.104   & 206.005  \\\\\n\t Ativo Total & 01 & 03 & 01 & NA & Clientes                             & 258.104   & 206.005  \\\\\n\t Ativo Total & 01 & 04 & NA & NA & Estoques                             & 629.601   & 617.289  \\\\\n\t Ativo Total & 01 & 06 & NA & NA & Tributos a Recuperar                 & 92.690    & 80.862   \\\\\n\t Ativo Total & 01 & 08 & NA & NA & Outros Ativos Circulantes            & 79.343    & 64.382   \\\\\n\t Ativo Total & 01 & 08 & 03 & NA & Outros                               & 79.343    & 64.382   \\\\\n\t Ativo Total & 01 & 08 & 03 & 01 & Ativos financeiros                   & 12.153    & 16.059   \\\\\n\t Ativo Total & 01 & 08 & 03 & 03 & Outras contas                        & 53.490    & 39.511   \\\\\n\t Ativo Total & 01 & 08 & 03 & 04 & Instrumentos financeiros derivativos & 13.700    & 8.812    \\\\\n\t Ativo Total & 02 & NA & NA & NA & Ativo Não Circulante                 & 900.344   & 717.335  \\\\\n\t Ativo Total & 02 & 01 & NA & NA & Ativo Realizável a Longo Prazo       & 104.944   & 90.941   \\\\\n\t Ativo Total & 02 & 01 & 09 & NA & Créditos com Partes Relacionadas     & 12.773    & 9.730    \\\\\n\t Ativo Total & 02 & 01 & 09 & 02 & Créditos com Controladas             & 12.773    & 9.730    \\\\\n\t Ativo Total & 02 & 01 & 10 & NA & Outros Ativos Não Circulantes        & 92.171    & 81.211   \\\\\n\t Ativo Total & 02 & 01 & 10 & 03 & Tributos a recuperar                 & 90.374    & 80.006   \\\\\n\t Ativo Total & 02 & 01 & 10 & 04 & Instrumentos financeiros derivativos & 893       & 0        \\\\\n\t Ativo Total & 02 & 01 & 10 & 05 & Outras contas a receber              & 904       & 1.205    \\\\\n\t Ativo Total & 02 & 02 & NA & NA & Investimentos                        & 6.505     & 5.934    \\\\\n\t Ativo Total & 02 & 03 & NA & NA & Imobilizado                          & 786.627   & 619.172  \\\\\n\t Ativo Total & 02 & 04 & NA & NA & Intangível                           & 2.268     & 1.288    \\\\\n\\end{tabular}\n",
            "text/plain": "   Tier1       Tier2 Tier3 Tier4 Tier5 Descrição da Conta                  \n1  Ativo Total NA    NA    NA    NA    Ativo Total                         \n2  Ativo Total 01    NA    NA    NA    Ativo Circulante                    \n3  Ativo Total 01    01    NA    NA    Caixa e Equivalentes de Caixa       \n4  Ativo Total 01    03    NA    NA    Contas a Receber                    \n5  Ativo Total 01    03    01    NA    Clientes                            \n6  Ativo Total 01    04    NA    NA    Estoques                            \n7  Ativo Total 01    06    NA    NA    Tributos a Recuperar                \n8  Ativo Total 01    08    NA    NA    Outros Ativos Circulantes           \n9  Ativo Total 01    08    03    NA    Outros                              \n10 Ativo Total 01    08    03    01    Ativos financeiros                  \n11 Ativo Total 01    08    03    03    Outras contas                       \n12 Ativo Total 01    08    03    04    Instrumentos financeiros derivativos\n13 Ativo Total 02    NA    NA    NA    Ativo Não Circulante                \n14 Ativo Total 02    01    NA    NA    Ativo Realizável a Longo Prazo      \n15 Ativo Total 02    01    09    NA    Créditos com Partes Relacionadas    \n16 Ativo Total 02    01    09    02    Créditos com Controladas            \n17 Ativo Total 02    01    10    NA    Outros Ativos Não Circulantes       \n18 Ativo Total 02    01    10    03    Tributos a recuperar                \n19 Ativo Total 02    01    10    04    Instrumentos financeiros derivativos\n20 Ativo Total 02    01    10    05    Outras contas a receber             \n21 Ativo Total 02    02    NA    NA    Investimentos                       \n22 Ativo Total 02    03    NA    NA    Imobilizado                         \n23 Ativo Total 02    04    NA    NA    Intangível                          \n   Trimestre Atual Exercício Anterior\n1  2.775.558       2.369.285         \n2  1.875.214       1.651.950         \n3  815.476         683.412           \n4  258.104         206.005           \n5  258.104         206.005           \n6  629.601         617.289           \n7  92.690          80.862            \n8  79.343          64.382            \n9  79.343          64.382            \n10 12.153          16.059            \n11 53.490          39.511            \n12 13.700          8.812             \n13 900.344         717.335           \n14 104.944         90.941            \n15 12.773          9.730             \n16 12.773          9.730             \n17 92.171          81.211            \n18 90.374          80.006            \n19 893             0                 \n20 904             1.205             \n21 6.505           5.934             \n22 786.627         619.172           \n23 2.268           1.288             "
          },
          "metadata": {}
        }
      ],
      "execution_count": 73,
      "metadata": {
        "jupyter": {
          "source_hidden": false,
          "outputs_hidden": false
        },
        "nteract": {
          "transient": {
            "deleting": false
          }
        },
        "gather": {
          "logged": 1649610672213
        }
      }
    },
    {
      "cell_type": "markdown",
      "source": [
        "# <h4>Drop Columns: <code>[</code></h4> "
      ],
      "metadata": {
        "nteract": {
          "transient": {
            "deleting": false
          }
        }
      }
    },
    {
      "cell_type": "code",
      "source": [
        "col_mask <- !(is.na(select(data_frame_1, Tiers[round+1])))\n",
        "data_frame_1 <- data_frame_1[col_mask, colnames(data_frame_1)]\n",
        "data_frame_1"
      ],
      "outputs": [
        {
          "output_type": "display_data",
          "data": {
            "text/html": "<table class=\"dataframe\">\n<caption>A tibble: 22 × 8</caption>\n<thead>\n\t<tr><th scope=col>Tier1</th><th scope=col>Tier2</th><th scope=col>Tier3</th><th scope=col>Tier4</th><th scope=col>Tier5</th><th scope=col>Descrição da Conta</th><th scope=col>Trimestre Atual</th><th scope=col>Exercício Anterior</th></tr>\n\t<tr><th scope=col>&lt;chr&gt;</th><th scope=col>&lt;chr&gt;</th><th scope=col>&lt;chr&gt;</th><th scope=col>&lt;chr&gt;</th><th scope=col>&lt;chr&gt;</th><th scope=col>&lt;chr&gt;</th><th scope=col>&lt;chr&gt;</th><th scope=col>&lt;chr&gt;</th></tr>\n</thead>\n<tbody>\n\t<tr><td>Ativo Total</td><td>01</td><td>NA</td><td>NA</td><td>NA</td><td>Ativo Circulante                    </td><td>1.875.214</td><td>1.651.950</td></tr>\n\t<tr><td>Ativo Total</td><td>01</td><td>01</td><td>NA</td><td>NA</td><td>Caixa e Equivalentes de Caixa       </td><td>815.476  </td><td>683.412  </td></tr>\n\t<tr><td>Ativo Total</td><td>01</td><td>03</td><td>NA</td><td>NA</td><td>Contas a Receber                    </td><td>258.104  </td><td>206.005  </td></tr>\n\t<tr><td>Ativo Total</td><td>01</td><td>03</td><td>01</td><td>NA</td><td>Clientes                            </td><td>258.104  </td><td>206.005  </td></tr>\n\t<tr><td>Ativo Total</td><td>01</td><td>04</td><td>NA</td><td>NA</td><td>Estoques                            </td><td>629.601  </td><td>617.289  </td></tr>\n\t<tr><td>Ativo Total</td><td>01</td><td>06</td><td>NA</td><td>NA</td><td>Tributos a Recuperar                </td><td>92.690   </td><td>80.862   </td></tr>\n\t<tr><td>Ativo Total</td><td>01</td><td>08</td><td>NA</td><td>NA</td><td>Outros Ativos Circulantes           </td><td>79.343   </td><td>64.382   </td></tr>\n\t<tr><td>Ativo Total</td><td>01</td><td>08</td><td>03</td><td>NA</td><td>Outros                              </td><td>79.343   </td><td>64.382   </td></tr>\n\t<tr><td>Ativo Total</td><td>01</td><td>08</td><td>03</td><td>01</td><td>Ativos financeiros                  </td><td>12.153   </td><td>16.059   </td></tr>\n\t<tr><td>Ativo Total</td><td>01</td><td>08</td><td>03</td><td>03</td><td>Outras contas                       </td><td>53.490   </td><td>39.511   </td></tr>\n\t<tr><td>Ativo Total</td><td>01</td><td>08</td><td>03</td><td>04</td><td>Instrumentos financeiros derivativos</td><td>13.700   </td><td>8.812    </td></tr>\n\t<tr><td>Ativo Total</td><td>02</td><td>NA</td><td>NA</td><td>NA</td><td>Ativo Não Circulante                </td><td>900.344  </td><td>717.335  </td></tr>\n\t<tr><td>Ativo Total</td><td>02</td><td>01</td><td>NA</td><td>NA</td><td>Ativo Realizável a Longo Prazo      </td><td>104.944  </td><td>90.941   </td></tr>\n\t<tr><td>Ativo Total</td><td>02</td><td>01</td><td>09</td><td>NA</td><td>Créditos com Partes Relacionadas    </td><td>12.773   </td><td>9.730    </td></tr>\n\t<tr><td>Ativo Total</td><td>02</td><td>01</td><td>09</td><td>02</td><td>Créditos com Controladas            </td><td>12.773   </td><td>9.730    </td></tr>\n\t<tr><td>Ativo Total</td><td>02</td><td>01</td><td>10</td><td>NA</td><td>Outros Ativos Não Circulantes       </td><td>92.171   </td><td>81.211   </td></tr>\n\t<tr><td>Ativo Total</td><td>02</td><td>01</td><td>10</td><td>03</td><td>Tributos a recuperar                </td><td>90.374   </td><td>80.006   </td></tr>\n\t<tr><td>Ativo Total</td><td>02</td><td>01</td><td>10</td><td>04</td><td>Instrumentos financeiros derivativos</td><td>893      </td><td>0        </td></tr>\n\t<tr><td>Ativo Total</td><td>02</td><td>01</td><td>10</td><td>05</td><td>Outras contas a receber             </td><td>904      </td><td>1.205    </td></tr>\n\t<tr><td>Ativo Total</td><td>02</td><td>02</td><td>NA</td><td>NA</td><td>Investimentos                       </td><td>6.505    </td><td>5.934    </td></tr>\n\t<tr><td>Ativo Total</td><td>02</td><td>03</td><td>NA</td><td>NA</td><td>Imobilizado                         </td><td>786.627  </td><td>619.172  </td></tr>\n\t<tr><td>Ativo Total</td><td>02</td><td>04</td><td>NA</td><td>NA</td><td>Intangível                          </td><td>2.268    </td><td>1.288    </td></tr>\n</tbody>\n</table>\n",
            "text/markdown": "\nA tibble: 22 × 8\n\n| Tier1 &lt;chr&gt; | Tier2 &lt;chr&gt; | Tier3 &lt;chr&gt; | Tier4 &lt;chr&gt; | Tier5 &lt;chr&gt; | Descrição da Conta &lt;chr&gt; | Trimestre Atual &lt;chr&gt; | Exercício Anterior &lt;chr&gt; |\n|---|---|---|---|---|---|---|---|\n| Ativo Total | 01 | NA | NA | NA | Ativo Circulante                     | 1.875.214 | 1.651.950 |\n| Ativo Total | 01 | 01 | NA | NA | Caixa e Equivalentes de Caixa        | 815.476   | 683.412   |\n| Ativo Total | 01 | 03 | NA | NA | Contas a Receber                     | 258.104   | 206.005   |\n| Ativo Total | 01 | 03 | 01 | NA | Clientes                             | 258.104   | 206.005   |\n| Ativo Total | 01 | 04 | NA | NA | Estoques                             | 629.601   | 617.289   |\n| Ativo Total | 01 | 06 | NA | NA | Tributos a Recuperar                 | 92.690    | 80.862    |\n| Ativo Total | 01 | 08 | NA | NA | Outros Ativos Circulantes            | 79.343    | 64.382    |\n| Ativo Total | 01 | 08 | 03 | NA | Outros                               | 79.343    | 64.382    |\n| Ativo Total | 01 | 08 | 03 | 01 | Ativos financeiros                   | 12.153    | 16.059    |\n| Ativo Total | 01 | 08 | 03 | 03 | Outras contas                        | 53.490    | 39.511    |\n| Ativo Total | 01 | 08 | 03 | 04 | Instrumentos financeiros derivativos | 13.700    | 8.812     |\n| Ativo Total | 02 | NA | NA | NA | Ativo Não Circulante                 | 900.344   | 717.335   |\n| Ativo Total | 02 | 01 | NA | NA | Ativo Realizável a Longo Prazo       | 104.944   | 90.941    |\n| Ativo Total | 02 | 01 | 09 | NA | Créditos com Partes Relacionadas     | 12.773    | 9.730     |\n| Ativo Total | 02 | 01 | 09 | 02 | Créditos com Controladas             | 12.773    | 9.730     |\n| Ativo Total | 02 | 01 | 10 | NA | Outros Ativos Não Circulantes        | 92.171    | 81.211    |\n| Ativo Total | 02 | 01 | 10 | 03 | Tributos a recuperar                 | 90.374    | 80.006    |\n| Ativo Total | 02 | 01 | 10 | 04 | Instrumentos financeiros derivativos | 893       | 0         |\n| Ativo Total | 02 | 01 | 10 | 05 | Outras contas a receber              | 904       | 1.205     |\n| Ativo Total | 02 | 02 | NA | NA | Investimentos                        | 6.505     | 5.934     |\n| Ativo Total | 02 | 03 | NA | NA | Imobilizado                          | 786.627   | 619.172   |\n| Ativo Total | 02 | 04 | NA | NA | Intangível                           | 2.268     | 1.288     |\n\n",
            "text/latex": "A tibble: 22 × 8\n\\begin{tabular}{llllllll}\n Tier1 & Tier2 & Tier3 & Tier4 & Tier5 & Descrição da Conta & Trimestre Atual & Exercício Anterior\\\\\n <chr> & <chr> & <chr> & <chr> & <chr> & <chr> & <chr> & <chr>\\\\\n\\hline\n\t Ativo Total & 01 & NA & NA & NA & Ativo Circulante                     & 1.875.214 & 1.651.950\\\\\n\t Ativo Total & 01 & 01 & NA & NA & Caixa e Equivalentes de Caixa        & 815.476   & 683.412  \\\\\n\t Ativo Total & 01 & 03 & NA & NA & Contas a Receber                     & 258.104   & 206.005  \\\\\n\t Ativo Total & 01 & 03 & 01 & NA & Clientes                             & 258.104   & 206.005  \\\\\n\t Ativo Total & 01 & 04 & NA & NA & Estoques                             & 629.601   & 617.289  \\\\\n\t Ativo Total & 01 & 06 & NA & NA & Tributos a Recuperar                 & 92.690    & 80.862   \\\\\n\t Ativo Total & 01 & 08 & NA & NA & Outros Ativos Circulantes            & 79.343    & 64.382   \\\\\n\t Ativo Total & 01 & 08 & 03 & NA & Outros                               & 79.343    & 64.382   \\\\\n\t Ativo Total & 01 & 08 & 03 & 01 & Ativos financeiros                   & 12.153    & 16.059   \\\\\n\t Ativo Total & 01 & 08 & 03 & 03 & Outras contas                        & 53.490    & 39.511   \\\\\n\t Ativo Total & 01 & 08 & 03 & 04 & Instrumentos financeiros derivativos & 13.700    & 8.812    \\\\\n\t Ativo Total & 02 & NA & NA & NA & Ativo Não Circulante                 & 900.344   & 717.335  \\\\\n\t Ativo Total & 02 & 01 & NA & NA & Ativo Realizável a Longo Prazo       & 104.944   & 90.941   \\\\\n\t Ativo Total & 02 & 01 & 09 & NA & Créditos com Partes Relacionadas     & 12.773    & 9.730    \\\\\n\t Ativo Total & 02 & 01 & 09 & 02 & Créditos com Controladas             & 12.773    & 9.730    \\\\\n\t Ativo Total & 02 & 01 & 10 & NA & Outros Ativos Não Circulantes        & 92.171    & 81.211   \\\\\n\t Ativo Total & 02 & 01 & 10 & 03 & Tributos a recuperar                 & 90.374    & 80.006   \\\\\n\t Ativo Total & 02 & 01 & 10 & 04 & Instrumentos financeiros derivativos & 893       & 0        \\\\\n\t Ativo Total & 02 & 01 & 10 & 05 & Outras contas a receber              & 904       & 1.205    \\\\\n\t Ativo Total & 02 & 02 & NA & NA & Investimentos                        & 6.505     & 5.934    \\\\\n\t Ativo Total & 02 & 03 & NA & NA & Imobilizado                          & 786.627   & 619.172  \\\\\n\t Ativo Total & 02 & 04 & NA & NA & Intangível                           & 2.268     & 1.288    \\\\\n\\end{tabular}\n",
            "text/plain": "   Tier1       Tier2 Tier3 Tier4 Tier5 Descrição da Conta                  \n1  Ativo Total 01    NA    NA    NA    Ativo Circulante                    \n2  Ativo Total 01    01    NA    NA    Caixa e Equivalentes de Caixa       \n3  Ativo Total 01    03    NA    NA    Contas a Receber                    \n4  Ativo Total 01    03    01    NA    Clientes                            \n5  Ativo Total 01    04    NA    NA    Estoques                            \n6  Ativo Total 01    06    NA    NA    Tributos a Recuperar                \n7  Ativo Total 01    08    NA    NA    Outros Ativos Circulantes           \n8  Ativo Total 01    08    03    NA    Outros                              \n9  Ativo Total 01    08    03    01    Ativos financeiros                  \n10 Ativo Total 01    08    03    03    Outras contas                       \n11 Ativo Total 01    08    03    04    Instrumentos financeiros derivativos\n12 Ativo Total 02    NA    NA    NA    Ativo Não Circulante                \n13 Ativo Total 02    01    NA    NA    Ativo Realizável a Longo Prazo      \n14 Ativo Total 02    01    09    NA    Créditos com Partes Relacionadas    \n15 Ativo Total 02    01    09    02    Créditos com Controladas            \n16 Ativo Total 02    01    10    NA    Outros Ativos Não Circulantes       \n17 Ativo Total 02    01    10    03    Tributos a recuperar                \n18 Ativo Total 02    01    10    04    Instrumentos financeiros derivativos\n19 Ativo Total 02    01    10    05    Outras contas a receber             \n20 Ativo Total 02    02    NA    NA    Investimentos                       \n21 Ativo Total 02    03    NA    NA    Imobilizado                         \n22 Ativo Total 02    04    NA    NA    Intangível                          \n   Trimestre Atual Exercício Anterior\n1  1.875.214       1.651.950         \n2  815.476         683.412           \n3  258.104         206.005           \n4  258.104         206.005           \n5  629.601         617.289           \n6  92.690          80.862            \n7  79.343          64.382            \n8  79.343          64.382            \n9  12.153          16.059            \n10 53.490          39.511            \n11 13.700          8.812             \n12 900.344         717.335           \n13 104.944         90.941            \n14 12.773          9.730             \n15 12.773          9.730             \n16 92.171          81.211            \n17 90.374          80.006            \n18 893             0                 \n19 904             1.205             \n20 6.505           5.934             \n21 786.627         619.172           \n22 2.268           1.288             "
          },
          "metadata": {}
        }
      ],
      "execution_count": 74,
      "metadata": {
        "jupyter": {
          "source_hidden": false,
          "outputs_hidden": false
        },
        "nteract": {
          "transient": {
            "deleting": false
          }
        },
        "gather": {
          "logged": 1649610673347
        }
      }
    },
    {
      "cell_type": "markdown",
      "source": [
        "# <h4>Drop Columns: <code>subset()</code></h4> "
      ],
      "metadata": {
        "nteract": {
          "transient": {
            "deleting": false
          }
        }
      }
    },
    {
      "cell_type": "code",
      "source": [
        "col_mask <- !(is.na(select(data_frame_1, Tiers[round+1])))\n",
        "data_frame_1 <-subset(data_frame_1, col_mask)\n",
        "data_frame_1"
      ],
      "outputs": [
        {
          "output_type": "display_data",
          "data": {
            "text/html": "<table class=\"dataframe\">\n<caption>A tibble: 22 × 8</caption>\n<thead>\n\t<tr><th scope=col>Tier1</th><th scope=col>Tier2</th><th scope=col>Tier3</th><th scope=col>Tier4</th><th scope=col>Tier5</th><th scope=col>Descrição da Conta</th><th scope=col>Trimestre Atual</th><th scope=col>Exercício Anterior</th></tr>\n\t<tr><th scope=col>&lt;chr&gt;</th><th scope=col>&lt;chr&gt;</th><th scope=col>&lt;chr&gt;</th><th scope=col>&lt;chr&gt;</th><th scope=col>&lt;chr&gt;</th><th scope=col>&lt;chr&gt;</th><th scope=col>&lt;chr&gt;</th><th scope=col>&lt;chr&gt;</th></tr>\n</thead>\n<tbody>\n\t<tr><td>Ativo Total</td><td>01</td><td>NA</td><td>NA</td><td>NA</td><td>Ativo Circulante                    </td><td>1.875.214</td><td>1.651.950</td></tr>\n\t<tr><td>Ativo Total</td><td>01</td><td>01</td><td>NA</td><td>NA</td><td>Caixa e Equivalentes de Caixa       </td><td>815.476  </td><td>683.412  </td></tr>\n\t<tr><td>Ativo Total</td><td>01</td><td>03</td><td>NA</td><td>NA</td><td>Contas a Receber                    </td><td>258.104  </td><td>206.005  </td></tr>\n\t<tr><td>Ativo Total</td><td>01</td><td>03</td><td>01</td><td>NA</td><td>Clientes                            </td><td>258.104  </td><td>206.005  </td></tr>\n\t<tr><td>Ativo Total</td><td>01</td><td>04</td><td>NA</td><td>NA</td><td>Estoques                            </td><td>629.601  </td><td>617.289  </td></tr>\n\t<tr><td>Ativo Total</td><td>01</td><td>06</td><td>NA</td><td>NA</td><td>Tributos a Recuperar                </td><td>92.690   </td><td>80.862   </td></tr>\n\t<tr><td>Ativo Total</td><td>01</td><td>08</td><td>NA</td><td>NA</td><td>Outros Ativos Circulantes           </td><td>79.343   </td><td>64.382   </td></tr>\n\t<tr><td>Ativo Total</td><td>01</td><td>08</td><td>03</td><td>NA</td><td>Outros                              </td><td>79.343   </td><td>64.382   </td></tr>\n\t<tr><td>Ativo Total</td><td>01</td><td>08</td><td>03</td><td>01</td><td>Ativos financeiros                  </td><td>12.153   </td><td>16.059   </td></tr>\n\t<tr><td>Ativo Total</td><td>01</td><td>08</td><td>03</td><td>03</td><td>Outras contas                       </td><td>53.490   </td><td>39.511   </td></tr>\n\t<tr><td>Ativo Total</td><td>01</td><td>08</td><td>03</td><td>04</td><td>Instrumentos financeiros derivativos</td><td>13.700   </td><td>8.812    </td></tr>\n\t<tr><td>Ativo Total</td><td>02</td><td>NA</td><td>NA</td><td>NA</td><td>Ativo Não Circulante                </td><td>900.344  </td><td>717.335  </td></tr>\n\t<tr><td>Ativo Total</td><td>02</td><td>01</td><td>NA</td><td>NA</td><td>Ativo Realizável a Longo Prazo      </td><td>104.944  </td><td>90.941   </td></tr>\n\t<tr><td>Ativo Total</td><td>02</td><td>01</td><td>09</td><td>NA</td><td>Créditos com Partes Relacionadas    </td><td>12.773   </td><td>9.730    </td></tr>\n\t<tr><td>Ativo Total</td><td>02</td><td>01</td><td>09</td><td>02</td><td>Créditos com Controladas            </td><td>12.773   </td><td>9.730    </td></tr>\n\t<tr><td>Ativo Total</td><td>02</td><td>01</td><td>10</td><td>NA</td><td>Outros Ativos Não Circulantes       </td><td>92.171   </td><td>81.211   </td></tr>\n\t<tr><td>Ativo Total</td><td>02</td><td>01</td><td>10</td><td>03</td><td>Tributos a recuperar                </td><td>90.374   </td><td>80.006   </td></tr>\n\t<tr><td>Ativo Total</td><td>02</td><td>01</td><td>10</td><td>04</td><td>Instrumentos financeiros derivativos</td><td>893      </td><td>0        </td></tr>\n\t<tr><td>Ativo Total</td><td>02</td><td>01</td><td>10</td><td>05</td><td>Outras contas a receber             </td><td>904      </td><td>1.205    </td></tr>\n\t<tr><td>Ativo Total</td><td>02</td><td>02</td><td>NA</td><td>NA</td><td>Investimentos                       </td><td>6.505    </td><td>5.934    </td></tr>\n\t<tr><td>Ativo Total</td><td>02</td><td>03</td><td>NA</td><td>NA</td><td>Imobilizado                         </td><td>786.627  </td><td>619.172  </td></tr>\n\t<tr><td>Ativo Total</td><td>02</td><td>04</td><td>NA</td><td>NA</td><td>Intangível                          </td><td>2.268    </td><td>1.288    </td></tr>\n</tbody>\n</table>\n",
            "text/markdown": "\nA tibble: 22 × 8\n\n| Tier1 &lt;chr&gt; | Tier2 &lt;chr&gt; | Tier3 &lt;chr&gt; | Tier4 &lt;chr&gt; | Tier5 &lt;chr&gt; | Descrição da Conta &lt;chr&gt; | Trimestre Atual &lt;chr&gt; | Exercício Anterior &lt;chr&gt; |\n|---|---|---|---|---|---|---|---|\n| Ativo Total | 01 | NA | NA | NA | Ativo Circulante                     | 1.875.214 | 1.651.950 |\n| Ativo Total | 01 | 01 | NA | NA | Caixa e Equivalentes de Caixa        | 815.476   | 683.412   |\n| Ativo Total | 01 | 03 | NA | NA | Contas a Receber                     | 258.104   | 206.005   |\n| Ativo Total | 01 | 03 | 01 | NA | Clientes                             | 258.104   | 206.005   |\n| Ativo Total | 01 | 04 | NA | NA | Estoques                             | 629.601   | 617.289   |\n| Ativo Total | 01 | 06 | NA | NA | Tributos a Recuperar                 | 92.690    | 80.862    |\n| Ativo Total | 01 | 08 | NA | NA | Outros Ativos Circulantes            | 79.343    | 64.382    |\n| Ativo Total | 01 | 08 | 03 | NA | Outros                               | 79.343    | 64.382    |\n| Ativo Total | 01 | 08 | 03 | 01 | Ativos financeiros                   | 12.153    | 16.059    |\n| Ativo Total | 01 | 08 | 03 | 03 | Outras contas                        | 53.490    | 39.511    |\n| Ativo Total | 01 | 08 | 03 | 04 | Instrumentos financeiros derivativos | 13.700    | 8.812     |\n| Ativo Total | 02 | NA | NA | NA | Ativo Não Circulante                 | 900.344   | 717.335   |\n| Ativo Total | 02 | 01 | NA | NA | Ativo Realizável a Longo Prazo       | 104.944   | 90.941    |\n| Ativo Total | 02 | 01 | 09 | NA | Créditos com Partes Relacionadas     | 12.773    | 9.730     |\n| Ativo Total | 02 | 01 | 09 | 02 | Créditos com Controladas             | 12.773    | 9.730     |\n| Ativo Total | 02 | 01 | 10 | NA | Outros Ativos Não Circulantes        | 92.171    | 81.211    |\n| Ativo Total | 02 | 01 | 10 | 03 | Tributos a recuperar                 | 90.374    | 80.006    |\n| Ativo Total | 02 | 01 | 10 | 04 | Instrumentos financeiros derivativos | 893       | 0         |\n| Ativo Total | 02 | 01 | 10 | 05 | Outras contas a receber              | 904       | 1.205     |\n| Ativo Total | 02 | 02 | NA | NA | Investimentos                        | 6.505     | 5.934     |\n| Ativo Total | 02 | 03 | NA | NA | Imobilizado                          | 786.627   | 619.172   |\n| Ativo Total | 02 | 04 | NA | NA | Intangível                           | 2.268     | 1.288     |\n\n",
            "text/latex": "A tibble: 22 × 8\n\\begin{tabular}{llllllll}\n Tier1 & Tier2 & Tier3 & Tier4 & Tier5 & Descrição da Conta & Trimestre Atual & Exercício Anterior\\\\\n <chr> & <chr> & <chr> & <chr> & <chr> & <chr> & <chr> & <chr>\\\\\n\\hline\n\t Ativo Total & 01 & NA & NA & NA & Ativo Circulante                     & 1.875.214 & 1.651.950\\\\\n\t Ativo Total & 01 & 01 & NA & NA & Caixa e Equivalentes de Caixa        & 815.476   & 683.412  \\\\\n\t Ativo Total & 01 & 03 & NA & NA & Contas a Receber                     & 258.104   & 206.005  \\\\\n\t Ativo Total & 01 & 03 & 01 & NA & Clientes                             & 258.104   & 206.005  \\\\\n\t Ativo Total & 01 & 04 & NA & NA & Estoques                             & 629.601   & 617.289  \\\\\n\t Ativo Total & 01 & 06 & NA & NA & Tributos a Recuperar                 & 92.690    & 80.862   \\\\\n\t Ativo Total & 01 & 08 & NA & NA & Outros Ativos Circulantes            & 79.343    & 64.382   \\\\\n\t Ativo Total & 01 & 08 & 03 & NA & Outros                               & 79.343    & 64.382   \\\\\n\t Ativo Total & 01 & 08 & 03 & 01 & Ativos financeiros                   & 12.153    & 16.059   \\\\\n\t Ativo Total & 01 & 08 & 03 & 03 & Outras contas                        & 53.490    & 39.511   \\\\\n\t Ativo Total & 01 & 08 & 03 & 04 & Instrumentos financeiros derivativos & 13.700    & 8.812    \\\\\n\t Ativo Total & 02 & NA & NA & NA & Ativo Não Circulante                 & 900.344   & 717.335  \\\\\n\t Ativo Total & 02 & 01 & NA & NA & Ativo Realizável a Longo Prazo       & 104.944   & 90.941   \\\\\n\t Ativo Total & 02 & 01 & 09 & NA & Créditos com Partes Relacionadas     & 12.773    & 9.730    \\\\\n\t Ativo Total & 02 & 01 & 09 & 02 & Créditos com Controladas             & 12.773    & 9.730    \\\\\n\t Ativo Total & 02 & 01 & 10 & NA & Outros Ativos Não Circulantes        & 92.171    & 81.211   \\\\\n\t Ativo Total & 02 & 01 & 10 & 03 & Tributos a recuperar                 & 90.374    & 80.006   \\\\\n\t Ativo Total & 02 & 01 & 10 & 04 & Instrumentos financeiros derivativos & 893       & 0        \\\\\n\t Ativo Total & 02 & 01 & 10 & 05 & Outras contas a receber              & 904       & 1.205    \\\\\n\t Ativo Total & 02 & 02 & NA & NA & Investimentos                        & 6.505     & 5.934    \\\\\n\t Ativo Total & 02 & 03 & NA & NA & Imobilizado                          & 786.627   & 619.172  \\\\\n\t Ativo Total & 02 & 04 & NA & NA & Intangível                           & 2.268     & 1.288    \\\\\n\\end{tabular}\n",
            "text/plain": "   Tier1       Tier2 Tier3 Tier4 Tier5 Descrição da Conta                  \n1  Ativo Total 01    NA    NA    NA    Ativo Circulante                    \n2  Ativo Total 01    01    NA    NA    Caixa e Equivalentes de Caixa       \n3  Ativo Total 01    03    NA    NA    Contas a Receber                    \n4  Ativo Total 01    03    01    NA    Clientes                            \n5  Ativo Total 01    04    NA    NA    Estoques                            \n6  Ativo Total 01    06    NA    NA    Tributos a Recuperar                \n7  Ativo Total 01    08    NA    NA    Outros Ativos Circulantes           \n8  Ativo Total 01    08    03    NA    Outros                              \n9  Ativo Total 01    08    03    01    Ativos financeiros                  \n10 Ativo Total 01    08    03    03    Outras contas                       \n11 Ativo Total 01    08    03    04    Instrumentos financeiros derivativos\n12 Ativo Total 02    NA    NA    NA    Ativo Não Circulante                \n13 Ativo Total 02    01    NA    NA    Ativo Realizável a Longo Prazo      \n14 Ativo Total 02    01    09    NA    Créditos com Partes Relacionadas    \n15 Ativo Total 02    01    09    02    Créditos com Controladas            \n16 Ativo Total 02    01    10    NA    Outros Ativos Não Circulantes       \n17 Ativo Total 02    01    10    03    Tributos a recuperar                \n18 Ativo Total 02    01    10    04    Instrumentos financeiros derivativos\n19 Ativo Total 02    01    10    05    Outras contas a receber             \n20 Ativo Total 02    02    NA    NA    Investimentos                       \n21 Ativo Total 02    03    NA    NA    Imobilizado                         \n22 Ativo Total 02    04    NA    NA    Intangível                          \n   Trimestre Atual Exercício Anterior\n1  1.875.214       1.651.950         \n2  815.476         683.412           \n3  258.104         206.005           \n4  258.104         206.005           \n5  629.601         617.289           \n6  92.690          80.862            \n7  79.343          64.382            \n8  79.343          64.382            \n9  12.153          16.059            \n10 53.490          39.511            \n11 13.700          8.812             \n12 900.344         717.335           \n13 104.944         90.941            \n14 12.773          9.730             \n15 12.773          9.730             \n16 92.171          81.211            \n17 90.374          80.006            \n18 893             0                 \n19 904             1.205             \n20 6.505           5.934             \n21 786.627         619.172           \n22 2.268           1.288             "
          },
          "metadata": {}
        }
      ],
      "execution_count": 75,
      "metadata": {
        "jupyter": {
          "source_hidden": false,
          "outputs_hidden": false
        },
        "nteract": {
          "transient": {
            "deleting": false
          }
        },
        "gather": {
          "logged": 1649610674355
        }
      }
    },
    {
      "cell_type": "markdown",
      "source": [
        "# <h4>Drop Columns: <code>filter()</code></h4> "
      ],
      "metadata": {
        "nteract": {
          "transient": {
            "deleting": false
          }
        }
      }
    },
    {
      "cell_type": "code",
      "source": [
        "col_mask <- !(is.na(select(data_frame_1, Tiers[round+1])))\n",
        "data_frame_1 <- filter(data_frame_1, col_mask)\n",
        "data_frame_1"
      ],
      "outputs": [
        {
          "output_type": "display_data",
          "data": {
            "text/html": "<table class=\"dataframe\">\n<caption>A tibble: 22 × 8</caption>\n<thead>\n\t<tr><th scope=col>Tier1</th><th scope=col>Tier2</th><th scope=col>Tier3</th><th scope=col>Tier4</th><th scope=col>Tier5</th><th scope=col>Descrição da Conta</th><th scope=col>Trimestre Atual</th><th scope=col>Exercício Anterior</th></tr>\n\t<tr><th scope=col>&lt;chr&gt;</th><th scope=col>&lt;chr&gt;</th><th scope=col>&lt;chr&gt;</th><th scope=col>&lt;chr&gt;</th><th scope=col>&lt;chr&gt;</th><th scope=col>&lt;chr&gt;</th><th scope=col>&lt;chr&gt;</th><th scope=col>&lt;chr&gt;</th></tr>\n</thead>\n<tbody>\n\t<tr><td>Ativo Total</td><td>01</td><td>NA</td><td>NA</td><td>NA</td><td>Ativo Circulante                    </td><td>1.875.214</td><td>1.651.950</td></tr>\n\t<tr><td>Ativo Total</td><td>01</td><td>01</td><td>NA</td><td>NA</td><td>Caixa e Equivalentes de Caixa       </td><td>815.476  </td><td>683.412  </td></tr>\n\t<tr><td>Ativo Total</td><td>01</td><td>03</td><td>NA</td><td>NA</td><td>Contas a Receber                    </td><td>258.104  </td><td>206.005  </td></tr>\n\t<tr><td>Ativo Total</td><td>01</td><td>03</td><td>01</td><td>NA</td><td>Clientes                            </td><td>258.104  </td><td>206.005  </td></tr>\n\t<tr><td>Ativo Total</td><td>01</td><td>04</td><td>NA</td><td>NA</td><td>Estoques                            </td><td>629.601  </td><td>617.289  </td></tr>\n\t<tr><td>Ativo Total</td><td>01</td><td>06</td><td>NA</td><td>NA</td><td>Tributos a Recuperar                </td><td>92.690   </td><td>80.862   </td></tr>\n\t<tr><td>Ativo Total</td><td>01</td><td>08</td><td>NA</td><td>NA</td><td>Outros Ativos Circulantes           </td><td>79.343   </td><td>64.382   </td></tr>\n\t<tr><td>Ativo Total</td><td>01</td><td>08</td><td>03</td><td>NA</td><td>Outros                              </td><td>79.343   </td><td>64.382   </td></tr>\n\t<tr><td>Ativo Total</td><td>01</td><td>08</td><td>03</td><td>01</td><td>Ativos financeiros                  </td><td>12.153   </td><td>16.059   </td></tr>\n\t<tr><td>Ativo Total</td><td>01</td><td>08</td><td>03</td><td>03</td><td>Outras contas                       </td><td>53.490   </td><td>39.511   </td></tr>\n\t<tr><td>Ativo Total</td><td>01</td><td>08</td><td>03</td><td>04</td><td>Instrumentos financeiros derivativos</td><td>13.700   </td><td>8.812    </td></tr>\n\t<tr><td>Ativo Total</td><td>02</td><td>NA</td><td>NA</td><td>NA</td><td>Ativo Não Circulante                </td><td>900.344  </td><td>717.335  </td></tr>\n\t<tr><td>Ativo Total</td><td>02</td><td>01</td><td>NA</td><td>NA</td><td>Ativo Realizável a Longo Prazo      </td><td>104.944  </td><td>90.941   </td></tr>\n\t<tr><td>Ativo Total</td><td>02</td><td>01</td><td>09</td><td>NA</td><td>Créditos com Partes Relacionadas    </td><td>12.773   </td><td>9.730    </td></tr>\n\t<tr><td>Ativo Total</td><td>02</td><td>01</td><td>09</td><td>02</td><td>Créditos com Controladas            </td><td>12.773   </td><td>9.730    </td></tr>\n\t<tr><td>Ativo Total</td><td>02</td><td>01</td><td>10</td><td>NA</td><td>Outros Ativos Não Circulantes       </td><td>92.171   </td><td>81.211   </td></tr>\n\t<tr><td>Ativo Total</td><td>02</td><td>01</td><td>10</td><td>03</td><td>Tributos a recuperar                </td><td>90.374   </td><td>80.006   </td></tr>\n\t<tr><td>Ativo Total</td><td>02</td><td>01</td><td>10</td><td>04</td><td>Instrumentos financeiros derivativos</td><td>893      </td><td>0        </td></tr>\n\t<tr><td>Ativo Total</td><td>02</td><td>01</td><td>10</td><td>05</td><td>Outras contas a receber             </td><td>904      </td><td>1.205    </td></tr>\n\t<tr><td>Ativo Total</td><td>02</td><td>02</td><td>NA</td><td>NA</td><td>Investimentos                       </td><td>6.505    </td><td>5.934    </td></tr>\n\t<tr><td>Ativo Total</td><td>02</td><td>03</td><td>NA</td><td>NA</td><td>Imobilizado                         </td><td>786.627  </td><td>619.172  </td></tr>\n\t<tr><td>Ativo Total</td><td>02</td><td>04</td><td>NA</td><td>NA</td><td>Intangível                          </td><td>2.268    </td><td>1.288    </td></tr>\n</tbody>\n</table>\n",
            "text/markdown": "\nA tibble: 22 × 8\n\n| Tier1 &lt;chr&gt; | Tier2 &lt;chr&gt; | Tier3 &lt;chr&gt; | Tier4 &lt;chr&gt; | Tier5 &lt;chr&gt; | Descrição da Conta &lt;chr&gt; | Trimestre Atual &lt;chr&gt; | Exercício Anterior &lt;chr&gt; |\n|---|---|---|---|---|---|---|---|\n| Ativo Total | 01 | NA | NA | NA | Ativo Circulante                     | 1.875.214 | 1.651.950 |\n| Ativo Total | 01 | 01 | NA | NA | Caixa e Equivalentes de Caixa        | 815.476   | 683.412   |\n| Ativo Total | 01 | 03 | NA | NA | Contas a Receber                     | 258.104   | 206.005   |\n| Ativo Total | 01 | 03 | 01 | NA | Clientes                             | 258.104   | 206.005   |\n| Ativo Total | 01 | 04 | NA | NA | Estoques                             | 629.601   | 617.289   |\n| Ativo Total | 01 | 06 | NA | NA | Tributos a Recuperar                 | 92.690    | 80.862    |\n| Ativo Total | 01 | 08 | NA | NA | Outros Ativos Circulantes            | 79.343    | 64.382    |\n| Ativo Total | 01 | 08 | 03 | NA | Outros                               | 79.343    | 64.382    |\n| Ativo Total | 01 | 08 | 03 | 01 | Ativos financeiros                   | 12.153    | 16.059    |\n| Ativo Total | 01 | 08 | 03 | 03 | Outras contas                        | 53.490    | 39.511    |\n| Ativo Total | 01 | 08 | 03 | 04 | Instrumentos financeiros derivativos | 13.700    | 8.812     |\n| Ativo Total | 02 | NA | NA | NA | Ativo Não Circulante                 | 900.344   | 717.335   |\n| Ativo Total | 02 | 01 | NA | NA | Ativo Realizável a Longo Prazo       | 104.944   | 90.941    |\n| Ativo Total | 02 | 01 | 09 | NA | Créditos com Partes Relacionadas     | 12.773    | 9.730     |\n| Ativo Total | 02 | 01 | 09 | 02 | Créditos com Controladas             | 12.773    | 9.730     |\n| Ativo Total | 02 | 01 | 10 | NA | Outros Ativos Não Circulantes        | 92.171    | 81.211    |\n| Ativo Total | 02 | 01 | 10 | 03 | Tributos a recuperar                 | 90.374    | 80.006    |\n| Ativo Total | 02 | 01 | 10 | 04 | Instrumentos financeiros derivativos | 893       | 0         |\n| Ativo Total | 02 | 01 | 10 | 05 | Outras contas a receber              | 904       | 1.205     |\n| Ativo Total | 02 | 02 | NA | NA | Investimentos                        | 6.505     | 5.934     |\n| Ativo Total | 02 | 03 | NA | NA | Imobilizado                          | 786.627   | 619.172   |\n| Ativo Total | 02 | 04 | NA | NA | Intangível                           | 2.268     | 1.288     |\n\n",
            "text/latex": "A tibble: 22 × 8\n\\begin{tabular}{llllllll}\n Tier1 & Tier2 & Tier3 & Tier4 & Tier5 & Descrição da Conta & Trimestre Atual & Exercício Anterior\\\\\n <chr> & <chr> & <chr> & <chr> & <chr> & <chr> & <chr> & <chr>\\\\\n\\hline\n\t Ativo Total & 01 & NA & NA & NA & Ativo Circulante                     & 1.875.214 & 1.651.950\\\\\n\t Ativo Total & 01 & 01 & NA & NA & Caixa e Equivalentes de Caixa        & 815.476   & 683.412  \\\\\n\t Ativo Total & 01 & 03 & NA & NA & Contas a Receber                     & 258.104   & 206.005  \\\\\n\t Ativo Total & 01 & 03 & 01 & NA & Clientes                             & 258.104   & 206.005  \\\\\n\t Ativo Total & 01 & 04 & NA & NA & Estoques                             & 629.601   & 617.289  \\\\\n\t Ativo Total & 01 & 06 & NA & NA & Tributos a Recuperar                 & 92.690    & 80.862   \\\\\n\t Ativo Total & 01 & 08 & NA & NA & Outros Ativos Circulantes            & 79.343    & 64.382   \\\\\n\t Ativo Total & 01 & 08 & 03 & NA & Outros                               & 79.343    & 64.382   \\\\\n\t Ativo Total & 01 & 08 & 03 & 01 & Ativos financeiros                   & 12.153    & 16.059   \\\\\n\t Ativo Total & 01 & 08 & 03 & 03 & Outras contas                        & 53.490    & 39.511   \\\\\n\t Ativo Total & 01 & 08 & 03 & 04 & Instrumentos financeiros derivativos & 13.700    & 8.812    \\\\\n\t Ativo Total & 02 & NA & NA & NA & Ativo Não Circulante                 & 900.344   & 717.335  \\\\\n\t Ativo Total & 02 & 01 & NA & NA & Ativo Realizável a Longo Prazo       & 104.944   & 90.941   \\\\\n\t Ativo Total & 02 & 01 & 09 & NA & Créditos com Partes Relacionadas     & 12.773    & 9.730    \\\\\n\t Ativo Total & 02 & 01 & 09 & 02 & Créditos com Controladas             & 12.773    & 9.730    \\\\\n\t Ativo Total & 02 & 01 & 10 & NA & Outros Ativos Não Circulantes        & 92.171    & 81.211   \\\\\n\t Ativo Total & 02 & 01 & 10 & 03 & Tributos a recuperar                 & 90.374    & 80.006   \\\\\n\t Ativo Total & 02 & 01 & 10 & 04 & Instrumentos financeiros derivativos & 893       & 0        \\\\\n\t Ativo Total & 02 & 01 & 10 & 05 & Outras contas a receber              & 904       & 1.205    \\\\\n\t Ativo Total & 02 & 02 & NA & NA & Investimentos                        & 6.505     & 5.934    \\\\\n\t Ativo Total & 02 & 03 & NA & NA & Imobilizado                          & 786.627   & 619.172  \\\\\n\t Ativo Total & 02 & 04 & NA & NA & Intangível                           & 2.268     & 1.288    \\\\\n\\end{tabular}\n",
            "text/plain": "   Tier1       Tier2 Tier3 Tier4 Tier5 Descrição da Conta                  \n1  Ativo Total 01    NA    NA    NA    Ativo Circulante                    \n2  Ativo Total 01    01    NA    NA    Caixa e Equivalentes de Caixa       \n3  Ativo Total 01    03    NA    NA    Contas a Receber                    \n4  Ativo Total 01    03    01    NA    Clientes                            \n5  Ativo Total 01    04    NA    NA    Estoques                            \n6  Ativo Total 01    06    NA    NA    Tributos a Recuperar                \n7  Ativo Total 01    08    NA    NA    Outros Ativos Circulantes           \n8  Ativo Total 01    08    03    NA    Outros                              \n9  Ativo Total 01    08    03    01    Ativos financeiros                  \n10 Ativo Total 01    08    03    03    Outras contas                       \n11 Ativo Total 01    08    03    04    Instrumentos financeiros derivativos\n12 Ativo Total 02    NA    NA    NA    Ativo Não Circulante                \n13 Ativo Total 02    01    NA    NA    Ativo Realizável a Longo Prazo      \n14 Ativo Total 02    01    09    NA    Créditos com Partes Relacionadas    \n15 Ativo Total 02    01    09    02    Créditos com Controladas            \n16 Ativo Total 02    01    10    NA    Outros Ativos Não Circulantes       \n17 Ativo Total 02    01    10    03    Tributos a recuperar                \n18 Ativo Total 02    01    10    04    Instrumentos financeiros derivativos\n19 Ativo Total 02    01    10    05    Outras contas a receber             \n20 Ativo Total 02    02    NA    NA    Investimentos                       \n21 Ativo Total 02    03    NA    NA    Imobilizado                         \n22 Ativo Total 02    04    NA    NA    Intangível                          \n   Trimestre Atual Exercício Anterior\n1  1.875.214       1.651.950         \n2  815.476         683.412           \n3  258.104         206.005           \n4  258.104         206.005           \n5  629.601         617.289           \n6  92.690          80.862            \n7  79.343          64.382            \n8  79.343          64.382            \n9  12.153          16.059            \n10 53.490          39.511            \n11 13.700          8.812             \n12 900.344         717.335           \n13 104.944         90.941            \n14 12.773          9.730             \n15 12.773          9.730             \n16 92.171          81.211            \n17 90.374          80.006            \n18 893             0                 \n19 904             1.205             \n20 6.505           5.934             \n21 786.627         619.172           \n22 2.268           1.288             "
          },
          "metadata": {}
        }
      ],
      "execution_count": 76,
      "metadata": {
        "jupyter": {
          "source_hidden": false,
          "outputs_hidden": false
        },
        "nteract": {
          "transient": {
            "deleting": false
          }
        },
        "gather": {
          "logged": 1649610674915
        }
      }
    },
    {
      "cell_type": "markdown",
      "source": [
        "<h3>Second Round</h3> "
      ],
      "metadata": {
        "nteract": {
          "transient": {
            "deleting": false
          }
        }
      }
    },
    {
      "cell_type": "code",
      "source": [
        "round <- 2"
      ],
      "outputs": [],
      "execution_count": 94,
      "metadata": {
        "jupyter": {
          "source_hidden": false,
          "outputs_hidden": false
        },
        "nteract": {
          "transient": {
            "deleting": false
          }
        },
        "gather": {
          "logged": 1649610892997
        }
      }
    },
    {
      "cell_type": "markdown",
      "source": [
        "<h4>Create Row Mask</h4> "
      ],
      "metadata": {
        "nteract": {
          "transient": {
            "deleting": false
          }
        }
      }
    },
    {
      "cell_type": "code",
      "source": [
        "row_mask <- filter(data_frame_1, is.na(data_frame_1[Tiers[round+1]]))\n",
        "row_mask"
      ],
      "outputs": [
        {
          "output_type": "display_data",
          "data": {
            "text/html": "<table class=\"dataframe\">\n<caption>A tibble: 2 × 8</caption>\n<thead>\n\t<tr><th scope=col>Tier1</th><th scope=col>Tier2</th><th scope=col>Tier3</th><th scope=col>Tier4</th><th scope=col>Tier5</th><th scope=col>Descrição da Conta</th><th scope=col>Trimestre Atual</th><th scope=col>Exercício Anterior</th></tr>\n\t<tr><th scope=col>&lt;chr&gt;</th><th scope=col>&lt;chr&gt;</th><th scope=col>&lt;chr&gt;</th><th scope=col>&lt;chr&gt;</th><th scope=col>&lt;chr&gt;</th><th scope=col>&lt;chr&gt;</th><th scope=col>&lt;chr&gt;</th><th scope=col>&lt;chr&gt;</th></tr>\n</thead>\n<tbody>\n\t<tr><td>Ativo Total</td><td>01</td><td>NA</td><td>NA</td><td>NA</td><td>Ativo Circulante    </td><td>1.875.214</td><td>1.651.950</td></tr>\n\t<tr><td>Ativo Total</td><td>02</td><td>NA</td><td>NA</td><td>NA</td><td>Ativo Não Circulante</td><td>900.344  </td><td>717.335  </td></tr>\n</tbody>\n</table>\n",
            "text/markdown": "\nA tibble: 2 × 8\n\n| Tier1 &lt;chr&gt; | Tier2 &lt;chr&gt; | Tier3 &lt;chr&gt; | Tier4 &lt;chr&gt; | Tier5 &lt;chr&gt; | Descrição da Conta &lt;chr&gt; | Trimestre Atual &lt;chr&gt; | Exercício Anterior &lt;chr&gt; |\n|---|---|---|---|---|---|---|---|\n| Ativo Total | 01 | NA | NA | NA | Ativo Circulante     | 1.875.214 | 1.651.950 |\n| Ativo Total | 02 | NA | NA | NA | Ativo Não Circulante | 900.344   | 717.335   |\n\n",
            "text/latex": "A tibble: 2 × 8\n\\begin{tabular}{llllllll}\n Tier1 & Tier2 & Tier3 & Tier4 & Tier5 & Descrição da Conta & Trimestre Atual & Exercício Anterior\\\\\n <chr> & <chr> & <chr> & <chr> & <chr> & <chr> & <chr> & <chr>\\\\\n\\hline\n\t Ativo Total & 01 & NA & NA & NA & Ativo Circulante     & 1.875.214 & 1.651.950\\\\\n\t Ativo Total & 02 & NA & NA & NA & Ativo Não Circulante & 900.344   & 717.335  \\\\\n\\end{tabular}\n",
            "text/plain": "  Tier1       Tier2 Tier3 Tier4 Tier5 Descrição da Conta   Trimestre Atual\n1 Ativo Total 01    NA    NA    NA    Ativo Circulante     1.875.214      \n2 Ativo Total 02    NA    NA    NA    Ativo Não Circulante 900.344        \n  Exercício Anterior\n1 1.651.950         \n2 717.335           "
          },
          "metadata": {}
        }
      ],
      "execution_count": 95,
      "metadata": {
        "jupyter": {
          "source_hidden": false,
          "outputs_hidden": false
        },
        "nteract": {
          "transient": {
            "deleting": false
          }
        },
        "gather": {
          "logged": 1649610893354
        }
      }
    },
    {
      "cell_type": "code",
      "source": [
        "row_mask <- row_mask[c(Tiers[round-1], Tiers[round], \"Descrição da Conta\")]\n",
        "row_mask"
      ],
      "outputs": [
        {
          "output_type": "display_data",
          "data": {
            "text/html": "<table class=\"dataframe\">\n<caption>A tibble: 2 × 3</caption>\n<thead>\n\t<tr><th scope=col>Tier1</th><th scope=col>Tier2</th><th scope=col>Descrição da Conta</th></tr>\n\t<tr><th scope=col>&lt;chr&gt;</th><th scope=col>&lt;chr&gt;</th><th scope=col>&lt;chr&gt;</th></tr>\n</thead>\n<tbody>\n\t<tr><td>Ativo Total</td><td>01</td><td>Ativo Circulante    </td></tr>\n\t<tr><td>Ativo Total</td><td>02</td><td>Ativo Não Circulante</td></tr>\n</tbody>\n</table>\n",
            "text/markdown": "\nA tibble: 2 × 3\n\n| Tier1 &lt;chr&gt; | Tier2 &lt;chr&gt; | Descrição da Conta &lt;chr&gt; |\n|---|---|---|\n| Ativo Total | 01 | Ativo Circulante     |\n| Ativo Total | 02 | Ativo Não Circulante |\n\n",
            "text/latex": "A tibble: 2 × 3\n\\begin{tabular}{lll}\n Tier1 & Tier2 & Descrição da Conta\\\\\n <chr> & <chr> & <chr>\\\\\n\\hline\n\t Ativo Total & 01 & Ativo Circulante    \\\\\n\t Ativo Total & 02 & Ativo Não Circulante\\\\\n\\end{tabular}\n",
            "text/plain": "  Tier1       Tier2 Descrição da Conta  \n1 Ativo Total 01    Ativo Circulante    \n2 Ativo Total 02    Ativo Não Circulante"
          },
          "metadata": {}
        }
      ],
      "execution_count": 97,
      "metadata": {
        "jupyter": {
          "source_hidden": false,
          "outputs_hidden": false
        },
        "nteract": {
          "transient": {
            "deleting": false
          }
        },
        "gather": {
          "logged": 1649610912725
        }
      }
    },
    {
      "cell_type": "markdown",
      "source": [
        "<h4>Left Join</h4> "
      ],
      "metadata": {
        "nteract": {
          "transient": {
            "deleting": false
          }
        }
      }
    },
    {
      "cell_type": "code",
      "source": [
        "join_cols <- c(Tiers[round-1], Tiers[round])"
      ],
      "outputs": [],
      "execution_count": 98,
      "metadata": {
        "jupyter": {
          "source_hidden": false,
          "outputs_hidden": false
        },
        "nteract": {
          "transient": {
            "deleting": false
          }
        },
        "gather": {
          "logged": 1649610926587
        }
      }
    },
    {
      "cell_type": "code",
      "source": [
        "data_frame_2 <- data_frame_1\n",
        "data_frame_2[Tiers[round]] <- left_join(x=data_frame_1[join_cols], y=row_mask, by.x=join_cols, by.y=join_cols)[\"Descrição da Conta\"]\n",
        "data_frame_2"
      ],
      "outputs": [
        {
          "output_type": "stream",
          "name": "stderr",
          "text": "\u001b[1m\u001b[22mJoining, by = \"Tier2\"\n"
        },
        {
          "output_type": "display_data",
          "data": {
            "text/html": "<table class=\"dataframe\">\n<caption>A tibble: 22 × 8</caption>\n<thead>\n\t<tr><th scope=col>Tier1</th><th scope=col>Tier2</th><th scope=col>Tier3</th><th scope=col>Tier4</th><th scope=col>Tier5</th><th scope=col>Descrição da Conta</th><th scope=col>Trimestre Atual</th><th scope=col>Exercício Anterior</th></tr>\n\t<tr><th scope=col>&lt;chr&gt;</th><th scope=col>&lt;chr&gt;</th><th scope=col>&lt;chr&gt;</th><th scope=col>&lt;chr&gt;</th><th scope=col>&lt;chr&gt;</th><th scope=col>&lt;chr&gt;</th><th scope=col>&lt;chr&gt;</th><th scope=col>&lt;chr&gt;</th></tr>\n</thead>\n<tbody>\n\t<tr><td>Ativo Total</td><td>Ativo Circulante    </td><td>NA</td><td>NA</td><td>NA</td><td>Ativo Circulante                    </td><td>1.875.214</td><td>1.651.950</td></tr>\n\t<tr><td>Ativo Total</td><td>Ativo Circulante    </td><td>01</td><td>NA</td><td>NA</td><td>Caixa e Equivalentes de Caixa       </td><td>815.476  </td><td>683.412  </td></tr>\n\t<tr><td>Ativo Total</td><td>Ativo Circulante    </td><td>03</td><td>NA</td><td>NA</td><td>Contas a Receber                    </td><td>258.104  </td><td>206.005  </td></tr>\n\t<tr><td>Ativo Total</td><td>Ativo Circulante    </td><td>03</td><td>01</td><td>NA</td><td>Clientes                            </td><td>258.104  </td><td>206.005  </td></tr>\n\t<tr><td>Ativo Total</td><td>Ativo Circulante    </td><td>04</td><td>NA</td><td>NA</td><td>Estoques                            </td><td>629.601  </td><td>617.289  </td></tr>\n\t<tr><td>Ativo Total</td><td>Ativo Circulante    </td><td>06</td><td>NA</td><td>NA</td><td>Tributos a Recuperar                </td><td>92.690   </td><td>80.862   </td></tr>\n\t<tr><td>Ativo Total</td><td>Ativo Circulante    </td><td>08</td><td>NA</td><td>NA</td><td>Outros Ativos Circulantes           </td><td>79.343   </td><td>64.382   </td></tr>\n\t<tr><td>Ativo Total</td><td>Ativo Circulante    </td><td>08</td><td>03</td><td>NA</td><td>Outros                              </td><td>79.343   </td><td>64.382   </td></tr>\n\t<tr><td>Ativo Total</td><td>Ativo Circulante    </td><td>08</td><td>03</td><td>01</td><td>Ativos financeiros                  </td><td>12.153   </td><td>16.059   </td></tr>\n\t<tr><td>Ativo Total</td><td>Ativo Circulante    </td><td>08</td><td>03</td><td>03</td><td>Outras contas                       </td><td>53.490   </td><td>39.511   </td></tr>\n\t<tr><td>Ativo Total</td><td>Ativo Circulante    </td><td>08</td><td>03</td><td>04</td><td>Instrumentos financeiros derivativos</td><td>13.700   </td><td>8.812    </td></tr>\n\t<tr><td>Ativo Total</td><td>Ativo Não Circulante</td><td>NA</td><td>NA</td><td>NA</td><td>Ativo Não Circulante                </td><td>900.344  </td><td>717.335  </td></tr>\n\t<tr><td>Ativo Total</td><td>Ativo Não Circulante</td><td>01</td><td>NA</td><td>NA</td><td>Ativo Realizável a Longo Prazo      </td><td>104.944  </td><td>90.941   </td></tr>\n\t<tr><td>Ativo Total</td><td>Ativo Não Circulante</td><td>01</td><td>09</td><td>NA</td><td>Créditos com Partes Relacionadas    </td><td>12.773   </td><td>9.730    </td></tr>\n\t<tr><td>Ativo Total</td><td>Ativo Não Circulante</td><td>01</td><td>09</td><td>02</td><td>Créditos com Controladas            </td><td>12.773   </td><td>9.730    </td></tr>\n\t<tr><td>Ativo Total</td><td>Ativo Não Circulante</td><td>01</td><td>10</td><td>NA</td><td>Outros Ativos Não Circulantes       </td><td>92.171   </td><td>81.211   </td></tr>\n\t<tr><td>Ativo Total</td><td>Ativo Não Circulante</td><td>01</td><td>10</td><td>03</td><td>Tributos a recuperar                </td><td>90.374   </td><td>80.006   </td></tr>\n\t<tr><td>Ativo Total</td><td>Ativo Não Circulante</td><td>01</td><td>10</td><td>04</td><td>Instrumentos financeiros derivativos</td><td>893      </td><td>0        </td></tr>\n\t<tr><td>Ativo Total</td><td>Ativo Não Circulante</td><td>01</td><td>10</td><td>05</td><td>Outras contas a receber             </td><td>904      </td><td>1.205    </td></tr>\n\t<tr><td>Ativo Total</td><td>Ativo Não Circulante</td><td>02</td><td>NA</td><td>NA</td><td>Investimentos                       </td><td>6.505    </td><td>5.934    </td></tr>\n\t<tr><td>Ativo Total</td><td>Ativo Não Circulante</td><td>03</td><td>NA</td><td>NA</td><td>Imobilizado                         </td><td>786.627  </td><td>619.172  </td></tr>\n\t<tr><td>Ativo Total</td><td>Ativo Não Circulante</td><td>04</td><td>NA</td><td>NA</td><td>Intangível                          </td><td>2.268    </td><td>1.288    </td></tr>\n</tbody>\n</table>\n",
            "text/markdown": "\nA tibble: 22 × 8\n\n| Tier1 &lt;chr&gt; | Tier2 &lt;chr&gt; | Tier3 &lt;chr&gt; | Tier4 &lt;chr&gt; | Tier5 &lt;chr&gt; | Descrição da Conta &lt;chr&gt; | Trimestre Atual &lt;chr&gt; | Exercício Anterior &lt;chr&gt; |\n|---|---|---|---|---|---|---|---|\n| Ativo Total | Ativo Circulante     | NA | NA | NA | Ativo Circulante                     | 1.875.214 | 1.651.950 |\n| Ativo Total | Ativo Circulante     | 01 | NA | NA | Caixa e Equivalentes de Caixa        | 815.476   | 683.412   |\n| Ativo Total | Ativo Circulante     | 03 | NA | NA | Contas a Receber                     | 258.104   | 206.005   |\n| Ativo Total | Ativo Circulante     | 03 | 01 | NA | Clientes                             | 258.104   | 206.005   |\n| Ativo Total | Ativo Circulante     | 04 | NA | NA | Estoques                             | 629.601   | 617.289   |\n| Ativo Total | Ativo Circulante     | 06 | NA | NA | Tributos a Recuperar                 | 92.690    | 80.862    |\n| Ativo Total | Ativo Circulante     | 08 | NA | NA | Outros Ativos Circulantes            | 79.343    | 64.382    |\n| Ativo Total | Ativo Circulante     | 08 | 03 | NA | Outros                               | 79.343    | 64.382    |\n| Ativo Total | Ativo Circulante     | 08 | 03 | 01 | Ativos financeiros                   | 12.153    | 16.059    |\n| Ativo Total | Ativo Circulante     | 08 | 03 | 03 | Outras contas                        | 53.490    | 39.511    |\n| Ativo Total | Ativo Circulante     | 08 | 03 | 04 | Instrumentos financeiros derivativos | 13.700    | 8.812     |\n| Ativo Total | Ativo Não Circulante | NA | NA | NA | Ativo Não Circulante                 | 900.344   | 717.335   |\n| Ativo Total | Ativo Não Circulante | 01 | NA | NA | Ativo Realizável a Longo Prazo       | 104.944   | 90.941    |\n| Ativo Total | Ativo Não Circulante | 01 | 09 | NA | Créditos com Partes Relacionadas     | 12.773    | 9.730     |\n| Ativo Total | Ativo Não Circulante | 01 | 09 | 02 | Créditos com Controladas             | 12.773    | 9.730     |\n| Ativo Total | Ativo Não Circulante | 01 | 10 | NA | Outros Ativos Não Circulantes        | 92.171    | 81.211    |\n| Ativo Total | Ativo Não Circulante | 01 | 10 | 03 | Tributos a recuperar                 | 90.374    | 80.006    |\n| Ativo Total | Ativo Não Circulante | 01 | 10 | 04 | Instrumentos financeiros derivativos | 893       | 0         |\n| Ativo Total | Ativo Não Circulante | 01 | 10 | 05 | Outras contas a receber              | 904       | 1.205     |\n| Ativo Total | Ativo Não Circulante | 02 | NA | NA | Investimentos                        | 6.505     | 5.934     |\n| Ativo Total | Ativo Não Circulante | 03 | NA | NA | Imobilizado                          | 786.627   | 619.172   |\n| Ativo Total | Ativo Não Circulante | 04 | NA | NA | Intangível                           | 2.268     | 1.288     |\n\n",
            "text/latex": "A tibble: 22 × 8\n\\begin{tabular}{llllllll}\n Tier1 & Tier2 & Tier3 & Tier4 & Tier5 & Descrição da Conta & Trimestre Atual & Exercício Anterior\\\\\n <chr> & <chr> & <chr> & <chr> & <chr> & <chr> & <chr> & <chr>\\\\\n\\hline\n\t Ativo Total & Ativo Circulante     & NA & NA & NA & Ativo Circulante                     & 1.875.214 & 1.651.950\\\\\n\t Ativo Total & Ativo Circulante     & 01 & NA & NA & Caixa e Equivalentes de Caixa        & 815.476   & 683.412  \\\\\n\t Ativo Total & Ativo Circulante     & 03 & NA & NA & Contas a Receber                     & 258.104   & 206.005  \\\\\n\t Ativo Total & Ativo Circulante     & 03 & 01 & NA & Clientes                             & 258.104   & 206.005  \\\\\n\t Ativo Total & Ativo Circulante     & 04 & NA & NA & Estoques                             & 629.601   & 617.289  \\\\\n\t Ativo Total & Ativo Circulante     & 06 & NA & NA & Tributos a Recuperar                 & 92.690    & 80.862   \\\\\n\t Ativo Total & Ativo Circulante     & 08 & NA & NA & Outros Ativos Circulantes            & 79.343    & 64.382   \\\\\n\t Ativo Total & Ativo Circulante     & 08 & 03 & NA & Outros                               & 79.343    & 64.382   \\\\\n\t Ativo Total & Ativo Circulante     & 08 & 03 & 01 & Ativos financeiros                   & 12.153    & 16.059   \\\\\n\t Ativo Total & Ativo Circulante     & 08 & 03 & 03 & Outras contas                        & 53.490    & 39.511   \\\\\n\t Ativo Total & Ativo Circulante     & 08 & 03 & 04 & Instrumentos financeiros derivativos & 13.700    & 8.812    \\\\\n\t Ativo Total & Ativo Não Circulante & NA & NA & NA & Ativo Não Circulante                 & 900.344   & 717.335  \\\\\n\t Ativo Total & Ativo Não Circulante & 01 & NA & NA & Ativo Realizável a Longo Prazo       & 104.944   & 90.941   \\\\\n\t Ativo Total & Ativo Não Circulante & 01 & 09 & NA & Créditos com Partes Relacionadas     & 12.773    & 9.730    \\\\\n\t Ativo Total & Ativo Não Circulante & 01 & 09 & 02 & Créditos com Controladas             & 12.773    & 9.730    \\\\\n\t Ativo Total & Ativo Não Circulante & 01 & 10 & NA & Outros Ativos Não Circulantes        & 92.171    & 81.211   \\\\\n\t Ativo Total & Ativo Não Circulante & 01 & 10 & 03 & Tributos a recuperar                 & 90.374    & 80.006   \\\\\n\t Ativo Total & Ativo Não Circulante & 01 & 10 & 04 & Instrumentos financeiros derivativos & 893       & 0        \\\\\n\t Ativo Total & Ativo Não Circulante & 01 & 10 & 05 & Outras contas a receber              & 904       & 1.205    \\\\\n\t Ativo Total & Ativo Não Circulante & 02 & NA & NA & Investimentos                        & 6.505     & 5.934    \\\\\n\t Ativo Total & Ativo Não Circulante & 03 & NA & NA & Imobilizado                          & 786.627   & 619.172  \\\\\n\t Ativo Total & Ativo Não Circulante & 04 & NA & NA & Intangível                           & 2.268     & 1.288    \\\\\n\\end{tabular}\n",
            "text/plain": "   Tier1       Tier2                Tier3 Tier4 Tier5\n1  Ativo Total Ativo Circulante     NA    NA    NA   \n2  Ativo Total Ativo Circulante     01    NA    NA   \n3  Ativo Total Ativo Circulante     03    NA    NA   \n4  Ativo Total Ativo Circulante     03    01    NA   \n5  Ativo Total Ativo Circulante     04    NA    NA   \n6  Ativo Total Ativo Circulante     06    NA    NA   \n7  Ativo Total Ativo Circulante     08    NA    NA   \n8  Ativo Total Ativo Circulante     08    03    NA   \n9  Ativo Total Ativo Circulante     08    03    01   \n10 Ativo Total Ativo Circulante     08    03    03   \n11 Ativo Total Ativo Circulante     08    03    04   \n12 Ativo Total Ativo Não Circulante NA    NA    NA   \n13 Ativo Total Ativo Não Circulante 01    NA    NA   \n14 Ativo Total Ativo Não Circulante 01    09    NA   \n15 Ativo Total Ativo Não Circulante 01    09    02   \n16 Ativo Total Ativo Não Circulante 01    10    NA   \n17 Ativo Total Ativo Não Circulante 01    10    03   \n18 Ativo Total Ativo Não Circulante 01    10    04   \n19 Ativo Total Ativo Não Circulante 01    10    05   \n20 Ativo Total Ativo Não Circulante 02    NA    NA   \n21 Ativo Total Ativo Não Circulante 03    NA    NA   \n22 Ativo Total Ativo Não Circulante 04    NA    NA   \n   Descrição da Conta                   Trimestre Atual Exercício Anterior\n1  Ativo Circulante                     1.875.214       1.651.950         \n2  Caixa e Equivalentes de Caixa        815.476         683.412           \n3  Contas a Receber                     258.104         206.005           \n4  Clientes                             258.104         206.005           \n5  Estoques                             629.601         617.289           \n6  Tributos a Recuperar                 92.690          80.862            \n7  Outros Ativos Circulantes            79.343          64.382            \n8  Outros                               79.343          64.382            \n9  Ativos financeiros                   12.153          16.059            \n10 Outras contas                        53.490          39.511            \n11 Instrumentos financeiros derivativos 13.700          8.812             \n12 Ativo Não Circulante                 900.344         717.335           \n13 Ativo Realizável a Longo Prazo       104.944         90.941            \n14 Créditos com Partes Relacionadas     12.773          9.730             \n15 Créditos com Controladas             12.773          9.730             \n16 Outros Ativos Não Circulantes        92.171          81.211            \n17 Tributos a recuperar                 90.374          80.006            \n18 Instrumentos financeiros derivativos 893             0                 \n19 Outras contas a receber              904             1.205             \n20 Investimentos                        6.505           5.934             \n21 Imobilizado                          786.627         619.172           \n22 Intangível                           2.268           1.288             "
          },
          "metadata": {}
        }
      ],
      "execution_count": 81,
      "metadata": {
        "jupyter": {
          "source_hidden": false,
          "outputs_hidden": false
        },
        "nteract": {
          "transient": {
            "deleting": false
          }
        },
        "gather": {
          "logged": 1649610680737
        }
      }
    },
    {
      "cell_type": "markdown",
      "source": [
        "# <h4>Drop Columns: <code>[</code></h4> "
      ],
      "metadata": {
        "nteract": {
          "transient": {
            "deleting": false
          }
        }
      }
    },
    {
      "cell_type": "code",
      "source": [
        "col_mask <- !(is.na(select(data_frame_2, Tiers[round+1])))\n",
        "data_frame_2 <- data_frame_2[col_mask, colnames(data_frame_2)]\n",
        "data_frame_2"
      ],
      "outputs": [
        {
          "output_type": "display_data",
          "data": {
            "text/html": "<table class=\"dataframe\">\n<caption>A tibble: 20 × 8</caption>\n<thead>\n\t<tr><th scope=col>Tier1</th><th scope=col>Tier2</th><th scope=col>Tier3</th><th scope=col>Tier4</th><th scope=col>Tier5</th><th scope=col>Descrição da Conta</th><th scope=col>Trimestre Atual</th><th scope=col>Exercício Anterior</th></tr>\n\t<tr><th scope=col>&lt;chr&gt;</th><th scope=col>&lt;chr&gt;</th><th scope=col>&lt;chr&gt;</th><th scope=col>&lt;chr&gt;</th><th scope=col>&lt;chr&gt;</th><th scope=col>&lt;chr&gt;</th><th scope=col>&lt;chr&gt;</th><th scope=col>&lt;chr&gt;</th></tr>\n</thead>\n<tbody>\n\t<tr><td>Ativo Total</td><td>Ativo Circulante    </td><td>01</td><td>NA</td><td>NA</td><td>Caixa e Equivalentes de Caixa       </td><td>815.476</td><td>683.412</td></tr>\n\t<tr><td>Ativo Total</td><td>Ativo Circulante    </td><td>03</td><td>NA</td><td>NA</td><td>Contas a Receber                    </td><td>258.104</td><td>206.005</td></tr>\n\t<tr><td>Ativo Total</td><td>Ativo Circulante    </td><td>03</td><td>01</td><td>NA</td><td>Clientes                            </td><td>258.104</td><td>206.005</td></tr>\n\t<tr><td>Ativo Total</td><td>Ativo Circulante    </td><td>04</td><td>NA</td><td>NA</td><td>Estoques                            </td><td>629.601</td><td>617.289</td></tr>\n\t<tr><td>Ativo Total</td><td>Ativo Circulante    </td><td>06</td><td>NA</td><td>NA</td><td>Tributos a Recuperar                </td><td>92.690 </td><td>80.862 </td></tr>\n\t<tr><td>Ativo Total</td><td>Ativo Circulante    </td><td>08</td><td>NA</td><td>NA</td><td>Outros Ativos Circulantes           </td><td>79.343 </td><td>64.382 </td></tr>\n\t<tr><td>Ativo Total</td><td>Ativo Circulante    </td><td>08</td><td>03</td><td>NA</td><td>Outros                              </td><td>79.343 </td><td>64.382 </td></tr>\n\t<tr><td>Ativo Total</td><td>Ativo Circulante    </td><td>08</td><td>03</td><td>01</td><td>Ativos financeiros                  </td><td>12.153 </td><td>16.059 </td></tr>\n\t<tr><td>Ativo Total</td><td>Ativo Circulante    </td><td>08</td><td>03</td><td>03</td><td>Outras contas                       </td><td>53.490 </td><td>39.511 </td></tr>\n\t<tr><td>Ativo Total</td><td>Ativo Circulante    </td><td>08</td><td>03</td><td>04</td><td>Instrumentos financeiros derivativos</td><td>13.700 </td><td>8.812  </td></tr>\n\t<tr><td>Ativo Total</td><td>Ativo Não Circulante</td><td>01</td><td>NA</td><td>NA</td><td>Ativo Realizável a Longo Prazo      </td><td>104.944</td><td>90.941 </td></tr>\n\t<tr><td>Ativo Total</td><td>Ativo Não Circulante</td><td>01</td><td>09</td><td>NA</td><td>Créditos com Partes Relacionadas    </td><td>12.773 </td><td>9.730  </td></tr>\n\t<tr><td>Ativo Total</td><td>Ativo Não Circulante</td><td>01</td><td>09</td><td>02</td><td>Créditos com Controladas            </td><td>12.773 </td><td>9.730  </td></tr>\n\t<tr><td>Ativo Total</td><td>Ativo Não Circulante</td><td>01</td><td>10</td><td>NA</td><td>Outros Ativos Não Circulantes       </td><td>92.171 </td><td>81.211 </td></tr>\n\t<tr><td>Ativo Total</td><td>Ativo Não Circulante</td><td>01</td><td>10</td><td>03</td><td>Tributos a recuperar                </td><td>90.374 </td><td>80.006 </td></tr>\n\t<tr><td>Ativo Total</td><td>Ativo Não Circulante</td><td>01</td><td>10</td><td>04</td><td>Instrumentos financeiros derivativos</td><td>893    </td><td>0      </td></tr>\n\t<tr><td>Ativo Total</td><td>Ativo Não Circulante</td><td>01</td><td>10</td><td>05</td><td>Outras contas a receber             </td><td>904    </td><td>1.205  </td></tr>\n\t<tr><td>Ativo Total</td><td>Ativo Não Circulante</td><td>02</td><td>NA</td><td>NA</td><td>Investimentos                       </td><td>6.505  </td><td>5.934  </td></tr>\n\t<tr><td>Ativo Total</td><td>Ativo Não Circulante</td><td>03</td><td>NA</td><td>NA</td><td>Imobilizado                         </td><td>786.627</td><td>619.172</td></tr>\n\t<tr><td>Ativo Total</td><td>Ativo Não Circulante</td><td>04</td><td>NA</td><td>NA</td><td>Intangível                          </td><td>2.268  </td><td>1.288  </td></tr>\n</tbody>\n</table>\n",
            "text/markdown": "\nA tibble: 20 × 8\n\n| Tier1 &lt;chr&gt; | Tier2 &lt;chr&gt; | Tier3 &lt;chr&gt; | Tier4 &lt;chr&gt; | Tier5 &lt;chr&gt; | Descrição da Conta &lt;chr&gt; | Trimestre Atual &lt;chr&gt; | Exercício Anterior &lt;chr&gt; |\n|---|---|---|---|---|---|---|---|\n| Ativo Total | Ativo Circulante     | 01 | NA | NA | Caixa e Equivalentes de Caixa        | 815.476 | 683.412 |\n| Ativo Total | Ativo Circulante     | 03 | NA | NA | Contas a Receber                     | 258.104 | 206.005 |\n| Ativo Total | Ativo Circulante     | 03 | 01 | NA | Clientes                             | 258.104 | 206.005 |\n| Ativo Total | Ativo Circulante     | 04 | NA | NA | Estoques                             | 629.601 | 617.289 |\n| Ativo Total | Ativo Circulante     | 06 | NA | NA | Tributos a Recuperar                 | 92.690  | 80.862  |\n| Ativo Total | Ativo Circulante     | 08 | NA | NA | Outros Ativos Circulantes            | 79.343  | 64.382  |\n| Ativo Total | Ativo Circulante     | 08 | 03 | NA | Outros                               | 79.343  | 64.382  |\n| Ativo Total | Ativo Circulante     | 08 | 03 | 01 | Ativos financeiros                   | 12.153  | 16.059  |\n| Ativo Total | Ativo Circulante     | 08 | 03 | 03 | Outras contas                        | 53.490  | 39.511  |\n| Ativo Total | Ativo Circulante     | 08 | 03 | 04 | Instrumentos financeiros derivativos | 13.700  | 8.812   |\n| Ativo Total | Ativo Não Circulante | 01 | NA | NA | Ativo Realizável a Longo Prazo       | 104.944 | 90.941  |\n| Ativo Total | Ativo Não Circulante | 01 | 09 | NA | Créditos com Partes Relacionadas     | 12.773  | 9.730   |\n| Ativo Total | Ativo Não Circulante | 01 | 09 | 02 | Créditos com Controladas             | 12.773  | 9.730   |\n| Ativo Total | Ativo Não Circulante | 01 | 10 | NA | Outros Ativos Não Circulantes        | 92.171  | 81.211  |\n| Ativo Total | Ativo Não Circulante | 01 | 10 | 03 | Tributos a recuperar                 | 90.374  | 80.006  |\n| Ativo Total | Ativo Não Circulante | 01 | 10 | 04 | Instrumentos financeiros derivativos | 893     | 0       |\n| Ativo Total | Ativo Não Circulante | 01 | 10 | 05 | Outras contas a receber              | 904     | 1.205   |\n| Ativo Total | Ativo Não Circulante | 02 | NA | NA | Investimentos                        | 6.505   | 5.934   |\n| Ativo Total | Ativo Não Circulante | 03 | NA | NA | Imobilizado                          | 786.627 | 619.172 |\n| Ativo Total | Ativo Não Circulante | 04 | NA | NA | Intangível                           | 2.268   | 1.288   |\n\n",
            "text/latex": "A tibble: 20 × 8\n\\begin{tabular}{llllllll}\n Tier1 & Tier2 & Tier3 & Tier4 & Tier5 & Descrição da Conta & Trimestre Atual & Exercício Anterior\\\\\n <chr> & <chr> & <chr> & <chr> & <chr> & <chr> & <chr> & <chr>\\\\\n\\hline\n\t Ativo Total & Ativo Circulante     & 01 & NA & NA & Caixa e Equivalentes de Caixa        & 815.476 & 683.412\\\\\n\t Ativo Total & Ativo Circulante     & 03 & NA & NA & Contas a Receber                     & 258.104 & 206.005\\\\\n\t Ativo Total & Ativo Circulante     & 03 & 01 & NA & Clientes                             & 258.104 & 206.005\\\\\n\t Ativo Total & Ativo Circulante     & 04 & NA & NA & Estoques                             & 629.601 & 617.289\\\\\n\t Ativo Total & Ativo Circulante     & 06 & NA & NA & Tributos a Recuperar                 & 92.690  & 80.862 \\\\\n\t Ativo Total & Ativo Circulante     & 08 & NA & NA & Outros Ativos Circulantes            & 79.343  & 64.382 \\\\\n\t Ativo Total & Ativo Circulante     & 08 & 03 & NA & Outros                               & 79.343  & 64.382 \\\\\n\t Ativo Total & Ativo Circulante     & 08 & 03 & 01 & Ativos financeiros                   & 12.153  & 16.059 \\\\\n\t Ativo Total & Ativo Circulante     & 08 & 03 & 03 & Outras contas                        & 53.490  & 39.511 \\\\\n\t Ativo Total & Ativo Circulante     & 08 & 03 & 04 & Instrumentos financeiros derivativos & 13.700  & 8.812  \\\\\n\t Ativo Total & Ativo Não Circulante & 01 & NA & NA & Ativo Realizável a Longo Prazo       & 104.944 & 90.941 \\\\\n\t Ativo Total & Ativo Não Circulante & 01 & 09 & NA & Créditos com Partes Relacionadas     & 12.773  & 9.730  \\\\\n\t Ativo Total & Ativo Não Circulante & 01 & 09 & 02 & Créditos com Controladas             & 12.773  & 9.730  \\\\\n\t Ativo Total & Ativo Não Circulante & 01 & 10 & NA & Outros Ativos Não Circulantes        & 92.171  & 81.211 \\\\\n\t Ativo Total & Ativo Não Circulante & 01 & 10 & 03 & Tributos a recuperar                 & 90.374  & 80.006 \\\\\n\t Ativo Total & Ativo Não Circulante & 01 & 10 & 04 & Instrumentos financeiros derivativos & 893     & 0      \\\\\n\t Ativo Total & Ativo Não Circulante & 01 & 10 & 05 & Outras contas a receber              & 904     & 1.205  \\\\\n\t Ativo Total & Ativo Não Circulante & 02 & NA & NA & Investimentos                        & 6.505   & 5.934  \\\\\n\t Ativo Total & Ativo Não Circulante & 03 & NA & NA & Imobilizado                          & 786.627 & 619.172\\\\\n\t Ativo Total & Ativo Não Circulante & 04 & NA & NA & Intangível                           & 2.268   & 1.288  \\\\\n\\end{tabular}\n",
            "text/plain": "   Tier1       Tier2                Tier3 Tier4 Tier5\n1  Ativo Total Ativo Circulante     01    NA    NA   \n2  Ativo Total Ativo Circulante     03    NA    NA   \n3  Ativo Total Ativo Circulante     03    01    NA   \n4  Ativo Total Ativo Circulante     04    NA    NA   \n5  Ativo Total Ativo Circulante     06    NA    NA   \n6  Ativo Total Ativo Circulante     08    NA    NA   \n7  Ativo Total Ativo Circulante     08    03    NA   \n8  Ativo Total Ativo Circulante     08    03    01   \n9  Ativo Total Ativo Circulante     08    03    03   \n10 Ativo Total Ativo Circulante     08    03    04   \n11 Ativo Total Ativo Não Circulante 01    NA    NA   \n12 Ativo Total Ativo Não Circulante 01    09    NA   \n13 Ativo Total Ativo Não Circulante 01    09    02   \n14 Ativo Total Ativo Não Circulante 01    10    NA   \n15 Ativo Total Ativo Não Circulante 01    10    03   \n16 Ativo Total Ativo Não Circulante 01    10    04   \n17 Ativo Total Ativo Não Circulante 01    10    05   \n18 Ativo Total Ativo Não Circulante 02    NA    NA   \n19 Ativo Total Ativo Não Circulante 03    NA    NA   \n20 Ativo Total Ativo Não Circulante 04    NA    NA   \n   Descrição da Conta                   Trimestre Atual Exercício Anterior\n1  Caixa e Equivalentes de Caixa        815.476         683.412           \n2  Contas a Receber                     258.104         206.005           \n3  Clientes                             258.104         206.005           \n4  Estoques                             629.601         617.289           \n5  Tributos a Recuperar                 92.690          80.862            \n6  Outros Ativos Circulantes            79.343          64.382            \n7  Outros                               79.343          64.382            \n8  Ativos financeiros                   12.153          16.059            \n9  Outras contas                        53.490          39.511            \n10 Instrumentos financeiros derivativos 13.700          8.812             \n11 Ativo Realizável a Longo Prazo       104.944         90.941            \n12 Créditos com Partes Relacionadas     12.773          9.730             \n13 Créditos com Controladas             12.773          9.730             \n14 Outros Ativos Não Circulantes        92.171          81.211            \n15 Tributos a recuperar                 90.374          80.006            \n16 Instrumentos financeiros derivativos 893             0                 \n17 Outras contas a receber              904             1.205             \n18 Investimentos                        6.505           5.934             \n19 Imobilizado                          786.627         619.172           \n20 Intangível                           2.268           1.288             "
          },
          "metadata": {}
        }
      ],
      "execution_count": 83,
      "metadata": {
        "jupyter": {
          "source_hidden": false,
          "outputs_hidden": false
        },
        "nteract": {
          "transient": {
            "deleting": false
          }
        },
        "gather": {
          "logged": 1649610682113
        }
      }
    },
    {
      "cell_type": "markdown",
      "source": [
        "# <h4>Drop Columns: <code>subset()</code></h4> "
      ],
      "metadata": {
        "nteract": {
          "transient": {
            "deleting": false
          }
        }
      }
    },
    {
      "cell_type": "code",
      "source": [
        "col_mask <- !(is.na(select(data_frame_2, Tiers[round+1])))\n",
        "data_frame_2 <-subset(data_frame_2, col_mask)\n",
        "data_frame_2"
      ],
      "outputs": [
        {
          "output_type": "display_data",
          "data": {
            "text/html": "<table class=\"dataframe\">\n<caption>A tibble: 20 × 8</caption>\n<thead>\n\t<tr><th scope=col>Tier1</th><th scope=col>Tier2</th><th scope=col>Tier3</th><th scope=col>Tier4</th><th scope=col>Tier5</th><th scope=col>Descrição da Conta</th><th scope=col>Trimestre Atual</th><th scope=col>Exercício Anterior</th></tr>\n\t<tr><th scope=col>&lt;chr&gt;</th><th scope=col>&lt;chr&gt;</th><th scope=col>&lt;chr&gt;</th><th scope=col>&lt;chr&gt;</th><th scope=col>&lt;chr&gt;</th><th scope=col>&lt;chr&gt;</th><th scope=col>&lt;chr&gt;</th><th scope=col>&lt;chr&gt;</th></tr>\n</thead>\n<tbody>\n\t<tr><td>Ativo Total</td><td>Ativo Circulante    </td><td>01</td><td>NA</td><td>NA</td><td>Caixa e Equivalentes de Caixa       </td><td>815.476</td><td>683.412</td></tr>\n\t<tr><td>Ativo Total</td><td>Ativo Circulante    </td><td>03</td><td>NA</td><td>NA</td><td>Contas a Receber                    </td><td>258.104</td><td>206.005</td></tr>\n\t<tr><td>Ativo Total</td><td>Ativo Circulante    </td><td>03</td><td>01</td><td>NA</td><td>Clientes                            </td><td>258.104</td><td>206.005</td></tr>\n\t<tr><td>Ativo Total</td><td>Ativo Circulante    </td><td>04</td><td>NA</td><td>NA</td><td>Estoques                            </td><td>629.601</td><td>617.289</td></tr>\n\t<tr><td>Ativo Total</td><td>Ativo Circulante    </td><td>06</td><td>NA</td><td>NA</td><td>Tributos a Recuperar                </td><td>92.690 </td><td>80.862 </td></tr>\n\t<tr><td>Ativo Total</td><td>Ativo Circulante    </td><td>08</td><td>NA</td><td>NA</td><td>Outros Ativos Circulantes           </td><td>79.343 </td><td>64.382 </td></tr>\n\t<tr><td>Ativo Total</td><td>Ativo Circulante    </td><td>08</td><td>03</td><td>NA</td><td>Outros                              </td><td>79.343 </td><td>64.382 </td></tr>\n\t<tr><td>Ativo Total</td><td>Ativo Circulante    </td><td>08</td><td>03</td><td>01</td><td>Ativos financeiros                  </td><td>12.153 </td><td>16.059 </td></tr>\n\t<tr><td>Ativo Total</td><td>Ativo Circulante    </td><td>08</td><td>03</td><td>03</td><td>Outras contas                       </td><td>53.490 </td><td>39.511 </td></tr>\n\t<tr><td>Ativo Total</td><td>Ativo Circulante    </td><td>08</td><td>03</td><td>04</td><td>Instrumentos financeiros derivativos</td><td>13.700 </td><td>8.812  </td></tr>\n\t<tr><td>Ativo Total</td><td>Ativo Não Circulante</td><td>01</td><td>NA</td><td>NA</td><td>Ativo Realizável a Longo Prazo      </td><td>104.944</td><td>90.941 </td></tr>\n\t<tr><td>Ativo Total</td><td>Ativo Não Circulante</td><td>01</td><td>09</td><td>NA</td><td>Créditos com Partes Relacionadas    </td><td>12.773 </td><td>9.730  </td></tr>\n\t<tr><td>Ativo Total</td><td>Ativo Não Circulante</td><td>01</td><td>09</td><td>02</td><td>Créditos com Controladas            </td><td>12.773 </td><td>9.730  </td></tr>\n\t<tr><td>Ativo Total</td><td>Ativo Não Circulante</td><td>01</td><td>10</td><td>NA</td><td>Outros Ativos Não Circulantes       </td><td>92.171 </td><td>81.211 </td></tr>\n\t<tr><td>Ativo Total</td><td>Ativo Não Circulante</td><td>01</td><td>10</td><td>03</td><td>Tributos a recuperar                </td><td>90.374 </td><td>80.006 </td></tr>\n\t<tr><td>Ativo Total</td><td>Ativo Não Circulante</td><td>01</td><td>10</td><td>04</td><td>Instrumentos financeiros derivativos</td><td>893    </td><td>0      </td></tr>\n\t<tr><td>Ativo Total</td><td>Ativo Não Circulante</td><td>01</td><td>10</td><td>05</td><td>Outras contas a receber             </td><td>904    </td><td>1.205  </td></tr>\n\t<tr><td>Ativo Total</td><td>Ativo Não Circulante</td><td>02</td><td>NA</td><td>NA</td><td>Investimentos                       </td><td>6.505  </td><td>5.934  </td></tr>\n\t<tr><td>Ativo Total</td><td>Ativo Não Circulante</td><td>03</td><td>NA</td><td>NA</td><td>Imobilizado                         </td><td>786.627</td><td>619.172</td></tr>\n\t<tr><td>Ativo Total</td><td>Ativo Não Circulante</td><td>04</td><td>NA</td><td>NA</td><td>Intangível                          </td><td>2.268  </td><td>1.288  </td></tr>\n</tbody>\n</table>\n",
            "text/markdown": "\nA tibble: 20 × 8\n\n| Tier1 &lt;chr&gt; | Tier2 &lt;chr&gt; | Tier3 &lt;chr&gt; | Tier4 &lt;chr&gt; | Tier5 &lt;chr&gt; | Descrição da Conta &lt;chr&gt; | Trimestre Atual &lt;chr&gt; | Exercício Anterior &lt;chr&gt; |\n|---|---|---|---|---|---|---|---|\n| Ativo Total | Ativo Circulante     | 01 | NA | NA | Caixa e Equivalentes de Caixa        | 815.476 | 683.412 |\n| Ativo Total | Ativo Circulante     | 03 | NA | NA | Contas a Receber                     | 258.104 | 206.005 |\n| Ativo Total | Ativo Circulante     | 03 | 01 | NA | Clientes                             | 258.104 | 206.005 |\n| Ativo Total | Ativo Circulante     | 04 | NA | NA | Estoques                             | 629.601 | 617.289 |\n| Ativo Total | Ativo Circulante     | 06 | NA | NA | Tributos a Recuperar                 | 92.690  | 80.862  |\n| Ativo Total | Ativo Circulante     | 08 | NA | NA | Outros Ativos Circulantes            | 79.343  | 64.382  |\n| Ativo Total | Ativo Circulante     | 08 | 03 | NA | Outros                               | 79.343  | 64.382  |\n| Ativo Total | Ativo Circulante     | 08 | 03 | 01 | Ativos financeiros                   | 12.153  | 16.059  |\n| Ativo Total | Ativo Circulante     | 08 | 03 | 03 | Outras contas                        | 53.490  | 39.511  |\n| Ativo Total | Ativo Circulante     | 08 | 03 | 04 | Instrumentos financeiros derivativos | 13.700  | 8.812   |\n| Ativo Total | Ativo Não Circulante | 01 | NA | NA | Ativo Realizável a Longo Prazo       | 104.944 | 90.941  |\n| Ativo Total | Ativo Não Circulante | 01 | 09 | NA | Créditos com Partes Relacionadas     | 12.773  | 9.730   |\n| Ativo Total | Ativo Não Circulante | 01 | 09 | 02 | Créditos com Controladas             | 12.773  | 9.730   |\n| Ativo Total | Ativo Não Circulante | 01 | 10 | NA | Outros Ativos Não Circulantes        | 92.171  | 81.211  |\n| Ativo Total | Ativo Não Circulante | 01 | 10 | 03 | Tributos a recuperar                 | 90.374  | 80.006  |\n| Ativo Total | Ativo Não Circulante | 01 | 10 | 04 | Instrumentos financeiros derivativos | 893     | 0       |\n| Ativo Total | Ativo Não Circulante | 01 | 10 | 05 | Outras contas a receber              | 904     | 1.205   |\n| Ativo Total | Ativo Não Circulante | 02 | NA | NA | Investimentos                        | 6.505   | 5.934   |\n| Ativo Total | Ativo Não Circulante | 03 | NA | NA | Imobilizado                          | 786.627 | 619.172 |\n| Ativo Total | Ativo Não Circulante | 04 | NA | NA | Intangível                           | 2.268   | 1.288   |\n\n",
            "text/latex": "A tibble: 20 × 8\n\\begin{tabular}{llllllll}\n Tier1 & Tier2 & Tier3 & Tier4 & Tier5 & Descrição da Conta & Trimestre Atual & Exercício Anterior\\\\\n <chr> & <chr> & <chr> & <chr> & <chr> & <chr> & <chr> & <chr>\\\\\n\\hline\n\t Ativo Total & Ativo Circulante     & 01 & NA & NA & Caixa e Equivalentes de Caixa        & 815.476 & 683.412\\\\\n\t Ativo Total & Ativo Circulante     & 03 & NA & NA & Contas a Receber                     & 258.104 & 206.005\\\\\n\t Ativo Total & Ativo Circulante     & 03 & 01 & NA & Clientes                             & 258.104 & 206.005\\\\\n\t Ativo Total & Ativo Circulante     & 04 & NA & NA & Estoques                             & 629.601 & 617.289\\\\\n\t Ativo Total & Ativo Circulante     & 06 & NA & NA & Tributos a Recuperar                 & 92.690  & 80.862 \\\\\n\t Ativo Total & Ativo Circulante     & 08 & NA & NA & Outros Ativos Circulantes            & 79.343  & 64.382 \\\\\n\t Ativo Total & Ativo Circulante     & 08 & 03 & NA & Outros                               & 79.343  & 64.382 \\\\\n\t Ativo Total & Ativo Circulante     & 08 & 03 & 01 & Ativos financeiros                   & 12.153  & 16.059 \\\\\n\t Ativo Total & Ativo Circulante     & 08 & 03 & 03 & Outras contas                        & 53.490  & 39.511 \\\\\n\t Ativo Total & Ativo Circulante     & 08 & 03 & 04 & Instrumentos financeiros derivativos & 13.700  & 8.812  \\\\\n\t Ativo Total & Ativo Não Circulante & 01 & NA & NA & Ativo Realizável a Longo Prazo       & 104.944 & 90.941 \\\\\n\t Ativo Total & Ativo Não Circulante & 01 & 09 & NA & Créditos com Partes Relacionadas     & 12.773  & 9.730  \\\\\n\t Ativo Total & Ativo Não Circulante & 01 & 09 & 02 & Créditos com Controladas             & 12.773  & 9.730  \\\\\n\t Ativo Total & Ativo Não Circulante & 01 & 10 & NA & Outros Ativos Não Circulantes        & 92.171  & 81.211 \\\\\n\t Ativo Total & Ativo Não Circulante & 01 & 10 & 03 & Tributos a recuperar                 & 90.374  & 80.006 \\\\\n\t Ativo Total & Ativo Não Circulante & 01 & 10 & 04 & Instrumentos financeiros derivativos & 893     & 0      \\\\\n\t Ativo Total & Ativo Não Circulante & 01 & 10 & 05 & Outras contas a receber              & 904     & 1.205  \\\\\n\t Ativo Total & Ativo Não Circulante & 02 & NA & NA & Investimentos                        & 6.505   & 5.934  \\\\\n\t Ativo Total & Ativo Não Circulante & 03 & NA & NA & Imobilizado                          & 786.627 & 619.172\\\\\n\t Ativo Total & Ativo Não Circulante & 04 & NA & NA & Intangível                           & 2.268   & 1.288  \\\\\n\\end{tabular}\n",
            "text/plain": "   Tier1       Tier2                Tier3 Tier4 Tier5\n1  Ativo Total Ativo Circulante     01    NA    NA   \n2  Ativo Total Ativo Circulante     03    NA    NA   \n3  Ativo Total Ativo Circulante     03    01    NA   \n4  Ativo Total Ativo Circulante     04    NA    NA   \n5  Ativo Total Ativo Circulante     06    NA    NA   \n6  Ativo Total Ativo Circulante     08    NA    NA   \n7  Ativo Total Ativo Circulante     08    03    NA   \n8  Ativo Total Ativo Circulante     08    03    01   \n9  Ativo Total Ativo Circulante     08    03    03   \n10 Ativo Total Ativo Circulante     08    03    04   \n11 Ativo Total Ativo Não Circulante 01    NA    NA   \n12 Ativo Total Ativo Não Circulante 01    09    NA   \n13 Ativo Total Ativo Não Circulante 01    09    02   \n14 Ativo Total Ativo Não Circulante 01    10    NA   \n15 Ativo Total Ativo Não Circulante 01    10    03   \n16 Ativo Total Ativo Não Circulante 01    10    04   \n17 Ativo Total Ativo Não Circulante 01    10    05   \n18 Ativo Total Ativo Não Circulante 02    NA    NA   \n19 Ativo Total Ativo Não Circulante 03    NA    NA   \n20 Ativo Total Ativo Não Circulante 04    NA    NA   \n   Descrição da Conta                   Trimestre Atual Exercício Anterior\n1  Caixa e Equivalentes de Caixa        815.476         683.412           \n2  Contas a Receber                     258.104         206.005           \n3  Clientes                             258.104         206.005           \n4  Estoques                             629.601         617.289           \n5  Tributos a Recuperar                 92.690          80.862            \n6  Outros Ativos Circulantes            79.343          64.382            \n7  Outros                               79.343          64.382            \n8  Ativos financeiros                   12.153          16.059            \n9  Outras contas                        53.490          39.511            \n10 Instrumentos financeiros derivativos 13.700          8.812             \n11 Ativo Realizável a Longo Prazo       104.944         90.941            \n12 Créditos com Partes Relacionadas     12.773          9.730             \n13 Créditos com Controladas             12.773          9.730             \n14 Outros Ativos Não Circulantes        92.171          81.211            \n15 Tributos a recuperar                 90.374          80.006            \n16 Instrumentos financeiros derivativos 893             0                 \n17 Outras contas a receber              904             1.205             \n18 Investimentos                        6.505           5.934             \n19 Imobilizado                          786.627         619.172           \n20 Intangível                           2.268           1.288             "
          },
          "metadata": {}
        }
      ],
      "execution_count": 84,
      "metadata": {
        "jupyter": {
          "source_hidden": false,
          "outputs_hidden": false
        },
        "nteract": {
          "transient": {
            "deleting": false
          }
        },
        "gather": {
          "logged": 1649610682892
        }
      }
    },
    {
      "cell_type": "markdown",
      "source": [
        "# <h4>Drop Columns: <code>filter()</code></h4> "
      ],
      "metadata": {
        "nteract": {
          "transient": {
            "deleting": false
          }
        }
      }
    },
    {
      "cell_type": "code",
      "source": [
        "col_mask <- !(is.na(select(data_frame_2, Tiers[round+1])))\n",
        "data_frame_2 <- filter(data_frame_2, col_mask)\n",
        "data_frame_2"
      ],
      "outputs": [
        {
          "output_type": "display_data",
          "data": {
            "text/html": "<table class=\"dataframe\">\n<caption>A tibble: 20 × 8</caption>\n<thead>\n\t<tr><th scope=col>Tier1</th><th scope=col>Tier2</th><th scope=col>Tier3</th><th scope=col>Tier4</th><th scope=col>Tier5</th><th scope=col>Descrição da Conta</th><th scope=col>Trimestre Atual</th><th scope=col>Exercício Anterior</th></tr>\n\t<tr><th scope=col>&lt;chr&gt;</th><th scope=col>&lt;chr&gt;</th><th scope=col>&lt;chr&gt;</th><th scope=col>&lt;chr&gt;</th><th scope=col>&lt;chr&gt;</th><th scope=col>&lt;chr&gt;</th><th scope=col>&lt;chr&gt;</th><th scope=col>&lt;chr&gt;</th></tr>\n</thead>\n<tbody>\n\t<tr><td>Ativo Total</td><td>Ativo Circulante    </td><td>01</td><td>NA</td><td>NA</td><td>Caixa e Equivalentes de Caixa       </td><td>815.476</td><td>683.412</td></tr>\n\t<tr><td>Ativo Total</td><td>Ativo Circulante    </td><td>03</td><td>NA</td><td>NA</td><td>Contas a Receber                    </td><td>258.104</td><td>206.005</td></tr>\n\t<tr><td>Ativo Total</td><td>Ativo Circulante    </td><td>03</td><td>01</td><td>NA</td><td>Clientes                            </td><td>258.104</td><td>206.005</td></tr>\n\t<tr><td>Ativo Total</td><td>Ativo Circulante    </td><td>04</td><td>NA</td><td>NA</td><td>Estoques                            </td><td>629.601</td><td>617.289</td></tr>\n\t<tr><td>Ativo Total</td><td>Ativo Circulante    </td><td>06</td><td>NA</td><td>NA</td><td>Tributos a Recuperar                </td><td>92.690 </td><td>80.862 </td></tr>\n\t<tr><td>Ativo Total</td><td>Ativo Circulante    </td><td>08</td><td>NA</td><td>NA</td><td>Outros Ativos Circulantes           </td><td>79.343 </td><td>64.382 </td></tr>\n\t<tr><td>Ativo Total</td><td>Ativo Circulante    </td><td>08</td><td>03</td><td>NA</td><td>Outros                              </td><td>79.343 </td><td>64.382 </td></tr>\n\t<tr><td>Ativo Total</td><td>Ativo Circulante    </td><td>08</td><td>03</td><td>01</td><td>Ativos financeiros                  </td><td>12.153 </td><td>16.059 </td></tr>\n\t<tr><td>Ativo Total</td><td>Ativo Circulante    </td><td>08</td><td>03</td><td>03</td><td>Outras contas                       </td><td>53.490 </td><td>39.511 </td></tr>\n\t<tr><td>Ativo Total</td><td>Ativo Circulante    </td><td>08</td><td>03</td><td>04</td><td>Instrumentos financeiros derivativos</td><td>13.700 </td><td>8.812  </td></tr>\n\t<tr><td>Ativo Total</td><td>Ativo Não Circulante</td><td>01</td><td>NA</td><td>NA</td><td>Ativo Realizável a Longo Prazo      </td><td>104.944</td><td>90.941 </td></tr>\n\t<tr><td>Ativo Total</td><td>Ativo Não Circulante</td><td>01</td><td>09</td><td>NA</td><td>Créditos com Partes Relacionadas    </td><td>12.773 </td><td>9.730  </td></tr>\n\t<tr><td>Ativo Total</td><td>Ativo Não Circulante</td><td>01</td><td>09</td><td>02</td><td>Créditos com Controladas            </td><td>12.773 </td><td>9.730  </td></tr>\n\t<tr><td>Ativo Total</td><td>Ativo Não Circulante</td><td>01</td><td>10</td><td>NA</td><td>Outros Ativos Não Circulantes       </td><td>92.171 </td><td>81.211 </td></tr>\n\t<tr><td>Ativo Total</td><td>Ativo Não Circulante</td><td>01</td><td>10</td><td>03</td><td>Tributos a recuperar                </td><td>90.374 </td><td>80.006 </td></tr>\n\t<tr><td>Ativo Total</td><td>Ativo Não Circulante</td><td>01</td><td>10</td><td>04</td><td>Instrumentos financeiros derivativos</td><td>893    </td><td>0      </td></tr>\n\t<tr><td>Ativo Total</td><td>Ativo Não Circulante</td><td>01</td><td>10</td><td>05</td><td>Outras contas a receber             </td><td>904    </td><td>1.205  </td></tr>\n\t<tr><td>Ativo Total</td><td>Ativo Não Circulante</td><td>02</td><td>NA</td><td>NA</td><td>Investimentos                       </td><td>6.505  </td><td>5.934  </td></tr>\n\t<tr><td>Ativo Total</td><td>Ativo Não Circulante</td><td>03</td><td>NA</td><td>NA</td><td>Imobilizado                         </td><td>786.627</td><td>619.172</td></tr>\n\t<tr><td>Ativo Total</td><td>Ativo Não Circulante</td><td>04</td><td>NA</td><td>NA</td><td>Intangível                          </td><td>2.268  </td><td>1.288  </td></tr>\n</tbody>\n</table>\n",
            "text/markdown": "\nA tibble: 20 × 8\n\n| Tier1 &lt;chr&gt; | Tier2 &lt;chr&gt; | Tier3 &lt;chr&gt; | Tier4 &lt;chr&gt; | Tier5 &lt;chr&gt; | Descrição da Conta &lt;chr&gt; | Trimestre Atual &lt;chr&gt; | Exercício Anterior &lt;chr&gt; |\n|---|---|---|---|---|---|---|---|\n| Ativo Total | Ativo Circulante     | 01 | NA | NA | Caixa e Equivalentes de Caixa        | 815.476 | 683.412 |\n| Ativo Total | Ativo Circulante     | 03 | NA | NA | Contas a Receber                     | 258.104 | 206.005 |\n| Ativo Total | Ativo Circulante     | 03 | 01 | NA | Clientes                             | 258.104 | 206.005 |\n| Ativo Total | Ativo Circulante     | 04 | NA | NA | Estoques                             | 629.601 | 617.289 |\n| Ativo Total | Ativo Circulante     | 06 | NA | NA | Tributos a Recuperar                 | 92.690  | 80.862  |\n| Ativo Total | Ativo Circulante     | 08 | NA | NA | Outros Ativos Circulantes            | 79.343  | 64.382  |\n| Ativo Total | Ativo Circulante     | 08 | 03 | NA | Outros                               | 79.343  | 64.382  |\n| Ativo Total | Ativo Circulante     | 08 | 03 | 01 | Ativos financeiros                   | 12.153  | 16.059  |\n| Ativo Total | Ativo Circulante     | 08 | 03 | 03 | Outras contas                        | 53.490  | 39.511  |\n| Ativo Total | Ativo Circulante     | 08 | 03 | 04 | Instrumentos financeiros derivativos | 13.700  | 8.812   |\n| Ativo Total | Ativo Não Circulante | 01 | NA | NA | Ativo Realizável a Longo Prazo       | 104.944 | 90.941  |\n| Ativo Total | Ativo Não Circulante | 01 | 09 | NA | Créditos com Partes Relacionadas     | 12.773  | 9.730   |\n| Ativo Total | Ativo Não Circulante | 01 | 09 | 02 | Créditos com Controladas             | 12.773  | 9.730   |\n| Ativo Total | Ativo Não Circulante | 01 | 10 | NA | Outros Ativos Não Circulantes        | 92.171  | 81.211  |\n| Ativo Total | Ativo Não Circulante | 01 | 10 | 03 | Tributos a recuperar                 | 90.374  | 80.006  |\n| Ativo Total | Ativo Não Circulante | 01 | 10 | 04 | Instrumentos financeiros derivativos | 893     | 0       |\n| Ativo Total | Ativo Não Circulante | 01 | 10 | 05 | Outras contas a receber              | 904     | 1.205   |\n| Ativo Total | Ativo Não Circulante | 02 | NA | NA | Investimentos                        | 6.505   | 5.934   |\n| Ativo Total | Ativo Não Circulante | 03 | NA | NA | Imobilizado                          | 786.627 | 619.172 |\n| Ativo Total | Ativo Não Circulante | 04 | NA | NA | Intangível                           | 2.268   | 1.288   |\n\n",
            "text/latex": "A tibble: 20 × 8\n\\begin{tabular}{llllllll}\n Tier1 & Tier2 & Tier3 & Tier4 & Tier5 & Descrição da Conta & Trimestre Atual & Exercício Anterior\\\\\n <chr> & <chr> & <chr> & <chr> & <chr> & <chr> & <chr> & <chr>\\\\\n\\hline\n\t Ativo Total & Ativo Circulante     & 01 & NA & NA & Caixa e Equivalentes de Caixa        & 815.476 & 683.412\\\\\n\t Ativo Total & Ativo Circulante     & 03 & NA & NA & Contas a Receber                     & 258.104 & 206.005\\\\\n\t Ativo Total & Ativo Circulante     & 03 & 01 & NA & Clientes                             & 258.104 & 206.005\\\\\n\t Ativo Total & Ativo Circulante     & 04 & NA & NA & Estoques                             & 629.601 & 617.289\\\\\n\t Ativo Total & Ativo Circulante     & 06 & NA & NA & Tributos a Recuperar                 & 92.690  & 80.862 \\\\\n\t Ativo Total & Ativo Circulante     & 08 & NA & NA & Outros Ativos Circulantes            & 79.343  & 64.382 \\\\\n\t Ativo Total & Ativo Circulante     & 08 & 03 & NA & Outros                               & 79.343  & 64.382 \\\\\n\t Ativo Total & Ativo Circulante     & 08 & 03 & 01 & Ativos financeiros                   & 12.153  & 16.059 \\\\\n\t Ativo Total & Ativo Circulante     & 08 & 03 & 03 & Outras contas                        & 53.490  & 39.511 \\\\\n\t Ativo Total & Ativo Circulante     & 08 & 03 & 04 & Instrumentos financeiros derivativos & 13.700  & 8.812  \\\\\n\t Ativo Total & Ativo Não Circulante & 01 & NA & NA & Ativo Realizável a Longo Prazo       & 104.944 & 90.941 \\\\\n\t Ativo Total & Ativo Não Circulante & 01 & 09 & NA & Créditos com Partes Relacionadas     & 12.773  & 9.730  \\\\\n\t Ativo Total & Ativo Não Circulante & 01 & 09 & 02 & Créditos com Controladas             & 12.773  & 9.730  \\\\\n\t Ativo Total & Ativo Não Circulante & 01 & 10 & NA & Outros Ativos Não Circulantes        & 92.171  & 81.211 \\\\\n\t Ativo Total & Ativo Não Circulante & 01 & 10 & 03 & Tributos a recuperar                 & 90.374  & 80.006 \\\\\n\t Ativo Total & Ativo Não Circulante & 01 & 10 & 04 & Instrumentos financeiros derivativos & 893     & 0      \\\\\n\t Ativo Total & Ativo Não Circulante & 01 & 10 & 05 & Outras contas a receber              & 904     & 1.205  \\\\\n\t Ativo Total & Ativo Não Circulante & 02 & NA & NA & Investimentos                        & 6.505   & 5.934  \\\\\n\t Ativo Total & Ativo Não Circulante & 03 & NA & NA & Imobilizado                          & 786.627 & 619.172\\\\\n\t Ativo Total & Ativo Não Circulante & 04 & NA & NA & Intangível                           & 2.268   & 1.288  \\\\\n\\end{tabular}\n",
            "text/plain": "   Tier1       Tier2                Tier3 Tier4 Tier5\n1  Ativo Total Ativo Circulante     01    NA    NA   \n2  Ativo Total Ativo Circulante     03    NA    NA   \n3  Ativo Total Ativo Circulante     03    01    NA   \n4  Ativo Total Ativo Circulante     04    NA    NA   \n5  Ativo Total Ativo Circulante     06    NA    NA   \n6  Ativo Total Ativo Circulante     08    NA    NA   \n7  Ativo Total Ativo Circulante     08    03    NA   \n8  Ativo Total Ativo Circulante     08    03    01   \n9  Ativo Total Ativo Circulante     08    03    03   \n10 Ativo Total Ativo Circulante     08    03    04   \n11 Ativo Total Ativo Não Circulante 01    NA    NA   \n12 Ativo Total Ativo Não Circulante 01    09    NA   \n13 Ativo Total Ativo Não Circulante 01    09    02   \n14 Ativo Total Ativo Não Circulante 01    10    NA   \n15 Ativo Total Ativo Não Circulante 01    10    03   \n16 Ativo Total Ativo Não Circulante 01    10    04   \n17 Ativo Total Ativo Não Circulante 01    10    05   \n18 Ativo Total Ativo Não Circulante 02    NA    NA   \n19 Ativo Total Ativo Não Circulante 03    NA    NA   \n20 Ativo Total Ativo Não Circulante 04    NA    NA   \n   Descrição da Conta                   Trimestre Atual Exercício Anterior\n1  Caixa e Equivalentes de Caixa        815.476         683.412           \n2  Contas a Receber                     258.104         206.005           \n3  Clientes                             258.104         206.005           \n4  Estoques                             629.601         617.289           \n5  Tributos a Recuperar                 92.690          80.862            \n6  Outros Ativos Circulantes            79.343          64.382            \n7  Outros                               79.343          64.382            \n8  Ativos financeiros                   12.153          16.059            \n9  Outras contas                        53.490          39.511            \n10 Instrumentos financeiros derivativos 13.700          8.812             \n11 Ativo Realizável a Longo Prazo       104.944         90.941            \n12 Créditos com Partes Relacionadas     12.773          9.730             \n13 Créditos com Controladas             12.773          9.730             \n14 Outros Ativos Não Circulantes        92.171          81.211            \n15 Tributos a recuperar                 90.374          80.006            \n16 Instrumentos financeiros derivativos 893             0                 \n17 Outras contas a receber              904             1.205             \n18 Investimentos                        6.505           5.934             \n19 Imobilizado                          786.627         619.172           \n20 Intangível                           2.268           1.288             "
          },
          "metadata": {}
        }
      ],
      "execution_count": 85,
      "metadata": {
        "jupyter": {
          "source_hidden": false,
          "outputs_hidden": false
        },
        "nteract": {
          "transient": {
            "deleting": false
          }
        },
        "gather": {
          "logged": 1649610683810
        }
      }
    },
    {
      "cell_type": "markdown",
      "source": [
        "<h3>Third Round</h3> "
      ],
      "metadata": {
        "nteract": {
          "transient": {
            "deleting": false
          }
        }
      }
    },
    {
      "cell_type": "code",
      "source": [
        "round <- 3"
      ],
      "outputs": [],
      "execution_count": 86,
      "metadata": {
        "jupyter": {
          "source_hidden": false,
          "outputs_hidden": false
        },
        "nteract": {
          "transient": {
            "deleting": false
          }
        },
        "gather": {
          "logged": 1649610684338
        }
      }
    },
    {
      "cell_type": "markdown",
      "source": [
        "<h4>Create Row Mask</h4> "
      ],
      "metadata": {
        "nteract": {
          "transient": {
            "deleting": false
          }
        }
      }
    },
    {
      "cell_type": "code",
      "source": [
        "row_mask <- filter(data_frame_2, is.na(data_frame_2[Tiers[round+1]]))\n",
        "row_mask"
      ],
      "outputs": [
        {
          "output_type": "display_data",
          "data": {
            "text/html": "<table class=\"dataframe\">\n<caption>A tibble: 9 × 8</caption>\n<thead>\n\t<tr><th scope=col>Tier1</th><th scope=col>Tier2</th><th scope=col>Tier3</th><th scope=col>Tier4</th><th scope=col>Tier5</th><th scope=col>Descrição da Conta</th><th scope=col>Trimestre Atual</th><th scope=col>Exercício Anterior</th></tr>\n\t<tr><th scope=col>&lt;chr&gt;</th><th scope=col>&lt;chr&gt;</th><th scope=col>&lt;chr&gt;</th><th scope=col>&lt;chr&gt;</th><th scope=col>&lt;chr&gt;</th><th scope=col>&lt;chr&gt;</th><th scope=col>&lt;chr&gt;</th><th scope=col>&lt;chr&gt;</th></tr>\n</thead>\n<tbody>\n\t<tr><td>Ativo Total</td><td>Ativo Circulante    </td><td>01</td><td>NA</td><td>NA</td><td>Caixa e Equivalentes de Caixa </td><td>815.476</td><td>683.412</td></tr>\n\t<tr><td>Ativo Total</td><td>Ativo Circulante    </td><td>03</td><td>NA</td><td>NA</td><td>Contas a Receber              </td><td>258.104</td><td>206.005</td></tr>\n\t<tr><td>Ativo Total</td><td>Ativo Circulante    </td><td>04</td><td>NA</td><td>NA</td><td>Estoques                      </td><td>629.601</td><td>617.289</td></tr>\n\t<tr><td>Ativo Total</td><td>Ativo Circulante    </td><td>06</td><td>NA</td><td>NA</td><td>Tributos a Recuperar          </td><td>92.690 </td><td>80.862 </td></tr>\n\t<tr><td>Ativo Total</td><td>Ativo Circulante    </td><td>08</td><td>NA</td><td>NA</td><td>Outros Ativos Circulantes     </td><td>79.343 </td><td>64.382 </td></tr>\n\t<tr><td>Ativo Total</td><td>Ativo Não Circulante</td><td>01</td><td>NA</td><td>NA</td><td>Ativo Realizável a Longo Prazo</td><td>104.944</td><td>90.941 </td></tr>\n\t<tr><td>Ativo Total</td><td>Ativo Não Circulante</td><td>02</td><td>NA</td><td>NA</td><td>Investimentos                 </td><td>6.505  </td><td>5.934  </td></tr>\n\t<tr><td>Ativo Total</td><td>Ativo Não Circulante</td><td>03</td><td>NA</td><td>NA</td><td>Imobilizado                   </td><td>786.627</td><td>619.172</td></tr>\n\t<tr><td>Ativo Total</td><td>Ativo Não Circulante</td><td>04</td><td>NA</td><td>NA</td><td>Intangível                    </td><td>2.268  </td><td>1.288  </td></tr>\n</tbody>\n</table>\n",
            "text/markdown": "\nA tibble: 9 × 8\n\n| Tier1 &lt;chr&gt; | Tier2 &lt;chr&gt; | Tier3 &lt;chr&gt; | Tier4 &lt;chr&gt; | Tier5 &lt;chr&gt; | Descrição da Conta &lt;chr&gt; | Trimestre Atual &lt;chr&gt; | Exercício Anterior &lt;chr&gt; |\n|---|---|---|---|---|---|---|---|\n| Ativo Total | Ativo Circulante     | 01 | NA | NA | Caixa e Equivalentes de Caixa  | 815.476 | 683.412 |\n| Ativo Total | Ativo Circulante     | 03 | NA | NA | Contas a Receber               | 258.104 | 206.005 |\n| Ativo Total | Ativo Circulante     | 04 | NA | NA | Estoques                       | 629.601 | 617.289 |\n| Ativo Total | Ativo Circulante     | 06 | NA | NA | Tributos a Recuperar           | 92.690  | 80.862  |\n| Ativo Total | Ativo Circulante     | 08 | NA | NA | Outros Ativos Circulantes      | 79.343  | 64.382  |\n| Ativo Total | Ativo Não Circulante | 01 | NA | NA | Ativo Realizável a Longo Prazo | 104.944 | 90.941  |\n| Ativo Total | Ativo Não Circulante | 02 | NA | NA | Investimentos                  | 6.505   | 5.934   |\n| Ativo Total | Ativo Não Circulante | 03 | NA | NA | Imobilizado                    | 786.627 | 619.172 |\n| Ativo Total | Ativo Não Circulante | 04 | NA | NA | Intangível                     | 2.268   | 1.288   |\n\n",
            "text/latex": "A tibble: 9 × 8\n\\begin{tabular}{llllllll}\n Tier1 & Tier2 & Tier3 & Tier4 & Tier5 & Descrição da Conta & Trimestre Atual & Exercício Anterior\\\\\n <chr> & <chr> & <chr> & <chr> & <chr> & <chr> & <chr> & <chr>\\\\\n\\hline\n\t Ativo Total & Ativo Circulante     & 01 & NA & NA & Caixa e Equivalentes de Caixa  & 815.476 & 683.412\\\\\n\t Ativo Total & Ativo Circulante     & 03 & NA & NA & Contas a Receber               & 258.104 & 206.005\\\\\n\t Ativo Total & Ativo Circulante     & 04 & NA & NA & Estoques                       & 629.601 & 617.289\\\\\n\t Ativo Total & Ativo Circulante     & 06 & NA & NA & Tributos a Recuperar           & 92.690  & 80.862 \\\\\n\t Ativo Total & Ativo Circulante     & 08 & NA & NA & Outros Ativos Circulantes      & 79.343  & 64.382 \\\\\n\t Ativo Total & Ativo Não Circulante & 01 & NA & NA & Ativo Realizável a Longo Prazo & 104.944 & 90.941 \\\\\n\t Ativo Total & Ativo Não Circulante & 02 & NA & NA & Investimentos                  & 6.505   & 5.934  \\\\\n\t Ativo Total & Ativo Não Circulante & 03 & NA & NA & Imobilizado                    & 786.627 & 619.172\\\\\n\t Ativo Total & Ativo Não Circulante & 04 & NA & NA & Intangível                     & 2.268   & 1.288  \\\\\n\\end{tabular}\n",
            "text/plain": "  Tier1       Tier2                Tier3 Tier4 Tier5\n1 Ativo Total Ativo Circulante     01    NA    NA   \n2 Ativo Total Ativo Circulante     03    NA    NA   \n3 Ativo Total Ativo Circulante     04    NA    NA   \n4 Ativo Total Ativo Circulante     06    NA    NA   \n5 Ativo Total Ativo Circulante     08    NA    NA   \n6 Ativo Total Ativo Não Circulante 01    NA    NA   \n7 Ativo Total Ativo Não Circulante 02    NA    NA   \n8 Ativo Total Ativo Não Circulante 03    NA    NA   \n9 Ativo Total Ativo Não Circulante 04    NA    NA   \n  Descrição da Conta             Trimestre Atual Exercício Anterior\n1 Caixa e Equivalentes de Caixa  815.476         683.412           \n2 Contas a Receber               258.104         206.005           \n3 Estoques                       629.601         617.289           \n4 Tributos a Recuperar           92.690          80.862            \n5 Outros Ativos Circulantes      79.343          64.382            \n6 Ativo Realizável a Longo Prazo 104.944         90.941            \n7 Investimentos                  6.505           5.934             \n8 Imobilizado                    786.627         619.172           \n9 Intangível                     2.268           1.288             "
          },
          "metadata": {}
        }
      ],
      "execution_count": 87,
      "metadata": {
        "jupyter": {
          "source_hidden": false,
          "outputs_hidden": false
        },
        "nteract": {
          "transient": {
            "deleting": false
          }
        },
        "gather": {
          "logged": 1649610685038
        }
      }
    },
    {
      "cell_type": "code",
      "source": [
        "row_mask <- row_mask[c(Tiers[round-1], Tiers[round], \"Descrição da Conta\")]\n",
        "row_mask"
      ],
      "outputs": [
        {
          "output_type": "display_data",
          "data": {
            "text/html": "<table class=\"dataframe\">\n<caption>A tibble: 9 × 3</caption>\n<thead>\n\t<tr><th scope=col>Tier2</th><th scope=col>Tier3</th><th scope=col>Descrição da Conta</th></tr>\n\t<tr><th scope=col>&lt;chr&gt;</th><th scope=col>&lt;chr&gt;</th><th scope=col>&lt;chr&gt;</th></tr>\n</thead>\n<tbody>\n\t<tr><td>Ativo Circulante    </td><td>01</td><td>Caixa e Equivalentes de Caixa </td></tr>\n\t<tr><td>Ativo Circulante    </td><td>03</td><td>Contas a Receber              </td></tr>\n\t<tr><td>Ativo Circulante    </td><td>04</td><td>Estoques                      </td></tr>\n\t<tr><td>Ativo Circulante    </td><td>06</td><td>Tributos a Recuperar          </td></tr>\n\t<tr><td>Ativo Circulante    </td><td>08</td><td>Outros Ativos Circulantes     </td></tr>\n\t<tr><td>Ativo Não Circulante</td><td>01</td><td>Ativo Realizável a Longo Prazo</td></tr>\n\t<tr><td>Ativo Não Circulante</td><td>02</td><td>Investimentos                 </td></tr>\n\t<tr><td>Ativo Não Circulante</td><td>03</td><td>Imobilizado                   </td></tr>\n\t<tr><td>Ativo Não Circulante</td><td>04</td><td>Intangível                    </td></tr>\n</tbody>\n</table>\n",
            "text/markdown": "\nA tibble: 9 × 3\n\n| Tier2 &lt;chr&gt; | Tier3 &lt;chr&gt; | Descrição da Conta &lt;chr&gt; |\n|---|---|---|\n| Ativo Circulante     | 01 | Caixa e Equivalentes de Caixa  |\n| Ativo Circulante     | 03 | Contas a Receber               |\n| Ativo Circulante     | 04 | Estoques                       |\n| Ativo Circulante     | 06 | Tributos a Recuperar           |\n| Ativo Circulante     | 08 | Outros Ativos Circulantes      |\n| Ativo Não Circulante | 01 | Ativo Realizável a Longo Prazo |\n| Ativo Não Circulante | 02 | Investimentos                  |\n| Ativo Não Circulante | 03 | Imobilizado                    |\n| Ativo Não Circulante | 04 | Intangível                     |\n\n",
            "text/latex": "A tibble: 9 × 3\n\\begin{tabular}{lll}\n Tier2 & Tier3 & Descrição da Conta\\\\\n <chr> & <chr> & <chr>\\\\\n\\hline\n\t Ativo Circulante     & 01 & Caixa e Equivalentes de Caixa \\\\\n\t Ativo Circulante     & 03 & Contas a Receber              \\\\\n\t Ativo Circulante     & 04 & Estoques                      \\\\\n\t Ativo Circulante     & 06 & Tributos a Recuperar          \\\\\n\t Ativo Circulante     & 08 & Outros Ativos Circulantes     \\\\\n\t Ativo Não Circulante & 01 & Ativo Realizável a Longo Prazo\\\\\n\t Ativo Não Circulante & 02 & Investimentos                 \\\\\n\t Ativo Não Circulante & 03 & Imobilizado                   \\\\\n\t Ativo Não Circulante & 04 & Intangível                    \\\\\n\\end{tabular}\n",
            "text/plain": "  Tier2                Tier3 Descrição da Conta            \n1 Ativo Circulante     01    Caixa e Equivalentes de Caixa \n2 Ativo Circulante     03    Contas a Receber              \n3 Ativo Circulante     04    Estoques                      \n4 Ativo Circulante     06    Tributos a Recuperar          \n5 Ativo Circulante     08    Outros Ativos Circulantes     \n6 Ativo Não Circulante 01    Ativo Realizável a Longo Prazo\n7 Ativo Não Circulante 02    Investimentos                 \n8 Ativo Não Circulante 03    Imobilizado                   \n9 Ativo Não Circulante 04    Intangível                    "
          },
          "metadata": {}
        }
      ],
      "execution_count": 88,
      "metadata": {
        "jupyter": {
          "source_hidden": false,
          "outputs_hidden": false
        },
        "nteract": {
          "transient": {
            "deleting": false
          }
        },
        "gather": {
          "logged": 1649610685884
        }
      }
    },
    {
      "cell_type": "markdown",
      "source": [
        "<h4>Left Join</h4> "
      ],
      "metadata": {
        "nteract": {
          "transient": {
            "deleting": false
          }
        }
      }
    },
    {
      "cell_type": "code",
      "source": [
        "merge_cols <- c(Tiers[round-1], Tiers[round])"
      ],
      "outputs": [],
      "execution_count": 89,
      "metadata": {
        "jupyter": {
          "source_hidden": false,
          "outputs_hidden": false
        },
        "nteract": {
          "transient": {
            "deleting": false
          }
        },
        "gather": {
          "logged": 1649610686797
        }
      }
    },
    {
      "cell_type": "code",
      "source": [
        "data_frame_3 <- data_frame_2\n",
        "data_frame_3[Tiers[round]] <- merge(x=data_frame_3[merge_cols], y=row_mask, by.x=merge_cols, by.y=merge_cols)[\"Descrição da Conta\"]\n",
        "data_frame_3"
      ],
      "outputs": [
        {
          "output_type": "display_data",
          "data": {
            "text/html": "<table class=\"dataframe\">\n<caption>A tibble: 20 × 8</caption>\n<thead>\n\t<tr><th scope=col>Tier1</th><th scope=col>Tier2</th><th scope=col>Tier3</th><th scope=col>Tier4</th><th scope=col>Tier5</th><th scope=col>Descrição da Conta</th><th scope=col>Trimestre Atual</th><th scope=col>Exercício Anterior</th></tr>\n\t<tr><th scope=col>&lt;chr&gt;</th><th scope=col>&lt;chr&gt;</th><th scope=col>&lt;chr&gt;</th><th scope=col>&lt;chr&gt;</th><th scope=col>&lt;chr&gt;</th><th scope=col>&lt;chr&gt;</th><th scope=col>&lt;chr&gt;</th><th scope=col>&lt;chr&gt;</th></tr>\n</thead>\n<tbody>\n\t<tr><td>Ativo Total</td><td>Ativo Circulante    </td><td>Caixa e Equivalentes de Caixa </td><td>NA</td><td>NA</td><td>Caixa e Equivalentes de Caixa       </td><td>815.476</td><td>683.412</td></tr>\n\t<tr><td>Ativo Total</td><td>Ativo Circulante    </td><td>Contas a Receber              </td><td>NA</td><td>NA</td><td>Contas a Receber                    </td><td>258.104</td><td>206.005</td></tr>\n\t<tr><td>Ativo Total</td><td>Ativo Circulante    </td><td>Contas a Receber              </td><td>01</td><td>NA</td><td>Clientes                            </td><td>258.104</td><td>206.005</td></tr>\n\t<tr><td>Ativo Total</td><td>Ativo Circulante    </td><td>Estoques                      </td><td>NA</td><td>NA</td><td>Estoques                            </td><td>629.601</td><td>617.289</td></tr>\n\t<tr><td>Ativo Total</td><td>Ativo Circulante    </td><td>Tributos a Recuperar          </td><td>NA</td><td>NA</td><td>Tributos a Recuperar                </td><td>92.690 </td><td>80.862 </td></tr>\n\t<tr><td>Ativo Total</td><td>Ativo Circulante    </td><td>Outros Ativos Circulantes     </td><td>NA</td><td>NA</td><td>Outros Ativos Circulantes           </td><td>79.343 </td><td>64.382 </td></tr>\n\t<tr><td>Ativo Total</td><td>Ativo Circulante    </td><td>Outros Ativos Circulantes     </td><td>03</td><td>NA</td><td>Outros                              </td><td>79.343 </td><td>64.382 </td></tr>\n\t<tr><td>Ativo Total</td><td>Ativo Circulante    </td><td>Outros Ativos Circulantes     </td><td>03</td><td>01</td><td>Ativos financeiros                  </td><td>12.153 </td><td>16.059 </td></tr>\n\t<tr><td>Ativo Total</td><td>Ativo Circulante    </td><td>Outros Ativos Circulantes     </td><td>03</td><td>03</td><td>Outras contas                       </td><td>53.490 </td><td>39.511 </td></tr>\n\t<tr><td>Ativo Total</td><td>Ativo Circulante    </td><td>Outros Ativos Circulantes     </td><td>03</td><td>04</td><td>Instrumentos financeiros derivativos</td><td>13.700 </td><td>8.812  </td></tr>\n\t<tr><td>Ativo Total</td><td>Ativo Não Circulante</td><td>Ativo Realizável a Longo Prazo</td><td>NA</td><td>NA</td><td>Ativo Realizável a Longo Prazo      </td><td>104.944</td><td>90.941 </td></tr>\n\t<tr><td>Ativo Total</td><td>Ativo Não Circulante</td><td>Ativo Realizável a Longo Prazo</td><td>09</td><td>NA</td><td>Créditos com Partes Relacionadas    </td><td>12.773 </td><td>9.730  </td></tr>\n\t<tr><td>Ativo Total</td><td>Ativo Não Circulante</td><td>Ativo Realizável a Longo Prazo</td><td>09</td><td>02</td><td>Créditos com Controladas            </td><td>12.773 </td><td>9.730  </td></tr>\n\t<tr><td>Ativo Total</td><td>Ativo Não Circulante</td><td>Ativo Realizável a Longo Prazo</td><td>10</td><td>NA</td><td>Outros Ativos Não Circulantes       </td><td>92.171 </td><td>81.211 </td></tr>\n\t<tr><td>Ativo Total</td><td>Ativo Não Circulante</td><td>Ativo Realizável a Longo Prazo</td><td>10</td><td>03</td><td>Tributos a recuperar                </td><td>90.374 </td><td>80.006 </td></tr>\n\t<tr><td>Ativo Total</td><td>Ativo Não Circulante</td><td>Ativo Realizável a Longo Prazo</td><td>10</td><td>04</td><td>Instrumentos financeiros derivativos</td><td>893    </td><td>0      </td></tr>\n\t<tr><td>Ativo Total</td><td>Ativo Não Circulante</td><td>Ativo Realizável a Longo Prazo</td><td>10</td><td>05</td><td>Outras contas a receber             </td><td>904    </td><td>1.205  </td></tr>\n\t<tr><td>Ativo Total</td><td>Ativo Não Circulante</td><td>Investimentos                 </td><td>NA</td><td>NA</td><td>Investimentos                       </td><td>6.505  </td><td>5.934  </td></tr>\n\t<tr><td>Ativo Total</td><td>Ativo Não Circulante</td><td>Imobilizado                   </td><td>NA</td><td>NA</td><td>Imobilizado                         </td><td>786.627</td><td>619.172</td></tr>\n\t<tr><td>Ativo Total</td><td>Ativo Não Circulante</td><td>Intangível                    </td><td>NA</td><td>NA</td><td>Intangível                          </td><td>2.268  </td><td>1.288  </td></tr>\n</tbody>\n</table>\n",
            "text/markdown": "\nA tibble: 20 × 8\n\n| Tier1 &lt;chr&gt; | Tier2 &lt;chr&gt; | Tier3 &lt;chr&gt; | Tier4 &lt;chr&gt; | Tier5 &lt;chr&gt; | Descrição da Conta &lt;chr&gt; | Trimestre Atual &lt;chr&gt; | Exercício Anterior &lt;chr&gt; |\n|---|---|---|---|---|---|---|---|\n| Ativo Total | Ativo Circulante     | Caixa e Equivalentes de Caixa  | NA | NA | Caixa e Equivalentes de Caixa        | 815.476 | 683.412 |\n| Ativo Total | Ativo Circulante     | Contas a Receber               | NA | NA | Contas a Receber                     | 258.104 | 206.005 |\n| Ativo Total | Ativo Circulante     | Contas a Receber               | 01 | NA | Clientes                             | 258.104 | 206.005 |\n| Ativo Total | Ativo Circulante     | Estoques                       | NA | NA | Estoques                             | 629.601 | 617.289 |\n| Ativo Total | Ativo Circulante     | Tributos a Recuperar           | NA | NA | Tributos a Recuperar                 | 92.690  | 80.862  |\n| Ativo Total | Ativo Circulante     | Outros Ativos Circulantes      | NA | NA | Outros Ativos Circulantes            | 79.343  | 64.382  |\n| Ativo Total | Ativo Circulante     | Outros Ativos Circulantes      | 03 | NA | Outros                               | 79.343  | 64.382  |\n| Ativo Total | Ativo Circulante     | Outros Ativos Circulantes      | 03 | 01 | Ativos financeiros                   | 12.153  | 16.059  |\n| Ativo Total | Ativo Circulante     | Outros Ativos Circulantes      | 03 | 03 | Outras contas                        | 53.490  | 39.511  |\n| Ativo Total | Ativo Circulante     | Outros Ativos Circulantes      | 03 | 04 | Instrumentos financeiros derivativos | 13.700  | 8.812   |\n| Ativo Total | Ativo Não Circulante | Ativo Realizável a Longo Prazo | NA | NA | Ativo Realizável a Longo Prazo       | 104.944 | 90.941  |\n| Ativo Total | Ativo Não Circulante | Ativo Realizável a Longo Prazo | 09 | NA | Créditos com Partes Relacionadas     | 12.773  | 9.730   |\n| Ativo Total | Ativo Não Circulante | Ativo Realizável a Longo Prazo | 09 | 02 | Créditos com Controladas             | 12.773  | 9.730   |\n| Ativo Total | Ativo Não Circulante | Ativo Realizável a Longo Prazo | 10 | NA | Outros Ativos Não Circulantes        | 92.171  | 81.211  |\n| Ativo Total | Ativo Não Circulante | Ativo Realizável a Longo Prazo | 10 | 03 | Tributos a recuperar                 | 90.374  | 80.006  |\n| Ativo Total | Ativo Não Circulante | Ativo Realizável a Longo Prazo | 10 | 04 | Instrumentos financeiros derivativos | 893     | 0       |\n| Ativo Total | Ativo Não Circulante | Ativo Realizável a Longo Prazo | 10 | 05 | Outras contas a receber              | 904     | 1.205   |\n| Ativo Total | Ativo Não Circulante | Investimentos                  | NA | NA | Investimentos                        | 6.505   | 5.934   |\n| Ativo Total | Ativo Não Circulante | Imobilizado                    | NA | NA | Imobilizado                          | 786.627 | 619.172 |\n| Ativo Total | Ativo Não Circulante | Intangível                     | NA | NA | Intangível                           | 2.268   | 1.288   |\n\n",
            "text/latex": "A tibble: 20 × 8\n\\begin{tabular}{llllllll}\n Tier1 & Tier2 & Tier3 & Tier4 & Tier5 & Descrição da Conta & Trimestre Atual & Exercício Anterior\\\\\n <chr> & <chr> & <chr> & <chr> & <chr> & <chr> & <chr> & <chr>\\\\\n\\hline\n\t Ativo Total & Ativo Circulante     & Caixa e Equivalentes de Caixa  & NA & NA & Caixa e Equivalentes de Caixa        & 815.476 & 683.412\\\\\n\t Ativo Total & Ativo Circulante     & Contas a Receber               & NA & NA & Contas a Receber                     & 258.104 & 206.005\\\\\n\t Ativo Total & Ativo Circulante     & Contas a Receber               & 01 & NA & Clientes                             & 258.104 & 206.005\\\\\n\t Ativo Total & Ativo Circulante     & Estoques                       & NA & NA & Estoques                             & 629.601 & 617.289\\\\\n\t Ativo Total & Ativo Circulante     & Tributos a Recuperar           & NA & NA & Tributos a Recuperar                 & 92.690  & 80.862 \\\\\n\t Ativo Total & Ativo Circulante     & Outros Ativos Circulantes      & NA & NA & Outros Ativos Circulantes            & 79.343  & 64.382 \\\\\n\t Ativo Total & Ativo Circulante     & Outros Ativos Circulantes      & 03 & NA & Outros                               & 79.343  & 64.382 \\\\\n\t Ativo Total & Ativo Circulante     & Outros Ativos Circulantes      & 03 & 01 & Ativos financeiros                   & 12.153  & 16.059 \\\\\n\t Ativo Total & Ativo Circulante     & Outros Ativos Circulantes      & 03 & 03 & Outras contas                        & 53.490  & 39.511 \\\\\n\t Ativo Total & Ativo Circulante     & Outros Ativos Circulantes      & 03 & 04 & Instrumentos financeiros derivativos & 13.700  & 8.812  \\\\\n\t Ativo Total & Ativo Não Circulante & Ativo Realizável a Longo Prazo & NA & NA & Ativo Realizável a Longo Prazo       & 104.944 & 90.941 \\\\\n\t Ativo Total & Ativo Não Circulante & Ativo Realizável a Longo Prazo & 09 & NA & Créditos com Partes Relacionadas     & 12.773  & 9.730  \\\\\n\t Ativo Total & Ativo Não Circulante & Ativo Realizável a Longo Prazo & 09 & 02 & Créditos com Controladas             & 12.773  & 9.730  \\\\\n\t Ativo Total & Ativo Não Circulante & Ativo Realizável a Longo Prazo & 10 & NA & Outros Ativos Não Circulantes        & 92.171  & 81.211 \\\\\n\t Ativo Total & Ativo Não Circulante & Ativo Realizável a Longo Prazo & 10 & 03 & Tributos a recuperar                 & 90.374  & 80.006 \\\\\n\t Ativo Total & Ativo Não Circulante & Ativo Realizável a Longo Prazo & 10 & 04 & Instrumentos financeiros derivativos & 893     & 0      \\\\\n\t Ativo Total & Ativo Não Circulante & Ativo Realizável a Longo Prazo & 10 & 05 & Outras contas a receber              & 904     & 1.205  \\\\\n\t Ativo Total & Ativo Não Circulante & Investimentos                  & NA & NA & Investimentos                        & 6.505   & 5.934  \\\\\n\t Ativo Total & Ativo Não Circulante & Imobilizado                    & NA & NA & Imobilizado                          & 786.627 & 619.172\\\\\n\t Ativo Total & Ativo Não Circulante & Intangível                     & NA & NA & Intangível                           & 2.268   & 1.288  \\\\\n\\end{tabular}\n",
            "text/plain": "   Tier1       Tier2                Tier3                          Tier4 Tier5\n1  Ativo Total Ativo Circulante     Caixa e Equivalentes de Caixa  NA    NA   \n2  Ativo Total Ativo Circulante     Contas a Receber               NA    NA   \n3  Ativo Total Ativo Circulante     Contas a Receber               01    NA   \n4  Ativo Total Ativo Circulante     Estoques                       NA    NA   \n5  Ativo Total Ativo Circulante     Tributos a Recuperar           NA    NA   \n6  Ativo Total Ativo Circulante     Outros Ativos Circulantes      NA    NA   \n7  Ativo Total Ativo Circulante     Outros Ativos Circulantes      03    NA   \n8  Ativo Total Ativo Circulante     Outros Ativos Circulantes      03    01   \n9  Ativo Total Ativo Circulante     Outros Ativos Circulantes      03    03   \n10 Ativo Total Ativo Circulante     Outros Ativos Circulantes      03    04   \n11 Ativo Total Ativo Não Circulante Ativo Realizável a Longo Prazo NA    NA   \n12 Ativo Total Ativo Não Circulante Ativo Realizável a Longo Prazo 09    NA   \n13 Ativo Total Ativo Não Circulante Ativo Realizável a Longo Prazo 09    02   \n14 Ativo Total Ativo Não Circulante Ativo Realizável a Longo Prazo 10    NA   \n15 Ativo Total Ativo Não Circulante Ativo Realizável a Longo Prazo 10    03   \n16 Ativo Total Ativo Não Circulante Ativo Realizável a Longo Prazo 10    04   \n17 Ativo Total Ativo Não Circulante Ativo Realizável a Longo Prazo 10    05   \n18 Ativo Total Ativo Não Circulante Investimentos                  NA    NA   \n19 Ativo Total Ativo Não Circulante Imobilizado                    NA    NA   \n20 Ativo Total Ativo Não Circulante Intangível                     NA    NA   \n   Descrição da Conta                   Trimestre Atual Exercício Anterior\n1  Caixa e Equivalentes de Caixa        815.476         683.412           \n2  Contas a Receber                     258.104         206.005           \n3  Clientes                             258.104         206.005           \n4  Estoques                             629.601         617.289           \n5  Tributos a Recuperar                 92.690          80.862            \n6  Outros Ativos Circulantes            79.343          64.382            \n7  Outros                               79.343          64.382            \n8  Ativos financeiros                   12.153          16.059            \n9  Outras contas                        53.490          39.511            \n10 Instrumentos financeiros derivativos 13.700          8.812             \n11 Ativo Realizável a Longo Prazo       104.944         90.941            \n12 Créditos com Partes Relacionadas     12.773          9.730             \n13 Créditos com Controladas             12.773          9.730             \n14 Outros Ativos Não Circulantes        92.171          81.211            \n15 Tributos a recuperar                 90.374          80.006            \n16 Instrumentos financeiros derivativos 893             0                 \n17 Outras contas a receber              904             1.205             \n18 Investimentos                        6.505           5.934             \n19 Imobilizado                          786.627         619.172           \n20 Intangível                           2.268           1.288             "
          },
          "metadata": {}
        }
      ],
      "execution_count": 90,
      "metadata": {
        "jupyter": {
          "source_hidden": false,
          "outputs_hidden": false
        },
        "nteract": {
          "transient": {
            "deleting": false
          }
        },
        "gather": {
          "logged": 1649610687850
        }
      }
    },
    {
      "cell_type": "code",
      "source": [
        "join_cols <- c(Tiers[round-1], Tiers[round])"
      ],
      "outputs": [],
      "execution_count": 91,
      "metadata": {
        "jupyter": {
          "source_hidden": false,
          "outputs_hidden": false
        },
        "nteract": {
          "transient": {
            "deleting": false
          }
        },
        "gather": {
          "logged": 1649610688619
        }
      }
    },
    {
      "cell_type": "code",
      "source": [
        "data_frame_3 <- data_frame_2\n",
        "data_frame_3[Tiers[round]] <- left_join(x=data_frame_3[join_cols], y=row_mask, by.x=join_cols, by.y=join_cols)[\"Descrição da Conta\"]\n",
        "data_frame_3"
      ],
      "outputs": [
        {
          "output_type": "stream",
          "name": "stderr",
          "text": "\u001b[1m\u001b[22mJoining, by = c(\"Tier2\", \"Tier3\")\n"
        },
        {
          "output_type": "display_data",
          "data": {
            "text/html": "<table class=\"dataframe\">\n<caption>A tibble: 20 × 8</caption>\n<thead>\n\t<tr><th scope=col>Tier1</th><th scope=col>Tier2</th><th scope=col>Tier3</th><th scope=col>Tier4</th><th scope=col>Tier5</th><th scope=col>Descrição da Conta</th><th scope=col>Trimestre Atual</th><th scope=col>Exercício Anterior</th></tr>\n\t<tr><th scope=col>&lt;chr&gt;</th><th scope=col>&lt;chr&gt;</th><th scope=col>&lt;chr&gt;</th><th scope=col>&lt;chr&gt;</th><th scope=col>&lt;chr&gt;</th><th scope=col>&lt;chr&gt;</th><th scope=col>&lt;chr&gt;</th><th scope=col>&lt;chr&gt;</th></tr>\n</thead>\n<tbody>\n\t<tr><td>Ativo Total</td><td>Ativo Circulante    </td><td>Caixa e Equivalentes de Caixa </td><td>NA</td><td>NA</td><td>Caixa e Equivalentes de Caixa       </td><td>815.476</td><td>683.412</td></tr>\n\t<tr><td>Ativo Total</td><td>Ativo Circulante    </td><td>Contas a Receber              </td><td>NA</td><td>NA</td><td>Contas a Receber                    </td><td>258.104</td><td>206.005</td></tr>\n\t<tr><td>Ativo Total</td><td>Ativo Circulante    </td><td>Contas a Receber              </td><td>01</td><td>NA</td><td>Clientes                            </td><td>258.104</td><td>206.005</td></tr>\n\t<tr><td>Ativo Total</td><td>Ativo Circulante    </td><td>Estoques                      </td><td>NA</td><td>NA</td><td>Estoques                            </td><td>629.601</td><td>617.289</td></tr>\n\t<tr><td>Ativo Total</td><td>Ativo Circulante    </td><td>Tributos a Recuperar          </td><td>NA</td><td>NA</td><td>Tributos a Recuperar                </td><td>92.690 </td><td>80.862 </td></tr>\n\t<tr><td>Ativo Total</td><td>Ativo Circulante    </td><td>Outros Ativos Circulantes     </td><td>NA</td><td>NA</td><td>Outros Ativos Circulantes           </td><td>79.343 </td><td>64.382 </td></tr>\n\t<tr><td>Ativo Total</td><td>Ativo Circulante    </td><td>Outros Ativos Circulantes     </td><td>03</td><td>NA</td><td>Outros                              </td><td>79.343 </td><td>64.382 </td></tr>\n\t<tr><td>Ativo Total</td><td>Ativo Circulante    </td><td>Outros Ativos Circulantes     </td><td>03</td><td>01</td><td>Ativos financeiros                  </td><td>12.153 </td><td>16.059 </td></tr>\n\t<tr><td>Ativo Total</td><td>Ativo Circulante    </td><td>Outros Ativos Circulantes     </td><td>03</td><td>03</td><td>Outras contas                       </td><td>53.490 </td><td>39.511 </td></tr>\n\t<tr><td>Ativo Total</td><td>Ativo Circulante    </td><td>Outros Ativos Circulantes     </td><td>03</td><td>04</td><td>Instrumentos financeiros derivativos</td><td>13.700 </td><td>8.812  </td></tr>\n\t<tr><td>Ativo Total</td><td>Ativo Não Circulante</td><td>Ativo Realizável a Longo Prazo</td><td>NA</td><td>NA</td><td>Ativo Realizável a Longo Prazo      </td><td>104.944</td><td>90.941 </td></tr>\n\t<tr><td>Ativo Total</td><td>Ativo Não Circulante</td><td>Ativo Realizável a Longo Prazo</td><td>09</td><td>NA</td><td>Créditos com Partes Relacionadas    </td><td>12.773 </td><td>9.730  </td></tr>\n\t<tr><td>Ativo Total</td><td>Ativo Não Circulante</td><td>Ativo Realizável a Longo Prazo</td><td>09</td><td>02</td><td>Créditos com Controladas            </td><td>12.773 </td><td>9.730  </td></tr>\n\t<tr><td>Ativo Total</td><td>Ativo Não Circulante</td><td>Ativo Realizável a Longo Prazo</td><td>10</td><td>NA</td><td>Outros Ativos Não Circulantes       </td><td>92.171 </td><td>81.211 </td></tr>\n\t<tr><td>Ativo Total</td><td>Ativo Não Circulante</td><td>Ativo Realizável a Longo Prazo</td><td>10</td><td>03</td><td>Tributos a recuperar                </td><td>90.374 </td><td>80.006 </td></tr>\n\t<tr><td>Ativo Total</td><td>Ativo Não Circulante</td><td>Ativo Realizável a Longo Prazo</td><td>10</td><td>04</td><td>Instrumentos financeiros derivativos</td><td>893    </td><td>0      </td></tr>\n\t<tr><td>Ativo Total</td><td>Ativo Não Circulante</td><td>Ativo Realizável a Longo Prazo</td><td>10</td><td>05</td><td>Outras contas a receber             </td><td>904    </td><td>1.205  </td></tr>\n\t<tr><td>Ativo Total</td><td>Ativo Não Circulante</td><td>Investimentos                 </td><td>NA</td><td>NA</td><td>Investimentos                       </td><td>6.505  </td><td>5.934  </td></tr>\n\t<tr><td>Ativo Total</td><td>Ativo Não Circulante</td><td>Imobilizado                   </td><td>NA</td><td>NA</td><td>Imobilizado                         </td><td>786.627</td><td>619.172</td></tr>\n\t<tr><td>Ativo Total</td><td>Ativo Não Circulante</td><td>Intangível                    </td><td>NA</td><td>NA</td><td>Intangível                          </td><td>2.268  </td><td>1.288  </td></tr>\n</tbody>\n</table>\n",
            "text/markdown": "\nA tibble: 20 × 8\n\n| Tier1 &lt;chr&gt; | Tier2 &lt;chr&gt; | Tier3 &lt;chr&gt; | Tier4 &lt;chr&gt; | Tier5 &lt;chr&gt; | Descrição da Conta &lt;chr&gt; | Trimestre Atual &lt;chr&gt; | Exercício Anterior &lt;chr&gt; |\n|---|---|---|---|---|---|---|---|\n| Ativo Total | Ativo Circulante     | Caixa e Equivalentes de Caixa  | NA | NA | Caixa e Equivalentes de Caixa        | 815.476 | 683.412 |\n| Ativo Total | Ativo Circulante     | Contas a Receber               | NA | NA | Contas a Receber                     | 258.104 | 206.005 |\n| Ativo Total | Ativo Circulante     | Contas a Receber               | 01 | NA | Clientes                             | 258.104 | 206.005 |\n| Ativo Total | Ativo Circulante     | Estoques                       | NA | NA | Estoques                             | 629.601 | 617.289 |\n| Ativo Total | Ativo Circulante     | Tributos a Recuperar           | NA | NA | Tributos a Recuperar                 | 92.690  | 80.862  |\n| Ativo Total | Ativo Circulante     | Outros Ativos Circulantes      | NA | NA | Outros Ativos Circulantes            | 79.343  | 64.382  |\n| Ativo Total | Ativo Circulante     | Outros Ativos Circulantes      | 03 | NA | Outros                               | 79.343  | 64.382  |\n| Ativo Total | Ativo Circulante     | Outros Ativos Circulantes      | 03 | 01 | Ativos financeiros                   | 12.153  | 16.059  |\n| Ativo Total | Ativo Circulante     | Outros Ativos Circulantes      | 03 | 03 | Outras contas                        | 53.490  | 39.511  |\n| Ativo Total | Ativo Circulante     | Outros Ativos Circulantes      | 03 | 04 | Instrumentos financeiros derivativos | 13.700  | 8.812   |\n| Ativo Total | Ativo Não Circulante | Ativo Realizável a Longo Prazo | NA | NA | Ativo Realizável a Longo Prazo       | 104.944 | 90.941  |\n| Ativo Total | Ativo Não Circulante | Ativo Realizável a Longo Prazo | 09 | NA | Créditos com Partes Relacionadas     | 12.773  | 9.730   |\n| Ativo Total | Ativo Não Circulante | Ativo Realizável a Longo Prazo | 09 | 02 | Créditos com Controladas             | 12.773  | 9.730   |\n| Ativo Total | Ativo Não Circulante | Ativo Realizável a Longo Prazo | 10 | NA | Outros Ativos Não Circulantes        | 92.171  | 81.211  |\n| Ativo Total | Ativo Não Circulante | Ativo Realizável a Longo Prazo | 10 | 03 | Tributos a recuperar                 | 90.374  | 80.006  |\n| Ativo Total | Ativo Não Circulante | Ativo Realizável a Longo Prazo | 10 | 04 | Instrumentos financeiros derivativos | 893     | 0       |\n| Ativo Total | Ativo Não Circulante | Ativo Realizável a Longo Prazo | 10 | 05 | Outras contas a receber              | 904     | 1.205   |\n| Ativo Total | Ativo Não Circulante | Investimentos                  | NA | NA | Investimentos                        | 6.505   | 5.934   |\n| Ativo Total | Ativo Não Circulante | Imobilizado                    | NA | NA | Imobilizado                          | 786.627 | 619.172 |\n| Ativo Total | Ativo Não Circulante | Intangível                     | NA | NA | Intangível                           | 2.268   | 1.288   |\n\n",
            "text/latex": "A tibble: 20 × 8\n\\begin{tabular}{llllllll}\n Tier1 & Tier2 & Tier3 & Tier4 & Tier5 & Descrição da Conta & Trimestre Atual & Exercício Anterior\\\\\n <chr> & <chr> & <chr> & <chr> & <chr> & <chr> & <chr> & <chr>\\\\\n\\hline\n\t Ativo Total & Ativo Circulante     & Caixa e Equivalentes de Caixa  & NA & NA & Caixa e Equivalentes de Caixa        & 815.476 & 683.412\\\\\n\t Ativo Total & Ativo Circulante     & Contas a Receber               & NA & NA & Contas a Receber                     & 258.104 & 206.005\\\\\n\t Ativo Total & Ativo Circulante     & Contas a Receber               & 01 & NA & Clientes                             & 258.104 & 206.005\\\\\n\t Ativo Total & Ativo Circulante     & Estoques                       & NA & NA & Estoques                             & 629.601 & 617.289\\\\\n\t Ativo Total & Ativo Circulante     & Tributos a Recuperar           & NA & NA & Tributos a Recuperar                 & 92.690  & 80.862 \\\\\n\t Ativo Total & Ativo Circulante     & Outros Ativos Circulantes      & NA & NA & Outros Ativos Circulantes            & 79.343  & 64.382 \\\\\n\t Ativo Total & Ativo Circulante     & Outros Ativos Circulantes      & 03 & NA & Outros                               & 79.343  & 64.382 \\\\\n\t Ativo Total & Ativo Circulante     & Outros Ativos Circulantes      & 03 & 01 & Ativos financeiros                   & 12.153  & 16.059 \\\\\n\t Ativo Total & Ativo Circulante     & Outros Ativos Circulantes      & 03 & 03 & Outras contas                        & 53.490  & 39.511 \\\\\n\t Ativo Total & Ativo Circulante     & Outros Ativos Circulantes      & 03 & 04 & Instrumentos financeiros derivativos & 13.700  & 8.812  \\\\\n\t Ativo Total & Ativo Não Circulante & Ativo Realizável a Longo Prazo & NA & NA & Ativo Realizável a Longo Prazo       & 104.944 & 90.941 \\\\\n\t Ativo Total & Ativo Não Circulante & Ativo Realizável a Longo Prazo & 09 & NA & Créditos com Partes Relacionadas     & 12.773  & 9.730  \\\\\n\t Ativo Total & Ativo Não Circulante & Ativo Realizável a Longo Prazo & 09 & 02 & Créditos com Controladas             & 12.773  & 9.730  \\\\\n\t Ativo Total & Ativo Não Circulante & Ativo Realizável a Longo Prazo & 10 & NA & Outros Ativos Não Circulantes        & 92.171  & 81.211 \\\\\n\t Ativo Total & Ativo Não Circulante & Ativo Realizável a Longo Prazo & 10 & 03 & Tributos a recuperar                 & 90.374  & 80.006 \\\\\n\t Ativo Total & Ativo Não Circulante & Ativo Realizável a Longo Prazo & 10 & 04 & Instrumentos financeiros derivativos & 893     & 0      \\\\\n\t Ativo Total & Ativo Não Circulante & Ativo Realizável a Longo Prazo & 10 & 05 & Outras contas a receber              & 904     & 1.205  \\\\\n\t Ativo Total & Ativo Não Circulante & Investimentos                  & NA & NA & Investimentos                        & 6.505   & 5.934  \\\\\n\t Ativo Total & Ativo Não Circulante & Imobilizado                    & NA & NA & Imobilizado                          & 786.627 & 619.172\\\\\n\t Ativo Total & Ativo Não Circulante & Intangível                     & NA & NA & Intangível                           & 2.268   & 1.288  \\\\\n\\end{tabular}\n",
            "text/plain": "   Tier1       Tier2                Tier3                          Tier4 Tier5\n1  Ativo Total Ativo Circulante     Caixa e Equivalentes de Caixa  NA    NA   \n2  Ativo Total Ativo Circulante     Contas a Receber               NA    NA   \n3  Ativo Total Ativo Circulante     Contas a Receber               01    NA   \n4  Ativo Total Ativo Circulante     Estoques                       NA    NA   \n5  Ativo Total Ativo Circulante     Tributos a Recuperar           NA    NA   \n6  Ativo Total Ativo Circulante     Outros Ativos Circulantes      NA    NA   \n7  Ativo Total Ativo Circulante     Outros Ativos Circulantes      03    NA   \n8  Ativo Total Ativo Circulante     Outros Ativos Circulantes      03    01   \n9  Ativo Total Ativo Circulante     Outros Ativos Circulantes      03    03   \n10 Ativo Total Ativo Circulante     Outros Ativos Circulantes      03    04   \n11 Ativo Total Ativo Não Circulante Ativo Realizável a Longo Prazo NA    NA   \n12 Ativo Total Ativo Não Circulante Ativo Realizável a Longo Prazo 09    NA   \n13 Ativo Total Ativo Não Circulante Ativo Realizável a Longo Prazo 09    02   \n14 Ativo Total Ativo Não Circulante Ativo Realizável a Longo Prazo 10    NA   \n15 Ativo Total Ativo Não Circulante Ativo Realizável a Longo Prazo 10    03   \n16 Ativo Total Ativo Não Circulante Ativo Realizável a Longo Prazo 10    04   \n17 Ativo Total Ativo Não Circulante Ativo Realizável a Longo Prazo 10    05   \n18 Ativo Total Ativo Não Circulante Investimentos                  NA    NA   \n19 Ativo Total Ativo Não Circulante Imobilizado                    NA    NA   \n20 Ativo Total Ativo Não Circulante Intangível                     NA    NA   \n   Descrição da Conta                   Trimestre Atual Exercício Anterior\n1  Caixa e Equivalentes de Caixa        815.476         683.412           \n2  Contas a Receber                     258.104         206.005           \n3  Clientes                             258.104         206.005           \n4  Estoques                             629.601         617.289           \n5  Tributos a Recuperar                 92.690          80.862            \n6  Outros Ativos Circulantes            79.343          64.382            \n7  Outros                               79.343          64.382            \n8  Ativos financeiros                   12.153          16.059            \n9  Outras contas                        53.490          39.511            \n10 Instrumentos financeiros derivativos 13.700          8.812             \n11 Ativo Realizável a Longo Prazo       104.944         90.941            \n12 Créditos com Partes Relacionadas     12.773          9.730             \n13 Créditos com Controladas             12.773          9.730             \n14 Outros Ativos Não Circulantes        92.171          81.211            \n15 Tributos a recuperar                 90.374          80.006            \n16 Instrumentos financeiros derivativos 893             0                 \n17 Outras contas a receber              904             1.205             \n18 Investimentos                        6.505           5.934             \n19 Imobilizado                          786.627         619.172           \n20 Intangível                           2.268           1.288             "
          },
          "metadata": {}
        }
      ],
      "execution_count": 92,
      "metadata": {
        "jupyter": {
          "source_hidden": false,
          "outputs_hidden": false
        },
        "nteract": {
          "transient": {
            "deleting": false
          }
        },
        "gather": {
          "logged": 1649610689336
        }
      }
    }
  ],
  "metadata": {
    "kernelspec": {
      "name": "ir",
      "language": "R",
      "display_name": "R"
    },
    "language_info": {
      "name": "R",
      "codemirror_mode": "r",
      "pygments_lexer": "r",
      "mimetype": "text/x-r-source",
      "file_extension": ".r",
      "version": "4.1.2"
    },
    "nteract": {
      "version": "nteract-front-end@1.0.0"
    },
    "microsoft": {
      "host": {
        "AzureML": {
          "notebookHasBeenCompleted": true
        }
      }
    },
    "kernel_info": {
      "name": "ir"
    }
  },
  "nbformat": 4,
  "nbformat_minor": 2
}